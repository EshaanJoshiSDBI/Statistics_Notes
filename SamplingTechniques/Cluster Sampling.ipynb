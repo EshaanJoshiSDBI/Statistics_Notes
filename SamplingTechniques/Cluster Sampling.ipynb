{
 "cells": [
  {
   "cell_type": "markdown",
   "id": "8235a608-4ce4-4870-aa93-a326e49481fb",
   "metadata": {},
   "source": [
    "# Q1"
   ]
  },
  {
   "cell_type": "code",
   "execution_count": 1,
   "id": "d1ff774d-bd1d-44f1-8410-5810185d2315",
   "metadata": {
    "tags": []
   },
   "outputs": [],
   "source": [
    "c1 = c(5.53,26.11,11.08,12.66,0.87,6.40,54.31,37.94,7.13,3.53,14.23,1.24)\n",
    "c2 = c(4.84,10.93,0.65,32.52,3.56,11.68,35.97,47.07,17.69,40.7)\n",
    "c3 = c(15.79,11.18,27.54,28.11,21.70,1.25)"
   ]
  },
  {
   "cell_type": "code",
   "execution_count": 2,
   "id": "b450b497-fe61-4492-8683-92e19d9e5219",
   "metadata": {
    "tags": []
   },
   "outputs": [],
   "source": [
    "Y1 = sum(c1)"
   ]
  },
  {
   "cell_type": "code",
   "execution_count": 3,
   "id": "67e9781a-0b8a-435b-bc28-6ad4364805d6",
   "metadata": {
    "tags": []
   },
   "outputs": [
    {
     "data": {
      "text/html": [
       "181.03"
      ],
      "text/latex": [
       "181.03"
      ],
      "text/markdown": [
       "181.03"
      ],
      "text/plain": [
       "[1] 181.03"
      ]
     },
     "metadata": {},
     "output_type": "display_data"
    }
   ],
   "source": [
    "Y1"
   ]
  },
  {
   "cell_type": "code",
   "execution_count": 4,
   "id": "db9a33a4-63bd-40e9-bfd5-69936ea218e2",
   "metadata": {
    "tags": []
   },
   "outputs": [],
   "source": [
    "Y2 = sum(c2)"
   ]
  },
  {
   "cell_type": "code",
   "execution_count": 5,
   "id": "6047d29d-3994-472e-bd9b-01c43fe5b415",
   "metadata": {
    "tags": []
   },
   "outputs": [
    {
     "data": {
      "text/html": [
       "205.61"
      ],
      "text/latex": [
       "205.61"
      ],
      "text/markdown": [
       "205.61"
      ],
      "text/plain": [
       "[1] 205.61"
      ]
     },
     "metadata": {},
     "output_type": "display_data"
    }
   ],
   "source": [
    "Y2"
   ]
  },
  {
   "cell_type": "code",
   "execution_count": 6,
   "id": "b06a29ba-c295-43de-a14e-65e042fca8ec",
   "metadata": {
    "tags": []
   },
   "outputs": [],
   "source": [
    "Y3 = sum(c3)"
   ]
  },
  {
   "cell_type": "code",
   "execution_count": 7,
   "id": "599e6531-9b13-4e30-8a24-8e78884e1eec",
   "metadata": {
    "tags": []
   },
   "outputs": [
    {
     "data": {
      "text/html": [
       "105.57"
      ],
      "text/latex": [
       "105.57"
      ],
      "text/markdown": [
       "105.57"
      ],
      "text/plain": [
       "[1] 105.57"
      ]
     },
     "metadata": {},
     "output_type": "display_data"
    }
   ],
   "source": [
    "Y3"
   ]
  },
  {
   "cell_type": "code",
   "execution_count": 9,
   "id": "8387c979-d467-44b1-863d-f70702f34cf7",
   "metadata": {
    "tags": []
   },
   "outputs": [
    {
     "data": {
      "text/html": [
       "'181.03 205.61 105.57'"
      ],
      "text/latex": [
       "'181.03 205.61 105.57'"
      ],
      "text/markdown": [
       "'181.03 205.61 105.57'"
      ],
      "text/plain": [
       "[1] \"181.03 205.61 105.57\""
      ]
     },
     "metadata": {},
     "output_type": "display_data"
    }
   ],
   "source": [
    "paste(Y1,Y2,Y3)"
   ]
  },
  {
   "cell_type": "code",
   "execution_count": 16,
   "id": "4a20d103-c9da-46e7-aa0a-0e3e30fae33d",
   "metadata": {
    "tags": []
   },
   "outputs": [],
   "source": [
    "Yc_bar = sum(Y1,Y2,Y3)/sum(length(c1),length(c2),length(c3))\n",
    "# Overall cluster size is 30"
   ]
  },
  {
   "cell_type": "code",
   "execution_count": 17,
   "id": "2094f4a7-7d91-47ab-a5cf-0afe66127a95",
   "metadata": {
    "tags": []
   },
   "outputs": [
    {
     "data": {
      "text/html": [
       "17.5789285714286"
      ],
      "text/latex": [
       "17.5789285714286"
      ],
      "text/markdown": [
       "17.5789285714286"
      ],
      "text/plain": [
       "[1] 17.57893"
      ]
     },
     "metadata": {},
     "output_type": "display_data"
    }
   ],
   "source": [
    "Yc_bar"
   ]
  },
  {
   "cell_type": "markdown",
   "id": "d303fdb0-a4f7-476f-8366-d90ed5ff7d43",
   "metadata": {},
   "source": [
    "Thus the average yield of apple per tree is 17.5789 kgs."
   ]
  },
  {
   "cell_type": "code",
   "execution_count": null,
   "id": "0fd7d985-1474-461a-a1fd-357bf2d09b90",
   "metadata": {},
   "outputs": [],
   "source": []
  }
 ],
 "metadata": {
  "kernelspec": {
   "display_name": "R",
   "language": "R",
   "name": "ir"
  },
  "language_info": {
   "codemirror_mode": "r",
   "file_extension": ".r",
   "mimetype": "text/x-r-source",
   "name": "R",
   "pygments_lexer": "r",
   "version": "4.3.1"
  }
 },
 "nbformat": 4,
 "nbformat_minor": 5
}
