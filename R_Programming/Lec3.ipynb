{
 "cells": [
  {
   "cell_type": "code",
   "execution_count": 1,
   "id": "fbe7d1f5-4fb2-4f28-968e-a56e207ea383",
   "metadata": {
    "tags": []
   },
   "outputs": [],
   "source": [
    "x<-10.5\n",
    "y<-55"
   ]
  },
  {
   "cell_type": "code",
   "execution_count": 2,
   "id": "eca5fa45-457e-4476-ae5b-0bca6bc83565",
   "metadata": {
    "tags": []
   },
   "outputs": [
    {
     "data": {
      "text/html": [
       "10.5"
      ],
      "text/latex": [
       "10.5"
      ],
      "text/markdown": [
       "10.5"
      ],
      "text/plain": [
       "[1] 10.5"
      ]
     },
     "metadata": {},
     "output_type": "display_data"
    }
   ],
   "source": [
    "x"
   ]
  },
  {
   "cell_type": "code",
   "execution_count": 3,
   "id": "cbf5c3f7-2887-45af-8de7-d2c5d7971a38",
   "metadata": {
    "tags": []
   },
   "outputs": [
    {
     "data": {
      "text/html": [
       "55"
      ],
      "text/latex": [
       "55"
      ],
      "text/markdown": [
       "55"
      ],
      "text/plain": [
       "[1] 55"
      ]
     },
     "metadata": {},
     "output_type": "display_data"
    }
   ],
   "source": [
    "y"
   ]
  },
  {
   "cell_type": "code",
   "execution_count": 4,
   "id": "1f1c04c1-e3a5-4242-a0a2-1aa38074d665",
   "metadata": {
    "tags": []
   },
   "outputs": [
    {
     "data": {
      "text/html": [
       "'numeric'"
      ],
      "text/latex": [
       "'numeric'"
      ],
      "text/markdown": [
       "'numeric'"
      ],
      "text/plain": [
       "[1] \"numeric\""
      ]
     },
     "metadata": {},
     "output_type": "display_data"
    },
    {
     "data": {
      "text/html": [
       "'numeric'"
      ],
      "text/latex": [
       "'numeric'"
      ],
      "text/markdown": [
       "'numeric'"
      ],
      "text/plain": [
       "[1] \"numeric\""
      ]
     },
     "metadata": {},
     "output_type": "display_data"
    }
   ],
   "source": [
    "class(x)\n",
    "class(y)"
   ]
  },
  {
   "cell_type": "markdown",
   "id": "de9f7992-214b-48d5-946e-b08c65096ddd",
   "metadata": {},
   "source": [
    "### Type Conversion\n",
    "You can convert from one type to another with the following functions:\n",
    "- `as.numeric()`\n",
    "- `as.integer()`\n",
    "- `as.complex()`"
   ]
  },
  {
   "cell_type": "code",
   "execution_count": 5,
   "id": "59a1f41d-0848-4e1e-ba77-aa752dd25cd1",
   "metadata": {
    "tags": []
   },
   "outputs": [],
   "source": [
    "x <- 1L #integer\n",
    "y <- 2 #numeric"
   ]
  },
  {
   "cell_type": "code",
   "execution_count": 9,
   "id": "976bfc90-6e6a-42d4-9be7-01dd6b2c9b36",
   "metadata": {
    "tags": []
   },
   "outputs": [
    {
     "data": {
      "text/html": [
       "1"
      ],
      "text/latex": [
       "1"
      ],
      "text/markdown": [
       "1"
      ],
      "text/plain": [
       "[1] 1"
      ]
     },
     "metadata": {},
     "output_type": "display_data"
    },
    {
     "data": {
      "text/html": [
       "'numeric'"
      ],
      "text/latex": [
       "'numeric'"
      ],
      "text/markdown": [
       "'numeric'"
      ],
      "text/plain": [
       "[1] \"numeric\""
      ]
     },
     "metadata": {},
     "output_type": "display_data"
    }
   ],
   "source": [
    "# convert from integer to numeric\n",
    "a <- as.numeric(x)\n",
    "a\n",
    "class(a)"
   ]
  },
  {
   "cell_type": "code",
   "execution_count": 10,
   "id": "5f3cdc37-6436-466a-a38d-0f2f8d72cd63",
   "metadata": {
    "tags": []
   },
   "outputs": [
    {
     "data": {
      "text/html": [
       "2"
      ],
      "text/latex": [
       "2"
      ],
      "text/markdown": [
       "2"
      ],
      "text/plain": [
       "[1] 2"
      ]
     },
     "metadata": {},
     "output_type": "display_data"
    },
    {
     "data": {
      "text/html": [
       "'integer'"
      ],
      "text/latex": [
       "'integer'"
      ],
      "text/markdown": [
       "'integer'"
      ],
      "text/plain": [
       "[1] \"integer\""
      ]
     },
     "metadata": {},
     "output_type": "display_data"
    }
   ],
   "source": [
    "b <- as.integer(y)\n",
    "b\n",
    "class(b)"
   ]
  },
  {
   "cell_type": "code",
   "execution_count": 11,
   "id": "3b4ae853-9b72-48d2-a6ac-ae5c52c92ea9",
   "metadata": {
    "tags": []
   },
   "outputs": [
    {
     "data": {
      "text/html": [
       "15"
      ],
      "text/latex": [
       "15"
      ],
      "text/markdown": [
       "15"
      ],
      "text/plain": [
       "[1] 15"
      ]
     },
     "metadata": {},
     "output_type": "display_data"
    }
   ],
   "source": [
    "max(5,10,15)"
   ]
  },
  {
   "cell_type": "code",
   "execution_count": 12,
   "id": "44e72c9a-34da-44f0-b6d7-33957296cf65",
   "metadata": {
    "tags": []
   },
   "outputs": [
    {
     "data": {
      "text/html": [
       "5"
      ],
      "text/latex": [
       "5"
      ],
      "text/markdown": [
       "5"
      ],
      "text/plain": [
       "[1] 5"
      ]
     },
     "metadata": {},
     "output_type": "display_data"
    }
   ],
   "source": [
    "min(5,10,15)"
   ]
  },
  {
   "cell_type": "code",
   "execution_count": 13,
   "id": "135526a0-f5f4-44bd-99c2-49c01ea736d5",
   "metadata": {
    "tags": []
   },
   "outputs": [
    {
     "data": {
      "text/html": [
       "4"
      ],
      "text/latex": [
       "4"
      ],
      "text/markdown": [
       "4"
      ],
      "text/plain": [
       "[1] 4"
      ]
     },
     "metadata": {},
     "output_type": "display_data"
    }
   ],
   "source": [
    "sqrt(16)"
   ]
  },
  {
   "cell_type": "code",
   "execution_count": 14,
   "id": "6f3f8aac-4615-4ccc-adf7-414b487172a8",
   "metadata": {
    "tags": []
   },
   "outputs": [
    {
     "data": {
      "text/html": [
       "5"
      ],
      "text/latex": [
       "5"
      ],
      "text/markdown": [
       "5"
      ],
      "text/plain": [
       "[1] 5"
      ]
     },
     "metadata": {},
     "output_type": "display_data"
    }
   ],
   "source": [
    "abs(-5)"
   ]
  },
  {
   "cell_type": "code",
   "execution_count": 1,
   "id": "e79409d8-8bda-4bf9-8cf3-6400d28cb401",
   "metadata": {},
   "outputs": [
    {
     "data": {
      "text/html": [
       "4.7"
      ],
      "text/latex": [
       "4.7"
      ],
      "text/markdown": [
       "4.7"
      ],
      "text/plain": [
       "[1] 4.7"
      ]
     },
     "metadata": {},
     "output_type": "display_data"
    }
   ],
   "source": [
    "abs(-4.7)"
   ]
  },
  {
   "cell_type": "markdown",
   "id": "831f43ae-2a37-49ab-a4d0-c871f9b21c88",
   "metadata": {},
   "source": [
    "### Ceiling and Floor\n",
    "- The `ceiling()` function rounds a number upwards to its nearest integer, and the `floor()` function rounds a number downwards to its nearest integer"
   ]
  },
  {
   "cell_type": "code",
   "execution_count": 2,
   "id": "726ced37-7a67-45f9-b0e5-8ff58b6354ad",
   "metadata": {
    "tags": []
   },
   "outputs": [
    {
     "data": {
      "text/html": [
       "2"
      ],
      "text/latex": [
       "2"
      ],
      "text/markdown": [
       "2"
      ],
      "text/plain": [
       "[1] 2"
      ]
     },
     "metadata": {},
     "output_type": "display_data"
    }
   ],
   "source": [
    "ceiling(1.4)"
   ]
  },
  {
   "cell_type": "code",
   "execution_count": 3,
   "id": "84e7a7c3-5aa4-4c99-b9f5-20dc0dac4142",
   "metadata": {
    "tags": []
   },
   "outputs": [
    {
     "data": {
      "text/html": [
       "1"
      ],
      "text/latex": [
       "1"
      ],
      "text/markdown": [
       "1"
      ],
      "text/plain": [
       "[1] 1"
      ]
     },
     "metadata": {},
     "output_type": "display_data"
    }
   ],
   "source": [
    "floor(1.4)"
   ]
  },
  {
   "cell_type": "code",
   "execution_count": 4,
   "id": "e3015b03-a5e6-4f77-9fba-5cd358855142",
   "metadata": {
    "tags": []
   },
   "outputs": [
    {
     "data": {
      "text/html": [
       "3"
      ],
      "text/latex": [
       "3"
      ],
      "text/markdown": [
       "3"
      ],
      "text/plain": [
       "[1] 3"
      ]
     },
     "metadata": {},
     "output_type": "display_data"
    }
   ],
   "source": [
    "ceiling(2.7)"
   ]
  },
  {
   "cell_type": "code",
   "execution_count": 5,
   "id": "e6d3c9fc-bf95-4554-89bf-fb2e123b9dab",
   "metadata": {
    "tags": []
   },
   "outputs": [
    {
     "data": {
      "text/html": [
       "2"
      ],
      "text/latex": [
       "2"
      ],
      "text/markdown": [
       "2"
      ],
      "text/plain": [
       "[1] 2"
      ]
     },
     "metadata": {},
     "output_type": "display_data"
    }
   ],
   "source": [
    "floor(2.7)"
   ]
  },
  {
   "cell_type": "markdown",
   "id": "408b03c4-13c3-4abb-822f-0b88a1a509e6",
   "metadata": {},
   "source": [
    "### R Strings\n",
    "String Literals\n",
    "- A character, or strings are used for storing text. A string is surrounded by either single quotation marks, or double quotation marks.\n",
    "- `\"hello\"` is same as `'hello'`\n",
    "- Assigning a string to a variable is done with the variable followed by the `<-` operator and the string: `str <- \"Hello World!\"`"
   ]
  },
  {
   "cell_type": "code",
   "execution_count": 6,
   "id": "94b5ed51-24b2-486c-adde-92f8f792f9e9",
   "metadata": {
    "tags": []
   },
   "outputs": [],
   "source": [
    "str <- \"Lorem ipsum dolor sit amet, consectetur adipiscing elit. Nulla in nisi id urna dapibus\n",
    "ullamcorper et eget libero. Fusce a faucibus purus. Praesent viverra diam eu venenatis dictum.\n",
    "Cras sit amet vestibulum dolor.\n",
    "Nulla condimentum scelerisque tellus a varius. Curabitur sit amet luctus nibh.\n",
    "Mauris bibendum sodales ex eget sodales. Nullam et velit neque.\n",
    "Sed ut urna vitae libero tempus pharetra nec nec sem.\n",
    "Quisque lectus ex, bibendum id mauris non, fermentum maximus ex. Sed non libero arcu.\""
   ]
  },
  {
   "cell_type": "code",
   "execution_count": 9,
   "id": "31bc1e51-781b-4f84-a018-b030b927f8f7",
   "metadata": {
    "tags": []
   },
   "outputs": [
    {
     "data": {
      "text/html": [
       "'Lorem ipsum dolor sit amet, consectetur adipiscing elit. Nulla in nisi id urna dapibus\\nullamcorper et eget libero. Fusce a faucibus purus. Praesent viverra diam eu venenatis dictum.\\nCras sit amet vestibulum dolor.\\nNulla condimentum scelerisque tellus a varius. Curabitur sit amet luctus nibh.\\nMauris bibendum sodales ex eget sodales. Nullam et velit neque.\\nSed ut urna vitae libero tempus pharetra nec nec sem.\\nQuisque lectus ex, bibendum id mauris non, fermentum maximus ex. Sed non libero arcu.'"
      ],
      "text/latex": [
       "'Lorem ipsum dolor sit amet, consectetur adipiscing elit. Nulla in nisi id urna dapibus\\textbackslash{}nullamcorper et eget libero. Fusce a faucibus purus. Praesent viverra diam eu venenatis dictum.\\textbackslash{}nCras sit amet vestibulum dolor.\\textbackslash{}nNulla condimentum scelerisque tellus a varius. Curabitur sit amet luctus nibh.\\textbackslash{}nMauris bibendum sodales ex eget sodales. Nullam et velit neque.\\textbackslash{}nSed ut urna vitae libero tempus pharetra nec nec sem.\\textbackslash{}nQuisque lectus ex, bibendum id mauris non, fermentum maximus ex. Sed non libero arcu.'"
      ],
      "text/markdown": [
       "'Lorem ipsum dolor sit amet, consectetur adipiscing elit. Nulla in nisi id urna dapibus\\nullamcorper et eget libero. Fusce a faucibus purus. Praesent viverra diam eu venenatis dictum.\\nCras sit amet vestibulum dolor.\\nNulla condimentum scelerisque tellus a varius. Curabitur sit amet luctus nibh.\\nMauris bibendum sodales ex eget sodales. Nullam et velit neque.\\nSed ut urna vitae libero tempus pharetra nec nec sem.\\nQuisque lectus ex, bibendum id mauris non, fermentum maximus ex. Sed non libero arcu.'"
      ],
      "text/plain": [
       "[1] \"Lorem ipsum dolor sit amet, consectetur adipiscing elit. Nulla in nisi id urna dapibus\\nullamcorper et eget libero. Fusce a faucibus purus. Praesent viverra diam eu venenatis dictum.\\nCras sit amet vestibulum dolor.\\nNulla condimentum scelerisque tellus a varius. Curabitur sit amet luctus nibh.\\nMauris bibendum sodales ex eget sodales. Nullam et velit neque.\\nSed ut urna vitae libero tempus pharetra nec nec sem.\\nQuisque lectus ex, bibendum id mauris non, fermentum maximus ex. Sed non libero arcu.\""
      ]
     },
     "metadata": {},
     "output_type": "display_data"
    }
   ],
   "source": [
    "str"
   ]
  },
  {
   "cell_type": "code",
   "execution_count": 10,
   "id": "6fd912ef-dc95-4b0a-a30b-2f601c999fc8",
   "metadata": {
    "tags": []
   },
   "outputs": [
    {
     "name": "stdout",
     "output_type": "stream",
     "text": [
      "Lorem ipsum dolor sit amet, consectetur adipiscing elit. Nulla in nisi id urna dapibus\n",
      "ullamcorper et eget libero. Fusce a faucibus purus. Praesent viverra diam eu venenatis dictum.\n",
      "Cras sit amet vestibulum dolor.\n",
      "Nulla condimentum scelerisque tellus a varius. Curabitur sit amet luctus nibh.\n",
      "Mauris bibendum sodales ex eget sodales. Nullam et velit neque.\n",
      "Sed ut urna vitae libero tempus pharetra nec nec sem.\n",
      "Quisque lectus ex, bibendum id mauris non, fermentum maximus ex. Sed non libero arcu."
     ]
    }
   ],
   "source": [
    "cat(str)"
   ]
  },
  {
   "cell_type": "code",
   "execution_count": 11,
   "id": "e3a432af-5fe1-438a-b72e-9e7b942a3278",
   "metadata": {
    "tags": []
   },
   "outputs": [
    {
     "data": {
      "text/html": [
       "496"
      ],
      "text/latex": [
       "496"
      ],
      "text/markdown": [
       "496"
      ],
      "text/plain": [
       "[1] 496"
      ]
     },
     "metadata": {},
     "output_type": "display_data"
    }
   ],
   "source": [
    "nchar(str)"
   ]
  },
  {
   "cell_type": "markdown",
   "id": "07b39bef-b7ec-4b6c-84bb-93a51b6abd08",
   "metadata": {},
   "source": [
    "### Matrices\n",
    "- Matrix is a two dimensional data set with columns and rows\n",
    "- A column is a vertical representation of data, while a row is a horizontal representation of data.\n",
    "- A matrix can be created with the `matrix()` function. Specify the `nrow` and `ncol` parameters to get the amount of rows and columns"
   ]
  },
  {
   "cell_type": "code",
   "execution_count": 1,
   "id": "b7bde8f7-5df4-4b80-a56d-cbf23d47542c",
   "metadata": {
    "tags": []
   },
   "outputs": [],
   "source": [
    "matrix1 <- matrix(c(1,2,3,4,5,6),nrow=3,ncol=2)"
   ]
  },
  {
   "cell_type": "code",
   "execution_count": 4,
   "id": "741b8c33-a9f9-4dc9-9b04-185dac6a1098",
   "metadata": {
    "tags": []
   },
   "outputs": [
    {
     "data": {
      "text/html": [
       "<table class=\"dataframe\">\n",
       "<caption>A matrix: 3 × 2 of type dbl</caption>\n",
       "<tbody>\n",
       "\t<tr><td>1</td><td>4</td></tr>\n",
       "\t<tr><td>2</td><td>5</td></tr>\n",
       "\t<tr><td>3</td><td>6</td></tr>\n",
       "</tbody>\n",
       "</table>\n"
      ],
      "text/latex": [
       "A matrix: 3 × 2 of type dbl\n",
       "\\begin{tabular}{ll}\n",
       "\t 1 & 4\\\\\n",
       "\t 2 & 5\\\\\n",
       "\t 3 & 6\\\\\n",
       "\\end{tabular}\n"
      ],
      "text/markdown": [
       "\n",
       "A matrix: 3 × 2 of type dbl\n",
       "\n",
       "| 1 | 4 |\n",
       "| 2 | 5 |\n",
       "| 3 | 6 |\n",
       "\n"
      ],
      "text/plain": [
       "     [,1] [,2]\n",
       "[1,] 1    4   \n",
       "[2,] 2    5   \n",
       "[3,] 3    6   "
      ]
     },
     "metadata": {},
     "output_type": "display_data"
    }
   ],
   "source": [
    "matrix1"
   ]
  },
  {
   "cell_type": "code",
   "execution_count": 3,
   "id": "a46a33ce-4165-41b8-a19e-d1ecd18a0c14",
   "metadata": {
    "tags": []
   },
   "outputs": [
    {
     "name": "stdout",
     "output_type": "stream",
     "text": [
      "     [,1] [,2]\n",
      "[1,]    1    4\n",
      "[2,]    2    5\n",
      "[3,]    3    6\n"
     ]
    }
   ],
   "source": [
    "print(matrix1)"
   ]
  },
  {
   "cell_type": "code",
   "execution_count": 16,
   "id": "5d081c3f-d320-486c-9ac6-792f0b1fb221",
   "metadata": {
    "tags": []
   },
   "outputs": [
    {
     "data": {
      "text/html": [
       "<table class=\"dataframe\">\n",
       "<caption>A matrix: 3 × 2 of type dbl</caption>\n",
       "<tbody>\n",
       "\t<tr><td>1</td><td>2</td></tr>\n",
       "\t<tr><td>3</td><td>4</td></tr>\n",
       "\t<tr><td>5</td><td>6</td></tr>\n",
       "</tbody>\n",
       "</table>\n"
      ],
      "text/latex": [
       "A matrix: 3 × 2 of type dbl\n",
       "\\begin{tabular}{ll}\n",
       "\t 1 & 2\\\\\n",
       "\t 3 & 4\\\\\n",
       "\t 5 & 6\\\\\n",
       "\\end{tabular}\n"
      ],
      "text/markdown": [
       "\n",
       "A matrix: 3 × 2 of type dbl\n",
       "\n",
       "| 1 | 2 |\n",
       "| 3 | 4 |\n",
       "| 5 | 6 |\n",
       "\n"
      ],
      "text/plain": [
       "     [,1] [,2]\n",
       "[1,] 1    2   \n",
       "[2,] 3    4   \n",
       "[3,] 5    6   "
      ]
     },
     "metadata": {},
     "output_type": "display_data"
    }
   ],
   "source": [
    "matrix(c(1,2,3,4,5,6),nrow=3,ncol=2,byrow = TRUE)"
   ]
  },
  {
   "cell_type": "code",
   "execution_count": 5,
   "id": "71bad32b-9626-4b81-83ba-d99976e6544d",
   "metadata": {
    "tags": []
   },
   "outputs": [],
   "source": [
    "matrix2 <- matrix(c('apple','banana','cherry','orange'),nrow=2,ncol=2)"
   ]
  },
  {
   "cell_type": "code",
   "execution_count": 6,
   "id": "f48b9427-84b2-42d0-bbbf-40d57bceb535",
   "metadata": {
    "tags": []
   },
   "outputs": [
    {
     "data": {
      "text/html": [
       "<table class=\"dataframe\">\n",
       "<caption>A matrix: 2 × 2 of type chr</caption>\n",
       "<tbody>\n",
       "\t<tr><td>apple </td><td>cherry</td></tr>\n",
       "\t<tr><td>banana</td><td>orange</td></tr>\n",
       "</tbody>\n",
       "</table>\n"
      ],
      "text/latex": [
       "A matrix: 2 × 2 of type chr\n",
       "\\begin{tabular}{ll}\n",
       "\t apple  & cherry\\\\\n",
       "\t banana & orange\\\\\n",
       "\\end{tabular}\n"
      ],
      "text/markdown": [
       "\n",
       "A matrix: 2 × 2 of type chr\n",
       "\n",
       "| apple  | cherry |\n",
       "| banana | orange |\n",
       "\n"
      ],
      "text/plain": [
       "     [,1]   [,2]  \n",
       "[1,] apple  cherry\n",
       "[2,] banana orange"
      ]
     },
     "metadata": {},
     "output_type": "display_data"
    }
   ],
   "source": [
    "matrix2"
   ]
  },
  {
   "cell_type": "code",
   "execution_count": 8,
   "id": "79d5e6d7-a9b6-4f20-873c-159acb39b1be",
   "metadata": {
    "tags": []
   },
   "outputs": [
    {
     "name": "stdout",
     "output_type": "stream",
     "text": [
      "     [,1]     [,2]    \n",
      "[1,] \"apple\"  \"cherry\"\n",
      "[2,] \"banana\" \"orange\"\n"
     ]
    }
   ],
   "source": [
    "print(matrix2)"
   ]
  },
  {
   "cell_type": "code",
   "execution_count": 9,
   "id": "b1e33e06-0db9-434e-afb0-b5ca51ee6933",
   "metadata": {
    "tags": []
   },
   "outputs": [],
   "source": [
    "matrix3 <- matrix(c(\"apple\",'banana', 'cherry',\n",
    "                          'orange', 'grape','pineapple','pear','melon','fig'),\n",
    "                       nrow=3,ncol=3)"
   ]
  },
  {
   "cell_type": "code",
   "execution_count": 10,
   "id": "59e009c5-fa87-448a-ba6f-d170461b03fe",
   "metadata": {
    "tags": []
   },
   "outputs": [
    {
     "data": {
      "text/html": [
       "<table class=\"dataframe\">\n",
       "<caption>A matrix: 3 × 3 of type chr</caption>\n",
       "<tbody>\n",
       "\t<tr><td>apple </td><td>orange   </td><td>pear </td></tr>\n",
       "\t<tr><td>banana</td><td>grape    </td><td>melon</td></tr>\n",
       "\t<tr><td>cherry</td><td>pineapple</td><td>fig  </td></tr>\n",
       "</tbody>\n",
       "</table>\n"
      ],
      "text/latex": [
       "A matrix: 3 × 3 of type chr\n",
       "\\begin{tabular}{lll}\n",
       "\t apple  & orange    & pear \\\\\n",
       "\t banana & grape     & melon\\\\\n",
       "\t cherry & pineapple & fig  \\\\\n",
       "\\end{tabular}\n"
      ],
      "text/markdown": [
       "\n",
       "A matrix: 3 × 3 of type chr\n",
       "\n",
       "| apple  | orange    | pear  |\n",
       "| banana | grape     | melon |\n",
       "| cherry | pineapple | fig   |\n",
       "\n"
      ],
      "text/plain": [
       "     [,1]   [,2]      [,3] \n",
       "[1,] apple  orange    pear \n",
       "[2,] banana grape     melon\n",
       "[3,] cherry pineapple fig  "
      ]
     },
     "metadata": {},
     "output_type": "display_data"
    }
   ],
   "source": [
    "matrix3"
   ]
  },
  {
   "cell_type": "markdown",
   "id": "ae1e688f-ddff-4b55-9b2b-be779fbd36ec",
   "metadata": {},
   "source": [
    "#### Accessing multiple rows"
   ]
  },
  {
   "cell_type": "code",
   "execution_count": 11,
   "id": "1a6fbf18-a788-455f-8477-ec219d5c3e70",
   "metadata": {
    "tags": []
   },
   "outputs": [
    {
     "data": {
      "text/html": [
       "<table class=\"dataframe\">\n",
       "<caption>A matrix: 2 × 3 of type chr</caption>\n",
       "<tbody>\n",
       "\t<tr><td>apple </td><td>orange</td><td>pear </td></tr>\n",
       "\t<tr><td>banana</td><td>grape </td><td>melon</td></tr>\n",
       "</tbody>\n",
       "</table>\n"
      ],
      "text/latex": [
       "A matrix: 2 × 3 of type chr\n",
       "\\begin{tabular}{lll}\n",
       "\t apple  & orange & pear \\\\\n",
       "\t banana & grape  & melon\\\\\n",
       "\\end{tabular}\n"
      ],
      "text/markdown": [
       "\n",
       "A matrix: 2 × 3 of type chr\n",
       "\n",
       "| apple  | orange | pear  |\n",
       "| banana | grape  | melon |\n",
       "\n"
      ],
      "text/plain": [
       "     [,1]   [,2]   [,3] \n",
       "[1,] apple  orange pear \n",
       "[2,] banana grape  melon"
      ]
     },
     "metadata": {},
     "output_type": "display_data"
    }
   ],
   "source": [
    "matrix3[c(1,2),]"
   ]
  },
  {
   "cell_type": "markdown",
   "id": "a84b7e82-e7f8-43f0-a9a2-96f46798723d",
   "metadata": {},
   "source": [
    "#### Accessing multiple columns"
   ]
  },
  {
   "cell_type": "code",
   "execution_count": 12,
   "id": "a5b2e70b-d681-45f9-b059-e57173e41411",
   "metadata": {
    "tags": []
   },
   "outputs": [
    {
     "data": {
      "text/html": [
       "<table class=\"dataframe\">\n",
       "<caption>A matrix: 3 × 2 of type chr</caption>\n",
       "<tbody>\n",
       "\t<tr><td>apple </td><td>orange   </td></tr>\n",
       "\t<tr><td>banana</td><td>grape    </td></tr>\n",
       "\t<tr><td>cherry</td><td>pineapple</td></tr>\n",
       "</tbody>\n",
       "</table>\n"
      ],
      "text/latex": [
       "A matrix: 3 × 2 of type chr\n",
       "\\begin{tabular}{ll}\n",
       "\t apple  & orange   \\\\\n",
       "\t banana & grape    \\\\\n",
       "\t cherry & pineapple\\\\\n",
       "\\end{tabular}\n"
      ],
      "text/markdown": [
       "\n",
       "A matrix: 3 × 2 of type chr\n",
       "\n",
       "| apple  | orange    |\n",
       "| banana | grape     |\n",
       "| cherry | pineapple |\n",
       "\n"
      ],
      "text/plain": [
       "     [,1]   [,2]     \n",
       "[1,] apple  orange   \n",
       "[2,] banana grape    \n",
       "[3,] cherry pineapple"
      ]
     },
     "metadata": {},
     "output_type": "display_data"
    }
   ],
   "source": [
    "matrix3[,c(1,2)]"
   ]
  },
  {
   "cell_type": "markdown",
   "id": "bc667452-8005-4a4e-aba5-aaf74aa86e45",
   "metadata": {},
   "source": [
    "#### Adding rows and columns\n",
    "- Use `cbind()` to add columns\n",
    "- Use `rbind()` to add rows\n",
    "- **The cells in the new column / row must be of same length as the existing matrix**"
   ]
  },
  {
   "cell_type": "code",
   "execution_count": 16,
   "id": "28e75cfd-195a-42cc-9d16-eed756555e2b",
   "metadata": {
    "tags": []
   },
   "outputs": [],
   "source": [
    "matrix3.1 <- cbind(matrix3,c(\"strawberry\",\"blueberry\",\"raspberry\"))"
   ]
  },
  {
   "cell_type": "code",
   "execution_count": 17,
   "id": "768d1337-e966-4885-92e0-2aac6c390929",
   "metadata": {
    "tags": []
   },
   "outputs": [
    {
     "name": "stdout",
     "output_type": "stream",
     "text": [
      "     [,1]     [,2]        [,3]    [,4]        \n",
      "[1,] \"apple\"  \"orange\"    \"pear\"  \"strawberry\"\n",
      "[2,] \"banana\" \"grape\"     \"melon\" \"blueberry\" \n",
      "[3,] \"cherry\" \"pineapple\" \"fig\"   \"raspberry\" \n"
     ]
    }
   ],
   "source": [
    "print(matrix3.1)"
   ]
  },
  {
   "cell_type": "code",
   "execution_count": 18,
   "id": "523292a9-f887-411c-90ab-e6a427795d52",
   "metadata": {
    "tags": []
   },
   "outputs": [],
   "source": [
    "matrix3.2 = rbind(matrix3.1,c(\"mango\",\"litchee\",\"guava\",\"cranberry\"))"
   ]
  },
  {
   "cell_type": "code",
   "execution_count": 19,
   "id": "16b68114-2d76-46d0-86be-84d8cc9d7d76",
   "metadata": {
    "tags": []
   },
   "outputs": [
    {
     "name": "stdout",
     "output_type": "stream",
     "text": [
      "     [,1]     [,2]        [,3]    [,4]        \n",
      "[1,] \"apple\"  \"orange\"    \"pear\"  \"strawberry\"\n",
      "[2,] \"banana\" \"grape\"     \"melon\" \"blueberry\" \n",
      "[3,] \"cherry\" \"pineapple\" \"fig\"   \"raspberry\" \n",
      "[4,] \"mango\"  \"litchee\"   \"guava\" \"cranberry\" \n"
     ]
    }
   ],
   "source": [
    "print(matrix3.2)"
   ]
  },
  {
   "cell_type": "markdown",
   "id": "9660f41e-3f2e-415a-b10b-38134f46791c",
   "metadata": {},
   "source": [
    "#### Removing Rows & Columns\n",
    "- Use the `c()` function to remove rows and columns in a matrix"
   ]
  },
  {
   "cell_type": "code",
   "execution_count": 20,
   "id": "24823583-03b4-453f-96b8-efa48bd9ca83",
   "metadata": {
    "tags": []
   },
   "outputs": [
    {
     "name": "stdout",
     "output_type": "stream",
     "text": [
      "     [,1]        [,2]    [,3]       \n",
      "[1,] \"grape\"     \"melon\" \"blueberry\"\n",
      "[2,] \"pineapple\" \"fig\"   \"raspberry\"\n",
      "[3,] \"litchee\"   \"guava\" \"cranberry\"\n"
     ]
    }
   ],
   "source": [
    "print(matrix3.2[-c(1),-c(1)])"
   ]
  },
  {
   "cell_type": "code",
   "execution_count": 21,
   "id": "ffd653a0-8346-4b4b-9571-e9fe7827b2fc",
   "metadata": {
    "tags": []
   },
   "outputs": [
    {
     "name": "stdout",
     "output_type": "stream",
     "text": [
      "     [,1]     [,2]        [,3]   \n",
      "[1,] \"apple\"  \"orange\"    \"pear\" \n",
      "[2,] \"banana\" \"grape\"     \"melon\"\n",
      "[3,] \"cherry\" \"pineapple\" \"fig\"  \n"
     ]
    }
   ],
   "source": [
    "print(matrix3.2[-c(4),-c(4)])"
   ]
  },
  {
   "cell_type": "code",
   "execution_count": 22,
   "id": "1b44f6ac-d459-431b-b4fb-cb3a32a9164d",
   "metadata": {
    "tags": []
   },
   "outputs": [],
   "source": [
    "matrix4 <- matrix3.2[-c(4),-c(4)]"
   ]
  },
  {
   "cell_type": "code",
   "execution_count": 24,
   "id": "b2763868-b6e6-4745-9074-ac5dd6537ba7",
   "metadata": {
    "tags": []
   },
   "outputs": [
    {
     "name": "stdout",
     "output_type": "stream",
     "text": [
      "     [,1]     [,2]        [,3]   \n",
      "[1,] \"apple\"  \"orange\"    \"pear\" \n",
      "[2,] \"banana\" \"grape\"     \"melon\"\n",
      "[3,] \"cherry\" \"pineapple\" \"fig\"  \n"
     ]
    }
   ],
   "source": [
    "print(matrix4)"
   ]
  }
 ],
 "metadata": {
  "kernelspec": {
   "display_name": "R",
   "language": "R",
   "name": "ir"
  },
  "language_info": {
   "codemirror_mode": "r",
   "file_extension": ".r",
   "mimetype": "text/x-r-source",
   "name": "R",
   "pygments_lexer": "r",
   "version": "4.3.1"
  }
 },
 "nbformat": 4,
 "nbformat_minor": 5
}
