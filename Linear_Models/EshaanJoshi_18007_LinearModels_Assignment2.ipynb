{
 "cells": [
  {
   "cell_type": "markdown",
   "id": "c3f594a8-4e2b-4a71-9c12-9a80bc5c30c4",
   "metadata": {
    "tags": []
   },
   "source": [
    "## Q1) The following table shows the lives (in hrs) of four batches of electric lamps:\n",
    "|Batches|Life of a bulb in hrs|\n",
    "|:-----:|:-------------------:|\n",
    "|1|1600,1610,1650,1680,1700,1720,1800|\n",
    "|2|1580,1640,1640,1700,1750|\n",
    "|3|1460,1550,1600,1620,1640,1660,1740,1820|\n",
    "|4|1510,1520,1530,1600,1680|\n",
    "\n",
    "Perform an analysis of variance."
   ]
  },
  {
   "cell_type": "markdown",
   "id": "064d8488-e6b2-4561-950d-5cebe41af0ad",
   "metadata": {},
   "source": [
    "### Hypothesis\n",
    "- H<sub>o</sub>: There is no significant difference in mean life of bulbs of batches.\n",
    "- H<sub>1</sub>: Mean life of bulbs of atleast one batch differs significantly."
   ]
  },
  {
   "cell_type": "code",
   "execution_count": 1,
   "id": "5fc56567-e981-4630-9774-113b5bf8c4d0",
   "metadata": {
    "tags": []
   },
   "outputs": [],
   "source": [
    "b1_bulb_life = c(1600,1610,1650,1680,1700,1720,1800)\n",
    "b2_bulb_life = c(1580,1640,1640,1700,1750)\n",
    "b3_bulb_life = c(1460,1550,1600,1620,1640,1660,1740,1820)\n",
    "b4_bulb_life = c(1510,1520,1530,1570,1600,1680)"
   ]
  },
  {
   "cell_type": "code",
   "execution_count": 2,
   "id": "4770a766-d82a-4f18-9851-d7787a5e46a3",
   "metadata": {
    "tags": []
   },
   "outputs": [],
   "source": [
    "bulb_life_df = data.frame(bulb_life_in_hrs=c(b1_bulb_life,b2_bulb_life,b3_bulb_life,b4_bulb_life),\n",
    "                          batches=factor(rep(c(1,2,3,4),times=c(length(b1_bulb_life),length(b2_bulb_life),length(b3_bulb_life),length(b4_bulb_life)))))"
   ]
  },
  {
   "cell_type": "code",
   "execution_count": 3,
   "id": "30fcb346-5519-41ce-8a9f-eaf81eac0a72",
   "metadata": {
    "tags": []
   },
   "outputs": [],
   "source": [
    "model1 = aov(bulb_life_in_hrs ~ batches,data=bulb_life_df)"
   ]
  },
  {
   "cell_type": "code",
   "execution_count": 4,
   "id": "1a36d4f2-bb15-405e-89f1-7a2bd3bd7bf5",
   "metadata": {
    "tags": []
   },
   "outputs": [
    {
     "name": "stdout",
     "output_type": "stream",
     "text": [
      "Analysis of Variance Table\n",
      "\n",
      "Response: bulb_life_in_hrs\n",
      "          Df Sum Sq Mean Sq F value Pr(>F)\n",
      "batches    3  44361 14786.9  2.1494 0.1229\n",
      "Residuals 22 151351  6879.6               \n"
     ]
    }
   ],
   "source": [
    "print(anova(model1))"
   ]
  },
  {
   "cell_type": "code",
   "execution_count": 5,
   "id": "c222491f-e70a-49ea-bf55-71c1d1345b31",
   "metadata": {
    "tags": []
   },
   "outputs": [
    {
     "data": {
      "text/plain": [
       "            Df Sum Sq Mean Sq F value Pr(>F)\n",
       "batches      3  44361   14787   2.149  0.123\n",
       "Residuals   22 151351    6880               "
      ]
     },
     "metadata": {},
     "output_type": "display_data"
    }
   ],
   "source": [
    "summary(model1)"
   ]
  },
  {
   "cell_type": "markdown",
   "id": "cfc50b61-daf9-4188-9261-df9aa721279b",
   "metadata": {},
   "source": [
    "### Conclusion\n",
    "- The p-value is 0.1229, since the p-value is greater than 0.05 we cannot reject the null hypothesis. Therefore, there is no significant difference in mean life of bulbs of batches."
   ]
  },
  {
   "cell_type": "markdown",
   "id": "84564ba3-80b1-4b39-8eb8-d76575936cfd",
   "metadata": {},
   "source": [
    "## Q2) In 25 plots four varieties v1, v2, v3, v4 of wheat are randomly put and their yield in kg are shown below.\n",
    "\n",
    "||||||\n",
    "|:-:|:-:|:-:|:-:|:-:|\n",
    "|V1<br>2000|V3<br>2270|V2<br>2230|V4<br>2270|V4<br>2180|\n",
    "|V2<br>2160|V1<br>2100|V2<br>2050|V3<br>2300|V2<br>2280|\n",
    "|V1<br>2200|V1<br>2300|V4<br>2040|V3<br>2420|V1<br>2240|\n",
    "|V4<br>2370|V1<br>2250|V2<br>2040|V2<br>2360|V1<br>2460|\n",
    "|V3<br>2210|V1<br>2340|V2<br>2190|V1<br>2150|V3<br>2020|\n",
    "\n",
    "Perform the ANOVA to test whether there is any significant difference between varieties of wheat."
   ]
  },
  {
   "cell_type": "markdown",
   "id": "c54a7d40-b9b7-4e93-8e44-85d3178b5cba",
   "metadata": {},
   "source": [
    "### Hypothesis\n",
    "- H<sub>0</sub>: There is no significant difference in the effect of varieties of wheat.\n",
    "- H<sub>1</sub>: Atleast one pair of means effect of varieties of wheat is significantly different."
   ]
  },
  {
   "cell_type": "code",
   "execution_count": 6,
   "id": "3755c4dc-1932-4ba4-9346-85e1430ad971",
   "metadata": {
    "tags": []
   },
   "outputs": [],
   "source": [
    "v1_yield = c(2000,2100,2200,2300,2240,2250,2460,2340,2150)\n",
    "v2_yield = c(2230,2160,2050,2280,2040,2360,2190)\n",
    "v3_yeild = c(2270,2300,2420,2210,2020)\n",
    "v4_yield = c(2270,2180,2040,2370)"
   ]
  },
  {
   "cell_type": "code",
   "execution_count": 7,
   "id": "bfdf69b3-03aa-4c08-8c9d-d0d1a9df7a50",
   "metadata": {
    "tags": []
   },
   "outputs": [],
   "source": [
    "wheat_yield_df = data.frame(yield=c(v1_yield,v2_yield,v3_yeild,v4_yield),\n",
    "                            varieties=factor(rep(c('v1','v2','v3','v4'),times=c(length(v1_yield),length(v2_yield),length(v3_yeild),length(v4_yield)))))"
   ]
  },
  {
   "cell_type": "code",
   "execution_count": 8,
   "id": "7e075b1a-baf3-45f4-acb0-d70f23625bed",
   "metadata": {
    "tags": []
   },
   "outputs": [],
   "source": [
    "model2 = aov(yield~varieties,data=wheat_yield_df)"
   ]
  },
  {
   "cell_type": "code",
   "execution_count": 9,
   "id": "79b6fdd6-3df6-42f8-8c08-d83be74811ac",
   "metadata": {
    "tags": []
   },
   "outputs": [
    {
     "name": "stdout",
     "output_type": "stream",
     "text": [
      "Analysis of Variance Table\n",
      "\n",
      "Response: yield\n",
      "          Df Sum Sq Mean Sq F value Pr(>F)\n",
      "varieties  3  10741  3580.4  0.2011 0.8945\n",
      "Residuals 21 373963 17807.8               \n"
     ]
    }
   ],
   "source": [
    "print(anova(model2))"
   ]
  },
  {
   "cell_type": "code",
   "execution_count": 10,
   "id": "8a5455f7-de4f-4319-9ea6-d10f79a8670c",
   "metadata": {
    "tags": []
   },
   "outputs": [
    {
     "data": {
      "text/plain": [
       "            Df Sum Sq Mean Sq F value Pr(>F)\n",
       "varieties    3  10741    3580   0.201  0.894\n",
       "Residuals   21 373963   17808               "
      ]
     },
     "metadata": {},
     "output_type": "display_data"
    }
   ],
   "source": [
    "summary(model2)"
   ]
  },
  {
   "cell_type": "markdown",
   "id": "988e1b42-6836-47ab-8909-66bc6ab2a01a",
   "metadata": {},
   "source": [
    "### Conclusion\n",
    "The p-value is 0.8944, since it is greater than 0.05 we cannot reject the null hypothesis. Therefore there is no difference in the effect of varieties."
   ]
  },
  {
   "cell_type": "markdown",
   "id": "80cbae52-ac46-4934-8692-8286e0ac74a4",
   "metadata": {},
   "source": [
    "## Q3) A manufacturing company has purchased three new machines and wishes to determine whether one of them is faster than the others in producing a certain output. Five hourly production figures are observed at random from each maching and the results are given in the following table\n",
    "\n",
    "||Machine A1|Machine A2|Machine A3|\n",
    "|:-:|:--------:|:--------:|:--------:|\n",
    "||25|31|24\n",
    "||30|39|30|\n",
    "|Observation|36|38|28|\n",
    "||38|42|25|\n",
    "||31|35|28|\n",
    "\n",
    "Use analysis of variance technique and determine whether the machines are significantly different in their mean speeds. Use 5% LOS."
   ]
  },
  {
   "cell_type": "markdown",
   "id": "5ef2eb8c-49ac-4bc3-bfb9-bbdaf16a071e",
   "metadata": {},
   "source": [
    "### Hypothesis\n",
    "- H<sub>0</sub>: There is no significant difference in the mean production speed of the machines.\n",
    "- H<sub>1</sub>: Mean production speed of atleast one machine differs significantly."
   ]
  },
  {
   "cell_type": "code",
   "execution_count": 11,
   "id": "9147337c-b080-4012-8604-e8072de3de83",
   "metadata": {
    "tags": []
   },
   "outputs": [],
   "source": [
    "machine_a1 = c(25,30,36,38,31)\n",
    "machine_a2 = c(31,39,38,42,35)\n",
    "machine_a3 = c(24,30,28,25,28)"
   ]
  },
  {
   "cell_type": "code",
   "execution_count": 12,
   "id": "76151f3c-5593-4f23-b30c-512de33c1517",
   "metadata": {
    "tags": []
   },
   "outputs": [],
   "source": [
    "machine_prod_df = data.frame(production=c(machine_a1,machine_a2,machine_a3),\n",
    "                             machine=factor(rep(c('a1','a2','a3'),times=c(length(machine_a1),length(machine_a2),length(machine_a3)))))"
   ]
  },
  {
   "cell_type": "code",
   "execution_count": 13,
   "id": "8d3fd22b-6ddd-4407-9de6-a2b835c0e73f",
   "metadata": {
    "tags": []
   },
   "outputs": [],
   "source": [
    "model3 = aov(production~machine,data=machine_prod_df)"
   ]
  },
  {
   "cell_type": "code",
   "execution_count": 14,
   "id": "2b069f50-25e0-4489-90e1-712b32a3c991",
   "metadata": {
    "tags": []
   },
   "outputs": [
    {
     "name": "stdout",
     "output_type": "stream",
     "text": [
      "Analysis of Variance Table\n",
      "\n",
      "Response: production\n",
      "          Df Sum Sq Mean Sq F value   Pr(>F)   \n",
      "machine    2    250 125.000     7.5 0.007707 **\n",
      "Residuals 12    200  16.667                    \n",
      "---\n",
      "Signif. codes:  0 ‘***’ 0.001 ‘**’ 0.01 ‘*’ 0.05 ‘.’ 0.1 ‘ ’ 1\n"
     ]
    }
   ],
   "source": [
    "print(anova(model3))"
   ]
  },
  {
   "cell_type": "code",
   "execution_count": 15,
   "id": "37769a25-d736-4932-9dde-41b55381353e",
   "metadata": {
    "tags": []
   },
   "outputs": [
    {
     "data": {
      "text/plain": [
       "            Df Sum Sq Mean Sq F value  Pr(>F)   \n",
       "machine      2    250  125.00     7.5 0.00771 **\n",
       "Residuals   12    200   16.67                   \n",
       "---\n",
       "Signif. codes:  0 ‘***’ 0.001 ‘**’ 0.01 ‘*’ 0.05 ‘.’ 0.1 ‘ ’ 1"
      ]
     },
     "metadata": {},
     "output_type": "display_data"
    }
   ],
   "source": [
    "summary(model3)"
   ]
  },
  {
   "cell_type": "markdown",
   "id": "2dde3fc6-bf25-4b0e-9457-93166a124d3f",
   "metadata": {},
   "source": [
    "### Conclusion\n",
    "The p-value is 0.0077, since the p-value is less than 0.05 we can reject the null hypothesis. Therefore mean production speed of atleast one machine differs significantly."
   ]
  },
  {
   "cell_type": "markdown",
   "id": "fe568b64-3b01-40e5-a31a-9d467a8242d7",
   "metadata": {},
   "source": [
    "## Q4) If we have three fertilizers and we have to compare their efficacy, this could be done by a field experiment in which each fertilizer is applied to 10 plots, and then 30 plots are later harvested, with the crop field being calculated for each plot. The data were recorded in following table:\n",
    "\n",
    "<table>\n",
    "    <thead>\n",
    "        <tr>\n",
    "            <th>Fertilizer</th>\n",
    "            <th colspan=10>Yields (in tones) from the 10 plots allocated to that fertilizer</th>\n",
    "        </tr>\n",
    "    </thead>\n",
    "    <tbody>\n",
    "        <tr>\n",
    "            <td>1</td>\n",
    "            <td>6.27</td><td>5.36</td><td>6.39</td><td>4.85</td><td>5.99</td><td>7.14</td><td>5.08</td><td>4.07</td><td>4.35</td><td>4.95</td>\n",
    "        </tr>\n",
    "        <tr>\n",
    "            <td>2</td>\n",
    "            <td>3.07</td><td>3.29</td><td>4.04</td><td>4.19</td><td>0.41</td><td>0.75</td><td>4.87</td><td>3.94</td><td>6.49</td><td>3.15</td>\n",
    "        </tr>\n",
    "        <tr>\n",
    "            <td>3</td>\n",
    "            <td>4.04</td><td>3.79</td><td>4.56</td><td>4.55</td><td>4.53</td><td>3.53</td><td>3.71</td><td>7.00</td><td>4.61</td><td>4.55</td>\n",
    "        </tr>\n",
    "    </tbody>\n",
    "    </table>\n",
    "    \n",
    "Carry out analysis of variance."
   ]
  },
  {
   "cell_type": "markdown",
   "id": "784bc8fd-4528-4212-806c-ff5440bcc0c8",
   "metadata": {},
   "source": [
    "### Hypothesis\n",
    "- H<sub>0</sub>: There is no significant difference in the mean effect of the fertilizers.\n",
    "- H<sub>1</sub>: Mean effect of atleast one fertilizer differs significantly."
   ]
  },
  {
   "cell_type": "code",
   "execution_count": 16,
   "id": "96a93ea4-82be-4c9d-9bbf-f399bd761d91",
   "metadata": {
    "tags": []
   },
   "outputs": [],
   "source": [
    "fert1 = c(6.27,5.36,6.39,4.85,5.99,7.14,5.08,4.07,4.35,4.95)\n",
    "fert2 = c(3.07,3.29,4.04,4.19,0.41,0.75,4.87,3.94,6.49,3.15)\n",
    "fert3 = c(4.04,3.79,4.56,4.55,4.53,3.53,3.71,7.00,4.61,4.55)"
   ]
  },
  {
   "cell_type": "code",
   "execution_count": 17,
   "id": "e79dcaff-16fe-4476-a3e5-729997744c28",
   "metadata": {
    "tags": []
   },
   "outputs": [],
   "source": [
    "fert_efficacy_df = data.frame(yields=c(fert1,fert2,fert3),\n",
    "                              fertilizer=factor(rep(c(1,2,3),times=c(length(fert1),length(fert2),length(fert3)))))"
   ]
  },
  {
   "cell_type": "code",
   "execution_count": 18,
   "id": "b3a07ae7-f6ef-448b-b715-fbfd21bd8606",
   "metadata": {
    "tags": []
   },
   "outputs": [],
   "source": [
    "model4 = aov(yields~fertilizer,data=fert_efficacy_df)"
   ]
  },
  {
   "cell_type": "code",
   "execution_count": 19,
   "id": "eca004bf-57dd-4473-b3ad-9069e46584df",
   "metadata": {
    "tags": []
   },
   "outputs": [
    {
     "name": "stdout",
     "output_type": "stream",
     "text": [
      "Analysis of Variance Table\n",
      "\n",
      "Response: yields\n",
      "           Df Sum Sq Mean Sq F value   Pr(>F)   \n",
      "fertilizer  2 20.523 10.2615   5.984 0.007061 **\n",
      "Residuals  27 46.300  1.7148                    \n",
      "---\n",
      "Signif. codes:  0 ‘***’ 0.001 ‘**’ 0.01 ‘*’ 0.05 ‘.’ 0.1 ‘ ’ 1\n"
     ]
    }
   ],
   "source": [
    "print(anova(model4))"
   ]
  },
  {
   "cell_type": "code",
   "execution_count": 20,
   "id": "1ef70227-d515-4818-84fc-2a0eb3a7ed28",
   "metadata": {
    "tags": []
   },
   "outputs": [
    {
     "data": {
      "text/plain": [
       "            Df Sum Sq Mean Sq F value  Pr(>F)   \n",
       "fertilizer   2  20.52  10.261   5.984 0.00706 **\n",
       "Residuals   27  46.30   1.715                   \n",
       "---\n",
       "Signif. codes:  0 ‘***’ 0.001 ‘**’ 0.01 ‘*’ 0.05 ‘.’ 0.1 ‘ ’ 1"
      ]
     },
     "metadata": {},
     "output_type": "display_data"
    }
   ],
   "source": [
    "summary(model4)"
   ]
  },
  {
   "cell_type": "markdown",
   "id": "014895b2-6de4-4d46-ba71-aef6e30ed16c",
   "metadata": {},
   "source": [
    "### Conclusion\n",
    "The p-value is 0.0070, since the p-value is less than 0.05 we can reject the null hypothesis. Therefore there is atleast one fertilizer whose mean effect differs significantly."
   ]
  }
 ],
 "metadata": {
  "kernelspec": {
   "display_name": "R",
   "language": "R",
   "name": "ir"
  },
  "language_info": {
   "codemirror_mode": "r",
   "file_extension": ".r",
   "mimetype": "text/x-r-source",
   "name": "R",
   "pygments_lexer": "r",
   "version": "4.3.1"
  }
 },
 "nbformat": 4,
 "nbformat_minor": 5
}
