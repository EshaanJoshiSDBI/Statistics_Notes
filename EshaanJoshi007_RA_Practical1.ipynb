{
 "cells": [
  {
   "cell_type": "code",
   "execution_count": 1,
   "id": "0b9571b1-74f1-4ee6-b39d-fe4c457f9470",
   "metadata": {
    "tags": []
   },
   "outputs": [],
   "source": [
    "library(correlation)"
   ]
  },
  {
   "cell_type": "markdown",
   "id": "15bd988c-f4cc-4317-894b-63123975573f",
   "metadata": {},
   "source": [
    "## Q1. Delivery Time Dataset\n",
    "A soft drink bottler is analysing the vending machine service routes in his distribution system. He is interested in predicting the amount of time required by the route driver to service the vending machines in an outlet. This service activity includes stocking the machine with beverage products and minor maintenance or housekeeping. The industrial engineer responsible for the study has suggested that the two most important variables affecting the delivery time are the number of cases of product stocked and the distance walked by the route driver. The engineer has collected 25 observations on delivery time which are given in the excel file.<br>\n",
    "Y : Delivery Time (min)<br>\n",
    "X1 : Number of Cases<br>\n",
    "X2 : Distance (ft)<br>"
   ]
  },
  {
   "cell_type": "code",
   "execution_count": 2,
   "id": "97466d51-4110-451e-8d45-eadbcbd7d24c",
   "metadata": {
    "tags": []
   },
   "outputs": [],
   "source": [
    "delivery_data = read.csv('deliverytime - Sheet1.csv')"
   ]
  },
  {
   "cell_type": "code",
   "execution_count": 3,
   "id": "db5c2fcd-e23b-473c-9e22-0a9e9b5dcd30",
   "metadata": {
    "tags": []
   },
   "outputs": [
    {
     "data": {
      "text/html": [
       "<table class=\"dataframe\">\n",
       "<caption>A data.frame: 6 × 3</caption>\n",
       "<thead>\n",
       "\t<tr><th></th><th scope=col>Y</th><th scope=col>X1</th><th scope=col>X2</th></tr>\n",
       "\t<tr><th></th><th scope=col>&lt;dbl&gt;</th><th scope=col>&lt;int&gt;</th><th scope=col>&lt;int&gt;</th></tr>\n",
       "</thead>\n",
       "<tbody>\n",
       "\t<tr><th scope=row>1</th><td>16.68</td><td>7</td><td>560</td></tr>\n",
       "\t<tr><th scope=row>2</th><td>11.50</td><td>3</td><td>220</td></tr>\n",
       "\t<tr><th scope=row>3</th><td>12.03</td><td>3</td><td>340</td></tr>\n",
       "\t<tr><th scope=row>4</th><td>14.88</td><td>4</td><td> 80</td></tr>\n",
       "\t<tr><th scope=row>5</th><td>13.75</td><td>6</td><td>150</td></tr>\n",
       "\t<tr><th scope=row>6</th><td>18.11</td><td>7</td><td>330</td></tr>\n",
       "</tbody>\n",
       "</table>\n"
      ],
      "text/latex": [
       "A data.frame: 6 × 3\n",
       "\\begin{tabular}{r|lll}\n",
       "  & Y & X1 & X2\\\\\n",
       "  & <dbl> & <int> & <int>\\\\\n",
       "\\hline\n",
       "\t1 & 16.68 & 7 & 560\\\\\n",
       "\t2 & 11.50 & 3 & 220\\\\\n",
       "\t3 & 12.03 & 3 & 340\\\\\n",
       "\t4 & 14.88 & 4 &  80\\\\\n",
       "\t5 & 13.75 & 6 & 150\\\\\n",
       "\t6 & 18.11 & 7 & 330\\\\\n",
       "\\end{tabular}\n"
      ],
      "text/markdown": [
       "\n",
       "A data.frame: 6 × 3\n",
       "\n",
       "| <!--/--> | Y &lt;dbl&gt; | X1 &lt;int&gt; | X2 &lt;int&gt; |\n",
       "|---|---|---|---|\n",
       "| 1 | 16.68 | 7 | 560 |\n",
       "| 2 | 11.50 | 3 | 220 |\n",
       "| 3 | 12.03 | 3 | 340 |\n",
       "| 4 | 14.88 | 4 |  80 |\n",
       "| 5 | 13.75 | 6 | 150 |\n",
       "| 6 | 18.11 | 7 | 330 |\n",
       "\n"
      ],
      "text/plain": [
       "  Y     X1 X2 \n",
       "1 16.68 7  560\n",
       "2 11.50 3  220\n",
       "3 12.03 3  340\n",
       "4 14.88 4   80\n",
       "5 13.75 6  150\n",
       "6 18.11 7  330"
      ]
     },
     "metadata": {},
     "output_type": "display_data"
    }
   ],
   "source": [
    "head(delivery_data)"
   ]
  },
  {
   "cell_type": "code",
   "execution_count": 4,
   "id": "7a5cd909-73ec-45e4-a26f-f02570039a44",
   "metadata": {
    "tags": []
   },
   "outputs": [
    {
     "data": {
      "text/html": [
       "<table class=\"dataframe\">\n",
       "<caption>A matrix: 3 × 3 of type dbl</caption>\n",
       "<thead>\n",
       "\t<tr><th></th><th scope=col>Y</th><th scope=col>X1</th><th scope=col>X2</th></tr>\n",
       "</thead>\n",
       "<tbody>\n",
       "\t<tr><th scope=row>Y</th><td>1.0000000</td><td>0.9646146</td><td>0.8916701</td></tr>\n",
       "\t<tr><th scope=row>X1</th><td>0.9646146</td><td>1.0000000</td><td>0.8242150</td></tr>\n",
       "\t<tr><th scope=row>X2</th><td>0.8916701</td><td>0.8242150</td><td>1.0000000</td></tr>\n",
       "</tbody>\n",
       "</table>\n"
      ],
      "text/latex": [
       "A matrix: 3 × 3 of type dbl\n",
       "\\begin{tabular}{r|lll}\n",
       "  & Y & X1 & X2\\\\\n",
       "\\hline\n",
       "\tY & 1.0000000 & 0.9646146 & 0.8916701\\\\\n",
       "\tX1 & 0.9646146 & 1.0000000 & 0.8242150\\\\\n",
       "\tX2 & 0.8916701 & 0.8242150 & 1.0000000\\\\\n",
       "\\end{tabular}\n"
      ],
      "text/markdown": [
       "\n",
       "A matrix: 3 × 3 of type dbl\n",
       "\n",
       "| <!--/--> | Y | X1 | X2 |\n",
       "|---|---|---|---|\n",
       "| Y | 1.0000000 | 0.9646146 | 0.8916701 |\n",
       "| X1 | 0.9646146 | 1.0000000 | 0.8242150 |\n",
       "| X2 | 0.8916701 | 0.8242150 | 1.0000000 |\n",
       "\n"
      ],
      "text/plain": [
       "   Y         X1        X2       \n",
       "Y  1.0000000 0.9646146 0.8916701\n",
       "X1 0.9646146 1.0000000 0.8242150\n",
       "X2 0.8916701 0.8242150 1.0000000"
      ]
     },
     "metadata": {},
     "output_type": "display_data"
    }
   ],
   "source": [
    "cor(delivery_data)"
   ]
  },
  {
   "cell_type": "code",
   "execution_count": 5,
   "id": "916eaaee-10c4-4d92-8acf-ddeddd0f0f33",
   "metadata": {
    "tags": []
   },
   "outputs": [
    {
     "data": {
      "image/png": "[encoded data removed]",
      "text/plain": [
       "plot without title"
      ]
     },
     "metadata": {
      "image/png": {
       "height": 420,
       "width": 420
      }
     },
     "output_type": "display_data"
    }
   ],
   "source": [
    "pairs(delivery_data)"
   ]
  },
  {
   "cell_type": "code",
   "execution_count": 6,
   "id": "81f757e2-5695-4ffd-ab13-166402609b63",
   "metadata": {
    "tags": []
   },
   "outputs": [],
   "source": [
    "reg_mod = lm('Y ~ X1 + X2',data=delivery_data)"
   ]
  },
  {
   "cell_type": "code",
   "execution_count": 7,
   "id": "72d6085b-8b28-404d-970c-36902bc8bd99",
   "metadata": {
    "tags": []
   },
   "outputs": [
    {
     "data": {
      "text/plain": [
       "\n",
       "Call:\n",
       "lm(formula = \"Y ~ X1 + X2\", data = delivery_data)\n",
       "\n",
       "Coefficients:\n",
       "(Intercept)           X1           X2  \n",
       "    2.34123      1.61591      0.01438  \n"
      ]
     },
     "metadata": {},
     "output_type": "display_data"
    }
   ],
   "source": [
    "reg_mod"
   ]
  },
  {
   "cell_type": "code",
   "execution_count": 8,
   "id": "82eba2a5-2a9a-464d-956e-7e079dc2743b",
   "metadata": {
    "tags": []
   },
   "outputs": [
    {
     "data": {
      "text/plain": [
       "\n",
       "Call:\n",
       "lm(formula = \"Y ~ X1 + X2\", data = delivery_data)\n",
       "\n",
       "Residuals:\n",
       "    Min      1Q  Median      3Q     Max \n",
       "-5.7880 -0.6629  0.4364  1.1566  7.4197 \n",
       "\n",
       "Coefficients:\n",
       "            Estimate Std. Error t value Pr(>|t|)    \n",
       "(Intercept) 2.341231   1.096730   2.135 0.044170 *  \n",
       "X1          1.615907   0.170735   9.464 3.25e-09 ***\n",
       "X2          0.014385   0.003613   3.981 0.000631 ***\n",
       "---\n",
       "Signif. codes:  0 ‘***’ 0.001 ‘**’ 0.01 ‘*’ 0.05 ‘.’ 0.1 ‘ ’ 1\n",
       "\n",
       "Residual standard error: 3.259 on 22 degrees of freedom\n",
       "Multiple R-squared:  0.9596,\tAdjusted R-squared:  0.9559 \n",
       "F-statistic: 261.2 on 2 and 22 DF,  p-value: 4.687e-16\n"
      ]
     },
     "metadata": {},
     "output_type": "display_data"
    }
   ],
   "source": [
    "summary(reg_mod)"
   ]
  },
  {
   "cell_type": "markdown",
   "id": "9e594c52-e413-489e-8306-437f9fea9820",
   "metadata": {},
   "source": [
    "- The model is Y = 1.615907X<sub>1</sub> + 0.014385X<sub>2</sub> + 2.341231\n",
    "<br>where Y is delivery time in mins X<sub>1</sub> is number of cases and X<sub>2</sub> is the Distance in ft.\n",
    "- β<sub>1</sub> = 1.615907, this means that one unit increase in X<sub>1</sub> i.e number of cases will increase delivery time by 1.615907 mins.\n",
    "- β<sub>2</sub> = 0.014385, this means that one unit increase in X<sub>2</sub> i.e distance will increase delivery time by 0.014385 mins.\n",
    "- The average delivery time is 2.341231 mins when cases and distance (independent variables) is zero, but this is not possible and maybe due to the presence of multicollinearity in the data. We will have to retrain the model."
   ]
  },
  {
   "cell_type": "markdown",
   "id": "5be29a16-111f-492b-9a11-f3244488fc9f",
   "metadata": {
    "tags": []
   },
   "source": [
    "### Checking for significance of regression\n",
    "H<sub>o</sub>: β<sub>1</sub> = β<sub>2</sub> = 0 <br>\n",
    "H<sub>1</sub>: β<sub>1</sub> != β<sub>2</sub> != 0 <br>\n",
    "The p-value of thhe overall model is 4.687e<sup>-16</sup> which is less than 0.05, therefore we can reject the null hypothesis. Hence β<sub>1</sub> != β<sub>2</sub> != 0 <br>\n",
    "From the output we can see that the p-value for β<sub>0</sub> is 0.044170 β<sub>1</sub> is 3.25e<sup>-09</sup> and β<sub>2</sub> is 0.000631. Therefore β<sub>0</sub>, β<sub>1</sub> and β<sub>2</sub> are significant.\n",
    "Coefficient of determination is 0.9596 i.e 95.96% variation of Y is explained by X<sub>1</sub> and X<sub>2</sub>. Adjusted R<sup>2</sup> is 0.9559"
   ]
  },
  {
   "cell_type": "code",
   "execution_count": 9,
   "id": "31ce29f2-cb29-411e-92ef-87b68f68f85b",
   "metadata": {
    "tags": []
   },
   "outputs": [
    {
     "data": {
      "text/html": [
       "<table class=\"dataframe\">\n",
       "<caption>A matrix: 3 × 2 of type dbl</caption>\n",
       "<thead>\n",
       "\t<tr><th></th><th scope=col>2.5 %</th><th scope=col>97.5 %</th></tr>\n",
       "</thead>\n",
       "<tbody>\n",
       "\t<tr><th scope=row>(Intercept)</th><td>0.066751987</td><td>4.61571030</td></tr>\n",
       "\t<tr><th scope=row>X1</th><td>1.261824662</td><td>1.96998976</td></tr>\n",
       "\t<tr><th scope=row>X2</th><td>0.006891745</td><td>0.02187791</td></tr>\n",
       "</tbody>\n",
       "</table>\n"
      ],
      "text/latex": [
       "A matrix: 3 × 2 of type dbl\n",
       "\\begin{tabular}{r|ll}\n",
       "  & 2.5 \\% & 97.5 \\%\\\\\n",
       "\\hline\n",
       "\t(Intercept) & 0.066751987 & 4.61571030\\\\\n",
       "\tX1 & 1.261824662 & 1.96998976\\\\\n",
       "\tX2 & 0.006891745 & 0.02187791\\\\\n",
       "\\end{tabular}\n"
      ],
      "text/markdown": [
       "\n",
       "A matrix: 3 × 2 of type dbl\n",
       "\n",
       "| <!--/--> | 2.5 % | 97.5 % |\n",
       "|---|---|---|\n",
       "| (Intercept) | 0.066751987 | 4.61571030 |\n",
       "| X1 | 1.261824662 | 1.96998976 |\n",
       "| X2 | 0.006891745 | 0.02187791 |\n",
       "\n"
      ],
      "text/plain": [
       "            2.5 %       97.5 %    \n",
       "(Intercept) 0.066751987 4.61571030\n",
       "X1          1.261824662 1.96998976\n",
       "X2          0.006891745 0.02187791"
      ]
     },
     "metadata": {},
     "output_type": "display_data"
    }
   ],
   "source": [
    "confint(reg_mod,level=0.95)"
   ]
  },
  {
   "cell_type": "code",
   "execution_count": 10,
   "id": "850cae47-b241-43bb-90be-bdb658aca866",
   "metadata": {
    "tags": []
   },
   "outputs": [
    {
     "name": "stdin",
     "output_type": "stream",
     "text": [
      "Enter the number of cases:  5\n"
     ]
    }
   ],
   "source": [
    "num_cases_inp = as.numeric(readline('Enter the number of cases: '))"
   ]
  },
  {
   "cell_type": "code",
   "execution_count": 11,
   "id": "36275bf8-bffc-4220-99a1-e81fa72c0a43",
   "metadata": {
    "tags": []
   },
   "outputs": [
    {
     "name": "stdin",
     "output_type": "stream",
     "text": [
      "Enter the distance in ft:  500\n"
     ]
    }
   ],
   "source": [
    "distance_inp = as.numeric(readline('Enter the distance in ft: '))"
   ]
  },
  {
   "cell_type": "code",
   "execution_count": 12,
   "id": "489670b0-0abf-465a-8f71-5fc503e6defa",
   "metadata": {
    "tags": []
   },
   "outputs": [
    {
     "data": {
      "text/html": [
       "'For 5 number of cases and distance of 500 ft the time taken for the delivery is predicted to be 17.6131803260125 mins.'"
      ],
      "text/latex": [
       "'For 5 number of cases and distance of 500 ft the time taken for the delivery is predicted to be 17.6131803260125 mins.'"
      ],
      "text/markdown": [
       "'For 5 number of cases and distance of 500 ft the time taken for the delivery is predicted to be 17.6131803260125 mins.'"
      ],
      "text/plain": [
       "[1] \"For 5 number of cases and distance of 500 ft the time taken for the delivery is predicted to be 17.6131803260125 mins.\""
      ]
     },
     "metadata": {},
     "output_type": "display_data"
    }
   ],
   "source": [
    "paste0('For ',num_cases_inp, ' number of cases and distance of ',distance_inp,\n",
    "    ' ft the time taken for the delivery is predicted to be ',\n",
    "    predict(reg_mod,newdata = data.frame(X1 = c(num_cases_inp),X2=c(distance_inp))), ' mins.')"
   ]
  },
  {
   "cell_type": "markdown",
   "id": "113ba531-59c0-47e8-bec7-1585e453e2a7",
   "metadata": {},
   "source": [
    "### Fitted Values"
   ]
  },
  {
   "cell_type": "code",
   "execution_count": 13,
   "id": "250c9c4c-4482-46c5-b7db-3ac57a8395d3",
   "metadata": {
    "tags": []
   },
   "outputs": [
    {
     "data": {
      "text/html": [
       "<style>\n",
       ".dl-inline {width: auto; margin:0; padding: 0}\n",
       ".dl-inline>dt, .dl-inline>dd {float: none; width: auto; display: inline-block}\n",
       ".dl-inline>dt::after {content: \":\\0020\"; padding-right: .5ex}\n",
       ".dl-inline>dt:not(:first-of-type) {padding-left: .5ex}\n",
       "</style><dl class=dl-inline><dt>1</dt><dd>21.7080843225639</dd><dt>2</dt><dd>10.3536145532405</dd><dt>3</dt><dd>12.0797937039063</dd><dt>4</dt><dd>9.95564608807306</dd><dt>5</dt><dd>14.1943983471799</dd><dt>6</dt><dd>18.3995742837878</dd><dt>7</dt><dd>7.155376454521</dd><dt>8</dt><dd>16.6733951331221</dd><dt>9</dt><dd>71.8202937965701</dd><dt>10</dt><dd>19.1235870828451</dd><dt>11</dt><dd>38.0925069787574</dd><dt>12</dt><dd>21.5930408962276</dd><dt>13</dt><dd>12.472990682794</dd><dt>14</dt><dd>18.682464138911</dd><dt>15</dt><dd>23.328798203161</dd><dt>16</dt><dd>29.6629284255901</dd><dt>17</dt><dd>14.9136396599573</dd><dt>18</dt><dd>15.5513786851893</dd><dt>19</dt><dd>7.70680652221969</dd><dt>20</dt><dd>40.8879699423216</dd><dt>21</dt><dd>20.5141789270615</dd><dt>22</dt><dd>56.0065278880268</dd><dt>23</dt><dd>23.3575678556721</dd><dt>24</dt><dd>24.4028535023393</dd><dt>25</dt><dd>10.9625839259614</dd></dl>\n"
      ],
      "text/latex": [
       "\\begin{description*}\n",
       "\\item[1] 21.7080843225639\n",
       "\\item[2] 10.3536145532405\n",
       "\\item[3] 12.0797937039063\n",
       "\\item[4] 9.95564608807306\n",
       "\\item[5] 14.1943983471799\n",
       "\\item[6] 18.3995742837878\n",
       "\\item[7] 7.155376454521\n",
       "\\item[8] 16.6733951331221\n",
       "\\item[9] 71.8202937965701\n",
       "\\item[10] 19.1235870828451\n",
       "\\item[11] 38.0925069787574\n",
       "\\item[12] 21.5930408962276\n",
       "\\item[13] 12.472990682794\n",
       "\\item[14] 18.682464138911\n",
       "\\item[15] 23.328798203161\n",
       "\\item[16] 29.6629284255901\n",
       "\\item[17] 14.9136396599573\n",
       "\\item[18] 15.5513786851893\n",
       "\\item[19] 7.70680652221969\n",
       "\\item[20] 40.8879699423216\n",
       "\\item[21] 20.5141789270615\n",
       "\\item[22] 56.0065278880268\n",
       "\\item[23] 23.3575678556721\n",
       "\\item[24] 24.4028535023393\n",
       "\\item[25] 10.9625839259614\n",
       "\\end{description*}\n"
      ],
      "text/markdown": [
       "1\n",
       ":   21.70808432256392\n",
       ":   10.35361455324053\n",
       ":   12.07979370390634\n",
       ":   9.955646088073065\n",
       ":   14.19439834717996\n",
       ":   18.39957428378787\n",
       ":   7.1553764545218\n",
       ":   16.67339513312219\n",
       ":   71.820293796570110\n",
       ":   19.123587082845111\n",
       ":   38.092506978757412\n",
       ":   21.593040896227613\n",
       ":   12.47299068279414\n",
       ":   18.68246413891115\n",
       ":   23.32879820316116\n",
       ":   29.662928425590117\n",
       ":   14.913639659957318\n",
       ":   15.551378685189319\n",
       ":   7.7068065222196920\n",
       ":   40.887969942321621\n",
       ":   20.514178927061522\n",
       ":   56.006527888026823\n",
       ":   23.357567855672124\n",
       ":   24.402853502339325\n",
       ":   10.9625839259614\n",
       "\n"
      ],
      "text/plain": [
       "        1         2         3         4         5         6         7         8 \n",
       "21.708084 10.353615 12.079794  9.955646 14.194398 18.399574  7.155376 16.673395 \n",
       "        9        10        11        12        13        14        15        16 \n",
       "71.820294 19.123587 38.092507 21.593041 12.472991 18.682464 23.328798 29.662928 \n",
       "       17        18        19        20        21        22        23        24 \n",
       "14.913640 15.551379  7.706807 40.887970 20.514179 56.006528 23.357568 24.402854 \n",
       "       25 \n",
       "10.962584 "
      ]
     },
     "metadata": {},
     "output_type": "display_data"
    }
   ],
   "source": [
    "predict(reg_mod)"
   ]
  },
  {
   "cell_type": "markdown",
   "id": "a0f7d1f5-2a65-43e9-b796-04b8d676a1a3",
   "metadata": {},
   "source": [
    "### Residuals"
   ]
  },
  {
   "cell_type": "code",
   "execution_count": 14,
   "id": "e891525b-678c-4b58-838d-2cfebbe320c1",
   "metadata": {
    "tags": []
   },
   "outputs": [
    {
     "data": {
      "text/html": [
       "<style>\n",
       ".dl-inline {width: auto; margin:0; padding: 0}\n",
       ".dl-inline>dt, .dl-inline>dd {float: none; width: auto; display: inline-block}\n",
       ".dl-inline>dt::after {content: \":\\0020\"; padding-right: .5ex}\n",
       ".dl-inline>dt:not(:first-of-type) {padding-left: .5ex}\n",
       "</style><dl class=dl-inline><dt>1</dt><dd>-5.02808432256391</dd><dt>2</dt><dd>1.14638544675942</dd><dt>3</dt><dd>-0.049793703906321</dd><dt>4</dt><dd>4.92435391192693</dd><dt>5</dt><dd>-0.444398347179943</dd><dt>6</dt><dd>-0.28957428378786</dd><dt>7</dt><dd>0.844623545478995</dd><dt>8</dt><dd>1.15660486687791</dd><dt>9</dt><dd>7.41970620342993</dd><dt>10</dt><dd>2.37641291715491</dd><dt>11</dt><dd>2.23749302124263</dd><dt>12</dt><dd>-0.593040896227583</dd><dt>13</dt><dd>1.02700931720601</dd><dt>14</dt><dd>1.06753586108904</dd><dt>15</dt><dd>0.671201796838955</dd><dt>16</dt><dd>-0.662928425590082</dd><dt>17</dt><dd>0.43636034004265</dd><dt>18</dt><dd>3.44862131481067</dd><dt>19</dt><dd>1.7931934777803</dd><dt>20</dt><dd>-5.78796994232157</dd><dt>21</dt><dd>-2.61417892706148</dd><dt>22</dt><dd>-3.68652788802677</dd><dt>23</dt><dd>-4.60756785567214</dd><dt>24</dt><dd>-4.57285350233929</dd><dt>25</dt><dd>-0.212583925961436</dd></dl>\n"
      ],
      "text/latex": [
       "\\begin{description*}\n",
       "\\item[1] -5.02808432256391\n",
       "\\item[2] 1.14638544675942\n",
       "\\item[3] -0.049793703906321\n",
       "\\item[4] 4.92435391192693\n",
       "\\item[5] -0.444398347179943\n",
       "\\item[6] -0.28957428378786\n",
       "\\item[7] 0.844623545478995\n",
       "\\item[8] 1.15660486687791\n",
       "\\item[9] 7.41970620342993\n",
       "\\item[10] 2.37641291715491\n",
       "\\item[11] 2.23749302124263\n",
       "\\item[12] -0.593040896227583\n",
       "\\item[13] 1.02700931720601\n",
       "\\item[14] 1.06753586108904\n",
       "\\item[15] 0.671201796838955\n",
       "\\item[16] -0.662928425590082\n",
       "\\item[17] 0.43636034004265\n",
       "\\item[18] 3.44862131481067\n",
       "\\item[19] 1.7931934777803\n",
       "\\item[20] -5.78796994232157\n",
       "\\item[21] -2.61417892706148\n",
       "\\item[22] -3.68652788802677\n",
       "\\item[23] -4.60756785567214\n",
       "\\item[24] -4.57285350233929\n",
       "\\item[25] -0.212583925961436\n",
       "\\end{description*}\n"
      ],
      "text/markdown": [
       "1\n",
       ":   -5.028084322563912\n",
       ":   1.146385446759423\n",
       ":   -0.0497937039063214\n",
       ":   4.924353911926935\n",
       ":   -0.4443983471799436\n",
       ":   -0.289574283787867\n",
       ":   0.8446235454789958\n",
       ":   1.156604866877919\n",
       ":   7.4197062034299310\n",
       ":   2.3764129171549111\n",
       ":   2.2374930212426312\n",
       ":   -0.59304089622758313\n",
       ":   1.0270093172060114\n",
       ":   1.0675358610890415\n",
       ":   0.67120179683895516\n",
       ":   -0.66292842559008217\n",
       ":   0.4363603400426518\n",
       ":   3.4486213148106719\n",
       ":   1.793193477780320\n",
       ":   -5.7879699423215721\n",
       ":   -2.6141789270614822\n",
       ":   -3.6865278880267723\n",
       ":   -4.6075678556721424\n",
       ":   -4.5728535023392925\n",
       ":   -0.212583925961436\n",
       "\n"
      ],
      "text/plain": [
       "         1          2          3          4          5          6          7 \n",
       "-5.0280843  1.1463854 -0.0497937  4.9243539 -0.4443983 -0.2895743  0.8446235 \n",
       "         8          9         10         11         12         13         14 \n",
       " 1.1566049  7.4197062  2.3764129  2.2374930 -0.5930409  1.0270093  1.0675359 \n",
       "        15         16         17         18         19         20         21 \n",
       " 0.6712018 -0.6629284  0.4363603  3.4486213  1.7931935 -5.7879699 -2.6141789 \n",
       "        22         23         24         25 \n",
       "-3.6865279 -4.6075679 -4.5728535 -0.2125839 "
      ]
     },
     "metadata": {},
     "output_type": "display_data"
    }
   ],
   "source": [
    "reg_mod$residuals"
   ]
  },
  {
   "cell_type": "markdown",
   "id": "e9927c70-2656-44d4-bd7c-ea7d0928d036",
   "metadata": {},
   "source": [
    "### Testing for autocorrelation\n",
    "Using the Durbin Watson test\n",
    "- H<sub>o</sub>: There is no autocorrelation in the residuals\n",
    "- H<sub>11</sub>: There is autocorrelation in the residuals"
   ]
  },
  {
   "cell_type": "markdown",
   "id": "cc01cdda-be97-4f24-af62-da14c83cc058",
   "metadata": {
    "tags": []
   },
   "source": [
    "```R\n",
    "dwtest(reg_mod,alternative='two.sided')\n",
    "```"
   ]
  },
  {
   "cell_type": "markdown",
   "id": "d9458059-c4dc-4646-a345-40b3cbd7db6d",
   "metadata": {},
   "source": [
    "![image](2024-03-19-215044_928x262_scrot.png)"
   ]
  },
  {
   "cell_type": "markdown",
   "id": "56924d58-b7b7-4499-8180-6146e77afaec",
   "metadata": {},
   "source": [
    "The p-value is 0.02403, which is less than our LOS of 5%. Therefore we can reject the null hypothesis, hence there is autocorrelation present in the residuals"
   ]
  },
  {
   "cell_type": "markdown",
   "id": "0012c29e-af94-47ab-af8a-80ecb8a4476b",
   "metadata": {},
   "source": [
    "### Testing for Heteroscedasticity\n",
    "Using the Breusch-Pagan-Godfrey test\n",
    "- H<sub>o</sub>: There is no heteroscedasticity in the residuals\n",
    "- H<sub>1</sub>: There is heteroscedasticity in the residuals"
   ]
  },
  {
   "cell_type": "markdown",
   "id": "0561c7d5-d790-41dc-aaa8-85e5b7afd2ac",
   "metadata": {},
   "source": [
    "```R\n",
    "bptest(reg_mod)\n",
    "```"
   ]
  },
  {
   "cell_type": "markdown",
   "id": "967c130e-ff0f-4e9d-bc43-b3a6ae65e1fd",
   "metadata": {
    "tags": []
   },
   "source": [
    "![image](2024-03-19-215801_720x211_scrot.png)"
   ]
  },
  {
   "cell_type": "markdown",
   "id": "81fe6e29-f944-4acf-b9f0-1540fe0f4867",
   "metadata": {},
   "source": [
    "The p-value is 0.002493, which is less than our LOS of 5%. Therefore we can reject the null hypothesis, hence there is heteroscedasticity in the residuals"
   ]
  },
  {
   "cell_type": "markdown",
   "id": "b7fe1636-00b1-4aaf-8719-2dc02a03b741",
   "metadata": {},
   "source": [
    "-----"
   ]
  },
  {
   "cell_type": "markdown",
   "id": "ed250fb9-9926-4001-9f54-09a8cec55fd8",
   "metadata": {},
   "source": [
    "## Q2 Mammals Data\n",
    "Data are from American Naturalist (1974) p.593-613. Animals have\n",
    "properties that make them better capable of living and multiplying. One expects that\n",
    "larger brain may be generally better. But there can be penalties and limitations. One\n",
    "limitation is need for longer pregnancy and the other is the need to have fewer\n",
    "offsprings."
   ]
  },
  {
   "cell_type": "code",
   "execution_count": 15,
   "id": "9a58c41e-64d5-474d-bfeb-d72f54bae0f5",
   "metadata": {
    "tags": []
   },
   "outputs": [],
   "source": [
    "mammals_df = read.csv('mammalsize - Sheet1.csv')"
   ]
  },
  {
   "cell_type": "code",
   "execution_count": 16,
   "id": "8767abbd-71b0-4004-9c14-a9889d1f89db",
   "metadata": {
    "tags": []
   },
   "outputs": [
    {
     "data": {
      "text/html": [
       "<table class=\"dataframe\">\n",
       "<caption>A data.frame: 6 × 5</caption>\n",
       "<thead>\n",
       "\t<tr><th></th><th scope=col>species.name</th><th scope=col>gestation.period..days.</th><th scope=col>brain.weight..gms.</th><th scope=col>body.weight.kg.</th><th scope=col>av..Litter.size</th></tr>\n",
       "\t<tr><th></th><th scope=col>&lt;chr&gt;</th><th scope=col>&lt;int&gt;</th><th scope=col>&lt;dbl&gt;</th><th scope=col>&lt;dbl&gt;</th><th scope=col>&lt;dbl&gt;</th></tr>\n",
       "</thead>\n",
       "<tbody>\n",
       "\t<tr><th scope=row>1</th><td>Quokka         </td><td> 26</td><td>17.50</td><td>3.50</td><td>1.0</td></tr>\n",
       "\t<tr><th scope=row>2</th><td>hedgehog       </td><td> 34</td><td> 3.50</td><td>0.93</td><td>4.6</td></tr>\n",
       "\t<tr><th scope=row>3</th><td>tree shrew     </td><td> 46</td><td> 3.15</td><td>0.15</td><td>3.0</td></tr>\n",
       "\t<tr><th scope=row>4</th><td>elephant shrew1</td><td> 51</td><td> 1.14</td><td>0.05</td><td>1.5</td></tr>\n",
       "\t<tr><th scope=row>5</th><td>elephant shrew2</td><td> 46</td><td> 1.37</td><td>0.06</td><td>1.5</td></tr>\n",
       "\t<tr><th scope=row>6</th><td>lemur          </td><td>135</td><td>22.00</td><td>2.10</td><td>1.0</td></tr>\n",
       "</tbody>\n",
       "</table>\n"
      ],
      "text/latex": [
       "A data.frame: 6 × 5\n",
       "\\begin{tabular}{r|lllll}\n",
       "  & species.name & gestation.period..days. & brain.weight..gms. & body.weight.kg. & av..Litter.size\\\\\n",
       "  & <chr> & <int> & <dbl> & <dbl> & <dbl>\\\\\n",
       "\\hline\n",
       "\t1 & Quokka          &  26 & 17.50 & 3.50 & 1.0\\\\\n",
       "\t2 & hedgehog        &  34 &  3.50 & 0.93 & 4.6\\\\\n",
       "\t3 & tree shrew      &  46 &  3.15 & 0.15 & 3.0\\\\\n",
       "\t4 & elephant shrew1 &  51 &  1.14 & 0.05 & 1.5\\\\\n",
       "\t5 & elephant shrew2 &  46 &  1.37 & 0.06 & 1.5\\\\\n",
       "\t6 & lemur           & 135 & 22.00 & 2.10 & 1.0\\\\\n",
       "\\end{tabular}\n"
      ],
      "text/markdown": [
       "\n",
       "A data.frame: 6 × 5\n",
       "\n",
       "| <!--/--> | species.name &lt;chr&gt; | gestation.period..days. &lt;int&gt; | brain.weight..gms. &lt;dbl&gt; | body.weight.kg. &lt;dbl&gt; | av..Litter.size &lt;dbl&gt; |\n",
       "|---|---|---|---|---|---|\n",
       "| 1 | Quokka          |  26 | 17.50 | 3.50 | 1.0 |\n",
       "| 2 | hedgehog        |  34 |  3.50 | 0.93 | 4.6 |\n",
       "| 3 | tree shrew      |  46 |  3.15 | 0.15 | 3.0 |\n",
       "| 4 | elephant shrew1 |  51 |  1.14 | 0.05 | 1.5 |\n",
       "| 5 | elephant shrew2 |  46 |  1.37 | 0.06 | 1.5 |\n",
       "| 6 | lemur           | 135 | 22.00 | 2.10 | 1.0 |\n",
       "\n"
      ],
      "text/plain": [
       "  species.name    gestation.period..days. brain.weight..gms. body.weight.kg.\n",
       "1 Quokka           26                     17.50              3.50           \n",
       "2 hedgehog         34                      3.50              0.93           \n",
       "3 tree shrew       46                      3.15              0.15           \n",
       "4 elephant shrew1  51                      1.14              0.05           \n",
       "5 elephant shrew2  46                      1.37              0.06           \n",
       "6 lemur           135                     22.00              2.10           \n",
       "  av..Litter.size\n",
       "1 1.0            \n",
       "2 4.6            \n",
       "3 3.0            \n",
       "4 1.5            \n",
       "5 1.5            \n",
       "6 1.0            "
      ]
     },
     "metadata": {},
     "output_type": "display_data"
    }
   ],
   "source": [
    "head(mammals_df)"
   ]
  },
  {
   "cell_type": "code",
   "execution_count": 17,
   "id": "a9680467-a8c7-43d6-8d1a-4ec3ebeec65b",
   "metadata": {
    "tags": []
   },
   "outputs": [
    {
     "data": {
      "text/html": [
       "<table class=\"dataframe\">\n",
       "<caption>A matrix: 4 × 4 of type dbl</caption>\n",
       "<thead>\n",
       "\t<tr><th></th><th scope=col>gestation.period..days.</th><th scope=col>brain.weight..gms.</th><th scope=col>body.weight.kg.</th><th scope=col>av..Litter.size</th></tr>\n",
       "</thead>\n",
       "<tbody>\n",
       "\t<tr><th scope=row>gestation.period..days.</th><td> 1.0000000</td><td> 0.7281915</td><td> 0.6246744</td><td>-0.6037515</td></tr>\n",
       "\t<tr><th scope=row>brain.weight..gms.</th><td> 0.7281915</td><td> 1.0000000</td><td> 0.8640269</td><td>-0.2545611</td></tr>\n",
       "\t<tr><th scope=row>body.weight.kg.</th><td> 0.6246744</td><td> 0.8640269</td><td> 1.0000000</td><td>-0.1827372</td></tr>\n",
       "\t<tr><th scope=row>av..Litter.size</th><td>-0.6037515</td><td>-0.2545611</td><td>-0.1827372</td><td> 1.0000000</td></tr>\n",
       "</tbody>\n",
       "</table>\n"
      ],
      "text/latex": [
       "A matrix: 4 × 4 of type dbl\n",
       "\\begin{tabular}{r|llll}\n",
       "  & gestation.period..days. & brain.weight..gms. & body.weight.kg. & av..Litter.size\\\\\n",
       "\\hline\n",
       "\tgestation.period..days. &  1.0000000 &  0.7281915 &  0.6246744 & -0.6037515\\\\\n",
       "\tbrain.weight..gms. &  0.7281915 &  1.0000000 &  0.8640269 & -0.2545611\\\\\n",
       "\tbody.weight.kg. &  0.6246744 &  0.8640269 &  1.0000000 & -0.1827372\\\\\n",
       "\tav..Litter.size & -0.6037515 & -0.2545611 & -0.1827372 &  1.0000000\\\\\n",
       "\\end{tabular}\n"
      ],
      "text/markdown": [
       "\n",
       "A matrix: 4 × 4 of type dbl\n",
       "\n",
       "| <!--/--> | gestation.period..days. | brain.weight..gms. | body.weight.kg. | av..Litter.size |\n",
       "|---|---|---|---|---|\n",
       "| gestation.period..days. |  1.0000000 |  0.7281915 |  0.6246744 | -0.6037515 |\n",
       "| brain.weight..gms. |  0.7281915 |  1.0000000 |  0.8640269 | -0.2545611 |\n",
       "| body.weight.kg. |  0.6246744 |  0.8640269 |  1.0000000 | -0.1827372 |\n",
       "| av..Litter.size | -0.6037515 | -0.2545611 | -0.1827372 |  1.0000000 |\n",
       "\n"
      ],
      "text/plain": [
       "                        gestation.period..days. brain.weight..gms.\n",
       "gestation.period..days.  1.0000000               0.7281915        \n",
       "brain.weight..gms.       0.7281915               1.0000000        \n",
       "body.weight.kg.          0.6246744               0.8640269        \n",
       "av..Litter.size         -0.6037515              -0.2545611        \n",
       "                        body.weight.kg. av..Litter.size\n",
       "gestation.period..days.  0.6246744      -0.6037515     \n",
       "brain.weight..gms.       0.8640269      -0.2545611     \n",
       "body.weight.kg.          1.0000000      -0.1827372     \n",
       "av..Litter.size         -0.1827372       1.0000000     "
      ]
     },
     "metadata": {},
     "output_type": "display_data"
    }
   ],
   "source": [
    "cor(mammals_df[,2:length(mammals_df)])"
   ]
  },
  {
   "cell_type": "code",
   "execution_count": 18,
   "id": "7b7ebd77-aeb7-4b3a-8229-abef94e90a06",
   "metadata": {
    "tags": []
   },
   "outputs": [
    {
     "data": {
      "image/png": "[encoded data removed]",
      "text/plain": [
       "plot without title"
      ]
     },
     "metadata": {
      "image/png": {
       "height": 420,
       "width": 420
      }
     },
     "output_type": "display_data"
    }
   ],
   "source": [
    "pairs(mammals_df[,2:length(mammals_df)])"
   ]
  },
  {
   "cell_type": "code",
   "execution_count": 19,
   "id": "954a9afe-6e5f-417c-ad87-eb340d8b42ed",
   "metadata": {
    "tags": []
   },
   "outputs": [],
   "source": [
    "mammals_reg_mod = lm('gestation.period..days. ~ brain.weight..gms. + body.weight.kg. + av..Litter.size',data=mammals_df)"
   ]
  },
  {
   "cell_type": "code",
   "execution_count": 20,
   "id": "cd59c8b5-3409-44f6-a733-af25e0bca1c1",
   "metadata": {
    "tags": []
   },
   "outputs": [
    {
     "data": {
      "text/plain": [
       "\n",
       "Call:\n",
       "lm(formula = \"gestation.period..days. ~ brain.weight..gms. + body.weight.kg. + av..Litter.size\", \n",
       "    data = mammals_df)\n",
       "\n",
       "Residuals:\n",
       "     Min       1Q   Median       3Q      Max \n",
       "-135.448  -38.675   -4.416   38.083  196.613 \n",
       "\n",
       "Coefficients:\n",
       "                    Estimate Std. Error t value Pr(>|t|)    \n",
       "(Intercept)        187.05056   11.04951  16.928  < 2e-16 ***\n",
       "brain.weight..gms.   0.12197    0.02390   5.103 1.79e-06 ***\n",
       "body.weight.kg.      0.01581    0.03618   0.437    0.663    \n",
       "av..Litter.size    -27.79183    3.55161  -7.825 8.31e-12 ***\n",
       "---\n",
       "Signif. codes:  0 ‘***’ 0.001 ‘**’ 0.01 ‘*’ 0.05 ‘.’ 0.1 ‘ ’ 1\n",
       "\n",
       "Residual standard error: 58.31 on 92 degrees of freedom\n",
       "Multiple R-squared:  0.718,\tAdjusted R-squared:  0.7088 \n",
       "F-statistic: 78.09 on 3 and 92 DF,  p-value: < 2.2e-16\n"
      ]
     },
     "metadata": {},
     "output_type": "display_data"
    }
   ],
   "source": [
    "summary(mammals_reg_mod)"
   ]
  },
  {
   "cell_type": "markdown",
   "id": "8b92b803-07ca-4633-806b-72af7383f7db",
   "metadata": {},
   "source": [
    "- The model is Y = 0.12197X<sub>1</sub> + 0.01581X<sub>2</sub> - 27.79183X<sub>3</sub> + 187.05056\n",
    "<br>where Y is gestation period in days X<sub>1</sub> is brain weight in gms and X<sub>2</sub> is the body weight in kg and X<sub>3</sub> is the average litter size.\n",
    "- β<sub>1</sub> = 0.12197, this means that one unit increase in X<sub>1</sub> i.e brain weight will increase gestation period by 0.12197 days.\n",
    "- β<sub>2</sub> = 0.01581, this means that one unit increase in X<sub>2</sub> i.e body weight will increase gestation period by 0.01581 days.\n",
    "- β<sub>3</sub> = - 27.79183, this means that one unit increase in X<sub>3</sub> i.e average litter size will decrease gestation period by 27.79183 days.\n",
    "- The average gestation period is 187.05056 days when all independent variables are zero. We should check for the assumptions of a linear regression model and retrain if required."
   ]
  },
  {
   "cell_type": "markdown",
   "id": "096e59c2-107c-4320-be4c-843758737ff4",
   "metadata": {
    "tags": []
   },
   "source": [
    "### Checking for significance of regression\n",
    "H<sub>o</sub>: β<sub>1</sub> = β<sub>2</sub> = β<sub>3</sub> = 0 <br>\n",
    "H<sub>1</sub>: β<sub>1</sub> != β<sub>2</sub> != β<sub>3</sub> != 0 <br>\n",
    "The p-value of thhe overall model is < 2.2e<sup>-16</sup> which is less than 0.05, therefore we can reject the null hypothesis. Hence β<sub>1</sub> != β<sub>2</sub> != β<sub>2</sub> != 0 <br>\n",
    "From the output we can see that the p-value for β<sub>0</sub> is < 2e<sup>-16</sup> β<sub>1</sub> is 1.79e<sup>-06</sup>, β<sub>2</sub> is 0.663 and β<sub>3</sub> is 8.31e<sup>-12</sup>. Therefore β<sub>0</sub>, β<sub>1</sub> and β<sub>3</sub> are significant, but β<sub>2</sub> is not significant.<br>\n",
    "Coefficient of determination is 0.718 i.e 71.8% variation of Y is explained by X<sub>1</sub>, X<sub>2</sub> and X<sub>3</sub>. Adjusted R<sup>2</sup> is 0.7088"
   ]
  },
  {
   "cell_type": "code",
   "execution_count": 21,
   "id": "d72e71e6-77ba-49b1-a805-a99d18b35817",
   "metadata": {
    "tags": []
   },
   "outputs": [
    {
     "data": {
      "text/html": [
       "<table class=\"dataframe\">\n",
       "<caption>A matrix: 4 × 2 of type dbl</caption>\n",
       "<thead>\n",
       "\t<tr><th></th><th scope=col>2.5 %</th><th scope=col>97.5 %</th></tr>\n",
       "</thead>\n",
       "<tbody>\n",
       "\t<tr><th scope=row>(Intercept)</th><td>165.10528330</td><td>208.9958431</td></tr>\n",
       "\t<tr><th scope=row>brain.weight..gms.</th><td>  0.07449663</td><td>  0.1694355</td></tr>\n",
       "\t<tr><th scope=row>body.weight.kg.</th><td> -0.05604809</td><td>  0.0876705</td></tr>\n",
       "\t<tr><th scope=row>av..Litter.size</th><td>-34.84562139</td><td>-20.7380310</td></tr>\n",
       "</tbody>\n",
       "</table>\n"
      ],
      "text/latex": [
       "A matrix: 4 × 2 of type dbl\n",
       "\\begin{tabular}{r|ll}\n",
       "  & 2.5 \\% & 97.5 \\%\\\\\n",
       "\\hline\n",
       "\t(Intercept) & 165.10528330 & 208.9958431\\\\\n",
       "\tbrain.weight..gms. &   0.07449663 &   0.1694355\\\\\n",
       "\tbody.weight.kg. &  -0.05604809 &   0.0876705\\\\\n",
       "\tav..Litter.size & -34.84562139 & -20.7380310\\\\\n",
       "\\end{tabular}\n"
      ],
      "text/markdown": [
       "\n",
       "A matrix: 4 × 2 of type dbl\n",
       "\n",
       "| <!--/--> | 2.5 % | 97.5 % |\n",
       "|---|---|---|\n",
       "| (Intercept) | 165.10528330 | 208.9958431 |\n",
       "| brain.weight..gms. |   0.07449663 |   0.1694355 |\n",
       "| body.weight.kg. |  -0.05604809 |   0.0876705 |\n",
       "| av..Litter.size | -34.84562139 | -20.7380310 |\n",
       "\n"
      ],
      "text/plain": [
       "                   2.5 %        97.5 %     \n",
       "(Intercept)        165.10528330 208.9958431\n",
       "brain.weight..gms.   0.07449663   0.1694355\n",
       "body.weight.kg.     -0.05604809   0.0876705\n",
       "av..Litter.size    -34.84562139 -20.7380310"
      ]
     },
     "metadata": {},
     "output_type": "display_data"
    }
   ],
   "source": [
    "confint(mammals_reg_mod,level=0.95)"
   ]
  },
  {
   "cell_type": "code",
   "execution_count": 22,
   "id": "c378ad8e-cbbd-4a6e-a540-db9793c18653",
   "metadata": {
    "tags": []
   },
   "outputs": [
    {
     "data": {
      "text/html": [
       "<style>\n",
       ".dl-inline {width: auto; margin:0; padding: 0}\n",
       ".dl-inline>dt, .dl-inline>dd {float: none; width: auto; display: inline-block}\n",
       ".dl-inline>dt::after {content: \":\\0020\"; padding-right: .5ex}\n",
       ".dl-inline>dt:not(:first-of-type) {padding-left: .5ex}\n",
       "</style><dl class=dl-inline><dt>1</dt><dd>161.448482347383</dd><dt>2</dt><dd>59.6497483528099</dd><dt>3</dt><dd>104.061649396186</dd><dt>4</dt><dd>145.502655768205</dd><dt>5</dt><dd>145.530866075388</dd><dt>6</dt><dd>161.975193961878</dd><dt>7</dt><dd>155.280510835837</dd><dt>8</dt><dd>160.477268881778</dd><dt>9</dt><dd>165.966650800872</dd><dt>10</dt><dd>168.220761247343</dd><dt>11</dt><dd>173.306750439473</dd><dt>12</dt><dd>172.674784427543</dd><dt>13</dt><dd>132.421724576728</dd><dt>14</dt><dd>169.671933375909</dd><dt>15</dt><dd>169.667480878278</dd><dt>16</dt><dd>181.910562288275</dd><dt>17</dt><dd>181.596621242061</dd><dt>18</dt><dd>167.503194933141</dd><dt>19</dt><dd>167.339219276146</dd><dt>20</dt><dd>171.786237322458</dd><dt>21</dt><dd>201.678112064108</dd><dt>22</dt><dd>203.878024797838</dd><dt>23</dt><dd>210.990527982569</dd><dt>24</dt><dd>318.842350812831</dd><dt>25</dt><dd>77.4053526556002</dd><dt>26</dt><dd>49.2970911051414</dd><dt>27</dt><dd>119.238998864763</dd><dt>28</dt><dd>104.440150895566</dd><dt>29</dt><dd>101.127208413961</dd><dt>30</dt><dd>111.649133896695</dd><dt>31</dt><dd>81.767011425574</dd><dt>32</dt><dd>84.3042175362557</dd><dt>33</dt><dd>48.1687451862035</dd><dt>34</dt><dd>48.1551708069342</dd><dt>35</dt><dd>48.1759050381439</dd><dt>36</dt><dd>59.2905124167817</dd><dt>37</dt><dd>12.1007156319181</dd><dt>38</dt><dd>76.0110517990982</dd><dt>39</dt><dd>-15.741161880397</dd><dt>40</dt><dd>-34.9883912953431</dd><dt>41</dt><dd>48.1466331823185</dd><dt>42</dt><dd>31.5626281527746</dd><dt>43</dt><dd>158.387039407202</dd><dt>44</dt><dd>158.434473011987</dd><dt>45</dt><dd>162.290276500934</dd><dt>46</dt><dd>115.32916671193</dd><dt>47</dt><dd>113.418841667484</dd><dt>48</dt><dd>153.441371633954</dd><dt>49</dt><dd>154.920168539943</dd><dt>50</dt><dd>132.114031460917</dd><dt>51</dt><dd>37.0797946582901</dd><dt>52</dt><dd>356.934234746186</dd><dt>53</dt><dd>225.639941686667</dd><dt>54</dt><dd>84.5796714609325</dd><dt>55</dt><dd>81.8324967930891</dd><dt>56</dt><dd>88.8302231009716</dd><dt>57</dt><dd>79.4098871428039</dd><dt>58</dt><dd>175.868589715617</dd><dt>59</dt><dd>201.961109404469</dd><dt>60</dt><dd>94.936759224866</dd><dt>61</dt><dd>160.31651802938</dd><dt>62</dt><dd>132.467614264448</dd><dt>63</dt><dd>79.3866226950935</dd><dt>64</dt><dd>126.908187067742</dd><dt>65</dt><dd>137.446985329004</dd><dt>66</dt><dd>138.23227803958</dd><dt>67</dt><dd>143.829188856885</dd><dt>68</dt><dd>206.509490795096</dd><dt>69</dt><dd>205.113539083376</dd><dt>70</dt><dd>214.906970308543</dd><dt>71</dt><dd>232.664553892527</dd><dt>72</dt><dd>749.938076862388</dd><dt>73</dt><dd>122.910567239944</dd><dt>74</dt><dd>253.687952702313</dd><dt>75</dt><dd>193.386829839554</dd><dt>76</dt><dd>100.818660856462</dd><dt>77</dt><dd>-10.326026168686</dd><dt>78</dt><dd>253.354398125011</dd><dt>79</dt><dd>193.341594371357</dd><dt>80</dt><dd>188.171543572566</dd><dt>81</dt><dd>181.340339496664</dd><dt>82</dt><dd>171.856325770891</dd><dt>83</dt><dd>187.722065819953</dd><dt>84</dt><dd>187.37650237055</dd><dt>85</dt><dd>215.476215990508</dd><dt>86</dt><dd>205.673695247153</dd><dt>87</dt><dd>205.089901815082</dd><dt>88</dt><dd>196.124196153865</dd><dt>89</dt><dd>226.65672153195</dd><dt>90</dt><dd>203.948203410367</dd><dt>91</dt><dd>223.097087885606</dd><dt>92</dt><dd>170.807126740964</dd><dt>93</dt><dd>184.268587037954</dd><dt>94</dt><dd>180.356784902449</dd><dt>95</dt><dd>136.370687442707</dd><dt>96</dt><dd>144.869649835479</dd></dl>\n"
      ],
      "text/latex": [
       "\\begin{description*}\n",
       "\\item[1] 161.448482347383\n",
       "\\item[2] 59.6497483528099\n",
       "\\item[3] 104.061649396186\n",
       "\\item[4] 145.502655768205\n",
       "\\item[5] 145.530866075388\n",
       "\\item[6] 161.975193961878\n",
       "\\item[7] 155.280510835837\n",
       "\\item[8] 160.477268881778\n",
       "\\item[9] 165.966650800872\n",
       "\\item[10] 168.220761247343\n",
       "\\item[11] 173.306750439473\n",
       "\\item[12] 172.674784427543\n",
       "\\item[13] 132.421724576728\n",
       "\\item[14] 169.671933375909\n",
       "\\item[15] 169.667480878278\n",
       "\\item[16] 181.910562288275\n",
       "\\item[17] 181.596621242061\n",
       "\\item[18] 167.503194933141\n",
       "\\item[19] 167.339219276146\n",
       "\\item[20] 171.786237322458\n",
       "\\item[21] 201.678112064108\n",
       "\\item[22] 203.878024797838\n",
       "\\item[23] 210.990527982569\n",
       "\\item[24] 318.842350812831\n",
       "\\item[25] 77.4053526556002\n",
       "\\item[26] 49.2970911051414\n",
       "\\item[27] 119.238998864763\n",
       "\\item[28] 104.440150895566\n",
       "\\item[29] 101.127208413961\n",
       "\\item[30] 111.649133896695\n",
       "\\item[31] 81.767011425574\n",
       "\\item[32] 84.3042175362557\n",
       "\\item[33] 48.1687451862035\n",
       "\\item[34] 48.1551708069342\n",
       "\\item[35] 48.1759050381439\n",
       "\\item[36] 59.2905124167817\n",
       "\\item[37] 12.1007156319181\n",
       "\\item[38] 76.0110517990982\n",
       "\\item[39] -15.741161880397\n",
       "\\item[40] -34.9883912953431\n",
       "\\item[41] 48.1466331823185\n",
       "\\item[42] 31.5626281527746\n",
       "\\item[43] 158.387039407202\n",
       "\\item[44] 158.434473011987\n",
       "\\item[45] 162.290276500934\n",
       "\\item[46] 115.32916671193\n",
       "\\item[47] 113.418841667484\n",
       "\\item[48] 153.441371633954\n",
       "\\item[49] 154.920168539943\n",
       "\\item[50] 132.114031460917\n",
       "\\item[51] 37.0797946582901\n",
       "\\item[52] 356.934234746186\n",
       "\\item[53] 225.639941686667\n",
       "\\item[54] 84.5796714609325\n",
       "\\item[55] 81.8324967930891\n",
       "\\item[56] 88.8302231009716\n",
       "\\item[57] 79.4098871428039\n",
       "\\item[58] 175.868589715617\n",
       "\\item[59] 201.961109404469\n",
       "\\item[60] 94.936759224866\n",
       "\\item[61] 160.31651802938\n",
       "\\item[62] 132.467614264448\n",
       "\\item[63] 79.3866226950935\n",
       "\\item[64] 126.908187067742\n",
       "\\item[65] 137.446985329004\n",
       "\\item[66] 138.23227803958\n",
       "\\item[67] 143.829188856885\n",
       "\\item[68] 206.509490795096\n",
       "\\item[69] 205.113539083376\n",
       "\\item[70] 214.906970308543\n",
       "\\item[71] 232.664553892527\n",
       "\\item[72] 749.938076862388\n",
       "\\item[73] 122.910567239944\n",
       "\\item[74] 253.687952702313\n",
       "\\item[75] 193.386829839554\n",
       "\\item[76] 100.818660856462\n",
       "\\item[77] -10.326026168686\n",
       "\\item[78] 253.354398125011\n",
       "\\item[79] 193.341594371357\n",
       "\\item[80] 188.171543572566\n",
       "\\item[81] 181.340339496664\n",
       "\\item[82] 171.856325770891\n",
       "\\item[83] 187.722065819953\n",
       "\\item[84] 187.37650237055\n",
       "\\item[85] 215.476215990508\n",
       "\\item[86] 205.673695247153\n",
       "\\item[87] 205.089901815082\n",
       "\\item[88] 196.124196153865\n",
       "\\item[89] 226.65672153195\n",
       "\\item[90] 203.948203410367\n",
       "\\item[91] 223.097087885606\n",
       "\\item[92] 170.807126740964\n",
       "\\item[93] 184.268587037954\n",
       "\\item[94] 180.356784902449\n",
       "\\item[95] 136.370687442707\n",
       "\\item[96] 144.869649835479\n",
       "\\end{description*}\n"
      ],
      "text/markdown": [
       "1\n",
       ":   161.4484823473832\n",
       ":   59.64974835280993\n",
       ":   104.0616493961864\n",
       ":   145.5026557682055\n",
       ":   145.5308660753886\n",
       ":   161.9751939618787\n",
       ":   155.2805108358378\n",
       ":   160.4772688817789\n",
       ":   165.96665080087210\n",
       ":   168.22076124734311\n",
       ":   173.30675043947312\n",
       ":   172.67478442754313\n",
       ":   132.42172457672814\n",
       ":   169.67193337590915\n",
       ":   169.66748087827816\n",
       ":   181.91056228827517\n",
       ":   181.59662124206118\n",
       ":   167.50319493314119\n",
       ":   167.33921927614620\n",
       ":   171.78623732245821\n",
       ":   201.67811206410822\n",
       ":   203.87802479783823\n",
       ":   210.99052798256924\n",
       ":   318.84235081283125\n",
       ":   77.405352655600226\n",
       ":   49.297091105141427\n",
       ":   119.23899886476328\n",
       ":   104.44015089556629\n",
       ":   101.12720841396130\n",
       ":   111.64913389669531\n",
       ":   81.76701142557432\n",
       ":   84.304217536255733\n",
       ":   48.168745186203534\n",
       ":   48.155170806934235\n",
       ":   48.175905038143936\n",
       ":   59.290512416781737\n",
       ":   12.100715631918138\n",
       ":   76.011051799098239\n",
       ":   -15.74116188039740\n",
       ":   -34.988391295343141\n",
       ":   48.146633182318542\n",
       ":   31.562628152774643\n",
       ":   158.38703940720244\n",
       ":   158.43447301198745\n",
       ":   162.29027650093446\n",
       ":   115.3291667119347\n",
       ":   113.41884166748448\n",
       ":   153.44137163395449\n",
       ":   154.92016853994350\n",
       ":   132.11403146091751\n",
       ":   37.079794658290152\n",
       ":   356.93423474618653\n",
       ":   225.63994168666754\n",
       ":   84.579671460932555\n",
       ":   81.832496793089156\n",
       ":   88.830223100971657\n",
       ":   79.409887142803958\n",
       ":   175.86858971561759\n",
       ":   201.96110940446960\n",
       ":   94.93675922486661\n",
       ":   160.3165180293862\n",
       ":   132.46761426444863\n",
       ":   79.386622695093564\n",
       ":   126.90818706774265\n",
       ":   137.44698532900466\n",
       ":   138.2322780395867\n",
       ":   143.82918885688568\n",
       ":   206.50949079509669\n",
       ":   205.11353908337670\n",
       ":   214.90697030854371\n",
       ":   232.66455389252772\n",
       ":   749.93807686238873\n",
       ":   122.91056723994474\n",
       ":   253.68795270231375\n",
       ":   193.38682983955476\n",
       ":   100.81866085646277\n",
       ":   -10.32602616868678\n",
       ":   253.35439812501179\n",
       ":   193.34159437135780\n",
       ":   188.17154357256681\n",
       ":   181.34033949666482\n",
       ":   171.85632577089183\n",
       ":   187.72206581995384\n",
       ":   187.3765023705585\n",
       ":   215.47621599050886\n",
       ":   205.67369524715387\n",
       ":   205.08990181508288\n",
       ":   196.12419615386589\n",
       ":   226.6567215319590\n",
       ":   203.94820341036791\n",
       ":   223.09708788560692\n",
       ":   170.80712674096493\n",
       ":   184.26858703795494\n",
       ":   180.35678490244995\n",
       ":   136.37068744270796\n",
       ":   144.869649835479\n",
       "\n"
      ],
      "text/plain": [
       "        1         2         3         4         5         6         7         8 \n",
       "161.44848  59.64975 104.06165 145.50266 145.53087 161.97519 155.28051 160.47727 \n",
       "        9        10        11        12        13        14        15        16 \n",
       "165.96665 168.22076 173.30675 172.67478 132.42172 169.67193 169.66748 181.91056 \n",
       "       17        18        19        20        21        22        23        24 \n",
       "181.59662 167.50319 167.33922 171.78624 201.67811 203.87802 210.99053 318.84235 \n",
       "       25        26        27        28        29        30        31        32 \n",
       " 77.40535  49.29709 119.23900 104.44015 101.12721 111.64913  81.76701  84.30422 \n",
       "       33        34        35        36        37        38        39        40 \n",
       " 48.16875  48.15517  48.17591  59.29051  12.10072  76.01105 -15.74116 -34.98839 \n",
       "       41        42        43        44        45        46        47        48 \n",
       " 48.14663  31.56263 158.38704 158.43447 162.29028 115.32917 113.41884 153.44137 \n",
       "       49        50        51        52        53        54        55        56 \n",
       "154.92017 132.11403  37.07979 356.93423 225.63994  84.57967  81.83250  88.83022 \n",
       "       57        58        59        60        61        62        63        64 \n",
       " 79.40989 175.86859 201.96111  94.93676 160.31652 132.46761  79.38662 126.90819 \n",
       "       65        66        67        68        69        70        71        72 \n",
       "137.44699 138.23228 143.82919 206.50949 205.11354 214.90697 232.66455 749.93808 \n",
       "       73        74        75        76        77        78        79        80 \n",
       "122.91057 253.68795 193.38683 100.81866 -10.32603 253.35440 193.34159 188.17154 \n",
       "       81        82        83        84        85        86        87        88 \n",
       "181.34034 171.85633 187.72207 187.37650 215.47622 205.67370 205.08990 196.12420 \n",
       "       89        90        91        92        93        94        95        96 \n",
       "226.65672 203.94820 223.09709 170.80713 184.26859 180.35678 136.37069 144.86965 "
      ]
     },
     "metadata": {},
     "output_type": "display_data"
    }
   ],
   "source": [
    "predict(mammals_reg_mod)"
   ]
  },
  {
   "cell_type": "code",
   "execution_count": 23,
   "id": "4f0e9d22-db16-43fd-b670-29d349e6171d",
   "metadata": {
    "tags": []
   },
   "outputs": [
    {
     "data": {
      "text/html": [
       "<style>\n",
       ".dl-inline {width: auto; margin:0; padding: 0}\n",
       ".dl-inline>dt, .dl-inline>dd {float: none; width: auto; display: inline-block}\n",
       ".dl-inline>dt::after {content: \":\\0020\"; padding-right: .5ex}\n",
       ".dl-inline>dt:not(:first-of-type) {padding-left: .5ex}\n",
       "</style><dl class=dl-inline><dt>1</dt><dd>-135.448482347383</dd><dt>2</dt><dd>-25.6497483528095</dd><dt>3</dt><dd>-58.0616493961857</dd><dt>4</dt><dd>-94.5026557682056</dd><dt>5</dt><dd>-99.5308660753875</dd><dt>6</dt><dd>-26.9751939618781</dd><dt>7</dt><dd>-65.2805108358373</dd><dt>8</dt><dd>-25.4772688817777</dd><dt>9</dt><dd>-26.9666508008724</dd><dt>10</dt><dd>11.7792387526574</dd><dt>11</dt><dd>-33.306750439473</dd><dt>12</dt><dd>-32.6747844275428</dd><dt>13</dt><dd>12.5782754232724</dd><dt>14</dt><dd>5.3280666240914</dd><dt>15</dt><dd>-4.66748087827766</dd><dt>16</dt><dd>-1.91056228827534</dd><dt>17</dt><dd>-1.59662124206144</dd><dt>18</dt><dd>27.4968050668588</dd><dt>19</dt><dd>0.660780723854105</dd><dt>20</dt><dd>38.2137626775422</dd><dt>21</dt><dd>68.3218879358921</dd><dt>22</dt><dd>26.121975202162</dd><dt>23</dt><dd>54.0094720174307</dd><dt>24</dt><dd>-48.8423508128313</dd><dt>25</dt><dd>42.5946473443998</dd><dt>26</dt><dd>-18.2970911051414</dd><dt>27</dt><dd>-78.2389988647631</dd><dt>28</dt><dd>-66.4401508955664</dd><dt>29</dt><dd>-61.1272084139614</dd><dt>30</dt><dd>16.350866103305</dd><dt>31</dt><dd>46.232988574426</dd><dt>32</dt><dd>-61.3042175362557</dd><dt>33</dt><dd>-25.1687451862035</dd><dt>34</dt><dd>-24.1551708069342</dd><dt>35</dt><dd>-24.1759050381439</dd><dt>36</dt><dd>-38.2905124167817</dd><dt>37</dt><dd>3.89928436808186</dd><dt>38</dt><dd>-55.0110517990982</dd><dt>39</dt><dd>38.7411618803969</dd><dt>40</dt><dd>55.9883912953432</dd><dt>41</dt><dd>-29.1466331823185</dd><dt>42</dt><dd>-4.56262815277456</dd><dt>43</dt><dd>-46.3870394072024</dd><dt>44</dt><dd>-46.4344730119871</dd><dt>45</dt><dd>-49.2902765009341</dd><dt>46</dt><dd>-48.3291667119298</dd><dt>47</dt><dd>9.58115833251646</dd><dt>48</dt><dd>-49.4413716339539</dd><dt>49</dt><dd>-56.920168539943</dd><dt>50</dt><dd>-22.1140314609169</dd><dt>51</dt><dd>94.9202053417099</dd><dt>52</dt><dd>3.06576525381386</dd><dt>53</dt><dd>44.3600583133331</dd><dt>54</dt><dd>-21.5796714609325</dd><dt>55</dt><dd>-29.8324967930892</dd><dt>56</dt><dd>-25.8302231009716</dd><dt>57</dt><dd>-14.4098871428039</dd><dt>58</dt><dd>43.1314102843832</dd><dt>59</dt><dd>38.038890595531</dd><dt>60</dt><dd>-31.936759224866</dd><dt>61</dt><dd>-83.3165180293805</dd><dt>62</dt><dd>-72.4676142644475</dd><dt>63</dt><dd>-16.3866226950935</dd><dt>64</dt><dd>-66.9081870677416</dd><dt>65</dt><dd>-45.4469853290044</dd><dt>66</dt><dd>-30.2322780395805</dd><dt>67</dt><dd>-39.8291888568851</dd><dt>68</dt><dd>47.4905092049038</dd><dt>69</dt><dd>137.886460916624</dd><dt>70</dt><dd>25.0930296914572</dd><dt>71</dt><dd>77.3354461074727</dd><dt>72</dt><dd>-94.9380768623887</dd><dt>73</dt><dd>102.089432760056</dd><dt>74</dt><dd>76.3120472976874</dd><dt>75</dt><dd>196.613170160445</dd><dt>76</dt><dd>19.1813391435381</dd><dt>77</dt><dd>125.326026168686</dd><dt>78</dt><dd>-13.3543981250108</dd><dt>79</dt><dd>11.6584056286433</dd><dt>80</dt><dd>141.828456427434</dd><dt>81</dt><dd>118.659660503336</dd><dt>82</dt><dd>11.1436742291087</dd><dt>83</dt><dd>52.2779341800467</dd><dt>84</dt><dd>30.6234976294505</dd><dt>85</dt><dd>39.523784009492</dd><dt>86</dt><dd>29.3263047528468</dd><dt>87</dt><dd>40.9100981849176</dd><dt>88</dt><dd>28.8758038461345</dd><dt>89</dt><dd>28.3432784680503</dd><dt>90</dt><dd>51.0517965896325</dd><dt>91</dt><dd>56.9029121143937</dd><dt>92</dt><dd>-50.8071267409644</dd><dt>93</dt><dd>-4.26858703795449</dd><dt>94</dt><dd>-22.3567849024492</dd><dt>95</dt><dd>13.6293125572926</dd><dt>96</dt><dd>6.13035016452086</dd></dl>\n"
      ],
      "text/latex": [
       "\\begin{description*}\n",
       "\\item[1] -135.448482347383\n",
       "\\item[2] -25.6497483528095\n",
       "\\item[3] -58.0616493961857\n",
       "\\item[4] -94.5026557682056\n",
       "\\item[5] -99.5308660753875\n",
       "\\item[6] -26.9751939618781\n",
       "\\item[7] -65.2805108358373\n",
       "\\item[8] -25.4772688817777\n",
       "\\item[9] -26.9666508008724\n",
       "\\item[10] 11.7792387526574\n",
       "\\item[11] -33.306750439473\n",
       "\\item[12] -32.6747844275428\n",
       "\\item[13] 12.5782754232724\n",
       "\\item[14] 5.3280666240914\n",
       "\\item[15] -4.66748087827766\n",
       "\\item[16] -1.91056228827534\n",
       "\\item[17] -1.59662124206144\n",
       "\\item[18] 27.4968050668588\n",
       "\\item[19] 0.660780723854105\n",
       "\\item[20] 38.2137626775422\n",
       "\\item[21] 68.3218879358921\n",
       "\\item[22] 26.121975202162\n",
       "\\item[23] 54.0094720174307\n",
       "\\item[24] -48.8423508128313\n",
       "\\item[25] 42.5946473443998\n",
       "\\item[26] -18.2970911051414\n",
       "\\item[27] -78.2389988647631\n",
       "\\item[28] -66.4401508955664\n",
       "\\item[29] -61.1272084139614\n",
       "\\item[30] 16.350866103305\n",
       "\\item[31] 46.232988574426\n",
       "\\item[32] -61.3042175362557\n",
       "\\item[33] -25.1687451862035\n",
       "\\item[34] -24.1551708069342\n",
       "\\item[35] -24.1759050381439\n",
       "\\item[36] -38.2905124167817\n",
       "\\item[37] 3.89928436808186\n",
       "\\item[38] -55.0110517990982\n",
       "\\item[39] 38.7411618803969\n",
       "\\item[40] 55.9883912953432\n",
       "\\item[41] -29.1466331823185\n",
       "\\item[42] -4.56262815277456\n",
       "\\item[43] -46.3870394072024\n",
       "\\item[44] -46.4344730119871\n",
       "\\item[45] -49.2902765009341\n",
       "\\item[46] -48.3291667119298\n",
       "\\item[47] 9.58115833251646\n",
       "\\item[48] -49.4413716339539\n",
       "\\item[49] -56.920168539943\n",
       "\\item[50] -22.1140314609169\n",
       "\\item[51] 94.9202053417099\n",
       "\\item[52] 3.06576525381386\n",
       "\\item[53] 44.3600583133331\n",
       "\\item[54] -21.5796714609325\n",
       "\\item[55] -29.8324967930892\n",
       "\\item[56] -25.8302231009716\n",
       "\\item[57] -14.4098871428039\n",
       "\\item[58] 43.1314102843832\n",
       "\\item[59] 38.038890595531\n",
       "\\item[60] -31.936759224866\n",
       "\\item[61] -83.3165180293805\n",
       "\\item[62] -72.4676142644475\n",
       "\\item[63] -16.3866226950935\n",
       "\\item[64] -66.9081870677416\n",
       "\\item[65] -45.4469853290044\n",
       "\\item[66] -30.2322780395805\n",
       "\\item[67] -39.8291888568851\n",
       "\\item[68] 47.4905092049038\n",
       "\\item[69] 137.886460916624\n",
       "\\item[70] 25.0930296914572\n",
       "\\item[71] 77.3354461074727\n",
       "\\item[72] -94.9380768623887\n",
       "\\item[73] 102.089432760056\n",
       "\\item[74] 76.3120472976874\n",
       "\\item[75] 196.613170160445\n",
       "\\item[76] 19.1813391435381\n",
       "\\item[77] 125.326026168686\n",
       "\\item[78] -13.3543981250108\n",
       "\\item[79] 11.6584056286433\n",
       "\\item[80] 141.828456427434\n",
       "\\item[81] 118.659660503336\n",
       "\\item[82] 11.1436742291087\n",
       "\\item[83] 52.2779341800467\n",
       "\\item[84] 30.6234976294505\n",
       "\\item[85] 39.523784009492\n",
       "\\item[86] 29.3263047528468\n",
       "\\item[87] 40.9100981849176\n",
       "\\item[88] 28.8758038461345\n",
       "\\item[89] 28.3432784680503\n",
       "\\item[90] 51.0517965896325\n",
       "\\item[91] 56.9029121143937\n",
       "\\item[92] -50.8071267409644\n",
       "\\item[93] -4.26858703795449\n",
       "\\item[94] -22.3567849024492\n",
       "\\item[95] 13.6293125572926\n",
       "\\item[96] 6.13035016452086\n",
       "\\end{description*}\n"
      ],
      "text/markdown": [
       "1\n",
       ":   -135.4484823473832\n",
       ":   -25.64974835280953\n",
       ":   -58.06164939618574\n",
       ":   -94.50265576820565\n",
       ":   -99.53086607538756\n",
       ":   -26.97519396187817\n",
       ":   -65.28051083583738\n",
       ":   -25.47726888177779\n",
       ":   -26.966650800872410\n",
       ":   11.779238752657411\n",
       ":   -33.30675043947312\n",
       ":   -32.674784427542813\n",
       ":   12.578275423272414\n",
       ":   5.328066624091415\n",
       ":   -4.6674808782776616\n",
       ":   -1.9105622882753417\n",
       ":   -1.5966212420614418\n",
       ":   27.496805066858819\n",
       ":   0.66078072385410520\n",
       ":   38.213762677542221\n",
       ":   68.321887935892122\n",
       ":   26.12197520216223\n",
       ":   54.009472017430724\n",
       ":   -48.842350812831325\n",
       ":   42.594647344399826\n",
       ":   -18.297091105141427\n",
       ":   -78.238998864763128\n",
       ":   -66.440150895566429\n",
       ":   -61.127208413961430\n",
       ":   16.35086610330531\n",
       ":   46.23298857442632\n",
       ":   -61.304217536255733\n",
       ":   -25.168745186203534\n",
       ":   -24.155170806934235\n",
       ":   -24.175905038143936\n",
       ":   -38.290512416781737\n",
       ":   3.8992843680818638\n",
       ":   -55.011051799098239\n",
       ":   38.741161880396940\n",
       ":   55.988391295343241\n",
       ":   -29.146633182318542\n",
       ":   -4.5626281527745643\n",
       ":   -46.387039407202444\n",
       ":   -46.434473011987145\n",
       ":   -49.290276500934146\n",
       ":   -48.329166711929847\n",
       ":   9.5811583325164648\n",
       ":   -49.441371633953949\n",
       ":   -56.92016853994350\n",
       ":   -22.114031460916951\n",
       ":   94.920205341709952\n",
       ":   3.0657652538138653\n",
       ":   44.360058313333154\n",
       ":   -21.579671460932555\n",
       ":   -29.832496793089256\n",
       ":   -25.830223100971657\n",
       ":   -14.409887142803958\n",
       ":   43.131410284383259\n",
       ":   38.03889059553160\n",
       ":   -31.93675922486661\n",
       ":   -83.316518029380562\n",
       ":   -72.467614264447563\n",
       ":   -16.386622695093564\n",
       ":   -66.908187067741665\n",
       ":   -45.446985329004466\n",
       ":   -30.232278039580567\n",
       ":   -39.829188856885168\n",
       ":   47.490509204903869\n",
       ":   137.88646091662470\n",
       ":   25.093029691457271\n",
       ":   77.335446107472772\n",
       ":   -94.938076862388773\n",
       ":   102.08943276005674\n",
       ":   76.312047297687475\n",
       ":   196.61317016044576\n",
       ":   19.181339143538177\n",
       ":   125.32602616868678\n",
       ":   -13.354398125010879\n",
       ":   11.658405628643380\n",
       ":   141.82845642743481\n",
       ":   118.65966050333682\n",
       ":   11.143674229108783\n",
       ":   52.277934180046784\n",
       ":   30.623497629450585\n",
       ":   39.52378400949286\n",
       ":   29.326304752846887\n",
       ":   40.910098184917688\n",
       ":   28.875803846134589\n",
       ":   28.343278468050390\n",
       ":   51.051796589632591\n",
       ":   56.902912114393792\n",
       ":   -50.807126740964493\n",
       ":   -4.2685870379544994\n",
       ":   -22.356784902449295\n",
       ":   13.629312557292696\n",
       ":   6.13035016452086\n",
       "\n"
      ],
      "text/plain": [
       "           1            2            3            4            5            6 \n",
       "-135.4484823  -25.6497484  -58.0616494  -94.5026558  -99.5308661  -26.9751940 \n",
       "           7            8            9           10           11           12 \n",
       " -65.2805108  -25.4772689  -26.9666508   11.7792388  -33.3067504  -32.6747844 \n",
       "          13           14           15           16           17           18 \n",
       "  12.5782754    5.3280666   -4.6674809   -1.9105623   -1.5966212   27.4968051 \n",
       "          19           20           21           22           23           24 \n",
       "   0.6607807   38.2137627   68.3218879   26.1219752   54.0094720  -48.8423508 \n",
       "          25           26           27           28           29           30 \n",
       "  42.5946473  -18.2970911  -78.2389989  -66.4401509  -61.1272084   16.3508661 \n",
       "          31           32           33           34           35           36 \n",
       "  46.2329886  -61.3042175  -25.1687452  -24.1551708  -24.1759050  -38.2905124 \n",
       "          37           38           39           40           41           42 \n",
       "   3.8992844  -55.0110518   38.7411619   55.9883913  -29.1466332   -4.5626282 \n",
       "          43           44           45           46           47           48 \n",
       " -46.3870394  -46.4344730  -49.2902765  -48.3291667    9.5811583  -49.4413716 \n",
       "          49           50           51           52           53           54 \n",
       " -56.9201685  -22.1140315   94.9202053    3.0657653   44.3600583  -21.5796715 \n",
       "          55           56           57           58           59           60 \n",
       " -29.8324968  -25.8302231  -14.4098871   43.1314103   38.0388906  -31.9367592 \n",
       "          61           62           63           64           65           66 \n",
       " -83.3165180  -72.4676143  -16.3866227  -66.9081871  -45.4469853  -30.2322780 \n",
       "          67           68           69           70           71           72 \n",
       " -39.8291889   47.4905092  137.8864609   25.0930297   77.3354461  -94.9380769 \n",
       "          73           74           75           76           77           78 \n",
       " 102.0894328   76.3120473  196.6131702   19.1813391  125.3260262  -13.3543981 \n",
       "          79           80           81           82           83           84 \n",
       "  11.6584056  141.8284564  118.6596605   11.1436742   52.2779342   30.6234976 \n",
       "          85           86           87           88           89           90 \n",
       "  39.5237840   29.3263048   40.9100982   28.8758038   28.3432785   51.0517966 \n",
       "          91           92           93           94           95           96 \n",
       "  56.9029121  -50.8071267   -4.2685870  -22.3567849   13.6293126    6.1303502 "
      ]
     },
     "metadata": {},
     "output_type": "display_data"
    }
   ],
   "source": [
    "mammals_reg_mod$residuals"
   ]
  },
  {
   "cell_type": "markdown",
   "id": "594ad6f6-c47c-49cd-b2a0-889c30d3588a",
   "metadata": {},
   "source": [
    "### Testing for autocorrelation\n",
    "Using the Durbin Watson test\n",
    "- H<sub>o</sub>: There is no autocorrelation in the residuals\n",
    "- H<sub>11</sub>: There is autocorrelation in the residuals"
   ]
  },
  {
   "cell_type": "markdown",
   "id": "803bbd05-8f1b-4c0e-9989-cde6d449ff05",
   "metadata": {},
   "source": [
    "```R\n",
    "dwtest(mammals_reg_mod,alternative='two.sided')\n",
    "```"
   ]
  },
  {
   "cell_type": "markdown",
   "id": "725b83e5-f0d3-4bf1-873a-8691d6e5f462",
   "metadata": {},
   "source": [
    "![image](2024-03-19-223352_896x236_scrot.png)"
   ]
  },
  {
   "cell_type": "markdown",
   "id": "d7102525-94d0-40fe-b48b-6dd2f65a60ff",
   "metadata": {},
   "source": [
    "The p-value is 5.071e<sup>-5</sup> which is less than our LOS of 5%. Therefore we can reject the null hypothesis, hence there is autocorrelation in the residuals."
   ]
  },
  {
   "cell_type": "markdown",
   "id": "1c6007f0-0c38-469b-a8d7-e88bdb907842",
   "metadata": {},
   "source": [
    "### Testing for Heteroscedasticity\n",
    "Using the Breusch-Pagan-Godfrey test\n",
    "- H<sub>o</sub>: There is no heteroscedasticity in the residuals\n",
    "- H<sub>1</sub>: There is heteroscedasticity in the residuals"
   ]
  },
  {
   "cell_type": "markdown",
   "id": "4f6ac285-3c15-4146-a1d3-e188f017129f",
   "metadata": {},
   "source": [
    "```R\n",
    "bptest(mammals_reg_mod)\n",
    "```"
   ]
  },
  {
   "cell_type": "markdown",
   "id": "0af08cc3-467f-4f98-84eb-1b994d7e72d3",
   "metadata": {},
   "source": [
    "![image](2024-03-19-223948_680x208_scrot.png)"
   ]
  },
  {
   "cell_type": "markdown",
   "id": "28e76bf9-0db5-4520-b934-bde82b36ffc2",
   "metadata": {},
   "source": [
    "The p-value is 0.6324 which is greater than our LOS of 5%. Therefore we do not reject the null hypothesis and hence there's no heteroscedasticity in the residuals"
   ]
  }
 ],
 "metadata": {
  "kernelspec": {
   "display_name": "R",
   "language": "R",
   "name": "ir"
  },
  "language_info": {
   "codemirror_mode": "r",
   "file_extension": ".r",
   "mimetype": "text/x-r-source",
   "name": "R",
   "pygments_lexer": "r",
   "version": "4.3.3"
  }
 },
 "nbformat": 4,
 "nbformat_minor": 5
}
