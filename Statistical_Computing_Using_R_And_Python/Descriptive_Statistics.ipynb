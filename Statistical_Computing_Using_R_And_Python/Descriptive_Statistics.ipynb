{
 "cells": [
  {
   "cell_type": "markdown",
   "id": "278857e3-5cb1-4c80-8615-d2707e1b2d25",
   "metadata": {},
   "source": [
    "## Descriptive Statistics"
   ]
  },
  {
   "cell_type": "code",
   "execution_count": 34,
   "id": "98b57f9f-d299-453b-9150-1697816f7c23",
   "metadata": {
    "tags": []
   },
   "outputs": [],
   "source": [
    "a <- c(1,2,3,4,5,5,5,6,7,8)"
   ]
  },
  {
   "cell_type": "code",
   "execution_count": 35,
   "id": "79907c96-cb12-4ff8-9124-cbe2bb51913f",
   "metadata": {
    "tags": []
   },
   "outputs": [
    {
     "data": {
      "text/plain": [
       "   Min. 1st Qu.  Median    Mean 3rd Qu.    Max. \n",
       "   1.00    3.25    5.00    4.60    5.75    8.00 "
      ]
     },
     "metadata": {},
     "output_type": "display_data"
    }
   ],
   "source": [
    "summary(a)"
   ]
  },
  {
   "cell_type": "code",
   "execution_count": 36,
   "id": "91aa855c-7aae-4c82-9d42-87d699db0b24",
   "metadata": {
    "tags": []
   },
   "outputs": [
    {
     "data": {
      "text/html": [
       "4.6"
      ],
      "text/latex": [
       "4.6"
      ],
      "text/markdown": [
       "4.6"
      ],
      "text/plain": [
       "[1] 4.6"
      ]
     },
     "metadata": {},
     "output_type": "display_data"
    }
   ],
   "source": [
    "mean(a)"
   ]
  },
  {
   "cell_type": "code",
   "execution_count": 37,
   "id": "0a3ee71c-da8f-43a3-a89a-8e55420460f2",
   "metadata": {
    "tags": []
   },
   "outputs": [
    {
     "data": {
      "text/html": [
       "5"
      ],
      "text/latex": [
       "5"
      ],
      "text/markdown": [
       "5"
      ],
      "text/plain": [
       "[1] 5"
      ]
     },
     "metadata": {},
     "output_type": "display_data"
    }
   ],
   "source": [
    "median(a)"
   ]
  },
  {
   "cell_type": "code",
   "execution_count": 38,
   "id": "458cc419-c301-4f33-a9f1-a949af2037b4",
   "metadata": {
    "tags": []
   },
   "outputs": [],
   "source": [
    "mode = function(vec){\n",
    "    y <- table(vec)\n",
    "    print(names(y)[which(y==max(y))])\n",
    "}"
   ]
  },
  {
   "cell_type": "code",
   "execution_count": 39,
   "id": "13358fac-8d23-45ab-bc3e-b7c49ebd78bd",
   "metadata": {
    "tags": []
   },
   "outputs": [
    {
     "name": "stdout",
     "output_type": "stream",
     "text": [
      "[1] \"5\"\n"
     ]
    }
   ],
   "source": [
    "mode(a)"
   ]
  },
  {
   "cell_type": "code",
   "execution_count": 5,
   "id": "8664ca4a-e6fc-4b94-a963-eb2812c7eecb",
   "metadata": {
    "tags": []
   },
   "outputs": [
    {
     "data": {
      "text/html": [
       "4.71111111111111"
      ],
      "text/latex": [
       "4.71111111111111"
      ],
      "text/markdown": [
       "4.71111111111111"
      ],
      "text/plain": [
       "[1] 4.711111"
      ]
     },
     "metadata": {},
     "output_type": "display_data"
    }
   ],
   "source": [
    "var(a)"
   ]
  },
  {
   "cell_type": "code",
   "execution_count": 6,
   "id": "b59f3578-574b-4b00-8f02-5f2c8ddbea01",
   "metadata": {
    "tags": []
   },
   "outputs": [
    {
     "data": {
      "text/html": [
       "2.17050941281329"
      ],
      "text/latex": [
       "2.17050941281329"
      ],
      "text/markdown": [
       "2.17050941281329"
      ],
      "text/plain": [
       "[1] 2.170509"
      ]
     },
     "metadata": {},
     "output_type": "display_data"
    }
   ],
   "source": [
    "sd(a)"
   ]
  },
  {
   "cell_type": "markdown",
   "id": "d9468da4-4b6f-4254-aaaa-4123d543749c",
   "metadata": {},
   "source": [
    "## Generating Random Numbers"
   ]
  },
  {
   "cell_type": "code",
   "execution_count": 11,
   "id": "3df3bcb8-8e52-49a5-ac26-59a7ffd8881e",
   "metadata": {
    "tags": []
   },
   "outputs": [],
   "source": [
    "set.seed(123)\n",
    "# The main point of using the seed is to reproduce a particular sequence of 'random' values from normal distribution"
   ]
  },
  {
   "cell_type": "markdown",
   "id": "22b2a621-d5b9-4fa8-8de3-145c2733e3a4",
   "metadata": {},
   "source": [
    "### Normal Distribution"
   ]
  },
  {
   "cell_type": "code",
   "execution_count": 8,
   "id": "9dfa9f55-45f3-4b9f-9fa7-0966a36f3942",
   "metadata": {
    "tags": []
   },
   "outputs": [],
   "source": [
    "b <- rnorm(100,3,0.5)"
   ]
  },
  {
   "cell_type": "code",
   "execution_count": 9,
   "id": "bc8d427e-7abb-467d-8fba-8218d127245e",
   "metadata": {
    "tags": []
   },
   "outputs": [
    {
     "data": {
      "text/html": [
       "<style>\n",
       ".list-inline {list-style: none; margin:0; padding: 0}\n",
       ".list-inline>li {display: inline-block}\n",
       ".list-inline>li:not(:last-child)::after {content: \"\\00b7\"; padding: 0 .5ex}\n",
       "</style>\n",
       "<ol class=list-inline><li>2.71976217672389</li><li>2.88491125525836</li><li>3.77935415707456</li><li>3.03525419571229</li><li>3.06464386758047</li><li>3.85753249344164</li><li>3.2304581029946</li><li>2.36746938269673</li><li>2.65657357405324</li><li>2.77716901495002</li><li>3.61204089871973</li><li>3.17990691352868</li><li>3.20038572529703</li><li>3.05534135797256</li><li>2.72207943262296</li><li>3.89345656840154</li><li>3.24892523911462</li><li>2.01669142168518</li><li>3.35067795078184</li><li>2.76360429613603</li><li>2.46608814700658</li><li>2.89101254267085</li><li>2.48699777584638</li><li>2.63555438535443</li><li>2.68748036607537</li><li>2.15665334462879</li><li>3.41889352224726</li><li>3.07668655891826</li><li>2.43093153149403</li><li>3.62690746053496</li><li>3.21323211073841</li><li>2.85246425850386</li><li>3.44756283052251</li><li>3.43906674376652</li><li>3.41079054081874</li><li>3.34432012705005</li><li>3.27695882676879</li><li>2.96904414471164</li><li>2.84701866813004</li><li>2.80976449949381</li><li>2.65264651053974</li><li>2.8960413609902</li><li>2.36730182421587</li><li>4.08447798266926</li><li>3.6039809991525</li><li>2.43844570839833</li><li>2.79855758235046</li><li>2.76667232318839</li><li>3.38998255916816</li><li>2.95831546676409</li><li>3.12665925699738</li><li>2.98572662232565</li><li>2.97856477135434</li><li>3.68430114200723</li><li>2.88711450717037</li><li>3.75823530221477</li><li>2.22562359788489</li><li>3.29230687481803</li><li>3.06192712192231</li><li>3.10797078437199</li><li>3.18981974137994</li><li>2.74883827344535</li><li>2.83339630816529</li><li>2.49071230844646</li><li>2.46410438676221</li><li>3.15176432070213</li><li>3.22410488931471</li><li>3.02650211336525</li><li>3.46113373393987</li><li>4.02504234281357</li><li>2.75448441697173</li><li>1.84541556217959</li><li>3.50286926223113</li><li>2.6453996187088</li><li>2.65599569176632</li><li>3.51278568484835</li><li>2.8576134964745</li><li>2.38964114387273</li><li>3.09065173987458</li><li>2.93055431878048</li><li>3.00288209294994</li><li>3.19264020056317</li><li>2.8146699841038</li><li>3.32218827425942</li><li>2.88975671909062</li><li>3.16589098195785</li><li>3.54841950657467</li><li>3.2175907454169</li><li>2.83703420723439</li><li>3.57440380922555</li><li>3.49675192798106</li><li>3.27419847975403</li><li>3.11936586755572</li><li>2.68604696198031</li><li>3.680326224265</li><li>2.69987020642644</li><li>4.09366649650829</li><li>3.76630531309259</li><li>2.88214982044976</li><li>2.48678954984661</li></ol>\n"
      ],
      "text/latex": [
       "\\begin{enumerate*}\n",
       "\\item 2.71976217672389\n",
       "\\item 2.88491125525836\n",
       "\\item 3.77935415707456\n",
       "\\item 3.03525419571229\n",
       "\\item 3.06464386758047\n",
       "\\item 3.85753249344164\n",
       "\\item 3.2304581029946\n",
       "\\item 2.36746938269673\n",
       "\\item 2.65657357405324\n",
       "\\item 2.77716901495002\n",
       "\\item 3.61204089871973\n",
       "\\item 3.17990691352868\n",
       "\\item 3.20038572529703\n",
       "\\item 3.05534135797256\n",
       "\\item 2.72207943262296\n",
       "\\item 3.89345656840154\n",
       "\\item 3.24892523911462\n",
       "\\item 2.01669142168518\n",
       "\\item 3.35067795078184\n",
       "\\item 2.76360429613603\n",
       "\\item 2.46608814700658\n",
       "\\item 2.89101254267085\n",
       "\\item 2.48699777584638\n",
       "\\item 2.63555438535443\n",
       "\\item 2.68748036607537\n",
       "\\item 2.15665334462879\n",
       "\\item 3.41889352224726\n",
       "\\item 3.07668655891826\n",
       "\\item 2.43093153149403\n",
       "\\item 3.62690746053496\n",
       "\\item 3.21323211073841\n",
       "\\item 2.85246425850386\n",
       "\\item 3.44756283052251\n",
       "\\item 3.43906674376652\n",
       "\\item 3.41079054081874\n",
       "\\item 3.34432012705005\n",
       "\\item 3.27695882676879\n",
       "\\item 2.96904414471164\n",
       "\\item 2.84701866813004\n",
       "\\item 2.80976449949381\n",
       "\\item 2.65264651053974\n",
       "\\item 2.8960413609902\n",
       "\\item 2.36730182421587\n",
       "\\item 4.08447798266926\n",
       "\\item 3.6039809991525\n",
       "\\item 2.43844570839833\n",
       "\\item 2.79855758235046\n",
       "\\item 2.76667232318839\n",
       "\\item 3.38998255916816\n",
       "\\item 2.95831546676409\n",
       "\\item 3.12665925699738\n",
       "\\item 2.98572662232565\n",
       "\\item 2.97856477135434\n",
       "\\item 3.68430114200723\n",
       "\\item 2.88711450717037\n",
       "\\item 3.75823530221477\n",
       "\\item 2.22562359788489\n",
       "\\item 3.29230687481803\n",
       "\\item 3.06192712192231\n",
       "\\item 3.10797078437199\n",
       "\\item 3.18981974137994\n",
       "\\item 2.74883827344535\n",
       "\\item 2.83339630816529\n",
       "\\item 2.49071230844646\n",
       "\\item 2.46410438676221\n",
       "\\item 3.15176432070213\n",
       "\\item 3.22410488931471\n",
       "\\item 3.02650211336525\n",
       "\\item 3.46113373393987\n",
       "\\item 4.02504234281357\n",
       "\\item 2.75448441697173\n",
       "\\item 1.84541556217959\n",
       "\\item 3.50286926223113\n",
       "\\item 2.6453996187088\n",
       "\\item 2.65599569176632\n",
       "\\item 3.51278568484835\n",
       "\\item 2.8576134964745\n",
       "\\item 2.38964114387273\n",
       "\\item 3.09065173987458\n",
       "\\item 2.93055431878048\n",
       "\\item 3.00288209294994\n",
       "\\item 3.19264020056317\n",
       "\\item 2.8146699841038\n",
       "\\item 3.32218827425942\n",
       "\\item 2.88975671909062\n",
       "\\item 3.16589098195785\n",
       "\\item 3.54841950657467\n",
       "\\item 3.2175907454169\n",
       "\\item 2.83703420723439\n",
       "\\item 3.57440380922555\n",
       "\\item 3.49675192798106\n",
       "\\item 3.27419847975403\n",
       "\\item 3.11936586755572\n",
       "\\item 2.68604696198031\n",
       "\\item 3.680326224265\n",
       "\\item 2.69987020642644\n",
       "\\item 4.09366649650829\n",
       "\\item 3.76630531309259\n",
       "\\item 2.88214982044976\n",
       "\\item 2.48678954984661\n",
       "\\end{enumerate*}\n"
      ],
      "text/markdown": [
       "1. 2.71976217672389\n",
       "2. 2.88491125525836\n",
       "3. 3.77935415707456\n",
       "4. 3.03525419571229\n",
       "5. 3.06464386758047\n",
       "6. 3.85753249344164\n",
       "7. 3.2304581029946\n",
       "8. 2.36746938269673\n",
       "9. 2.65657357405324\n",
       "10. 2.77716901495002\n",
       "11. 3.61204089871973\n",
       "12. 3.17990691352868\n",
       "13. 3.20038572529703\n",
       "14. 3.05534135797256\n",
       "15. 2.72207943262296\n",
       "16. 3.89345656840154\n",
       "17. 3.24892523911462\n",
       "18. 2.01669142168518\n",
       "19. 3.35067795078184\n",
       "20. 2.76360429613603\n",
       "21. 2.46608814700658\n",
       "22. 2.89101254267085\n",
       "23. 2.48699777584638\n",
       "24. 2.63555438535443\n",
       "25. 2.68748036607537\n",
       "26. 2.15665334462879\n",
       "27. 3.41889352224726\n",
       "28. 3.07668655891826\n",
       "29. 2.43093153149403\n",
       "30. 3.62690746053496\n",
       "31. 3.21323211073841\n",
       "32. 2.85246425850386\n",
       "33. 3.44756283052251\n",
       "34. 3.43906674376652\n",
       "35. 3.41079054081874\n",
       "36. 3.34432012705005\n",
       "37. 3.27695882676879\n",
       "38. 2.96904414471164\n",
       "39. 2.84701866813004\n",
       "40. 2.80976449949381\n",
       "41. 2.65264651053974\n",
       "42. 2.8960413609902\n",
       "43. 2.36730182421587\n",
       "44. 4.08447798266926\n",
       "45. 3.6039809991525\n",
       "46. 2.43844570839833\n",
       "47. 2.79855758235046\n",
       "48. 2.76667232318839\n",
       "49. 3.38998255916816\n",
       "50. 2.95831546676409\n",
       "51. 3.12665925699738\n",
       "52. 2.98572662232565\n",
       "53. 2.97856477135434\n",
       "54. 3.68430114200723\n",
       "55. 2.88711450717037\n",
       "56. 3.75823530221477\n",
       "57. 2.22562359788489\n",
       "58. 3.29230687481803\n",
       "59. 3.06192712192231\n",
       "60. 3.10797078437199\n",
       "61. 3.18981974137994\n",
       "62. 2.74883827344535\n",
       "63. 2.83339630816529\n",
       "64. 2.49071230844646\n",
       "65. 2.46410438676221\n",
       "66. 3.15176432070213\n",
       "67. 3.22410488931471\n",
       "68. 3.02650211336525\n",
       "69. 3.46113373393987\n",
       "70. 4.02504234281357\n",
       "71. 2.75448441697173\n",
       "72. 1.84541556217959\n",
       "73. 3.50286926223113\n",
       "74. 2.6453996187088\n",
       "75. 2.65599569176632\n",
       "76. 3.51278568484835\n",
       "77. 2.8576134964745\n",
       "78. 2.38964114387273\n",
       "79. 3.09065173987458\n",
       "80. 2.93055431878048\n",
       "81. 3.00288209294994\n",
       "82. 3.19264020056317\n",
       "83. 2.8146699841038\n",
       "84. 3.32218827425942\n",
       "85. 2.88975671909062\n",
       "86. 3.16589098195785\n",
       "87. 3.54841950657467\n",
       "88. 3.2175907454169\n",
       "89. 2.83703420723439\n",
       "90. 3.57440380922555\n",
       "91. 3.49675192798106\n",
       "92. 3.27419847975403\n",
       "93. 3.11936586755572\n",
       "94. 2.68604696198031\n",
       "95. 3.680326224265\n",
       "96. 2.69987020642644\n",
       "97. 4.09366649650829\n",
       "98. 3.76630531309259\n",
       "99. 2.88214982044976\n",
       "100. 2.48678954984661\n",
       "\n",
       "\n"
      ],
      "text/plain": [
       "  [1] 2.719762 2.884911 3.779354 3.035254 3.064644 3.857532 3.230458 2.367469\n",
       "  [9] 2.656574 2.777169 3.612041 3.179907 3.200386 3.055341 2.722079 3.893457\n",
       " [17] 3.248925 2.016691 3.350678 2.763604 2.466088 2.891013 2.486998 2.635554\n",
       " [25] 2.687480 2.156653 3.418894 3.076687 2.430932 3.626907 3.213232 2.852464\n",
       " [33] 3.447563 3.439067 3.410791 3.344320 3.276959 2.969044 2.847019 2.809764\n",
       " [41] 2.652647 2.896041 2.367302 4.084478 3.603981 2.438446 2.798558 2.766672\n",
       " [49] 3.389983 2.958315 3.126659 2.985727 2.978565 3.684301 2.887115 3.758235\n",
       " [57] 2.225624 3.292307 3.061927 3.107971 3.189820 2.748838 2.833396 2.490712\n",
       " [65] 2.464104 3.151764 3.224105 3.026502 3.461134 4.025042 2.754484 1.845416\n",
       " [73] 3.502869 2.645400 2.655996 3.512786 2.857613 2.389641 3.090652 2.930554\n",
       " [81] 3.002882 3.192640 2.814670 3.322188 2.889757 3.165891 3.548420 3.217591\n",
       " [89] 2.837034 3.574404 3.496752 3.274198 3.119366 2.686047 3.680326 2.699870\n",
       " [97] 4.093666 3.766305 2.882150 2.486790"
      ]
     },
     "metadata": {},
     "output_type": "display_data"
    }
   ],
   "source": [
    "b"
   ]
  },
  {
   "cell_type": "code",
   "execution_count": 10,
   "id": "96d24424-f631-47bd-9342-be8e58aa7062",
   "metadata": {
    "tags": []
   },
   "outputs": [
    {
     "data": {
      "image/png": "[encoded data removed]",
      "text/plain": [
       "Plot with title “Histogram of b”"
      ]
     },
     "metadata": {
      "image/png": {
       "height": 420,
       "width": 420
      }
     },
     "output_type": "display_data"
    }
   ],
   "source": [
    "hist(b,breaks=15)"
   ]
  },
  {
   "cell_type": "markdown",
   "id": "9d27638f-d0ae-44d6-a1dc-184912c8ac47",
   "metadata": {},
   "source": [
    "### Binomial Distribution"
   ]
  },
  {
   "cell_type": "code",
   "execution_count": 12,
   "id": "ee5d7ec8-08f7-4e4c-bf6a-c4ff3ded2d25",
   "metadata": {
    "tags": []
   },
   "outputs": [],
   "source": [
    "c <- rbinom(10000,100,0.5)"
   ]
  },
  {
   "cell_type": "code",
   "execution_count": 13,
   "id": "d1e55ebf-acf1-4241-a5ec-06b3cda77dba",
   "metadata": {
    "tags": []
   },
   "outputs": [
    {
     "data": {
      "text/html": [
       "<style>\n",
       ".list-inline {list-style: none; margin:0; padding: 0}\n",
       ".list-inline>li {display: inline-block}\n",
       ".list-inline>li:not(:last-child)::after {content: \"\\00b7\"; padding: 0 .5ex}\n",
       "</style>\n",
       "<ol class=list-inline><li>49</li><li>50</li><li>46</li><li>61</li><li>44</li><li>54</li><li>48</li><li>54</li><li>59</li><li>46</li><li>54</li><li>54</li><li>49</li><li>55</li><li>52</li><li>50</li><li>48</li><li>47</li><li>56</li><li>46</li><li>46</li><li>50</li><li>55</li><li>52</li><li>43</li><li>52</li><li>56</li><li>49</li><li>51</li><li>48</li><li>47</li><li>51</li><li>54</li><li>55</li><li>48</li><li>56</li><li>62</li><li>43</li><li>53</li><li>54</li><li>49</li><li>52</li><li>47</li><li>52</li><li>49</li><li>58</li><li>54</li><li>48</li><li>58</li><li>55</li><li>49</li><li>47</li><li>57</li><li>44</li><li>52</li><li>54</li><li>56</li><li>49</li><li>41</li><li>53</li><li>40</li><li>58</li><li>52</li><li>48</li><li>50</li><li>52</li><li>61</li><li>52</li><li>48</li><li>46</li><li>50</li><li>54</li><li>52</li><li>43</li><li>48</li><li>45</li><li>53</li><li>47</li><li>48</li><li>45</li><li>52</li><li>47</li><li>46</li><li>48</li><li>50</li><li>49</li><li>59</li><li>53</li><li>47</li><li>50</li><li>53</li><li>46</li><li>50</li><li>46</li><li>54</li><li>56</li><li>48</li><li>49</li><li>45</li><li>55</li><li>44</li><li>45</li><li>56</li><li>53</li><li>42</li><li>53</li><li>53</li><li>50</li><li>58</li><li>49</li><li>58</li><li>47</li><li>52</li><li>49</li><li>52</li><li>57</li><li>45</li><li>43</li><li>49</li><li>44</li><li>44</li><li>49</li><li>51</li><li>50</li><li>53</li><li>54</li><li>55</li><li>39</li><li>55</li><li>48</li><li>50</li><li>51</li><li>50</li><li>50</li><li>54</li><li>44</li><li>54</li><li>52</li><li>51</li><li>49</li><li>50</li><li>54</li><li>62</li><li>43</li><li>48</li><li>52</li><li>46</li><li>60</li><li>48</li><li>49</li><li>48</li><li>51</li><li>50</li><li>53</li><li>40</li><li>54</li><li>51</li><li>45</li><li>54</li><li>47</li><li>52</li><li>42</li><li>47</li><li>48</li><li>48</li><li>45</li><li>52</li><li>49</li><li>48</li><li>47</li><li>50</li><li>65</li><li>47</li><li>51</li><li>43</li><li>54</li><li>54</li><li>55</li><li>55</li><li>62</li><li>42</li><li>39</li><li>53</li><li>44</li><li>53</li><li>56</li><li>60</li><li>51</li><li>44</li><li>50</li><li>45</li><li>56</li><li>58</li><li>44</li><li>56</li><li>54</li><li>44</li><li>43</li><li>55</li><li>51</li><li>⋯</li><li>46</li><li>55</li><li>53</li><li>50</li><li>52</li><li>44</li><li>50</li><li>52</li><li>51</li><li>53</li><li>44</li><li>50</li><li>50</li><li>47</li><li>47</li><li>54</li><li>43</li><li>55</li><li>55</li><li>55</li><li>42</li><li>53</li><li>46</li><li>51</li><li>55</li><li>40</li><li>48</li><li>55</li><li>56</li><li>47</li><li>49</li><li>53</li><li>46</li><li>52</li><li>53</li><li>51</li><li>48</li><li>47</li><li>45</li><li>46</li><li>49</li><li>49</li><li>59</li><li>43</li><li>41</li><li>47</li><li>53</li><li>49</li><li>55</li><li>47</li><li>53</li><li>49</li><li>45</li><li>48</li><li>46</li><li>48</li><li>51</li><li>56</li><li>53</li><li>62</li><li>48</li><li>51</li><li>56</li><li>51</li><li>58</li><li>50</li><li>56</li><li>45</li><li>52</li><li>57</li><li>55</li><li>39</li><li>41</li><li>52</li><li>46</li><li>47</li><li>50</li><li>44</li><li>46</li><li>47</li><li>45</li><li>35</li><li>48</li><li>57</li><li>48</li><li>48</li><li>46</li><li>53</li><li>48</li><li>48</li><li>52</li><li>55</li><li>53</li><li>47</li><li>46</li><li>51</li><li>55</li><li>50</li><li>52</li><li>54</li><li>50</li><li>48</li><li>47</li><li>39</li><li>46</li><li>43</li><li>50</li><li>41</li><li>54</li><li>51</li><li>57</li><li>38</li><li>44</li><li>50</li><li>51</li><li>45</li><li>57</li><li>38</li><li>52</li><li>47</li><li>48</li><li>51</li><li>50</li><li>46</li><li>58</li><li>47</li><li>49</li><li>55</li><li>43</li><li>45</li><li>42</li><li>59</li><li>53</li><li>54</li><li>45</li><li>47</li><li>47</li><li>57</li><li>48</li><li>49</li><li>56</li><li>48</li><li>54</li><li>49</li><li>61</li><li>54</li><li>53</li><li>49</li><li>58</li><li>51</li><li>44</li><li>59</li><li>43</li><li>52</li><li>48</li><li>42</li><li>57</li><li>51</li><li>59</li><li>53</li><li>46</li><li>58</li><li>50</li><li>55</li><li>40</li><li>55</li><li>51</li><li>53</li><li>40</li><li>53</li><li>53</li><li>56</li><li>50</li><li>55</li><li>45</li><li>40</li><li>52</li><li>51</li><li>52</li><li>53</li><li>54</li><li>48</li><li>51</li><li>55</li><li>49</li><li>56</li><li>52</li><li>46</li><li>53</li><li>47</li><li>49</li><li>47</li><li>47</li><li>51</li><li>49</li><li>55</li><li>61</li><li>54</li><li>46</li><li>54</li></ol>\n"
      ],
      "text/latex": [
       "\\begin{enumerate*}\n",
       "\\item 49\n",
       "\\item 50\n",
       "\\item 46\n",
       "\\item 61\n",
       "\\item 44\n",
       "\\item 54\n",
       "\\item 48\n",
       "\\item 54\n",
       "\\item 59\n",
       "\\item 46\n",
       "\\item 54\n",
       "\\item 54\n",
       "\\item 49\n",
       "\\item 55\n",
       "\\item 52\n",
       "\\item 50\n",
       "\\item 48\n",
       "\\item 47\n",
       "\\item 56\n",
       "\\item 46\n",
       "\\item 46\n",
       "\\item 50\n",
       "\\item 55\n",
       "\\item 52\n",
       "\\item 43\n",
       "\\item 52\n",
       "\\item 56\n",
       "\\item 49\n",
       "\\item 51\n",
       "\\item 48\n",
       "\\item 47\n",
       "\\item 51\n",
       "\\item 54\n",
       "\\item 55\n",
       "\\item 48\n",
       "\\item 56\n",
       "\\item 62\n",
       "\\item 43\n",
       "\\item 53\n",
       "\\item 54\n",
       "\\item 49\n",
       "\\item 52\n",
       "\\item 47\n",
       "\\item 52\n",
       "\\item 49\n",
       "\\item 58\n",
       "\\item 54\n",
       "\\item 48\n",
       "\\item 58\n",
       "\\item 55\n",
       "\\item 49\n",
       "\\item 47\n",
       "\\item 57\n",
       "\\item 44\n",
       "\\item 52\n",
       "\\item 54\n",
       "\\item 56\n",
       "\\item 49\n",
       "\\item 41\n",
       "\\item 53\n",
       "\\item 40\n",
       "\\item 58\n",
       "\\item 52\n",
       "\\item 48\n",
       "\\item 50\n",
       "\\item 52\n",
       "\\item 61\n",
       "\\item 52\n",
       "\\item 48\n",
       "\\item 46\n",
       "\\item 50\n",
       "\\item 54\n",
       "\\item 52\n",
       "\\item 43\n",
       "\\item 48\n",
       "\\item 45\n",
       "\\item 53\n",
       "\\item 47\n",
       "\\item 48\n",
       "\\item 45\n",
       "\\item 52\n",
       "\\item 47\n",
       "\\item 46\n",
       "\\item 48\n",
       "\\item 50\n",
       "\\item 49\n",
       "\\item 59\n",
       "\\item 53\n",
       "\\item 47\n",
       "\\item 50\n",
       "\\item 53\n",
       "\\item 46\n",
       "\\item 50\n",
       "\\item 46\n",
       "\\item 54\n",
       "\\item 56\n",
       "\\item 48\n",
       "\\item 49\n",
       "\\item 45\n",
       "\\item 55\n",
       "\\item 44\n",
       "\\item 45\n",
       "\\item 56\n",
       "\\item 53\n",
       "\\item 42\n",
       "\\item 53\n",
       "\\item 53\n",
       "\\item 50\n",
       "\\item 58\n",
       "\\item 49\n",
       "\\item 58\n",
       "\\item 47\n",
       "\\item 52\n",
       "\\item 49\n",
       "\\item 52\n",
       "\\item 57\n",
       "\\item 45\n",
       "\\item 43\n",
       "\\item 49\n",
       "\\item 44\n",
       "\\item 44\n",
       "\\item 49\n",
       "\\item 51\n",
       "\\item 50\n",
       "\\item 53\n",
       "\\item 54\n",
       "\\item 55\n",
       "\\item 39\n",
       "\\item 55\n",
       "\\item 48\n",
       "\\item 50\n",
       "\\item 51\n",
       "\\item 50\n",
       "\\item 50\n",
       "\\item 54\n",
       "\\item 44\n",
       "\\item 54\n",
       "\\item 52\n",
       "\\item 51\n",
       "\\item 49\n",
       "\\item 50\n",
       "\\item 54\n",
       "\\item 62\n",
       "\\item 43\n",
       "\\item 48\n",
       "\\item 52\n",
       "\\item 46\n",
       "\\item 60\n",
       "\\item 48\n",
       "\\item 49\n",
       "\\item 48\n",
       "\\item 51\n",
       "\\item 50\n",
       "\\item 53\n",
       "\\item 40\n",
       "\\item 54\n",
       "\\item 51\n",
       "\\item 45\n",
       "\\item 54\n",
       "\\item 47\n",
       "\\item 52\n",
       "\\item 42\n",
       "\\item 47\n",
       "\\item 48\n",
       "\\item 48\n",
       "\\item 45\n",
       "\\item 52\n",
       "\\item 49\n",
       "\\item 48\n",
       "\\item 47\n",
       "\\item 50\n",
       "\\item 65\n",
       "\\item 47\n",
       "\\item 51\n",
       "\\item 43\n",
       "\\item 54\n",
       "\\item 54\n",
       "\\item 55\n",
       "\\item 55\n",
       "\\item 62\n",
       "\\item 42\n",
       "\\item 39\n",
       "\\item 53\n",
       "\\item 44\n",
       "\\item 53\n",
       "\\item 56\n",
       "\\item 60\n",
       "\\item 51\n",
       "\\item 44\n",
       "\\item 50\n",
       "\\item 45\n",
       "\\item 56\n",
       "\\item 58\n",
       "\\item 44\n",
       "\\item 56\n",
       "\\item 54\n",
       "\\item 44\n",
       "\\item 43\n",
       "\\item 55\n",
       "\\item 51\n",
       "\\item ⋯\n",
       "\\item 46\n",
       "\\item 55\n",
       "\\item 53\n",
       "\\item 50\n",
       "\\item 52\n",
       "\\item 44\n",
       "\\item 50\n",
       "\\item 52\n",
       "\\item 51\n",
       "\\item 53\n",
       "\\item 44\n",
       "\\item 50\n",
       "\\item 50\n",
       "\\item 47\n",
       "\\item 47\n",
       "\\item 54\n",
       "\\item 43\n",
       "\\item 55\n",
       "\\item 55\n",
       "\\item 55\n",
       "\\item 42\n",
       "\\item 53\n",
       "\\item 46\n",
       "\\item 51\n",
       "\\item 55\n",
       "\\item 40\n",
       "\\item 48\n",
       "\\item 55\n",
       "\\item 56\n",
       "\\item 47\n",
       "\\item 49\n",
       "\\item 53\n",
       "\\item 46\n",
       "\\item 52\n",
       "\\item 53\n",
       "\\item 51\n",
       "\\item 48\n",
       "\\item 47\n",
       "\\item 45\n",
       "\\item 46\n",
       "\\item 49\n",
       "\\item 49\n",
       "\\item 59\n",
       "\\item 43\n",
       "\\item 41\n",
       "\\item 47\n",
       "\\item 53\n",
       "\\item 49\n",
       "\\item 55\n",
       "\\item 47\n",
       "\\item 53\n",
       "\\item 49\n",
       "\\item 45\n",
       "\\item 48\n",
       "\\item 46\n",
       "\\item 48\n",
       "\\item 51\n",
       "\\item 56\n",
       "\\item 53\n",
       "\\item 62\n",
       "\\item 48\n",
       "\\item 51\n",
       "\\item 56\n",
       "\\item 51\n",
       "\\item 58\n",
       "\\item 50\n",
       "\\item 56\n",
       "\\item 45\n",
       "\\item 52\n",
       "\\item 57\n",
       "\\item 55\n",
       "\\item 39\n",
       "\\item 41\n",
       "\\item 52\n",
       "\\item 46\n",
       "\\item 47\n",
       "\\item 50\n",
       "\\item 44\n",
       "\\item 46\n",
       "\\item 47\n",
       "\\item 45\n",
       "\\item 35\n",
       "\\item 48\n",
       "\\item 57\n",
       "\\item 48\n",
       "\\item 48\n",
       "\\item 46\n",
       "\\item 53\n",
       "\\item 48\n",
       "\\item 48\n",
       "\\item 52\n",
       "\\item 55\n",
       "\\item 53\n",
       "\\item 47\n",
       "\\item 46\n",
       "\\item 51\n",
       "\\item 55\n",
       "\\item 50\n",
       "\\item 52\n",
       "\\item 54\n",
       "\\item 50\n",
       "\\item 48\n",
       "\\item 47\n",
       "\\item 39\n",
       "\\item 46\n",
       "\\item 43\n",
       "\\item 50\n",
       "\\item 41\n",
       "\\item 54\n",
       "\\item 51\n",
       "\\item 57\n",
       "\\item 38\n",
       "\\item 44\n",
       "\\item 50\n",
       "\\item 51\n",
       "\\item 45\n",
       "\\item 57\n",
       "\\item 38\n",
       "\\item 52\n",
       "\\item 47\n",
       "\\item 48\n",
       "\\item 51\n",
       "\\item 50\n",
       "\\item 46\n",
       "\\item 58\n",
       "\\item 47\n",
       "\\item 49\n",
       "\\item 55\n",
       "\\item 43\n",
       "\\item 45\n",
       "\\item 42\n",
       "\\item 59\n",
       "\\item 53\n",
       "\\item 54\n",
       "\\item 45\n",
       "\\item 47\n",
       "\\item 47\n",
       "\\item 57\n",
       "\\item 48\n",
       "\\item 49\n",
       "\\item 56\n",
       "\\item 48\n",
       "\\item 54\n",
       "\\item 49\n",
       "\\item 61\n",
       "\\item 54\n",
       "\\item 53\n",
       "\\item 49\n",
       "\\item 58\n",
       "\\item 51\n",
       "\\item 44\n",
       "\\item 59\n",
       "\\item 43\n",
       "\\item 52\n",
       "\\item 48\n",
       "\\item 42\n",
       "\\item 57\n",
       "\\item 51\n",
       "\\item 59\n",
       "\\item 53\n",
       "\\item 46\n",
       "\\item 58\n",
       "\\item 50\n",
       "\\item 55\n",
       "\\item 40\n",
       "\\item 55\n",
       "\\item 51\n",
       "\\item 53\n",
       "\\item 40\n",
       "\\item 53\n",
       "\\item 53\n",
       "\\item 56\n",
       "\\item 50\n",
       "\\item 55\n",
       "\\item 45\n",
       "\\item 40\n",
       "\\item 52\n",
       "\\item 51\n",
       "\\item 52\n",
       "\\item 53\n",
       "\\item 54\n",
       "\\item 48\n",
       "\\item 51\n",
       "\\item 55\n",
       "\\item 49\n",
       "\\item 56\n",
       "\\item 52\n",
       "\\item 46\n",
       "\\item 53\n",
       "\\item 47\n",
       "\\item 49\n",
       "\\item 47\n",
       "\\item 47\n",
       "\\item 51\n",
       "\\item 49\n",
       "\\item 55\n",
       "\\item 61\n",
       "\\item 54\n",
       "\\item 46\n",
       "\\item 54\n",
       "\\end{enumerate*}\n"
      ],
      "text/markdown": [
       "1. 49\n",
       "2. 50\n",
       "3. 46\n",
       "4. 61\n",
       "5. 44\n",
       "6. 54\n",
       "7. 48\n",
       "8. 54\n",
       "9. 59\n",
       "10. 46\n",
       "11. 54\n",
       "12. 54\n",
       "13. 49\n",
       "14. 55\n",
       "15. 52\n",
       "16. 50\n",
       "17. 48\n",
       "18. 47\n",
       "19. 56\n",
       "20. 46\n",
       "21. 46\n",
       "22. 50\n",
       "23. 55\n",
       "24. 52\n",
       "25. 43\n",
       "26. 52\n",
       "27. 56\n",
       "28. 49\n",
       "29. 51\n",
       "30. 48\n",
       "31. 47\n",
       "32. 51\n",
       "33. 54\n",
       "34. 55\n",
       "35. 48\n",
       "36. 56\n",
       "37. 62\n",
       "38. 43\n",
       "39. 53\n",
       "40. 54\n",
       "41. 49\n",
       "42. 52\n",
       "43. 47\n",
       "44. 52\n",
       "45. 49\n",
       "46. 58\n",
       "47. 54\n",
       "48. 48\n",
       "49. 58\n",
       "50. 55\n",
       "51. 49\n",
       "52. 47\n",
       "53. 57\n",
       "54. 44\n",
       "55. 52\n",
       "56. 54\n",
       "57. 56\n",
       "58. 49\n",
       "59. 41\n",
       "60. 53\n",
       "61. 40\n",
       "62. 58\n",
       "63. 52\n",
       "64. 48\n",
       "65. 50\n",
       "66. 52\n",
       "67. 61\n",
       "68. 52\n",
       "69. 48\n",
       "70. 46\n",
       "71. 50\n",
       "72. 54\n",
       "73. 52\n",
       "74. 43\n",
       "75. 48\n",
       "76. 45\n",
       "77. 53\n",
       "78. 47\n",
       "79. 48\n",
       "80. 45\n",
       "81. 52\n",
       "82. 47\n",
       "83. 46\n",
       "84. 48\n",
       "85. 50\n",
       "86. 49\n",
       "87. 59\n",
       "88. 53\n",
       "89. 47\n",
       "90. 50\n",
       "91. 53\n",
       "92. 46\n",
       "93. 50\n",
       "94. 46\n",
       "95. 54\n",
       "96. 56\n",
       "97. 48\n",
       "98. 49\n",
       "99. 45\n",
       "100. 55\n",
       "101. 44\n",
       "102. 45\n",
       "103. 56\n",
       "104. 53\n",
       "105. 42\n",
       "106. 53\n",
       "107. 53\n",
       "108. 50\n",
       "109. 58\n",
       "110. 49\n",
       "111. 58\n",
       "112. 47\n",
       "113. 52\n",
       "114. 49\n",
       "115. 52\n",
       "116. 57\n",
       "117. 45\n",
       "118. 43\n",
       "119. 49\n",
       "120. 44\n",
       "121. 44\n",
       "122. 49\n",
       "123. 51\n",
       "124. 50\n",
       "125. 53\n",
       "126. 54\n",
       "127. 55\n",
       "128. 39\n",
       "129. 55\n",
       "130. 48\n",
       "131. 50\n",
       "132. 51\n",
       "133. 50\n",
       "134. 50\n",
       "135. 54\n",
       "136. 44\n",
       "137. 54\n",
       "138. 52\n",
       "139. 51\n",
       "140. 49\n",
       "141. 50\n",
       "142. 54\n",
       "143. 62\n",
       "144. 43\n",
       "145. 48\n",
       "146. 52\n",
       "147. 46\n",
       "148. 60\n",
       "149. 48\n",
       "150. 49\n",
       "151. 48\n",
       "152. 51\n",
       "153. 50\n",
       "154. 53\n",
       "155. 40\n",
       "156. 54\n",
       "157. 51\n",
       "158. 45\n",
       "159. 54\n",
       "160. 47\n",
       "161. 52\n",
       "162. 42\n",
       "163. 47\n",
       "164. 48\n",
       "165. 48\n",
       "166. 45\n",
       "167. 52\n",
       "168. 49\n",
       "169. 48\n",
       "170. 47\n",
       "171. 50\n",
       "172. 65\n",
       "173. 47\n",
       "174. 51\n",
       "175. 43\n",
       "176. 54\n",
       "177. 54\n",
       "178. 55\n",
       "179. 55\n",
       "180. 62\n",
       "181. 42\n",
       "182. 39\n",
       "183. 53\n",
       "184. 44\n",
       "185. 53\n",
       "186. 56\n",
       "187. 60\n",
       "188. 51\n",
       "189. 44\n",
       "190. 50\n",
       "191. 45\n",
       "192. 56\n",
       "193. 58\n",
       "194. 44\n",
       "195. 56\n",
       "196. 54\n",
       "197. 44\n",
       "198. 43\n",
       "199. 55\n",
       "200. 51\n",
       "201. ⋯\n",
       "202. 46\n",
       "203. 55\n",
       "204. 53\n",
       "205. 50\n",
       "206. 52\n",
       "207. 44\n",
       "208. 50\n",
       "209. 52\n",
       "210. 51\n",
       "211. 53\n",
       "212. 44\n",
       "213. 50\n",
       "214. 50\n",
       "215. 47\n",
       "216. 47\n",
       "217. 54\n",
       "218. 43\n",
       "219. 55\n",
       "220. 55\n",
       "221. 55\n",
       "222. 42\n",
       "223. 53\n",
       "224. 46\n",
       "225. 51\n",
       "226. 55\n",
       "227. 40\n",
       "228. 48\n",
       "229. 55\n",
       "230. 56\n",
       "231. 47\n",
       "232. 49\n",
       "233. 53\n",
       "234. 46\n",
       "235. 52\n",
       "236. 53\n",
       "237. 51\n",
       "238. 48\n",
       "239. 47\n",
       "240. 45\n",
       "241. 46\n",
       "242. 49\n",
       "243. 49\n",
       "244. 59\n",
       "245. 43\n",
       "246. 41\n",
       "247. 47\n",
       "248. 53\n",
       "249. 49\n",
       "250. 55\n",
       "251. 47\n",
       "252. 53\n",
       "253. 49\n",
       "254. 45\n",
       "255. 48\n",
       "256. 46\n",
       "257. 48\n",
       "258. 51\n",
       "259. 56\n",
       "260. 53\n",
       "261. 62\n",
       "262. 48\n",
       "263. 51\n",
       "264. 56\n",
       "265. 51\n",
       "266. 58\n",
       "267. 50\n",
       "268. 56\n",
       "269. 45\n",
       "270. 52\n",
       "271. 57\n",
       "272. 55\n",
       "273. 39\n",
       "274. 41\n",
       "275. 52\n",
       "276. 46\n",
       "277. 47\n",
       "278. 50\n",
       "279. 44\n",
       "280. 46\n",
       "281. 47\n",
       "282. 45\n",
       "283. 35\n",
       "284. 48\n",
       "285. 57\n",
       "286. 48\n",
       "287. 48\n",
       "288. 46\n",
       "289. 53\n",
       "290. 48\n",
       "291. 48\n",
       "292. 52\n",
       "293. 55\n",
       "294. 53\n",
       "295. 47\n",
       "296. 46\n",
       "297. 51\n",
       "298. 55\n",
       "299. 50\n",
       "300. 52\n",
       "301. 54\n",
       "302. 50\n",
       "303. 48\n",
       "304. 47\n",
       "305. 39\n",
       "306. 46\n",
       "307. 43\n",
       "308. 50\n",
       "309. 41\n",
       "310. 54\n",
       "311. 51\n",
       "312. 57\n",
       "313. 38\n",
       "314. 44\n",
       "315. 50\n",
       "316. 51\n",
       "317. 45\n",
       "318. 57\n",
       "319. 38\n",
       "320. 52\n",
       "321. 47\n",
       "322. 48\n",
       "323. 51\n",
       "324. 50\n",
       "325. 46\n",
       "326. 58\n",
       "327. 47\n",
       "328. 49\n",
       "329. 55\n",
       "330. 43\n",
       "331. 45\n",
       "332. 42\n",
       "333. 59\n",
       "334. 53\n",
       "335. 54\n",
       "336. 45\n",
       "337. 47\n",
       "338. 47\n",
       "339. 57\n",
       "340. 48\n",
       "341. 49\n",
       "342. 56\n",
       "343. 48\n",
       "344. 54\n",
       "345. 49\n",
       "346. 61\n",
       "347. 54\n",
       "348. 53\n",
       "349. 49\n",
       "350. 58\n",
       "351. 51\n",
       "352. 44\n",
       "353. 59\n",
       "354. 43\n",
       "355. 52\n",
       "356. 48\n",
       "357. 42\n",
       "358. 57\n",
       "359. 51\n",
       "360. 59\n",
       "361. 53\n",
       "362. 46\n",
       "363. 58\n",
       "364. 50\n",
       "365. 55\n",
       "366. 40\n",
       "367. 55\n",
       "368. 51\n",
       "369. 53\n",
       "370. 40\n",
       "371. 53\n",
       "372. 53\n",
       "373. 56\n",
       "374. 50\n",
       "375. 55\n",
       "376. 45\n",
       "377. 40\n",
       "378. 52\n",
       "379. 51\n",
       "380. 52\n",
       "381. 53\n",
       "382. 54\n",
       "383. 48\n",
       "384. 51\n",
       "385. 55\n",
       "386. 49\n",
       "387. 56\n",
       "388. 52\n",
       "389. 46\n",
       "390. 53\n",
       "391. 47\n",
       "392. 49\n",
       "393. 47\n",
       "394. 47\n",
       "395. 51\n",
       "396. 49\n",
       "397. 55\n",
       "398. 61\n",
       "399. 54\n",
       "400. 46\n",
       "401. 54\n",
       "\n",
       "\n"
      ],
      "text/plain": [
       "    [1] 49 50 46 61 44 54 48 54 59 46 54 54 49 55 52 50 48 47 56 46 46 50 55 52\n",
       "   [25] 43 52 56 49 51 48 47 51 54 55 48 56 62 43 53 54 49 52 47 52 49 58 54 48\n",
       "   [49] 58 55 49 47 57 44 52 54 56 49 41 53 40 58 52 48 50 52 61 52 48 46 50 54\n",
       "   [73] 52 43 48 45 53 47 48 45 52 47 46 48 50 49 59 53 47 50 53 46 50 46 54 56\n",
       "   [97] 48 49 45 55 44 45 56 53 42 53 53 50 58 49 58 47 52 49 52 57 45 43 49 44\n",
       "  [121] 44 49 51 50 53 54 55 39 55 48 50 51 50 50 54 44 54 52 51 49 50 54 62 43\n",
       "  [145] 48 52 46 60 48 49 48 51 50 53 40 54 51 45 54 47 52 42 47 48 48 45 52 49\n",
       "  [169] 48 47 50 65 47 51 43 54 54 55 55 62 42 39 53 44 53 56 60 51 44 50 45 56\n",
       "  [193] 58 44 56 54 44 43 55 51 60 58 41 58 36 50 45 44 44 49 52 46 46 53 49 42\n",
       "  [217] 41 55 48 48 54 50 59 57 39 46 54 50 43 44 46 54 64 46 49 53 56 42 60 44\n",
       "  [241] 43 45 45 50 52 55 58 43 51 50 43 50 52 56 50 51 56 46 52 56 53 52 49 44\n",
       "  [265] 47 46 49 50 53 48 45 54 48 60 50 56 50 55 42 52 47 45 49 55 54 51 54 58\n",
       "  [289] 50 44 55 59 48 46 53 50 44 44 58 49 52 51 40 44 44 51 55 53 47 44 58 57\n",
       "  [313] 50 40 48 55 57 50 52 46 54 50 55 55 46 49 50 54 44 49 46 55 57 50 53 51\n",
       "  [337] 50 50 47 52 50 46 58 55 47 42 49 44 42 57 50 50 57 48 54 42 54 57 41 40\n",
       "  [361] 46 49 53 53 45 46 41 55 55 56 53 54 52 56 56 51 54 48 40 60 44 43 54 50\n",
       "  [385] 50 52 53 52 60 47 55 45 57 43 51 55 45 44 44 55 42 52 45 54 49 46 48 56\n",
       "  [409] 51 48 52 49 41 50 49 50 45 50 46 52 45 43 40 48 51 54 46 62 49 56 47 47\n",
       "  [433] 57 46 45 49 49 49 52 43 44 42 40 53 47 46 52 47 54 46 50 51 51 58 52 55\n",
       "  [457] 46 56 45 44 57 52 55 50 50 52 48 47 50 52 48 51 55 52 49 45 42 47 49 55\n",
       "  [481] 49 52 47 48 44 48 47 47 55 58 50 42 38 54 48 47 47 44 53 48 58 59 57 43\n",
       "  [505] 43 52 53 55 54 50 49 59 42 53 58 54 47 56 52 53 53 47 56 55 61 44 52 47\n",
       "  [529] 55 49 56 57 44 45 44 55 44 47 51 53 55 56 47 54 48 56 56 50 45 47 52 41\n",
       "  [553] 51 45 45 57 49 53 46 45 45 58 50 61 56 44 48 50 56 43 47 60 43 53 47 55\n",
       "  [577] 44 49 57 46 45 48 57 43 40 49 59 44 46 53 62 50 51 49 50 48 51 52 51 52\n",
       "  [601] 54 54 46 48 48 60 40 50 43 48 45 43 39 48 59 52 51 43 54 42 44 44 50 48\n",
       "  [625] 51 46 57 58 55 44 50 51 49 50 48 56 46 46 49 46 57 55 46 44 45 50 50 49\n",
       "  [649] 44 45 44 47 58 46 52 50 46 51 54 55 60 47 50 54 51 51 54 49 42 36 44 49\n",
       "  [673] 54 52 48 58 48 58 54 56 50 52 47 46 59 57 52 57 47 47 45 53 54 45 47 53\n",
       "  [697] 49 50 52 50 61 44 50 51 41 53 50 44 55 60 53 58 50 50 51 52 56 52 52 48\n",
       "  [721] 52 54 51 42 49 50 57 49 44 46 53 49 57 56 48 46 46 52 52 45 46 46 50 57\n",
       "  [745] 51 58 52 63 42 49 43 51 53 54 49 43 42 51 45 51 52 54 61 58 49 53 45 45\n",
       "  [769] 47 50 48 48 53 46 52 47 49 51 42 42 50 49 55 44 59 53 42 49 43 49 51 47\n",
       "  [793] 43 50 39 50 55 42 57 48 46 51 49 46 56 49 53 40 53 35 52 53 45 52 56 44\n",
       "  [817] 47 47 44 53 43 54 52 56 46 41 49 55 50 57 49 52 52 54 58 52 56 49 49 54\n",
       "  [841] 53 51 51 45 55 49 56 40 41 57 49 42 47 42 42 49 55 48 45 54 52 50 50 54\n",
       "  [865] 59 45 49 46 57 49 50 51 54 49 48 50 53 56 51 50 47 49 47 49 51 45 52 53\n",
       "  [889] 51 53 42 49 56 51 51 52 55 59 49 46 43 51 47 47 52 46 46 44 52 41 55 51\n",
       "  [913] 52 54 52 51 49 53 47 52 44 53 52 47 55 55 50 50 44 58 48 39 48 48 54 49\n",
       "  [937] 42 51 45 49 56 42 55 54 54 62 43 56 51 55 48 47 50 49 54 46 47 52 44 49\n",
       "  [961] 47 43 53 50 56 49 55 52 57 42 54 49 50 51 45 53 47 46 37 48 44 42 52 55\n",
       "  [985] 44 58 55 51 46 47 47 57 58 33 52 46 52 48 53 41 50 53 58 57 52 48 41 49\n",
       " [1009] 56 54 42 49 45 56 49 52 47 44 52 50 49 55 48 42 46 59 43 51 42 48 48 57\n",
       " [1033] 57 50 44 45 52 47 47 57 48 56 52 53 47 47 47 47 43 50 51 56 45 52 48 47\n",
       " [1057] 56 43 46 51 50 49 46 56 53 54 53 50 46 57 58 61 57 50 51 48 51 51 43 49\n",
       " [1081] 56 48 50 44 38 55 54 41 52 51 51 61 37 54 50 51 57 49 48 53 50 45 47 44\n",
       " [1105] 57 45 58 44 44 50 55 58 60 48 58 48 57 50 50 53 48 46 42 45 57 50 50 50\n",
       " [1129] 52 49 44 56 54 48 48 51 58 48 51 53 51 51 59 45 56 49 48 48 49 50 48 45\n",
       " [1153] 60 50 52 43 52 55 52 56 53 45 50 48 51 54 52 47 52 53 48 47 43 45 58 43\n",
       " [1177] 47 44 43 54 50 45 40 52 44 53 46 62 47 46 46 50 48 47 51 62 56 45 53 55\n",
       " [1201] 51 55 51 39 51 61 52 56 45 60 53 39 49 48 50 56 43 51 45 58 56 52 55 52\n",
       " [1225] 50 49 64 53 43 60 52 46 38 49 47 57 57 51 47 64 55 52 58 46 48 54 43 46\n",
       " [1249] 44 32 48 52 56 50 51 50 55 61 52 61 55 44 52 49 51 48 46 45 56 48 37 45\n",
       " [1273] 44 50 47 45 54 47 53 41 45 45 52 44 44 47 55 56 55 52 55 46 54 51 51 44\n",
       " [1297] 56 47 53 43 57 45 54 51 53 59 50 51 50 53 55 55 49 58 48 60 49 60 47 57\n",
       " [1321] 51 50 45 48 52 49 54 47 48 47 52 47 52 39 47 48 39 46 48 49 55 48 51 54\n",
       " [1345] 56 49 43 41 41 52 44 43 51 53 43 46 48 57 48 56 60 53 41 50 47 51 50 50\n",
       " [1369] 48 48 56 48 53 47 51 45 51 46 51 50 48 42 49 43 50 52 52 53 50 56 51 49\n",
       " [1393] 47 43 58 51 51 45 53 51 47 55 52 50 49 49 55 46 53 56 56 48 48 53 53 50\n",
       " [1417] 48 61 42 51 52 50 45 45 49 52 54 49 48 59 51 49 45 52 55 54 50 53 47 49\n",
       " [1441] 51 42 47 50 46 49 52 50 38 58 51 50 40 49 47 55 44 53 52 53 53 55 52 41\n",
       " [1465] 52 54 48 52 47 54 57 54 46 58 57 56 47 49 47 49 53 48 54 40 52 55 47 50\n",
       " [1489] 52 47 52 47 50 56 48 49 49 48 57 47 56 51 47 53 45 50 49 55 43 49 37 50\n",
       " [1513] 54 56 57 50 57 43 48 50 54 54 48 60 51 46 56 55 56 44 53 38 59 53 43 55\n",
       " [1537] 45 45 53 47 51 45 52 52 59 53 41 49 46 50 48 43 52 47 56 50 43 44 42 51\n",
       " [1561] 52 49 48 44 58 47 41 53 55 58 54 59 54 45 51 41 51 52 49 52 47 48 45 49\n",
       " [1585] 50 41 55 55 50 55 55 48 53 52 55 53 56 48 49 43 46 47 47 66 46 50 51 46\n",
       " [1609] 51 46 53 50 52 60 48 45 54 46 46 45 42 54 54 50 49 50 55 54 52 51 49 43\n",
       " [1633] 59 43 49 53 54 47 44 54 45 56 57 56 54 52 56 40 42 45 51 51 46 53 49 54\n",
       " [1657] 59 51 48 50 51 39 50 55 57 54 46 54 51 55 48 49 60 53 49 50 48 47 56 47\n",
       " [1681] 44 54 54 49 50 43 48 47 56 33 45 39 47 53 48 51 52 50 53 56 48 51 50 45\n",
       " [1705] 38 56 44 40 48 52 56 54 47 53 57 51 56 42 53 52 50 47 54 54 52 51 54 50\n",
       " [1729] 50 44 62 52 48 45 47 46 50 47 48 47 52 36 47 58 51 40 51 55 44 51 53 38\n",
       " [1753] 61 38 55 49 45 49 50 51 48 57 45 50 62 45 48 46 53 39 47 45 49 44 50 51\n",
       " [1777] 49 53 37 51 50 47 48 47 49 45 50 53 45 43 60 62 47 48 50 55 47 48 52 52\n",
       " [1801] 46 50 46 43 48 52 50 47 48 48 47 55 56 59 52 45 50 48 57 48 53 54 49 61\n",
       " [1825] 58 54 45 54 51 53 51 49 54 40 45 46 53 50 60 53 48 51 54 47 46 51 51 45\n",
       " [1849] 52 45 60 54 46 44 54 53 39 52 53 51 58 56 49 45 43 53 51 55 54 49 52 46\n",
       " [1873] 51 56 52 54 55 46 45 55 55 46 58 42 45 51 48 58 48 42 50 55 48 55 53 54\n",
       " [1897] 56 51 51 48 55 57 51 52 55 49 50 54 43 49 51 60 50 51 46 48 55 52 53 46\n",
       " [1921] 46 50 53 56 51 52 53 59 51 57 46 51 47 37 53 48 43 46 38 50 54 38 52 50\n",
       " [1945] 39 49 47 50 42 50 58 41 47 53 56 47 50 45 55 49 46 50 54 47 48 52 54 54\n",
       " [1969] 42 51 60 51 43 49 51 51 50 58 58 47 49 51 54 55 59 51 51 49 55 52 61 48\n",
       " [1993] 48 47 42 55 63 48 48 46 53 58 52 49 41 55 53 45 47 50 53 53 43 55 62 46\n",
       " [2017] 49 55 61 46 49 51 49 48 45 46 45 53 49 54 53 45 52 58 57 53 55 47 52 49\n",
       " [2041] 42 49 53 58 45 53 48 52 53 48 53 50 61 49 41 50 54 37 48 48 49 49 56 54\n",
       " [2065] 41 46 48 47 53 43 51 46 52 49 52 59 40 47 47 49 50 50 43 53 53 51 50 44\n",
       " [2089] 52 42 53 47 54 43 55 54 52 48 54 49 49 50 51 52 52 45 53 49 50 53 54 54\n",
       " [2113] 53 53 54 40 50 53 52 47 57 46 48 53 50 51 50 53 40 52 45 50 52 56 54 48\n",
       " [2137] 46 49 55 49 50 56 44 57 43 48 43 52 52 48 54 57 48 52 57 47 59 54 46 50\n",
       " [2161] 52 50 48 43 41 48 57 53 51 51 51 42 53 45 42 55 46 54 42 56 40 42 58 51\n",
       " [2185] 57 48 49 53 46 49 51 45 50 53 51 47 52 41 52 51 51 48 50 53 48 46 59 52\n",
       " [2209] 53 47 53 54 46 49 55 50 50 45 55 51 56 53 55 54 48 44 50 53 47 45 49 51\n",
       " [2233] 48 50 48 52 50 56 55 51 57 37 51 48 51 45 50 51 52 50 48 53 58 51 61 55\n",
       " [2257] 51 43 56 53 54 56 55 51 52 43 48 45 49 63 51 51 48 51 47 55 51 43 54 54\n",
       " [2281] 54 48 50 54 50 49 51 54 48 53 55 52 53 47 47 49 61 61 50 54 49 48 54 48\n",
       " [2305] 53 55 52 54 58 40 54 47 61 48 59 53 43 52 57 48 52 55 45 57 46 42 53 57\n",
       " [2329] 46 50 50 53 53 54 53 43 53 55 51 57 51 50 60 44 44 56 52 41 55 44 59 51\n",
       " [2353] 57 49 46 54 50 48 49 49 47 45 46 51 51 56 53 58 44 61 48 48 44 41 53 53\n",
       " [2377] 46 57 60 49 53 55 47 43 47 48 46 50 56 58 51 46 53 46 50 47 60 55 52 53\n",
       " [2401] 51 47 47 47 52 40 43 53 46 52 53 57 41 50 53 42 42 61 47 53 60 43 50 53\n",
       " [2425] 47 55 52 52 52 51 57 51 43 45 48 40 49 57 54 51 52 49 55 41 46 44 54 45\n",
       " [2449] 55 54 53 42 55 52 52 47 53 48 48 48 58 46 50 46 60 49 51 48 48 55 52 50\n",
       " [2473] 45 61 48 51 50 47 55 52 55 52 41 50 39 52 43 56 53 51 46 53 57 48 48 45\n",
       " [2497] 53 45 51 49 52 46 45 42 51 48 46 53 51 44 49 55 46 49 50 43 46 43 52 48\n",
       " [2521] 45 55 41 45 54 43 54 46 48 42 57 47 51 46 46 49 55 56 50 54 49 54 54 45\n",
       " [2545] 52 54 43 52 47 44 44 54 46 52 50 48 49 51 47 47 54 55 49 54 54 44 47 49\n",
       " [2569] 49 51 46 49 52 53 49 49 60 53 50 47 48 46 51 52 49 49 51 49 54 42 50 48\n",
       " [2593] 54 46 60 46 54 51 43 54 53 47 48 51 51 39 45 57 51 51 57 47 51 52 47 44\n",
       " [2617] 48 57 48 54 47 53 55 53 49 48 45 49 52 57 54 51 50 51 48 56 58 53 46 54\n",
       " [2641] 41 46 56 59 57 51 48 45 52 41 49 45 53 37 53 59 54 60 55 52 52 49 53 53\n",
       " [2665] 56 52 62 47 45 47 50 54 51 51 51 52 49 51 45 47 44 38 51 43 50 53 47 47\n",
       " [2689] 39 54 50 45 50 48 35 59 47 49 51 47 46 49 52 50 51 63 41 51 46 53 50 48\n",
       " [2713] 50 55 50 41 56 43 43 50 50 47 55 49 48 48 54 48 48 55 53 49 50 49 49 54\n",
       " [2737] 53 45 44 39 46 54 55 57 41 48 53 45 54 41 54 48 53 49 49 40 59 53 52 48\n",
       " [2761] 52 55 54 47 56 53 53 50 47 51 51 49 44 56 44 49 54 49 56 51 50 52 51 54\n",
       " [2785] 47 43 53 47 48 45 51 57 47 53 56 48 49 48 50 43 50 47 46 50 52 40 52 58\n",
       " [2809] 52 48 51 52 51 54 49 42 53 56 52 51 44 51 52 54 51 50 45 52 48 49 54 57\n",
       " [2833] 54 48 52 48 50 50 48 55 49 49 50 53 45 56 57 47 55 52 44 52 54 50 47 44\n",
       " [2857] 45 48 52 49 53 54 47 51 41 48 50 41 46 50 49 50 49 52 52 62 54 53 49 50\n",
       " [2881] 57 48 47 43 57 46 59 48 44 46 46 43 51 52 58 52 53 48 53 40 49 59 54 46\n",
       " [2905] 47 54 50 47 44 44 43 51 41 53 56 42 48 50 43 50 54 39 56 41 39 51 48 48\n",
       " [2929] 51 47 47 51 51 46 52 56 55 51 57 41 43 56 43 47 45 60 60 53 49 54 47 50\n",
       " [2953] 55 52 55 59 44 52 54 51 50 49 51 48 52 45 50 48 48 60 51 50 52 51 51 64\n",
       " [2977] 53 54 47 58 56 47 47 50 47 45 56 42 45 63 43 54 46 55 53 47 57 48 46 46\n",
       " [3001] 53 44 54 45 49 47 44 51 47 49 51 47 48 54 56 48 52 44 49 49 57 42 57 52\n",
       " [3025] 42 53 48 50 51 55 40 50 42 53 45 53 55 42 46 53 55 51 52 64 53 53 45 55\n",
       " [3049] 51 48 41 54 40 55 57 51 47 59 44 51 52 46 49 48 54 48 46 37 52 50 48 44\n",
       " [3073] 55 52 54 43 56 51 53 64 41 47 48 49 49 44 53 45 49 53 48 48 51 52 52 50\n",
       " [3097] 50 57 51 50 48 53 52 52 51 53 50 52 48 50 46 55 55 46 43 54 59 53 43 44\n",
       " [3121] 58 51 53 56 47 56 48 47 52 50 48 36 58 46 52 62 39 42 46 44 51 51 52 57\n",
       " [3145] 55 47 54 52 50 51 39 45 53 53 61 46 51 49 47 47 48 52 47 54 48 55 48 52\n",
       " [3169] 53 52 49 55 51 60 50 48 46 50 48 45 54 43 49 52 45 53 51 48 59 53 47 43\n",
       " [3193] 54 45 49 39 57 49 38 47 54 52 54 40 59 43 48 63 46 58 53 45 44 61 52 51\n",
       " [3217] 51 62 46 47 46 48 52 52 48 39 47 53 50 49 45 50 43 53 50 38 50 47 51 62\n",
       " [3241] 45 48 58 48 54 48 58 57 50 50 50 57 49 47 44 43 45 56 52 51 58 52 57 56\n",
       " [3265] 43 47 51 53 51 40 48 48 51 46 41 46 61 45 51 42 54 53 59 46 40 40 52 47\n",
       " [3289] 46 55 44 46 58 48 49 56 47 59 43 58 55 51 48 46 45 52 48 50 45 49 54 61\n",
       " [3313] 57 47 53 55 47 45 48 54 48 49 54 46 42 51 49 57 50 50 43 41 45 51 52 47\n",
       " [3337] 48 45 57 48 54 48 41 53 51 46 59 51 59 43 57 51 52 49 43 61 44 50 38 48\n",
       " [3361] 54 49 53 49 47 44 45 53 51 42 49 46 55 53 38 49 59 57 53 47 53 49 52 41\n",
       " [3385] 42 50 46 49 50 53 52 54 45 57 45 46 56 49 52 45 44 45 49 51 48 42 51 49\n",
       " [3409] 46 48 44 45 48 49 43 55 62 49 49 52 48 51 53 52 57 58 49 54 55 53 56 50\n",
       " [3433] 49 53 43 55 53 52 51 48 55 55 56 52 51 46 47 50 46 47 42 46 53 49 52 45\n",
       " [3457] 47 45 52 47 46 49 49 53 57 51 47 51 52 50 48 51 54 54 45 48 47 55 54 51\n",
       " [3481] 54 43 42 57 49 46 43 54 40 49 47 47 57 51 40 43 39 57 43 48 54 43 50 60\n",
       " [3505] 48 50 51 50 52 46 44 50 44 48 44 45 45 56 47 51 47 51 48 53 51 47 43 57\n",
       " [3529] 50 51 44 50 54 52 44 45 49 62 53 46 55 43 58 51 42 50 48 49 57 47 48 60\n",
       " [3553] 47 47 50 50 53 42 55 48 55 55 54 45 49 45 57 53 62 46 49 55 42 48 59 53\n",
       " [3577] 55 48 59 45 52 43 47 55 48 48 57 49 46 45 43 52 57 55 55 50 48 42 52 58\n",
       " [3601] 46 48 53 53 49 48 50 46 50 55 54 50 50 46 49 50 50 49 55 49 50 49 43 45\n",
       " [3625] 47 57 51 50 47 52 51 58 56 44 54 56 51 52 52 55 40 56 41 50 48 43 50 42\n",
       " [3649] 44 41 50 52 53 44 48 49 53 45 58 40 51 40 45 53 51 48 56 51 51 55 52 49\n",
       " [3673] 49 47 49 56 49 49 50 47 52 48 51 50 36 50 50 48 49 58 40 60 64 52 50 48\n",
       " [3697] 45 49 43 58 50 46 48 51 43 60 56 58 48 50 48 44 48 56 51 53 50 50 56 53\n",
       " [3721] 50 48 40 56 54 53 52 48 51 48 56 51 44 46 57 54 59 49 51 52 51 53 49 57\n",
       " [3745] 37 48 48 55 40 49 50 49 49 51 50 54 48 48 45 51 53 41 51 50 53 40 49 45\n",
       " [3769] 49 48 51 51 49 56 53 52 46 45 52 45 55 44 52 50 53 51 65 54 44 52 54 55\n",
       " [3793] 49 58 49 65 54 53 50 47 35 51 53 50 49 73 47 54 59 45 41 49 47 54 47 40\n",
       " [3817] 53 40 55 47 42 41 50 49 55 52 53 58 48 56 50 55 50 43 51 55 65 50 52 51\n",
       " [3841] 50 42 54 51 54 51 53 52 52 47 54 47 55 48 39 57 47 45 41 50 51 55 52 48\n",
       " [3865] 57 44 56 53 59 52 39 49 61 55 51 45 43 48 52 46 52 54 61 44 48 41 52 49\n",
       " [3889] 54 55 50 42 46 40 43 52 44 54 45 49 46 44 54 40 58 50 43 49 47 45 48 47\n",
       " [3913] 52 44 53 54 58 61 56 54 50 44 46 41 55 47 42 51 57 47 54 57 55 56 56 49\n",
       " [3937] 48 52 50 43 52 49 52 57 54 51 44 44 54 57 51 49 47 54 47 55 57 46 57 49\n",
       " [3961] 43 54 44 50 51 49 46 49 52 41 48 48 58 46 58 50 50 42 49 59 46 45 49 53\n",
       " [3985] 52 56 46 54 51 42 52 53 39 52 48 49 56 45 45 45 43 49 44 50 62 47 55 60\n",
       " [4009] 46 54 57 40 48 52 49 36 54 46 53 53 47 50 54 54 61 60 53 52 48 56 48 43\n",
       " [4033] 40 42 45 54 55 44 51 61 49 44 44 37 52 59 46 44 50 49 53 54 45 59 50 46\n",
       " [4057] 55 50 53 52 48 52 55 50 46 57 43 48 51 55 42 62 52 57 55 47 56 54 39 51\n",
       " [4081] 54 51 50 59 51 45 49 58 49 46 52 55 58 49 51 51 59 49 49 46 54 48 54 39\n",
       " [4105] 41 46 53 41 51 46 64 47 59 45 47 39 41 48 49 48 49 50 50 56 51 53 45 45\n",
       " [4129] 48 44 48 50 49 54 48 54 53 44 53 55 48 46 48 57 49 44 55 48 54 50 47 49\n",
       " [4153] 43 59 52 53 56 55 45 47 49 47 44 49 39 49 61 42 47 46 51 50 53 49 48 45\n",
       " [4177] 46 52 41 47 44 51 53 50 49 53 49 41 41 54 51 44 55 48 47 58 56 50 54 46\n",
       " [4201] 52 52 46 44 43 51 54 46 52 40 49 44 48 52 59 55 48 46 55 48 54 40 51 49\n",
       " [4225] 57 51 55 49 50 54 49 50 56 50 51 50 49 48 49 50 54 55 51 59 58 50 40 41\n",
       " [4249] 50 51 56 49 48 48 33 45 48 57 55 49 49 46 49 55 46 51 48 50 53 52 49 56\n",
       " [4273] 44 51 48 55 53 47 45 48 48 45 45 49 46 48 49 51 52 53 48 46 49 48 46 45\n",
       " [4297] 51 45 47 46 56 49 43 42 48 47 52 48 49 52 44 50 55 55 44 42 43 46 53 53\n",
       " [4321] 47 55 43 46 41 49 50 43 47 38 56 46 51 52 50 44 41 50 40 49 56 42 48 58\n",
       " [4345] 51 49 39 46 36 56 45 54 48 57 51 59 52 49 57 57 50 50 47 37 53 41 38 49\n",
       " [4369] 62 55 54 45 50 51 49 53 38 50 63 52 53 54 67 46 57 55 44 55 58 47 43 52\n",
       " [4393] 60 43 42 51 51 44 53 53 60 53 51 59 59 53 50 51 50 45 59 52 52 48 40 57\n",
       " [4417] 39 46 53 50 49 46 59 47 53 48 52 46 43 54 51 53 52 51 55 36 54 52 56 42\n",
       " [4441] 45 36 49 51 55 57 48 59 53 43 47 55 41 46 47 45 54 55 45 50 51 52 52 50\n",
       " [4465] 55 43 47 46 50 58 47 58 49 54 50 56 43 51 51 45 58 52 56 50 48 53 49 49\n",
       " [4489] 43 56 47 47 52 48 45 58 44 53 56 55 45 56 47 50 50 54 52 43 57 52 50 47\n",
       " [4513] 51 50 54 52 40 48 50 43 48 41 43 52 39 45 49 58 53 57 54 44 41 52 48 47\n",
       " [4537] 53 57 57 50 52 48 48 39 44 51 51 53 53 47 59 50 49 51 50 46 51 54 53 57\n",
       " [4561] 58 51 50 51 45 44 56 54 55 46 51 59 57 52 48 49 54 52 42 54 49 54 45 43\n",
       " [4585] 51 48 60 47 61 49 51 50 49 51 39 46 46 48 47 50 55 53 48 54 41 49 43 49\n",
       " [4609] 44 49 51 51 54 50 48 52 44 57 52 40 50 41 41 46 47 47 50 55 46 55 57 50\n",
       " [4633] 44 55 48 49 48 51 36 35 51 57 45 50 50 42 44 39 50 50 43 48 42 48 39 52\n",
       " [4657] 46 46 54 58 54 53 55 53 48 49 58 46 44 51 54 44 55 45 46 45 49 44 55 55\n",
       " [4681] 53 47 43 50 41 55 47 44 51 58 52 50 45 43 52 44 55 51 45 45 54 57 52 52\n",
       " [4705] 53 46 46 51 58 46 53 47 56 50 48 52 47 50 38 44 55 48 51 55 51 52 48 53\n",
       " [4729] 42 49 55 54 39 53 56 51 46 50 50 54 56 40 55 53 51 47 57 47 45 46 48 50\n",
       " [4753] 53 59 55 51 41 52 57 43 56 49 53 65 47 44 48 45 45 56 45 45 52 56 53 61\n",
       " [4777] 45 48 58 58 48 49 37 59 48 42 59 55 47 49 48 48 50 51 49 58 54 49 50 52\n",
       " [4801] 51 47 58 49 53 50 55 48 46 56 48 48 44 52 39 47 48 57 45 43 52 46 51 45\n",
       " [4825] 48 58 47 42 42 50 54 46 55 43 47 51 43 46 42 41 42 46 50 55 48 49 52 55\n",
       " [4849] 43 53 47 51 45 51 52 40 50 51 42 59 47 58 48 56 54 54 49 47 53 41 53 51\n",
       " [4873] 54 54 57 51 56 50 54 46 58 51 48 51 53 46 54 48 51 58 39 51 53 53 51 47\n",
       " [4897] 55 52 57 45 46 56 53 50 51 50 44 57 43 52 55 52 56 55 41 51 61 51 51 44\n",
       " [4921] 49 54 40 57 49 43 53 56 58 47 50 50 45 36 44 47 39 48 45 59 48 51 50 53\n",
       " [4945] 56 56 53 49 54 50 53 51 46 48 49 57 57 51 47 48 50 49 56 53 54 53 48 56\n",
       " [4969] 63 45 53 47 44 45 53 48 49 49 55 47 56 51 51 52 53 48 45 52 62 50 50 54\n",
       " [4993] 56 48 54 49 46 44 49 47 52 45 54 46 53 52 45 53 60 56 44 53 43 48 57 49\n",
       " [5017] 56 51 47 52 51 54 40 54 38 47 54 53 52 51 48 39 42 50 57 51 53 48 49 52\n",
       " [5041] 46 56 51 55 59 44 52 58 48 66 49 35 52 52 48 44 51 51 46 57 57 43 49 55\n",
       " [5065] 58 47 50 51 52 53 53 58 51 41 47 49 54 65 47 50 52 58 48 55 58 53 51 49\n",
       " [5089] 51 45 46 48 48 53 51 54 51 50 47 55 49 46 58 40 49 58 48 55 45 50 56 55\n",
       " [5113] 42 62 51 45 50 51 53 46 49 50 49 50 50 51 61 48 54 49 46 48 55 47 52 43\n",
       " [5137] 45 51 48 46 49 52 44 58 44 48 40 52 58 59 51 58 45 49 46 55 50 46 57 51\n",
       " [5161] 53 50 57 50 48 49 39 52 47 49 54 61 56 53 57 37 43 54 51 54 56 47 49 51\n",
       " [5185] 42 56 47 56 46 49 45 41 56 54 47 51 45 45 57 54 47 60 53 46 44 46 48 50\n",
       " [5209] 49 58 54 53 60 43 54 38 57 52 50 57 49 52 51 47 53 44 51 46 50 41 47 48\n",
       " [5233] 47 49 47 49 45 42 53 43 45 54 51 55 53 44 48 49 51 55 46 42 49 51 39 57\n",
       " [5257] 53 50 46 54 47 44 41 54 57 34 51 54 52 59 52 50 55 49 52 52 53 53 57 58\n",
       " [5281] 55 47 47 38 59 39 54 42 52 55 38 46 55 53 48 41 52 56 49 56 45 55 52 45\n",
       " [5305] 46 63 53 50 43 49 48 50 49 42 53 54 48 55 46 38 60 45 51 39 42 51 44 42\n",
       " [5329] 50 57 53 39 50 51 47 50 53 49 48 57 47 54 50 51 43 51 54 44 47 58 48 57\n",
       " [5353] 45 48 49 45 58 52 43 41 46 41 46 53 45 46 49 45 48 54 50 53 52 50 34 46\n",
       " [5377] 44 51 46 46 54 46 42 49 57 36 49 43 40 45 51 50 58 54 54 52 58 47 50 37\n",
       " [5401] 56 52 46 50 51 41 45 48 53 44 46 50 46 48 43 45 44 44 51 48 48 45 51 60\n",
       " [5425] 45 51 53 49 52 53 57 51 50 54 43 55 50 63 53 61 43 52 56 55 47 57 47 52\n",
       " [5449] 54 50 40 52 49 47 52 48 48 48 51 48 52 41 43 49 50 49 52 53 54 55 35 45\n",
       " [5473] 50 52 47 46 55 47 46 52 38 47 47 54 50 49 51 47 53 45 48 50 53 48 48 41\n",
       " [5497] 47 38 46 50 46 52 54 56 47 49 54 53 47 43 48 45 59 55 44 41 54 43 63 44\n",
       " [5521] 45 49 54 49 50 48 45 53 50 54 43 57 48 41 55 45 47 51 40 48 57 50 51 53\n",
       " [5545] 54 52 57 51 53 52 46 55 51 56 48 52 50 47 50 51 56 47 49 49 51 57 44 39\n",
       " [5569] 48 45 54 48 52 48 52 56 48 51 63 49 41 52 49 51 48 45 52 49 49 36 58 55\n",
       " [5593] 54 51 60 49 51 51 53 47 49 59 36 52 49 39 57 39 53 41 46 48 55 51 48 52\n",
       " [5617] 47 53 61 60 53 52 55 51 57 52 54 41 44 57 46 53 56 48 42 46 46 51 44 46\n",
       " [5641] 47 53 50 55 44 51 45 51 43 43 53 53 55 48 45 51 51 54 48 49 49 50 45 41\n",
       " [5665] 48 48 54 51 51 49 55 49 45 52 51 40 46 51 48 52 46 57 47 51 51 47 50 47\n",
       " [5689] 41 49 61 51 49 61 51 56 54 59 36 53 51 50 56 41 51 47 52 54 49 43 48 43\n",
       " [5713] 56 48 59 51 42 49 60 56 53 45 46 51 48 58 47 50 45 45 49 54 48 39 42 52\n",
       " [5737] 52 60 47 44 56 57 49 48 49 51 44 50 53 46 56 45 52 50 55 50 51 59 39 55\n",
       " [5761] 54 54 42 41 54 44 49 42 50 55 55 52 49 58 58 44 57 53 45 41 43 61 51 42\n",
       " [5785] 56 48 54 46 52 47 53 52 40 47 44 48 49 61 39 53 54 47 43 57 53 52 53 45\n",
       " [5809] 43 45 43 55 52 45 50 49 52 52 44 45 40 43 42 52 43 51 58 55 56 46 52 43\n",
       " [5833] 45 51 47 51 59 56 39 48 46 45 46 63 54 55 50 47 55 51 55 51 51 55 48 45\n",
       " [5857] 50 52 57 49 42 60 55 50 57 55 56 46 50 47 47 51 52 44 45 54 52 45 44 50\n",
       " [5881] 57 44 41 50 51 60 50 60 42 51 43 45 50 48 43 47 49 52 45 56 48 40 47 42\n",
       " [5905] 49 55 56 45 46 47 47 46 54 51 53 62 50 50 53 45 48 44 48 44 59 53 53 51\n",
       " [5929] 54 46 49 56 53 49 50 42 52 50 44 44 55 55 54 53 52 58 55 48 47 56 49 56\n",
       " [5953] 46 53 47 53 42 53 46 55 57 47 47 55 51 53 47 52 52 44 56 47 57 46 52 41\n",
       " [5977] 55 52 52 50 48 54 48 48 41 50 44 51 62 45 48 50 45 49 54 50 52 60 51 59\n",
       " [6001] 52 55 49 48 47 50 59 55 54 48 52 48 52 48 50 44 43 43 45 43 41 47 54 53\n",
       " [6025] 50 59 51 51 49 45 51 49 49 53 55 42 50 47 43 50 48 52 52 50 44 46 59 48\n",
       " [6049] 43 52 60 46 51 54 54 44 46 47 48 40 44 52 46 51 58 52 48 43 51 48 44 49\n",
       " [6073] 49 45 54 55 47 50 52 52 47 56 47 50 46 50 51 57 60 53 49 48 55 43 50 55\n",
       " [6097] 51 57 49 56 54 46 41 43 47 50 56 51 54 46 50 42 46 60 42 46 45 47 52 54\n",
       " [6121] 54 54 46 57 46 55 52 46 47 61 50 53 51 49 45 55 56 46 49 51 48 49 52 49\n",
       " [6145] 51 52 39 58 44 50 50 50 54 52 55 47 55 49 61 50 49 53 44 47 53 52 51 46\n",
       " [6169] 48 42 56 44 51 51 47 63 47 50 53 47 46 60 44 49 42 57 50 47 49 52 48 41\n",
       " [6193] 48 42 52 46 47 47 52 51 53 48 39 48 45 42 45 41 52 47 42 58 51 57 44 55\n",
       " [6217] 52 52 63 53 50 46 52 38 53 44 46 48 43 47 46 55 57 56 50 52 46 48 52 57\n",
       " [6241] 47 54 53 44 48 55 52 37 42 53 48 47 44 57 46 51 58 53 53 54 55 49 48 45\n",
       " [6265] 51 45 45 43 40 58 52 54 47 56 51 49 46 43 53 45 52 56 47 48 59 52 47 52\n",
       " [6289] 47 52 46 48 38 53 42 42 43 50 51 47 55 52 40 52 52 46 57 39 46 54 50 43\n",
       " [6313] 53 44 51 44 40 52 52 48 56 51 49 50 49 50 50 52 55 56 48 54 56 51 48 46\n",
       " [6337] 48 51 53 49 56 53 52 48 51 52 40 57 53 47 45 59 57 46 56 45 54 49 52 46\n",
       " [6361] 50 59 40 46 54 55 44 51 48 51 45 51 50 42 56 42 57 55 43 53 58 52 45 42\n",
       " [6385] 55 54 46 56 57 42 39 53 47 53 47 55 51 47 54 53 48 49 42 50 47 48 44 48\n",
       " [6409] 46 42 46 53 48 54 48 53 51 53 51 51 48 52 54 48 44 59 53 58 55 57 47 52\n",
       " [6433] 54 51 50 54 54 49 46 46 50 50 59 55 50 46 45 42 48 47 51 59 47 59 57 47\n",
       " [6457] 49 44 53 56 50 52 50 48 47 55 52 48 45 55 50 50 58 48 63 47 50 51 54 44\n",
       " [6481] 49 47 48 51 51 50 51 55 53 52 53 60 51 45 49 39 47 40 46 53 44 42 50 48\n",
       " [6505] 49 49 49 58 53 49 46 51 54 59 48 55 53 56 45 49 49 54 56 49 43 47 49 56\n",
       " [6529] 55 48 57 41 53 47 49 43 48 53 63 43 46 46 50 50 53 46 51 53 51 47 51 51\n",
       " [6553] 58 49 55 56 53 50 54 47 50 35 51 54 56 54 48 46 49 49 45 44 50 54 50 46\n",
       " [6577] 49 50 49 45 50 56 48 58 48 48 52 56 44 54 57 49 42 56 53 43 57 43 58 48\n",
       " [6601] 47 52 40 47 46 50 53 50 46 50 57 55 52 49 49 54 50 47 54 54 46 50 54 51\n",
       " [6625] 53 55 49 50 55 41 47 54 49 52 50 47 44 56 48 44 57 41 45 53 55 49 43 53\n",
       " [6649] 46 52 54 58 47 52 48 44 52 48 55 49 53 46 47 38 54 56 48 57 48 51 49 46\n",
       " [6673] 42 47 58 51 53 62 54 45 48 48 51 48 52 52 55 51 41 54 44 48 49 58 54 43\n",
       " [6697] 49 43 46 58 49 45 57 47 54 50 42 46 47 55 42 51 61 51 42 51 50 59 53 55\n",
       " [6721] 42 54 52 43 51 52 57 52 50 54 44 47 47 51 46 49 54 50 53 58 54 50 47 58\n",
       " [6745] 40 40 51 52 49 45 57 49 52 44 52 50 45 50 51 55 53 50 46 46 47 57 49 49\n",
       " [6769] 52 52 35 49 57 57 51 51 44 54 57 43 40 46 44 43 44 50 58 60 44 41 52 56\n",
       " [6793] 42 51 47 48 56 51 55 59 51 55 53 53 40 48 56 51 52 47 48 57 51 50 49 59\n",
       " [6817] 50 54 51 51 58 43 51 48 51 53 46 49 48 49 47 55 49 44 45 42 44 50 49 58\n",
       " [6841] 45 47 51 48 42 51 52 53 49 53 54 52 42 49 46 43 53 46 52 51 47 58 54 56\n",
       " [6865] 55 45 51 47 50 54 54 52 38 52 46 56 51 53 46 56 56 48 46 47 51 48 56 51\n",
       " [6889] 54 51 58 38 47 51 56 59 56 48 60 42 52 52 55 53 53 49 47 56 49 52 50 52\n",
       " [6913] 55 49 58 56 45 52 48 59 58 56 47 48 53 55 41 49 56 52 53 55 52 57 54 42\n",
       " [6937] 44 59 51 47 48 56 54 43 40 56 52 57 51 54 57 55 48 40 42 39 53 56 57 52\n",
       " [6961] 60 54 54 48 43 50 43 46 56 45 56 43 56 51 53 45 50 48 52 59 45 47 41 53\n",
       " [6985] 45 41 60 60 43 51 55 53 45 54 43 50 53 42 45 55 50 50 48 47 63 48 48 54\n",
       " [7009] 45 46 46 47 53 43 42 40 39 52 42 52 49 48 50 48 49 54 52 48 51 56 55 48\n",
       " [7033] 47 56 51 51 45 48 50 46 53 53 56 51 50 42 47 59 52 46 57 49 53 56 47 57\n",
       " [7057] 55 46 50 49 48 49 56 39 44 42 55 55 39 55 49 49 46 44 58 38 55 53 52 52\n",
       " [7081] 45 45 45 48 48 45 55 57 56 59 54 50 42 58 51 59 47 54 44 51 46 48 48 48\n",
       " [7105] 45 44 53 54 52 36 52 53 45 50 50 51 56 55 47 58 51 52 52 53 52 58 50 43\n",
       " [7129] 47 45 45 45 47 45 45 47 51 47 62 48 51 42 58 42 38 53 47 51 53 59 57 49\n",
       " [7153] 44 50 51 46 56 44 50 55 49 41 55 44 57 55 40 49 52 34 44 51 53 54 53 46\n",
       " [7177] 49 44 58 48 58 48 50 56 58 45 52 50 53 50 43 53 52 44 52 54 53 51 47 46\n",
       " [7201] 55 60 44 44 50 48 58 55 45 50 47 45 50 44 49 51 49 50 45 51 57 45 54 51\n",
       " [7225] 40 45 50 51 52 43 55 47 50 49 57 49 52 51 49 53 43 53 47 43 44 57 45 49\n",
       " [7249] 63 43 50 55 45 52 55 43 48 55 44 54 63 50 46 47 47 51 50 48 50 51 45 57\n",
       " [7273] 50 52 54 51 58 49 50 54 62 53 48 54 44 46 44 54 49 47 50 47 49 39 53 51\n",
       " [7297] 49 47 51 59 55 50 54 54 50 57 51 52 48 56 54 62 47 56 42 47 55 50 58 55\n",
       " [7321] 57 55 47 48 52 52 45 49 38 48 50 53 60 47 54 51 45 49 47 48 50 48 44 46\n",
       " [7345] 47 54 48 56 58 54 45 55 49 59 52 56 49 50 58 56 47 50 52 54 50 42 44 43\n",
       " [7369] 59 50 44 58 42 54 46 41 48 57 48 49 51 48 49 41 49 53 48 45 46 43 44 51\n",
       " [7393] 42 49 58 54 42 46 53 57 48 52 45 54 44 52 53 52 46 49 54 44 54 55 50 51\n",
       " [7417] 49 55 59 49 50 51 58 51 48 50 51 59 53 45 49 47 51 56 52 45 57 49 46 52\n",
       " [7441] 41 44 52 49 46 53 45 44 48 52 45 51 45 45 47 48 52 51 55 59 49 43 51 52\n",
       " [7465] 53 48 50 55 49 50 47 55 47 41 39 50 51 48 50 54 56 44 50 50 45 50 50 48\n",
       " [7489] 54 51 50 44 49 40 38 53 48 52 55 56 53 48 53 49 54 49 49 45 55 40 52 48\n",
       " [7513] 50 55 49 59 41 55 52 54 57 55 54 50 57 42 49 52 51 52 51 51 50 51 53 49\n",
       " [7537] 39 51 51 51 59 47 53 47 57 50 55 53 45 51 38 44 50 57 51 50 48 50 41 47\n",
       " [7561] 50 64 47 51 60 47 36 51 48 53 44 48 47 48 47 49 47 53 46 58 37 40 50 57\n",
       " [7585] 44 61 40 52 45 47 45 56 51 47 46 54 44 50 53 57 59 50 45 46 41 42 54 46\n",
       " [7609] 49 58 46 48 46 53 53 49 44 58 50 47 60 46 42 52 46 54 58 47 56 43 53 54\n",
       " [7633] 42 50 49 53 49 59 50 51 53 53 53 59 48 50 46 51 55 49 48 53 49 49 44 52\n",
       " [7657] 53 54 53 51 44 48 53 39 51 56 46 46 45 56 47 40 54 57 44 48 48 62 48 52\n",
       " [7681] 55 48 48 48 53 56 37 54 39 48 50 50 47 41 45 53 57 51 56 56 48 47 50 47\n",
       " [7705] 48 47 56 51 59 43 53 58 46 56 49 52 50 56 57 45 59 53 51 50 52 50 46 54\n",
       " [7729] 49 57 59 49 43 48 48 54 46 46 58 52 51 48 47 52 56 53 62 40 51 46 47 52\n",
       " [7753] 49 57 48 52 38 50 43 41 60 50 50 49 43 51 46 45 51 58 48 43 57 52 46 46\n",
       " [7777] 51 53 47 55 46 41 57 55 44 46 55 65 57 49 45 47 53 52 53 48 49 43 45 42\n",
       " [7801] 52 53 52 47 47 41 41 54 41 47 37 60 42 48 47 55 51 52 40 42 55 43 52 47\n",
       " [7825] 50 51 47 51 42 54 41 51 43 48 49 56 49 54 50 50 57 49 40 53 57 51 49 46\n",
       " [7849] 52 52 55 45 53 56 46 48 54 52 47 52 39 54 59 44 50 46 57 45 51 55 55 57\n",
       " [7873] 50 54 56 54 51 47 46 45 58 52 43 46 48 47 47 44 59 54 50 50 49 53 51 54\n",
       " [7897] 47 52 50 51 53 59 46 51 52 54 57 47 52 45 50 48 53 53 49 48 49 49 54 53\n",
       " [7921] 59 43 44 42 54 51 59 48 49 45 56 52 54 52 54 55 46 46 53 58 49 51 49 45\n",
       " [7945] 55 48 50 54 48 49 48 59 45 42 41 57 44 53 53 52 48 57 43 57 55 49 58 44\n",
       " [7969] 41 54 47 51 47 46 50 46 56 47 48 41 58 48 58 47 45 51 61 57 47 46 64 55\n",
       " [7993] 39 49 55 53 45 45 50 42 51 46 53 57 45 43 46 40 49 57 48 55 47 40 47 40\n",
       " [8017] 57 53 46 50 54 52 55 57 45 52 49 45 55 46 43 51 49 51 58 55 55 47 45 47\n",
       " [8041] 49 52 47 52 47 49 53 51 47 57 54 52 57 49 56 59 50 49 48 57 58 48 46 55\n",
       " [8065] 45 58 48 46 54 53 47 54 47 50 54 51 55 41 53 51 51 57 59 48 52 48 52 62\n",
       " [8089] 43 46 47 51 53 49 50 52 44 48 50 57 45 56 53 58 43 52 56 49 39 46 54 48\n",
       " [8113] 53 51 57 51 61 52 55 50 44 51 50 50 55 49 57 44 52 46 52 60 54 43 48 47\n",
       " [8137] 47 45 55 36 49 54 54 44 47 51 41 51 48 53 49 47 58 55 50 43 50 53 47 49\n",
       " [8161] 49 49 48 45 45 58 48 50 54 47 57 44 54 47 51 47 48 50 59 52 56 52 49 47\n",
       " [8185] 48 50 56 55 55 51 47 47 47 39 53 48 46 42 55 51 53 51 56 48 41 50 45 51\n",
       " [8209] 40 42 49 58 50 50 42 47 54 53 49 48 51 49 60 54 47 52 51 46 54 46 50 45\n",
       " [8233] 45 46 53 55 48 51 42 53 46 58 51 58 45 49 45 47 51 44 46 51 50 41 52 39\n",
       " [8257] 48 56 53 55 39 55 50 49 40 59 35 45 48 56 43 53 51 44 44 49 57 49 53 56\n",
       " [8281] 53 46 51 63 49 50 60 52 52 52 58 45 55 54 45 51 56 52 54 52 51 46 55 50\n",
       " [8305] 50 49 47 56 51 44 47 46 45 39 48 49 47 47 53 55 57 45 48 52 47 56 66 51\n",
       " [8329] 48 58 47 43 47 54 37 53 48 49 52 51 49 52 46 54 57 59 36 56 47 45 51 65\n",
       " [8353] 59 43 44 53 56 52 60 46 50 56 46 53 44 44 46 48 55 49 63 48 53 51 49 54\n",
       " [8377] 47 51 45 52 49 54 54 50 50 47 50 56 54 44 43 52 47 55 44 45 58 51 48 57\n",
       " [8401] 47 54 54 46 51 52 56 49 60 50 60 58 44 51 49 57 55 44 43 58 51 49 58 48\n",
       " [8425] 51 45 51 45 53 50 51 54 48 39 53 37 59 47 63 50 56 45 55 53 47 52 43 47\n",
       " [8449] 49 55 51 54 54 55 56 48 50 51 49 48 47 52 55 43 57 51 52 63 46 50 48 50\n",
       " [8473] 50 43 45 51 47 42 47 51 48 42 55 51 59 50 55 44 44 53 50 52 50 49 55 47\n",
       " [8497] 48 36 51 46 51 47 49 45 47 47 48 49 49 61 50 50 53 48 45 54 55 52 47 51\n",
       " [8521] 55 48 50 49 47 45 48 48 51 57 45 50 48 52 52 50 54 56 44 54 48 55 47 43\n",
       " [8545] 51 50 48 43 43 54 54 54 50 53 50 53 48 42 55 49 48 44 44 50 43 52 61 47\n",
       " [8569] 58 54 42 53 56 59 44 46 45 35 51 53 45 40 55 53 50 52 45 51 41 41 48 45\n",
       " [8593] 50 50 51 45 50 45 43 53 53 46 52 57 51 58 46 45 51 55 52 54 42 51 45 45\n",
       " [8617] 48 53 50 47 53 52 49 47 54 61 58 48 53 49 56 53 59 56 37 40 47 49 50 58\n",
       " [8641] 48 45 49 44 49 52 51 66 52 48 52 50 46 43 46 49 50 47 45 41 59 50 50 49\n",
       " [8665] 57 43 47 48 52 45 40 49 57 50 52 50 52 48 42 46 52 60 54 50 52 45 48 51\n",
       " [8689] 48 49 44 48 48 55 44 45 54 53 47 48 46 50 51 43 46 42 51 47 52 51 44 58\n",
       " [8713] 48 57 43 53 53 49 49 51 48 55 46 43 49 57 44 45 43 59 53 45 57 47 43 49\n",
       " [8737] 52 46 50 49 59 51 51 48 55 52 53 51 49 57 51 51 51 49 55 56 50 52 58 53\n",
       " [8761] 51 53 44 49 58 54 54 48 51 59 53 44 46 58 49 58 50 61 51 54 49 47 49 59\n",
       " [8785] 59 46 51 47 48 46 50 43 54 51 45 51 40 55 44 51 44 55 56 52 46 51 48 49\n",
       " [8809] 45 50 49 45 43 47 52 47 56 61 53 48 43 45 44 52 54 47 50 43 48 56 65 47\n",
       " [8833] 46 58 48 44 50 50 51 52 43 49 47 60 40 44 55 56 62 45 62 46 52 51 58 55\n",
       " [8857] 45 49 45 48 51 57 47 51 57 50 50 52 42 53 50 48 47 52 59 58 46 43 47 49\n",
       " [8881] 47 54 44 48 43 50 59 53 47 43 46 52 50 52 43 46 45 45 52 54 54 49 52 49\n",
       " [8905] 38 56 46 60 48 52 48 52 56 56 49 52 43 54 58 48 48 52 59 61 60 51 50 55\n",
       " [8929] 41 47 50 47 54 44 45 54 44 49 46 57 51 52 42 45 51 50 59 58 49 52 53 47\n",
       " [8953] 43 43 57 38 45 63 53 43 52 49 52 51 58 45 45 49 45 57 43 45 54 49 55 55\n",
       " [8977] 51 44 55 45 49 53 41 50 52 47 50 50 51 45 53 44 49 49 58 49 46 38 58 49\n",
       " [9001] 56 46 58 44 63 54 51 55 47 53 50 54 62 52 49 51 48 50 55 51 50 54 51 49\n",
       " [9025] 55 51 54 48 55 42 59 53 61 48 46 47 46 50 50 49 57 50 47 53 54 59 54 51\n",
       " [9049] 39 54 47 53 55 39 47 50 57 44 48 48 46 47 50 55 58 43 51 49 58 60 47 51\n",
       " [9073] 54 49 53 42 43 52 51 48 50 52 47 48 43 40 49 46 52 46 49 46 54 46 51 54\n",
       " [9097] 51 55 54 54 49 55 51 48 46 48 53 47 50 50 50 49 50 51 52 44 45 56 46 49\n",
       " [9121] 47 60 45 58 47 45 57 48 42 51 50 59 43 45 55 55 51 45 60 55 47 47 50 55\n",
       " [9145] 45 50 58 49 55 44 52 50 45 51 57 50 47 55 44 51 54 45 43 50 48 46 57 49\n",
       " [9169] 54 54 55 43 52 51 60 43 45 60 44 49 46 50 55 52 54 54 50 43 59 43 50 50\n",
       " [9193] 39 55 43 45 48 44 57 56 58 42 42 41 44 49 53 44 55 51 44 54 45 55 49 52\n",
       " [9217] 46 57 55 43 51 48 52 56 51 50 43 51 50 53 55 48 56 47 58 58 53 55 50 42\n",
       " [9241] 44 52 56 57 49 49 57 43 50 45 57 52 46 55 48 46 51 52 51 51 56 50 47 56\n",
       " [9265] 57 51 52 43 61 56 45 42 45 51 51 52 53 42 58 60 49 45 44 53 47 49 53 53\n",
       " [9289] 43 45 48 57 64 48 45 51 54 49 42 62 50 56 56 38 50 54 49 52 45 47 48 49\n",
       " [9313] 50 39 48 52 53 50 53 42 46 52 46 50 53 46 54 52 52 50 56 52 37 50 49 49\n",
       " [9337] 48 52 52 48 44 44 55 46 50 54 54 46 47 52 49 46 45 54 53 50 38 50 42 55\n",
       " [9361] 54 52 52 49 47 51 45 52 58 47 44 60 46 61 49 45 50 47 54 54 55 55 43 60\n",
       " [9385] 48 53 40 49 41 48 55 54 54 51 49 57 48 50 51 50 53 52 59 45 45 48 55 45\n",
       " [9409] 52 46 51 41 54 60 57 59 46 47 45 54 46 54 56 41 50 50 47 51 47 59 51 48\n",
       " [9433] 42 50 49 48 57 41 55 52 56 46 53 45 43 41 50 47 50 52 47 55 44 52 50 55\n",
       " [9457] 45 49 51 47 59 52 49 59 48 47 51 44 50 51 46 54 65 55 48 51 47 47 49 58\n",
       " [9481] 53 53 48 46 54 47 55 44 55 52 47 51 51 51 49 41 49 55 54 40 48 53 48 46\n",
       " [9505] 46 53 53 50 44 55 50 54 49 50 44 51 48 52 52 56 47 52 51 48 47 44 49 51\n",
       " [9529] 54 47 53 50 56 44 54 41 44 59 41 41 50 46 47 54 44 40 40 42 53 53 45 48\n",
       " [9553] 42 41 44 45 43 49 53 48 55 48 60 50 58 54 50 55 55 53 49 47 52 41 43 43\n",
       " [9577] 55 50 53 47 52 46 55 48 57 51 47 52 49 55 53 54 49 47 48 49 51 55 55 50\n",
       " [9601] 57 50 52 47 53 55 51 50 49 56 43 47 43 46 47 44 43 53 52 43 44 55 52 50\n",
       " [9625] 43 55 51 45 50 54 49 52 49 47 39 49 42 52 52 49 52 49 49 52 52 55 46 57\n",
       " [9649] 49 58 56 50 50 48 46 44 54 50 48 56 43 55 49 48 45 54 46 54 46 53 49 54\n",
       " [9673] 52 54 55 50 54 45 45 50 40 49 56 46 47 47 48 50 48 45 53 46 52 52 48 48\n",
       " [9697] 59 63 53 56 46 51 45 36 56 46 49 43 54 44 55 49 51 54 42 50 50 52 55 42\n",
       " [9721] 49 52 53 47 55 47 46 43 58 49 54 58 54 53 51 56 57 62 43 51 59 52 51 51\n",
       " [9745] 58 56 51 52 53 55 49 48 41 54 55 59 46 37 49 53 52 48 48 60 48 59 53 55\n",
       " [9769] 44 46 34 47 48 51 42 53 39 49 52 50 57 54 43 54 46 50 50 45 40 50 59 52\n",
       " [9793] 53 47 48 50 52 57 39 53 46 55 53 50 52 44 50 52 51 53 44 50 50 47 47 54\n",
       " [9817] 43 55 55 55 42 53 46 51 55 40 48 55 56 47 49 53 46 52 53 51 48 47 45 46\n",
       " [9841] 49 49 59 43 41 47 53 49 55 47 53 49 45 48 46 48 51 56 53 62 48 51 56 51\n",
       " [9865] 58 50 56 45 52 57 55 39 41 52 46 47 50 44 46 47 45 35 48 57 48 48 46 53\n",
       " [9889] 48 48 52 55 53 47 46 51 55 50 52 54 50 48 47 39 46 43 50 41 54 51 57 38\n",
       " [9913] 44 50 51 45 57 38 52 47 48 51 50 46 58 47 49 55 43 45 42 59 53 54 45 47\n",
       " [9937] 47 57 48 49 56 48 54 49 61 54 53 49 58 51 44 59 43 52 48 42 57 51 59 53\n",
       " [9961] 46 58 50 55 40 55 51 53 40 53 53 56 50 55 45 40 52 51 52 53 54 48 51 55\n",
       " [9985] 49 56 52 46 53 47 49 47 47 51 49 55 61 54 46 54"
      ]
     },
     "metadata": {},
     "output_type": "display_data"
    }
   ],
   "source": [
    "c"
   ]
  },
  {
   "cell_type": "code",
   "execution_count": 14,
   "id": "70c7add8-3eb2-4814-b369-fcf4262a42b4",
   "metadata": {
    "tags": []
   },
   "outputs": [
    {
     "data": {
      "image/png": "[encoded data removed]",
      "text/plain": [
       "Plot with title “Histogram of c”"
      ]
     },
     "metadata": {
      "image/png": {
       "height": 420,
       "width": 420
      }
     },
     "output_type": "display_data"
    }
   ],
   "source": [
    "hist(c,breaks=20)"
   ]
  },
  {
   "cell_type": "code",
   "execution_count": 1,
   "id": "dd8d59bc-3e1e-423e-a453-fdfc3aed853a",
   "metadata": {
    "tags": []
   },
   "outputs": [
    {
     "name": "stderr",
     "output_type": "stream",
     "text": [
      "\n",
      "Attaching package: ‘dplyr’\n",
      "\n",
      "\n",
      "The following objects are masked from ‘package:stats’:\n",
      "\n",
      "    filter, lag\n",
      "\n",
      "\n",
      "The following objects are masked from ‘package:base’:\n",
      "\n",
      "    intersect, setdiff, setequal, union\n",
      "\n",
      "\n"
     ]
    }
   ],
   "source": [
    "library(dplyr)"
   ]
  },
  {
   "cell_type": "code",
   "execution_count": 2,
   "id": "558c7216-72a6-43ca-b49c-8f7cc08717db",
   "metadata": {
    "tags": []
   },
   "outputs": [],
   "source": [
    "set.seed(69)"
   ]
  },
  {
   "cell_type": "code",
   "execution_count": 3,
   "id": "0f4030a3-a40b-47d2-8cd0-641c6dc5f17e",
   "metadata": {
    "tags": []
   },
   "outputs": [],
   "source": [
    "var1 <- rnorm(100,2,1)\n",
    "var2 <- rnorm(100,3,1)\n",
    "var3 <- rnorm(100,3,2)"
   ]
  },
  {
   "cell_type": "code",
   "execution_count": 4,
   "id": "0babd397-685f-47e2-952e-439bd852e676",
   "metadata": {
    "tags": []
   },
   "outputs": [],
   "source": [
    "data <- data.frame(var1,var2,var3)"
   ]
  },
  {
   "cell_type": "code",
   "execution_count": 5,
   "id": "0739505f-1969-435f-9eb1-7b867cee94fa",
   "metadata": {
    "tags": []
   },
   "outputs": [
    {
     "data": {
      "text/html": [
       "<table class=\"dataframe\">\n",
       "<caption>A data.frame: 6 × 3</caption>\n",
       "<thead>\n",
       "\t<tr><th></th><th scope=col>var1</th><th scope=col>var2</th><th scope=col>var3</th></tr>\n",
       "\t<tr><th></th><th scope=col>&lt;dbl&gt;</th><th scope=col>&lt;dbl&gt;</th><th scope=col>&lt;dbl&gt;</th></tr>\n",
       "</thead>\n",
       "<tbody>\n",
       "\t<tr><th scope=row>1</th><td>2.077165</td><td>5.215842</td><td>0.9345638</td></tr>\n",
       "\t<tr><th scope=row>2</th><td>2.374316</td><td>4.575325</td><td>3.8126338</td></tr>\n",
       "\t<tr><th scope=row>3</th><td>1.665186</td><td>3.855811</td><td>2.5401943</td></tr>\n",
       "\t<tr><th scope=row>4</th><td>1.050111</td><td>3.802782</td><td>2.2298640</td></tr>\n",
       "\t<tr><th scope=row>5</th><td>1.059790</td><td>1.851276</td><td>6.7702609</td></tr>\n",
       "\t<tr><th scope=row>6</th><td>3.189623</td><td>3.101434</td><td>4.3716575</td></tr>\n",
       "</tbody>\n",
       "</table>\n"
      ],
      "text/latex": [
       "A data.frame: 6 × 3\n",
       "\\begin{tabular}{r|lll}\n",
       "  & var1 & var2 & var3\\\\\n",
       "  & <dbl> & <dbl> & <dbl>\\\\\n",
       "\\hline\n",
       "\t1 & 2.077165 & 5.215842 & 0.9345638\\\\\n",
       "\t2 & 2.374316 & 4.575325 & 3.8126338\\\\\n",
       "\t3 & 1.665186 & 3.855811 & 2.5401943\\\\\n",
       "\t4 & 1.050111 & 3.802782 & 2.2298640\\\\\n",
       "\t5 & 1.059790 & 1.851276 & 6.7702609\\\\\n",
       "\t6 & 3.189623 & 3.101434 & 4.3716575\\\\\n",
       "\\end{tabular}\n"
      ],
      "text/markdown": [
       "\n",
       "A data.frame: 6 × 3\n",
       "\n",
       "| <!--/--> | var1 &lt;dbl&gt; | var2 &lt;dbl&gt; | var3 &lt;dbl&gt; |\n",
       "|---|---|---|---|\n",
       "| 1 | 2.077165 | 5.215842 | 0.9345638 |\n",
       "| 2 | 2.374316 | 4.575325 | 3.8126338 |\n",
       "| 3 | 1.665186 | 3.855811 | 2.5401943 |\n",
       "| 4 | 1.050111 | 3.802782 | 2.2298640 |\n",
       "| 5 | 1.059790 | 1.851276 | 6.7702609 |\n",
       "| 6 | 3.189623 | 3.101434 | 4.3716575 |\n",
       "\n"
      ],
      "text/plain": [
       "  var1     var2     var3     \n",
       "1 2.077165 5.215842 0.9345638\n",
       "2 2.374316 4.575325 3.8126338\n",
       "3 1.665186 3.855811 2.5401943\n",
       "4 1.050111 3.802782 2.2298640\n",
       "5 1.059790 1.851276 6.7702609\n",
       "6 3.189623 3.101434 4.3716575"
      ]
     },
     "metadata": {},
     "output_type": "display_data"
    }
   ],
   "source": [
    "head(data)"
   ]
  },
  {
   "cell_type": "code",
   "execution_count": 21,
   "id": "fde6270c-3f8c-4438-81b5-40da38d165f9",
   "metadata": {
    "tags": []
   },
   "outputs": [
    {
     "data": {
      "text/html": [
       "<style>\n",
       ".list-inline {list-style: none; margin:0; padding: 0}\n",
       ".list-inline>li {display: inline-block}\n",
       ".list-inline>li:not(:last-child)::after {content: \"\\00b7\"; padding: 0 .5ex}\n",
       "</style>\n",
       "<ol class=list-inline><li>0.944949880182608</li><li>2.62858026807489</li><li>0.702146076185621</li><li>0.428926684094237</li><li>0.0231681321628134</li></ol>\n"
      ],
      "text/latex": [
       "\\begin{enumerate*}\n",
       "\\item 0.944949880182608\n",
       "\\item 2.62858026807489\n",
       "\\item 0.702146076185621\n",
       "\\item 0.428926684094237\n",
       "\\item 0.0231681321628134\n",
       "\\end{enumerate*}\n"
      ],
      "text/markdown": [
       "1. 0.944949880182608\n",
       "2. 2.62858026807489\n",
       "3. 0.702146076185621\n",
       "4. 0.428926684094237\n",
       "5. 0.0231681321628134\n",
       "\n",
       "\n"
      ],
      "text/plain": [
       "[1] 0.94494988 2.62858027 0.70214608 0.42892668 0.02316813"
      ]
     },
     "metadata": {},
     "output_type": "display_data"
    }
   ],
   "source": [
    "sample(data$var1,5,replace = TRUE)"
   ]
  },
  {
   "cell_type": "code",
   "execution_count": null,
   "id": "8d58872f-750e-488a-b46f-d108164a8ad1",
   "metadata": {},
   "outputs": [],
   "source": [
    "data(iris)"
   ]
  },
  {
   "cell_type": "code",
   "execution_count": 23,
   "id": "f9fafa0e-2fb6-4e07-bbb1-0b5ff2c5f5f6",
   "metadata": {
    "tags": []
   },
   "outputs": [
    {
     "data": {
      "text/plain": [
       "  Sepal.Length    Sepal.Width     Petal.Length    Petal.Width   \n",
       " Min.   :4.300   Min.   :2.000   Min.   :1.000   Min.   :0.100  \n",
       " 1st Qu.:5.100   1st Qu.:2.800   1st Qu.:1.600   1st Qu.:0.300  \n",
       " Median :5.800   Median :3.000   Median :4.350   Median :1.300  \n",
       " Mean   :5.843   Mean   :3.057   Mean   :3.758   Mean   :1.199  \n",
       " 3rd Qu.:6.400   3rd Qu.:3.300   3rd Qu.:5.100   3rd Qu.:1.800  \n",
       " Max.   :7.900   Max.   :4.400   Max.   :6.900   Max.   :2.500  \n",
       "       Species  \n",
       " setosa    :50  \n",
       " versicolor:50  \n",
       " virginica :50  \n",
       "                \n",
       "                \n",
       "                "
      ]
     },
     "metadata": {},
     "output_type": "display_data"
    }
   ],
   "source": [
    "summary(iris)"
   ]
  },
  {
   "cell_type": "code",
   "execution_count": 26,
   "id": "42d157ed-65ee-4cbc-98aa-bf771f868fa9",
   "metadata": {
    "tags": []
   },
   "outputs": [
    {
     "name": "stdout",
     "output_type": "stream",
     "text": [
      "'data.frame':\t150 obs. of  5 variables:\n",
      " $ Sepal.Length: num  5.1 4.9 4.7 4.6 5 5.4 4.6 5 4.4 4.9 ...\n",
      " $ Sepal.Width : num  3.5 3 3.2 3.1 3.6 3.9 3.4 3.4 2.9 3.1 ...\n",
      " $ Petal.Length: num  1.4 1.4 1.3 1.5 1.4 1.7 1.4 1.5 1.4 1.5 ...\n",
      " $ Petal.Width : num  0.2 0.2 0.2 0.2 0.2 0.4 0.3 0.2 0.2 0.1 ...\n",
      " $ Species     : Factor w/ 3 levels \"setosa\",\"versicolor\",..: 1 1 1 1 1 1 1 1 1 1 ...\n"
     ]
    }
   ],
   "source": [
    "str(iris)"
   ]
  },
  {
   "cell_type": "code",
   "execution_count": 27,
   "id": "f477be57-fb00-4f9e-a907-e63b37e9f0a2",
   "metadata": {
    "tags": []
   },
   "outputs": [
    {
     "data": {
      "text/html": [
       "<style>\n",
       ".list-inline {list-style: none; margin:0; padding: 0}\n",
       ".list-inline>li {display: inline-block}\n",
       ".list-inline>li:not(:last-child)::after {content: \"\\00b7\"; padding: 0 .5ex}\n",
       "</style>\n",
       "<ol class=list-inline><li>6.7</li><li>6.2</li><li>5.4</li><li>6.4</li><li>7.7</li><li>6.1</li><li>5.6</li><li>4.8</li><li>6.4</li><li>7.1</li><li>6.2</li><li>5.4</li><li>6.3</li></ol>\n"
      ],
      "text/latex": [
       "\\begin{enumerate*}\n",
       "\\item 6.7\n",
       "\\item 6.2\n",
       "\\item 5.4\n",
       "\\item 6.4\n",
       "\\item 7.7\n",
       "\\item 6.1\n",
       "\\item 5.6\n",
       "\\item 4.8\n",
       "\\item 6.4\n",
       "\\item 7.1\n",
       "\\item 6.2\n",
       "\\item 5.4\n",
       "\\item 6.3\n",
       "\\end{enumerate*}\n"
      ],
      "text/markdown": [
       "1. 6.7\n",
       "2. 6.2\n",
       "3. 5.4\n",
       "4. 6.4\n",
       "5. 7.7\n",
       "6. 6.1\n",
       "7. 5.6\n",
       "8. 4.8\n",
       "9. 6.4\n",
       "10. 7.1\n",
       "11. 6.2\n",
       "12. 5.4\n",
       "13. 6.3\n",
       "\n",
       "\n"
      ],
      "text/plain": [
       " [1] 6.7 6.2 5.4 6.4 7.7 6.1 5.6 4.8 6.4 7.1 6.2 5.4 6.3"
      ]
     },
     "metadata": {},
     "output_type": "display_data"
    }
   ],
   "source": [
    "sample(iris$Sepal.Length,13,replace = TRUE)"
   ]
  },
  {
   "cell_type": "markdown",
   "id": "78e1f76f-2436-4814-8840-1763bba66707",
   "metadata": {},
   "source": [
    "### Stratified Sampling"
   ]
  },
  {
   "cell_type": "markdown",
   "id": "98df83ee-3b1c-4d2d-9a36-bc15f0a0f9a9",
   "metadata": {},
   "source": [
    "Selecting 13 random samples from each class"
   ]
  },
  {
   "cell_type": "code",
   "execution_count": 28,
   "id": "5006d31f-0287-4ae1-98cf-cc658c16f1ee",
   "metadata": {
    "tags": []
   },
   "outputs": [],
   "source": [
    "iris_sample <- iris %>% group_by(Species) %>% sample_n(13)"
   ]
  },
  {
   "cell_type": "code",
   "execution_count": 31,
   "id": "196ada36-0310-4cf8-b45a-6bd30b3d0cbe",
   "metadata": {
    "tags": []
   },
   "outputs": [
    {
     "data": {
      "text/html": [
       "<table class=\"dataframe\">\n",
       "<caption>A grouped_df: 39 × 5</caption>\n",
       "<thead>\n",
       "\t<tr><th scope=col>Sepal.Length</th><th scope=col>Sepal.Width</th><th scope=col>Petal.Length</th><th scope=col>Petal.Width</th><th scope=col>Species</th></tr>\n",
       "\t<tr><th scope=col>&lt;dbl&gt;</th><th scope=col>&lt;dbl&gt;</th><th scope=col>&lt;dbl&gt;</th><th scope=col>&lt;dbl&gt;</th><th scope=col>&lt;fct&gt;</th></tr>\n",
       "</thead>\n",
       "<tbody>\n",
       "\t<tr><td>5.1</td><td>3.8</td><td>1.5</td><td>0.3</td><td>setosa    </td></tr>\n",
       "\t<tr><td>5.4</td><td>3.4</td><td>1.5</td><td>0.4</td><td>setosa    </td></tr>\n",
       "\t<tr><td>5.1</td><td>3.7</td><td>1.5</td><td>0.4</td><td>setosa    </td></tr>\n",
       "\t<tr><td>5.1</td><td>3.8</td><td>1.9</td><td>0.4</td><td>setosa    </td></tr>\n",
       "\t<tr><td>4.9</td><td>3.6</td><td>1.4</td><td>0.1</td><td>setosa    </td></tr>\n",
       "\t<tr><td>4.4</td><td>3.0</td><td>1.3</td><td>0.2</td><td>setosa    </td></tr>\n",
       "\t<tr><td>5.0</td><td>3.4</td><td>1.5</td><td>0.2</td><td>setosa    </td></tr>\n",
       "\t<tr><td>5.8</td><td>4.0</td><td>1.2</td><td>0.2</td><td>setosa    </td></tr>\n",
       "\t<tr><td>5.2</td><td>4.1</td><td>1.5</td><td>0.1</td><td>setosa    </td></tr>\n",
       "\t<tr><td>4.6</td><td>3.6</td><td>1.0</td><td>0.2</td><td>setosa    </td></tr>\n",
       "\t<tr><td>5.5</td><td>3.5</td><td>1.3</td><td>0.2</td><td>setosa    </td></tr>\n",
       "\t<tr><td>4.7</td><td>3.2</td><td>1.3</td><td>0.2</td><td>setosa    </td></tr>\n",
       "\t<tr><td>4.3</td><td>3.0</td><td>1.1</td><td>0.1</td><td>setosa    </td></tr>\n",
       "\t<tr><td>5.6</td><td>2.7</td><td>4.2</td><td>1.3</td><td>versicolor</td></tr>\n",
       "\t<tr><td>5.5</td><td>2.4</td><td>3.7</td><td>1.0</td><td>versicolor</td></tr>\n",
       "\t<tr><td>6.9</td><td>3.1</td><td>4.9</td><td>1.5</td><td>versicolor</td></tr>\n",
       "\t<tr><td>5.5</td><td>2.3</td><td>4.0</td><td>1.3</td><td>versicolor</td></tr>\n",
       "\t<tr><td>6.5</td><td>2.8</td><td>4.6</td><td>1.5</td><td>versicolor</td></tr>\n",
       "\t<tr><td>5.5</td><td>2.6</td><td>4.4</td><td>1.2</td><td>versicolor</td></tr>\n",
       "\t<tr><td>5.7</td><td>2.8</td><td>4.5</td><td>1.3</td><td>versicolor</td></tr>\n",
       "\t<tr><td>5.2</td><td>2.7</td><td>3.9</td><td>1.4</td><td>versicolor</td></tr>\n",
       "\t<tr><td>6.3</td><td>2.5</td><td>4.9</td><td>1.5</td><td>versicolor</td></tr>\n",
       "\t<tr><td>5.9</td><td>3.2</td><td>4.8</td><td>1.8</td><td>versicolor</td></tr>\n",
       "\t<tr><td>6.1</td><td>3.0</td><td>4.6</td><td>1.4</td><td>versicolor</td></tr>\n",
       "\t<tr><td>6.4</td><td>2.9</td><td>4.3</td><td>1.3</td><td>versicolor</td></tr>\n",
       "\t<tr><td>5.8</td><td>2.7</td><td>3.9</td><td>1.2</td><td>versicolor</td></tr>\n",
       "\t<tr><td>6.3</td><td>2.8</td><td>5.1</td><td>1.5</td><td>virginica </td></tr>\n",
       "\t<tr><td>7.2</td><td>3.6</td><td>6.1</td><td>2.5</td><td>virginica </td></tr>\n",
       "\t<tr><td>5.7</td><td>2.5</td><td>5.0</td><td>2.0</td><td>virginica </td></tr>\n",
       "\t<tr><td>6.7</td><td>3.3</td><td>5.7</td><td>2.1</td><td>virginica </td></tr>\n",
       "\t<tr><td>7.7</td><td>3.8</td><td>6.7</td><td>2.2</td><td>virginica </td></tr>\n",
       "\t<tr><td>5.8</td><td>2.8</td><td>5.1</td><td>2.4</td><td>virginica </td></tr>\n",
       "\t<tr><td>5.8</td><td>2.7</td><td>5.1</td><td>1.9</td><td>virginica </td></tr>\n",
       "\t<tr><td>7.2</td><td>3.0</td><td>5.8</td><td>1.6</td><td>virginica </td></tr>\n",
       "\t<tr><td>6.4</td><td>2.8</td><td>5.6</td><td>2.2</td><td>virginica </td></tr>\n",
       "\t<tr><td>6.7</td><td>3.0</td><td>5.2</td><td>2.3</td><td>virginica </td></tr>\n",
       "\t<tr><td>6.3</td><td>2.5</td><td>5.0</td><td>1.9</td><td>virginica </td></tr>\n",
       "\t<tr><td>7.6</td><td>3.0</td><td>6.6</td><td>2.1</td><td>virginica </td></tr>\n",
       "\t<tr><td>6.5</td><td>3.0</td><td>5.2</td><td>2.0</td><td>virginica </td></tr>\n",
       "</tbody>\n",
       "</table>\n"
      ],
      "text/latex": [
       "A grouped\\_df: 39 × 5\n",
       "\\begin{tabular}{lllll}\n",
       " Sepal.Length & Sepal.Width & Petal.Length & Petal.Width & Species\\\\\n",
       " <dbl> & <dbl> & <dbl> & <dbl> & <fct>\\\\\n",
       "\\hline\n",
       "\t 5.1 & 3.8 & 1.5 & 0.3 & setosa    \\\\\n",
       "\t 5.4 & 3.4 & 1.5 & 0.4 & setosa    \\\\\n",
       "\t 5.1 & 3.7 & 1.5 & 0.4 & setosa    \\\\\n",
       "\t 5.1 & 3.8 & 1.9 & 0.4 & setosa    \\\\\n",
       "\t 4.9 & 3.6 & 1.4 & 0.1 & setosa    \\\\\n",
       "\t 4.4 & 3.0 & 1.3 & 0.2 & setosa    \\\\\n",
       "\t 5.0 & 3.4 & 1.5 & 0.2 & setosa    \\\\\n",
       "\t 5.8 & 4.0 & 1.2 & 0.2 & setosa    \\\\\n",
       "\t 5.2 & 4.1 & 1.5 & 0.1 & setosa    \\\\\n",
       "\t 4.6 & 3.6 & 1.0 & 0.2 & setosa    \\\\\n",
       "\t 5.5 & 3.5 & 1.3 & 0.2 & setosa    \\\\\n",
       "\t 4.7 & 3.2 & 1.3 & 0.2 & setosa    \\\\\n",
       "\t 4.3 & 3.0 & 1.1 & 0.1 & setosa    \\\\\n",
       "\t 5.6 & 2.7 & 4.2 & 1.3 & versicolor\\\\\n",
       "\t 5.5 & 2.4 & 3.7 & 1.0 & versicolor\\\\\n",
       "\t 6.9 & 3.1 & 4.9 & 1.5 & versicolor\\\\\n",
       "\t 5.5 & 2.3 & 4.0 & 1.3 & versicolor\\\\\n",
       "\t 6.5 & 2.8 & 4.6 & 1.5 & versicolor\\\\\n",
       "\t 5.5 & 2.6 & 4.4 & 1.2 & versicolor\\\\\n",
       "\t 5.7 & 2.8 & 4.5 & 1.3 & versicolor\\\\\n",
       "\t 5.2 & 2.7 & 3.9 & 1.4 & versicolor\\\\\n",
       "\t 6.3 & 2.5 & 4.9 & 1.5 & versicolor\\\\\n",
       "\t 5.9 & 3.2 & 4.8 & 1.8 & versicolor\\\\\n",
       "\t 6.1 & 3.0 & 4.6 & 1.4 & versicolor\\\\\n",
       "\t 6.4 & 2.9 & 4.3 & 1.3 & versicolor\\\\\n",
       "\t 5.8 & 2.7 & 3.9 & 1.2 & versicolor\\\\\n",
       "\t 6.3 & 2.8 & 5.1 & 1.5 & virginica \\\\\n",
       "\t 7.2 & 3.6 & 6.1 & 2.5 & virginica \\\\\n",
       "\t 5.7 & 2.5 & 5.0 & 2.0 & virginica \\\\\n",
       "\t 6.7 & 3.3 & 5.7 & 2.1 & virginica \\\\\n",
       "\t 7.7 & 3.8 & 6.7 & 2.2 & virginica \\\\\n",
       "\t 5.8 & 2.8 & 5.1 & 2.4 & virginica \\\\\n",
       "\t 5.8 & 2.7 & 5.1 & 1.9 & virginica \\\\\n",
       "\t 7.2 & 3.0 & 5.8 & 1.6 & virginica \\\\\n",
       "\t 6.4 & 2.8 & 5.6 & 2.2 & virginica \\\\\n",
       "\t 6.7 & 3.0 & 5.2 & 2.3 & virginica \\\\\n",
       "\t 6.3 & 2.5 & 5.0 & 1.9 & virginica \\\\\n",
       "\t 7.6 & 3.0 & 6.6 & 2.1 & virginica \\\\\n",
       "\t 6.5 & 3.0 & 5.2 & 2.0 & virginica \\\\\n",
       "\\end{tabular}\n"
      ],
      "text/markdown": [
       "\n",
       "A grouped_df: 39 × 5\n",
       "\n",
       "| Sepal.Length &lt;dbl&gt; | Sepal.Width &lt;dbl&gt; | Petal.Length &lt;dbl&gt; | Petal.Width &lt;dbl&gt; | Species &lt;fct&gt; |\n",
       "|---|---|---|---|---|\n",
       "| 5.1 | 3.8 | 1.5 | 0.3 | setosa     |\n",
       "| 5.4 | 3.4 | 1.5 | 0.4 | setosa     |\n",
       "| 5.1 | 3.7 | 1.5 | 0.4 | setosa     |\n",
       "| 5.1 | 3.8 | 1.9 | 0.4 | setosa     |\n",
       "| 4.9 | 3.6 | 1.4 | 0.1 | setosa     |\n",
       "| 4.4 | 3.0 | 1.3 | 0.2 | setosa     |\n",
       "| 5.0 | 3.4 | 1.5 | 0.2 | setosa     |\n",
       "| 5.8 | 4.0 | 1.2 | 0.2 | setosa     |\n",
       "| 5.2 | 4.1 | 1.5 | 0.1 | setosa     |\n",
       "| 4.6 | 3.6 | 1.0 | 0.2 | setosa     |\n",
       "| 5.5 | 3.5 | 1.3 | 0.2 | setosa     |\n",
       "| 4.7 | 3.2 | 1.3 | 0.2 | setosa     |\n",
       "| 4.3 | 3.0 | 1.1 | 0.1 | setosa     |\n",
       "| 5.6 | 2.7 | 4.2 | 1.3 | versicolor |\n",
       "| 5.5 | 2.4 | 3.7 | 1.0 | versicolor |\n",
       "| 6.9 | 3.1 | 4.9 | 1.5 | versicolor |\n",
       "| 5.5 | 2.3 | 4.0 | 1.3 | versicolor |\n",
       "| 6.5 | 2.8 | 4.6 | 1.5 | versicolor |\n",
       "| 5.5 | 2.6 | 4.4 | 1.2 | versicolor |\n",
       "| 5.7 | 2.8 | 4.5 | 1.3 | versicolor |\n",
       "| 5.2 | 2.7 | 3.9 | 1.4 | versicolor |\n",
       "| 6.3 | 2.5 | 4.9 | 1.5 | versicolor |\n",
       "| 5.9 | 3.2 | 4.8 | 1.8 | versicolor |\n",
       "| 6.1 | 3.0 | 4.6 | 1.4 | versicolor |\n",
       "| 6.4 | 2.9 | 4.3 | 1.3 | versicolor |\n",
       "| 5.8 | 2.7 | 3.9 | 1.2 | versicolor |\n",
       "| 6.3 | 2.8 | 5.1 | 1.5 | virginica  |\n",
       "| 7.2 | 3.6 | 6.1 | 2.5 | virginica  |\n",
       "| 5.7 | 2.5 | 5.0 | 2.0 | virginica  |\n",
       "| 6.7 | 3.3 | 5.7 | 2.1 | virginica  |\n",
       "| 7.7 | 3.8 | 6.7 | 2.2 | virginica  |\n",
       "| 5.8 | 2.8 | 5.1 | 2.4 | virginica  |\n",
       "| 5.8 | 2.7 | 5.1 | 1.9 | virginica  |\n",
       "| 7.2 | 3.0 | 5.8 | 1.6 | virginica  |\n",
       "| 6.4 | 2.8 | 5.6 | 2.2 | virginica  |\n",
       "| 6.7 | 3.0 | 5.2 | 2.3 | virginica  |\n",
       "| 6.3 | 2.5 | 5.0 | 1.9 | virginica  |\n",
       "| 7.6 | 3.0 | 6.6 | 2.1 | virginica  |\n",
       "| 6.5 | 3.0 | 5.2 | 2.0 | virginica  |\n",
       "\n"
      ],
      "text/plain": [
       "   Sepal.Length Sepal.Width Petal.Length Petal.Width Species   \n",
       "1  5.1          3.8         1.5          0.3         setosa    \n",
       "2  5.4          3.4         1.5          0.4         setosa    \n",
       "3  5.1          3.7         1.5          0.4         setosa    \n",
       "4  5.1          3.8         1.9          0.4         setosa    \n",
       "5  4.9          3.6         1.4          0.1         setosa    \n",
       "6  4.4          3.0         1.3          0.2         setosa    \n",
       "7  5.0          3.4         1.5          0.2         setosa    \n",
       "8  5.8          4.0         1.2          0.2         setosa    \n",
       "9  5.2          4.1         1.5          0.1         setosa    \n",
       "10 4.6          3.6         1.0          0.2         setosa    \n",
       "11 5.5          3.5         1.3          0.2         setosa    \n",
       "12 4.7          3.2         1.3          0.2         setosa    \n",
       "13 4.3          3.0         1.1          0.1         setosa    \n",
       "14 5.6          2.7         4.2          1.3         versicolor\n",
       "15 5.5          2.4         3.7          1.0         versicolor\n",
       "16 6.9          3.1         4.9          1.5         versicolor\n",
       "17 5.5          2.3         4.0          1.3         versicolor\n",
       "18 6.5          2.8         4.6          1.5         versicolor\n",
       "19 5.5          2.6         4.4          1.2         versicolor\n",
       "20 5.7          2.8         4.5          1.3         versicolor\n",
       "21 5.2          2.7         3.9          1.4         versicolor\n",
       "22 6.3          2.5         4.9          1.5         versicolor\n",
       "23 5.9          3.2         4.8          1.8         versicolor\n",
       "24 6.1          3.0         4.6          1.4         versicolor\n",
       "25 6.4          2.9         4.3          1.3         versicolor\n",
       "26 5.8          2.7         3.9          1.2         versicolor\n",
       "27 6.3          2.8         5.1          1.5         virginica \n",
       "28 7.2          3.6         6.1          2.5         virginica \n",
       "29 5.7          2.5         5.0          2.0         virginica \n",
       "30 6.7          3.3         5.7          2.1         virginica \n",
       "31 7.7          3.8         6.7          2.2         virginica \n",
       "32 5.8          2.8         5.1          2.4         virginica \n",
       "33 5.8          2.7         5.1          1.9         virginica \n",
       "34 7.2          3.0         5.8          1.6         virginica \n",
       "35 6.4          2.8         5.6          2.2         virginica \n",
       "36 6.7          3.0         5.2          2.3         virginica \n",
       "37 6.3          2.5         5.0          1.9         virginica \n",
       "38 7.6          3.0         6.6          2.1         virginica \n",
       "39 6.5          3.0         5.2          2.0         virginica "
      ]
     },
     "metadata": {},
     "output_type": "display_data"
    }
   ],
   "source": [
    "iris_sample"
   ]
  },
  {
   "cell_type": "markdown",
   "id": "bb04899d-c187-4a75-b88e-718912008286",
   "metadata": {},
   "source": [
    "## Descriptive Statistics"
   ]
  },
  {
   "cell_type": "code",
   "execution_count": 34,
   "id": "c566f6c7-b693-41b4-bb82-d765aa1f55de",
   "metadata": {
    "tags": []
   },
   "outputs": [],
   "source": [
    "a <- c(1,2,3,4,5,5,5,6,7,8)"
   ]
  },
  {
   "cell_type": "code",
   "execution_count": 35,
   "id": "764ee105-ec87-4f7b-969a-e9ce72a2aa4e",
   "metadata": {
    "tags": []
   },
   "outputs": [
    {
     "data": {
      "text/plain": [
       "   Min. 1st Qu.  Median    Mean 3rd Qu.    Max. \n",
       "   1.00    3.25    5.00    4.60    5.75    8.00 "
      ]
     },
     "metadata": {},
     "output_type": "display_data"
    }
   ],
   "source": [
    "summary(a)"
   ]
  },
  {
   "cell_type": "code",
   "execution_count": 36,
   "id": "20a8dbb5-d8bf-46cb-895b-e3e1f46c69fa",
   "metadata": {
    "tags": []
   },
   "outputs": [
    {
     "data": {
      "text/html": [
       "4.6"
      ],
      "text/latex": [
       "4.6"
      ],
      "text/markdown": [
       "4.6"
      ],
      "text/plain": [
       "[1] 4.6"
      ]
     },
     "metadata": {},
     "output_type": "display_data"
    }
   ],
   "source": [
    "mean(a)"
   ]
  },
  {
   "cell_type": "code",
   "execution_count": 41,
   "id": "6fcce74d-c2cd-4788-87d2-9a1bfd278abb",
   "metadata": {
    "tags": []
   },
   "outputs": [
    {
     "data": {
      "text/html": [
       "1.89808765834123"
      ],
      "text/latex": [
       "1.89808765834123"
      ],
      "text/markdown": [
       "1.89808765834123"
      ],
      "text/plain": [
       "[1] 1.898088"
      ]
     },
     "metadata": {},
     "output_type": "display_data"
    }
   ],
   "source": [
    "mean(var1)"
   ]
  },
  {
   "cell_type": "code",
   "execution_count": 42,
   "id": "57718aa2-2bef-4c38-9334-d76f9953fbfe",
   "metadata": {
    "tags": []
   },
   "outputs": [
    {
     "data": {
      "text/html": [
       "3.15792261264527"
      ],
      "text/latex": [
       "3.15792261264527"
      ],
      "text/markdown": [
       "3.15792261264527"
      ],
      "text/plain": [
       "[1] 3.157923"
      ]
     },
     "metadata": {},
     "output_type": "display_data"
    }
   ],
   "source": [
    "mean(var2)"
   ]
  },
  {
   "cell_type": "code",
   "execution_count": 43,
   "id": "72d8843a-d45d-49af-ae52-f0d8cea7574b",
   "metadata": {
    "tags": []
   },
   "outputs": [
    {
     "data": {
      "text/html": [
       "3.08676976403668"
      ],
      "text/latex": [
       "3.08676976403668"
      ],
      "text/markdown": [
       "3.08676976403668"
      ],
      "text/plain": [
       "[1] 3.08677"
      ]
     },
     "metadata": {},
     "output_type": "display_data"
    }
   ],
   "source": [
    "mean(var3)"
   ]
  },
  {
   "cell_type": "code",
   "execution_count": 37,
   "id": "1b1fd5e8-004f-47d6-80a3-883d33bbf367",
   "metadata": {
    "tags": []
   },
   "outputs": [
    {
     "data": {
      "text/html": [
       "5"
      ],
      "text/latex": [
       "5"
      ],
      "text/markdown": [
       "5"
      ],
      "text/plain": [
       "[1] 5"
      ]
     },
     "metadata": {},
     "output_type": "display_data"
    }
   ],
   "source": [
    "median(a)"
   ]
  },
  {
   "cell_type": "code",
   "execution_count": 40,
   "id": "85d592c7-d1b3-418c-abbe-5a8abf0fd74d",
   "metadata": {
    "tags": []
   },
   "outputs": [
    {
     "data": {
      "text/html": [
       "1.82279885724162"
      ],
      "text/latex": [
       "1.82279885724162"
      ],
      "text/markdown": [
       "1.82279885724162"
      ],
      "text/plain": [
       "[1] 1.822799"
      ]
     },
     "metadata": {},
     "output_type": "display_data"
    }
   ],
   "source": [
    "median(var1)"
   ]
  },
  {
   "cell_type": "code",
   "execution_count": 38,
   "id": "d070998e-dcfd-48e1-b79e-cf39ed286549",
   "metadata": {
    "tags": []
   },
   "outputs": [],
   "source": [
    "mode = function(vec){\n",
    "    y <- table(vec)\n",
    "    print(names(y)[which(y==max(y))])\n",
    "}"
   ]
  },
  {
   "cell_type": "code",
   "execution_count": 39,
   "id": "f12fa9c4-14cc-475b-9321-3c17f6a15667",
   "metadata": {
    "tags": []
   },
   "outputs": [
    {
     "name": "stdout",
     "output_type": "stream",
     "text": [
      "[1] \"5\"\n"
     ]
    }
   ],
   "source": [
    "mode(a)"
   ]
  },
  {
   "cell_type": "code",
   "execution_count": 5,
   "id": "e9dbb22e-cca8-43b5-9421-6e470a1b75e6",
   "metadata": {
    "tags": []
   },
   "outputs": [
    {
     "data": {
      "text/html": [
       "4.71111111111111"
      ],
      "text/latex": [
       "4.71111111111111"
      ],
      "text/markdown": [
       "4.71111111111111"
      ],
      "text/plain": [
       "[1] 4.711111"
      ]
     },
     "metadata": {},
     "output_type": "display_data"
    }
   ],
   "source": [
    "var(a)"
   ]
  },
  {
   "cell_type": "code",
   "execution_count": 6,
   "id": "5919ab3a-5c56-41b4-9e38-eabecf6cbc38",
   "metadata": {
    "tags": []
   },
   "outputs": [
    {
     "data": {
      "text/html": [
       "2.17050941281329"
      ],
      "text/latex": [
       "2.17050941281329"
      ],
      "text/markdown": [
       "2.17050941281329"
      ],
      "text/plain": [
       "[1] 2.170509"
      ]
     },
     "metadata": {},
     "output_type": "display_data"
    }
   ],
   "source": [
    "sd(a)"
   ]
  },
  {
   "cell_type": "code",
   "execution_count": 44,
   "id": "9b466254-523b-4904-bb1a-0c8e2ebb8d2b",
   "metadata": {
    "tags": []
   },
   "outputs": [
    {
     "data": {
      "text/html": [
       "<style>\n",
       ".list-inline {list-style: none; margin:0; padding: 0}\n",
       ".list-inline>li {display: inline-block}\n",
       ".list-inline>li:not(:last-child)::after {content: \"\\00b7\"; padding: 0 .5ex}\n",
       "</style>\n",
       "<ol class=list-inline><li>1</li><li>8</li></ol>\n"
      ],
      "text/latex": [
       "\\begin{enumerate*}\n",
       "\\item 1\n",
       "\\item 8\n",
       "\\end{enumerate*}\n"
      ],
      "text/markdown": [
       "1. 1\n",
       "2. 8\n",
       "\n",
       "\n"
      ],
      "text/plain": [
       "[1] 1 8"
      ]
     },
     "metadata": {},
     "output_type": "display_data"
    }
   ],
   "source": [
    "range(a)"
   ]
  },
  {
   "cell_type": "code",
   "execution_count": 45,
   "id": "044f6626-4541-412b-a55b-6bf783247d00",
   "metadata": {
    "tags": []
   },
   "outputs": [
    {
     "data": {
      "text/html": [
       "7"
      ],
      "text/latex": [
       "7"
      ],
      "text/markdown": [
       "7"
      ],
      "text/plain": [
       "[1] 7"
      ]
     },
     "metadata": {},
     "output_type": "display_data"
    }
   ],
   "source": [
    "diff(range(a))"
   ]
  },
  {
   "cell_type": "code",
   "execution_count": 46,
   "id": "11d631aa-83ab-4f45-b170-0c623f7c2f27",
   "metadata": {
    "tags": []
   },
   "outputs": [
    {
     "data": {
      "text/html": [
       "1"
      ],
      "text/latex": [
       "1"
      ],
      "text/markdown": [
       "1"
      ],
      "text/plain": [
       "[1] 1"
      ]
     },
     "metadata": {},
     "output_type": "display_data"
    }
   ],
   "source": [
    "min(a)"
   ]
  },
  {
   "cell_type": "code",
   "execution_count": 47,
   "id": "2bbf8621-ed1c-4c17-892e-33acd9262e9b",
   "metadata": {
    "tags": []
   },
   "outputs": [
    {
     "data": {
      "text/html": [
       "8"
      ],
      "text/latex": [
       "8"
      ],
      "text/markdown": [
       "8"
      ],
      "text/plain": [
       "[1] 8"
      ]
     },
     "metadata": {},
     "output_type": "display_data"
    }
   ],
   "source": [
    "max(a)"
   ]
  },
  {
   "cell_type": "code",
   "execution_count": 51,
   "id": "557050cb-2b88-4908-89de-f30ad5efa6d5",
   "metadata": {
    "tags": []
   },
   "outputs": [
    {
     "data": {
      "text/html": [
       "'Range is: 1 , 8'"
      ],
      "text/latex": [
       "'Range is: 1 , 8'"
      ],
      "text/markdown": [
       "'Range is: 1 , 8'"
      ],
      "text/plain": [
       "[1] \"Range is: 1 , 8\""
      ]
     },
     "metadata": {},
     "output_type": "display_data"
    }
   ],
   "source": [
    "paste('Range is:',min(a),\",\",max(a))"
   ]
  },
  {
   "cell_type": "code",
   "execution_count": 54,
   "id": "fe621605-dcbe-44b0-a1a8-6c7edbc53d99",
   "metadata": {
    "tags": []
   },
   "outputs": [
    {
     "data": {
      "text/html": [
       "7"
      ],
      "text/latex": [
       "7"
      ],
      "text/markdown": [
       "7"
      ],
      "text/plain": [
       "[1] 7"
      ]
     },
     "metadata": {},
     "output_type": "display_data"
    }
   ],
   "source": [
    "max(a)-min(a)"
   ]
  },
  {
   "cell_type": "code",
   "execution_count": 55,
   "id": "bb239b53-e47e-4f86-9902-7b68bb307263",
   "metadata": {
    "tags": []
   },
   "outputs": [
    {
     "data": {
      "text/html": [
       "2.5"
      ],
      "text/latex": [
       "2.5"
      ],
      "text/markdown": [
       "2.5"
      ],
      "text/plain": [
       "[1] 2.5"
      ]
     },
     "metadata": {},
     "output_type": "display_data"
    }
   ],
   "source": [
    "IQR(a)"
   ]
  },
  {
   "cell_type": "code",
   "execution_count": 56,
   "id": "6f87d78d-349b-4388-8e50-f8aa9db9bc2b",
   "metadata": {
    "tags": []
   },
   "outputs": [
    {
     "data": {
      "text/html": [
       "<style>\n",
       ".dl-inline {width: auto; margin:0; padding: 0}\n",
       ".dl-inline>dt, .dl-inline>dd {float: none; width: auto; display: inline-block}\n",
       ".dl-inline>dt::after {content: \":\\0020\"; padding-right: .5ex}\n",
       ".dl-inline>dt:not(:first-of-type) {padding-left: .5ex}\n",
       "</style><dl class=dl-inline><dt>0%</dt><dd>1</dd><dt>25%</dt><dd>3.25</dd><dt>50%</dt><dd>5</dd><dt>75%</dt><dd>5.75</dd><dt>100%</dt><dd>8</dd></dl>\n"
      ],
      "text/latex": [
       "\\begin{description*}\n",
       "\\item[0\\textbackslash{}\\%] 1\n",
       "\\item[25\\textbackslash{}\\%] 3.25\n",
       "\\item[50\\textbackslash{}\\%] 5\n",
       "\\item[75\\textbackslash{}\\%] 5.75\n",
       "\\item[100\\textbackslash{}\\%] 8\n",
       "\\end{description*}\n"
      ],
      "text/markdown": [
       "0%\n",
       ":   125%\n",
       ":   3.2550%\n",
       ":   575%\n",
       ":   5.75100%\n",
       ":   8\n",
       "\n"
      ],
      "text/plain": [
       "  0%  25%  50%  75% 100% \n",
       "1.00 3.25 5.00 5.75 8.00 "
      ]
     },
     "metadata": {},
     "output_type": "display_data"
    }
   ],
   "source": [
    "quantile(a)"
   ]
  },
  {
   "cell_type": "code",
   "execution_count": 59,
   "id": "68e034b2-3fa4-4fd1-97f1-80313d5c9153",
   "metadata": {
    "tags": []
   },
   "outputs": [
    {
     "data": {
      "image/png": "[encoded data removed]",
      "text/plain": [
       "Plot with title “Normal Q-Q Plot”"
      ]
     },
     "metadata": {
      "image/png": {
       "height": 420,
       "width": 420
      }
     },
     "output_type": "display_data"
    }
   ],
   "source": [
    "qqnorm(data$var1)\n",
    "qqline(data$var1)"
   ]
  },
  {
   "cell_type": "code",
   "execution_count": 60,
   "id": "79f0e7ff-f142-4549-884a-f9993465bcb5",
   "metadata": {
    "tags": []
   },
   "outputs": [
    {
     "data": {
      "image/png": "[encoded data removed]",
      "text/plain": [
       "Plot with title “Normal Q-Q Plot”"
      ]
     },
     "metadata": {
      "image/png": {
       "height": 420,
       "width": 420
      }
     },
     "output_type": "display_data"
    }
   ],
   "source": [
    "qqnorm(data$var2)\n",
    "qqline(data$var2)"
   ]
  },
  {
   "cell_type": "code",
   "execution_count": 62,
   "id": "6147ac75-b86b-4516-a0d9-47f13537c818",
   "metadata": {
    "tags": []
   },
   "outputs": [
    {
     "data": {
      "text/html": [
       "\n",
       "<table style=\"width: 100%;\"><tr><td>qqnorm {stats}</td><td style=\"text-align: right;\">R Documentation</td></tr></table>\n",
       "\n",
       "<h2 id='qqnorm'>Quantile-Quantile Plots</h2>\n",
       "\n",
       "<h3>Description</h3>\n",
       "\n",
       "<p><code>qqnorm</code> is a generic function the default method of which\n",
       "produces a normal QQ plot of the values in <code>y</code>.\n",
       "<code>qqline</code> adds a line to a &ldquo;theoretical&rdquo;, by default\n",
       "normal, quantile-quantile plot which passes through the <code>probs</code>\n",
       "quantiles, by default the first and third quartiles.\n",
       "</p>\n",
       "<p><code>qqplot</code> produces a QQ plot of two datasets. If <code>conf.level</code> is\n",
       "given, a confidence band for a function transforming the distribution of\n",
       "<code>x</code> into the distribution of <code>y</code> is plotted based on Switzer\n",
       "(1976). The QQ plot can be understood as an estimate of such a \n",
       "treatment function. If <code>exact = NULL</code> (the default), an\n",
       "exact confidence band is computed if the product of\n",
       "the sample sizes is less than 10000, with or\n",
       "without ties. Otherwise, asymptotic distributions are used whose approximations may\n",
       "be inaccurate in small samples. Monte-Carlo approximations based on\n",
       "<code>B</code> random permutations are computed when <code>simulate = TRUE</code>.\n",
       "Confidence bands are in agreement with Smirnov's test, that is, the\n",
       "bisecting line is covered by the band iff the null of both samples coming \n",
       "from the same distribution cannot be rejected at the same level.\n",
       "</p>\n",
       "<p>Graphical parameters may be given as arguments to <code>qqnorm</code>,\n",
       "<code>qqplot</code> and <code>qqline</code>.\n",
       "</p>\n",
       "\n",
       "\n",
       "<h3>Usage</h3>\n",
       "\n",
       "<pre><code class='language-R'>qqnorm(y, ...)\n",
       "## Default S3 method:\n",
       "qqnorm(y, ylim, main = \"Normal Q-Q Plot\",\n",
       "       xlab = \"Theoretical Quantiles\", ylab = \"Sample Quantiles\",\n",
       "       plot.it = TRUE, datax = FALSE, ...)\n",
       "\n",
       "qqline(y, datax = FALSE, distribution = qnorm,\n",
       "       probs = c(0.25, 0.75), qtype = 7, ...)\n",
       "\n",
       "qqplot(x, y, plot.it = TRUE,\n",
       "       xlab = deparse1(substitute(x)),\n",
       "       ylab = deparse1(substitute(y)), ...,\n",
       "       conf.level = NULL, \n",
       "       conf.args = list(exact = NULL, simulate.p.value = FALSE,\n",
       "                        B = 2000, col = NA, border = NULL))\n",
       "</code></pre>\n",
       "\n",
       "\n",
       "<h3>Arguments</h3>\n",
       "\n",
       "<table>\n",
       "<tr><td><code id=\"qqnorm_:_x\">x</code></td>\n",
       "<td>\n",
       "<p>The first sample for <code>qqplot</code>.</p>\n",
       "</td></tr>\n",
       "<tr><td><code id=\"qqnorm_:_y\">y</code></td>\n",
       "<td>\n",
       "<p>The second or only data sample.</p>\n",
       "</td></tr>\n",
       "<tr><td><code id=\"qqnorm_:_xlab\">xlab</code>, <code id=\"qqnorm_:_ylab\">ylab</code>, <code id=\"qqnorm_:_main\">main</code></td>\n",
       "<td>\n",
       "<p>plot labels.  The <code>xlab</code> and <code>ylab</code>\n",
       "refer to the y and x axes respectively if <code>datax = TRUE</code>.</p>\n",
       "</td></tr>\n",
       "<tr><td><code id=\"qqnorm_:_plot.it\">plot.it</code></td>\n",
       "<td>\n",
       "<p>logical. Should the result be plotted?</p>\n",
       "</td></tr>\n",
       "<tr><td><code id=\"qqnorm_:_datax\">datax</code></td>\n",
       "<td>\n",
       "<p>logical. Should data values be on the x-axis?</p>\n",
       "</td></tr>\n",
       "<tr><td><code id=\"qqnorm_:_distribution\">distribution</code></td>\n",
       "<td>\n",
       "<p>quantile function for reference theoretical distribution.</p>\n",
       "</td></tr>\n",
       "<tr><td><code id=\"qqnorm_:_probs\">probs</code></td>\n",
       "<td>\n",
       "<p>numeric vector of length two, representing probabilities.\n",
       "Corresponding quantile pairs define the line drawn.</p>\n",
       "</td></tr>\n",
       "<tr><td><code id=\"qqnorm_:_qtype\">qtype</code></td>\n",
       "<td>\n",
       "<p>the <code>type</code> of quantile computation used in <code>quantile</code>.</p>\n",
       "</td></tr>\n",
       "<tr><td><code id=\"qqnorm_:_ylim\">ylim</code>, <code id=\"qqnorm_:_...\">...</code></td>\n",
       "<td>\n",
       "<p>graphical parameters.</p>\n",
       "</td></tr>\n",
       "<tr><td><code id=\"qqnorm_:_conf.level\">conf.level</code></td>\n",
       "<td>\n",
       "<p>confidence level of the band. The default, <code>NULL</code>,\n",
       "does not lead to the computation of a confidence band.</p>\n",
       "</td></tr>\n",
       "<tr><td><code id=\"qqnorm_:_conf.args\">conf.args</code></td>\n",
       "<td>\n",
       "<p>list of arguments defining confidence band computation\n",
       "and visualisation: <code>exact</code> is <code>NULL</code> (see details) or a logical indicating whether an exact\n",
       "p-value should be computed,  <code>simulate.p.value</code> is a logical indicating whether to compute\n",
       "p-values by Monte Carlo simulation, <code>B</code> defines the number of replicates used in the\n",
       "Monte Carlo test, <code>col</code> and <code>border</code> define the color for filling\n",
       "and border of the confidence band (the default, <code>NA</code> and <code>NULL</code>, is to leave the band unfilled\n",
       "with black borders.</p>\n",
       "</td></tr>\n",
       "</table>\n",
       "\n",
       "\n",
       "<h3>Value</h3>\n",
       "\n",
       "<p>For <code>qqnorm</code> and <code>qqplot</code>, a list with components\n",
       "</p>\n",
       "<table>\n",
       "<tr><td><code>x</code></td>\n",
       "<td>\n",
       "<p>The x coordinates of the points that were/would be plotted</p>\n",
       "</td></tr>\n",
       "<tr><td><code>y</code></td>\n",
       "<td>\n",
       "<p>The original <code>y</code> vector, i.e., the corresponding y\n",
       "coordinates <em>including <code>NA</code>s</em>. If <code>conf.level</code>\n",
       "was specified to <code>qqplot</code>, the list contains additional components \n",
       "<code>lwr</code> and <code>upr</code> defining the confidence band.</p>\n",
       "</td></tr>\n",
       "</table>\n",
       "\n",
       "\n",
       "<h3>References</h3>\n",
       "\n",
       "<p>Becker, R. A., Chambers, J. M. and Wilks, A. R. (1988).\n",
       "<em>The New S Language</em>.\n",
       "Wadsworth &amp; Brooks/Cole.\n",
       "</p>\n",
       "<p>Switzer, P. (1976).\n",
       "Confidence procedures for two-sample problems.\n",
       "<em>Biometrika</em>, <b>63</b>(1), 13&ndash;25.\n",
       "<a href=\"https://doi.org/10.1093/biomet/63.1.13\">doi:10.1093/biomet/63.1.13</a>.\n",
       "</p>\n",
       "\n",
       "\n",
       "<h3>See Also</h3>\n",
       "\n",
       "<p><code>ppoints</code>, used by <code>qqnorm</code> to generate\n",
       "approximations to expected order statistics for a normal distribution.\n",
       "</p>\n",
       "\n",
       "\n",
       "<h3>Examples</h3>\n",
       "\n",
       "<pre><code class='language-R'>require(graphics)\n",
       "\n",
       "y &lt;- rt(200, df = 5)\n",
       "qqnorm(y); qqline(y, col = 2)\n",
       "qqplot(y, rt(300, df = 5))\n",
       "\n",
       "qqnorm(precip, ylab = \"Precipitation [in/yr] for 70 US cities\")\n",
       "\n",
       "## \"QQ-Chisquare\" : --------------------------\n",
       "y &lt;- rchisq(500, df = 3)\n",
       "## Q-Q plot for Chi^2 data against true theoretical distribution:\n",
       "qqplot(qchisq(ppoints(500), df = 3), y,\n",
       "       main = expression(\"Q-Q plot for\" ~~ {chi^2}[nu == 3]))\n",
       "qqline(y, distribution = function(p) qchisq(p, df = 3),\n",
       "       probs = c(0.1, 0.6), col = 2)\n",
       "mtext(\"qqline(*, dist = qchisq(., df=3), prob = c(0.1, 0.6))\")\n",
       "## (Note that the above uses ppoints() with a = 1/2, giving the\n",
       "## probability points for quantile type 5: so theoretically, using\n",
       "## qqline(qtype = 5) might be preferable.) \n",
       "\n",
       "## Figure 1 in Switzer (1976), knee angle data\n",
       "switzer &lt;- data.frame(\n",
       "    angle = c(-31, -30, -25, -25, -23, -23, -22, -20, -20, -18,\n",
       "              -18, -18, -16, -15, -15, -14, -13, -11, -10, - 9,\n",
       "              - 8, - 7, - 7, - 7, - 6, - 6, - 4, - 4, - 3, - 2,\n",
       "              - 2, - 1,   1,   1,   4,   5,  11,  12,  16,  34,\n",
       "              -31, -20, -18, -16, -16, -16, -15, -14, -14, -14,\n",
       "              -14, -13, -13, -11, -11, -10, - 9, - 9, - 8, - 7,\n",
       "              - 7, - 6, - 6,  -5, - 5, - 5, - 4, - 2, - 2, - 2,\n",
       "                0,   0,   1,   1,   2,   4,   5,   5,   6,  17),\n",
       "    sex = gl(2, 40, labels = c(\"Female\", \"Male\")))\n",
       "\n",
       "ks.test(angle ~ sex, data = switzer)\n",
       "d &lt;- with(switzer, split(angle, sex))\n",
       "with(d, qqplot(Female, Male, pch = 19, xlim = c(-31, 31), ylim = c(-31, 31),\n",
       "               conf.level = 0.945, \n",
       "               conf.args = list(col = \"lightgrey\", exact = TRUE))\n",
       ")\n",
       "abline(a = 0, b = 1)\n",
       "\n",
       "## agreement with ks.test\n",
       "set.seed(1)\n",
       "x &lt;- rnorm(50)\n",
       "y &lt;- rnorm(50, mean = .5, sd = .95)\n",
       "ex &lt;- TRUE\n",
       "### p = 0.112\n",
       "(pval &lt;- ks.test(x, y, exact = ex)$p.value)\n",
       "## 88.8% confidence band with bisecting line\n",
       "## touching the lower bound\n",
       "qqplot(x, y, pch = 19, conf.level = 1 - pval, \n",
       "       conf.args = list(exact = ex, col = \"lightgrey\"))\n",
       "abline(a = 0, b = 1)\n",
       "\n",
       "</code></pre>\n",
       "\n",
       "<hr /><div style=\"text-align: center;\">[Package <em>stats</em> version 4.3.1 ]</div>\n",
       "</div>"
      ],
      "text/latex": [
       "\\inputencoding{utf8}\n",
       "\\HeaderA{qqnorm}{Quantile-Quantile Plots}{qqnorm}\n",
       "\\aliasA{qqline}{qqnorm}{qqline}\n",
       "\\methaliasA{qqnorm.default}{qqnorm}{qqnorm.default}\n",
       "\\aliasA{qqplot}{qqnorm}{qqplot}\n",
       "\\keyword{normal probability plot}{qqnorm}\n",
       "\\keyword{hplot}{qqnorm}\n",
       "\\keyword{distribution}{qqnorm}\n",
       "%\n",
       "\\begin{Description}\n",
       "\\code{qqnorm} is a generic function the default method of which\n",
       "produces a normal QQ plot of the values in \\code{y}.\n",
       "\\code{qqline} adds a line to a ``theoretical'', by default\n",
       "normal, quantile-quantile plot which passes through the \\code{probs}\n",
       "quantiles, by default the first and third quartiles.\n",
       "\n",
       "\\code{qqplot} produces a QQ plot of two datasets. If \\code{conf.level} is\n",
       "given, a confidence band for a function transforming the distribution of\n",
       "\\code{x} into the distribution of \\code{y} is plotted based on Switzer\n",
       "(1976). The QQ plot can be understood as an estimate of such a \n",
       "treatment function. If \\code{exact = NULL} (the default), an\n",
       "exact confidence band is computed if the product of\n",
       "the sample sizes is less than 10000, with or\n",
       "without ties. Otherwise, asymptotic distributions are used whose approximations may\n",
       "be inaccurate in small samples. Monte-Carlo approximations based on\n",
       "\\code{B} random permutations are computed when \\code{simulate = TRUE}.\n",
       "Confidence bands are in agreement with Smirnov's test, that is, the\n",
       "bisecting line is covered by the band iff the null of both samples coming \n",
       "from the same distribution cannot be rejected at the same level.\n",
       "\n",
       "Graphical parameters may be given as arguments to \\code{qqnorm},\n",
       "\\code{qqplot} and \\code{qqline}.\n",
       "\\end{Description}\n",
       "%\n",
       "\\begin{Usage}\n",
       "\\begin{verbatim}\n",
       "qqnorm(y, ...)\n",
       "## Default S3 method:\n",
       "qqnorm(y, ylim, main = \"Normal Q-Q Plot\",\n",
       "       xlab = \"Theoretical Quantiles\", ylab = \"Sample Quantiles\",\n",
       "       plot.it = TRUE, datax = FALSE, ...)\n",
       "\n",
       "qqline(y, datax = FALSE, distribution = qnorm,\n",
       "       probs = c(0.25, 0.75), qtype = 7, ...)\n",
       "\n",
       "qqplot(x, y, plot.it = TRUE,\n",
       "       xlab = deparse1(substitute(x)),\n",
       "       ylab = deparse1(substitute(y)), ...,\n",
       "       conf.level = NULL, \n",
       "       conf.args = list(exact = NULL, simulate.p.value = FALSE,\n",
       "                        B = 2000, col = NA, border = NULL))\n",
       "\\end{verbatim}\n",
       "\\end{Usage}\n",
       "%\n",
       "\\begin{Arguments}\n",
       "\\begin{ldescription}\n",
       "\\item[\\code{x}] The first sample for \\code{qqplot}.\n",
       "\\item[\\code{y}] The second or only data sample.\n",
       "\\item[\\code{xlab, ylab, main}] plot labels.  The \\code{xlab} and \\code{ylab}\n",
       "refer to the y and x axes respectively if \\code{datax = TRUE}.\n",
       "\\item[\\code{plot.it}] logical. Should the result be plotted?\n",
       "\\item[\\code{datax}] logical. Should data values be on the x-axis?\n",
       "\\item[\\code{distribution}] quantile function for reference theoretical distribution.\n",
       "\\item[\\code{probs}] numeric vector of length two, representing probabilities.\n",
       "Corresponding quantile pairs define the line drawn.\n",
       "\\item[\\code{qtype}] the \\code{type} of quantile computation used in \\code{\\LinkA{quantile}{quantile}}.\n",
       "\\item[\\code{ylim, ...}] graphical parameters.\n",
       "\\item[\\code{conf.level}] confidence level of the band. The default, \\code{NULL},\n",
       "does not lead to the computation of a confidence band.\n",
       "\\item[\\code{conf.args}] list of arguments defining confidence band computation\n",
       "and visualisation: \\code{exact} is \\code{NULL} (see details) or a logical indicating whether an exact\n",
       "p-value should be computed,  \\code{simulate.p.value} is a logical indicating whether to compute\n",
       "p-values by Monte Carlo simulation, \\code{B} defines the number of replicates used in the\n",
       "Monte Carlo test, \\code{col} and \\code{border} define the color for filling\n",
       "and border of the confidence band (the default, \\code{NA} and \\code{NULL}, is to leave the band unfilled\n",
       "with black borders.\n",
       "\\end{ldescription}\n",
       "\\end{Arguments}\n",
       "%\n",
       "\\begin{Value}\n",
       "For \\code{qqnorm} and \\code{qqplot}, a list with components\n",
       "\\begin{ldescription}\n",
       "\\item[\\code{x}] The x coordinates of the points that were/would be plotted\n",
       "\\item[\\code{y}] The original \\code{y} vector, i.e., the corresponding y\n",
       "coordinates \\emph{including \\code{\\LinkA{NA}{NA}}s}. If \\code{conf.level}\n",
       "was specified to \\code{qqplot}, the list contains additional components \n",
       "\\code{lwr} and \\code{upr} defining the confidence band.\n",
       "\\end{ldescription}\n",
       "\\end{Value}\n",
       "%\n",
       "\\begin{References}\n",
       "Becker, R. A., Chambers, J. M. and Wilks, A. R. (1988).\n",
       "\\emph{The New S Language}.\n",
       "Wadsworth \\& Brooks/Cole.\n",
       "\n",
       "Switzer, P. (1976).\n",
       "Confidence procedures for two-sample problems.\n",
       "\\emph{Biometrika}, \\bold{63}(1), 13--25.\n",
       "\\Rhref{https://doi.org/10.1093/biomet/63.1.13}{doi:10.1093\\slash{}biomet\\slash{}63.1.13}.\n",
       "\n",
       "\\end{References}\n",
       "%\n",
       "\\begin{SeeAlso}\n",
       "\\code{\\LinkA{ppoints}{ppoints}}, used by \\code{qqnorm} to generate\n",
       "approximations to expected order statistics for a normal distribution.\n",
       "\\end{SeeAlso}\n",
       "%\n",
       "\\begin{Examples}\n",
       "\\begin{ExampleCode}\n",
       "require(graphics)\n",
       "\n",
       "y <- rt(200, df = 5)\n",
       "qqnorm(y); qqline(y, col = 2)\n",
       "qqplot(y, rt(300, df = 5))\n",
       "\n",
       "qqnorm(precip, ylab = \"Precipitation [in/yr] for 70 US cities\")\n",
       "\n",
       "## \"QQ-Chisquare\" : --------------------------\n",
       "y <- rchisq(500, df = 3)\n",
       "## Q-Q plot for Chi^2 data against true theoretical distribution:\n",
       "qqplot(qchisq(ppoints(500), df = 3), y,\n",
       "       main = expression(\"Q-Q plot for\" ~~ {chi^2}[nu == 3]))\n",
       "qqline(y, distribution = function(p) qchisq(p, df = 3),\n",
       "       probs = c(0.1, 0.6), col = 2)\n",
       "mtext(\"qqline(*, dist = qchisq(., df=3), prob = c(0.1, 0.6))\")\n",
       "## (Note that the above uses ppoints() with a = 1/2, giving the\n",
       "## probability points for quantile type 5: so theoretically, using\n",
       "## qqline(qtype = 5) might be preferable.) \n",
       "\n",
       "## Figure 1 in Switzer (1976), knee angle data\n",
       "switzer <- data.frame(\n",
       "    angle = c(-31, -30, -25, -25, -23, -23, -22, -20, -20, -18,\n",
       "              -18, -18, -16, -15, -15, -14, -13, -11, -10, - 9,\n",
       "              - 8, - 7, - 7, - 7, - 6, - 6, - 4, - 4, - 3, - 2,\n",
       "              - 2, - 1,   1,   1,   4,   5,  11,  12,  16,  34,\n",
       "              -31, -20, -18, -16, -16, -16, -15, -14, -14, -14,\n",
       "              -14, -13, -13, -11, -11, -10, - 9, - 9, - 8, - 7,\n",
       "              - 7, - 6, - 6,  -5, - 5, - 5, - 4, - 2, - 2, - 2,\n",
       "                0,   0,   1,   1,   2,   4,   5,   5,   6,  17),\n",
       "    sex = gl(2, 40, labels = c(\"Female\", \"Male\")))\n",
       "\n",
       "ks.test(angle ~ sex, data = switzer)\n",
       "d <- with(switzer, split(angle, sex))\n",
       "with(d, qqplot(Female, Male, pch = 19, xlim = c(-31, 31), ylim = c(-31, 31),\n",
       "               conf.level = 0.945, \n",
       "               conf.args = list(col = \"lightgrey\", exact = TRUE))\n",
       ")\n",
       "abline(a = 0, b = 1)\n",
       "\n",
       "## agreement with ks.test\n",
       "set.seed(1)\n",
       "x <- rnorm(50)\n",
       "y <- rnorm(50, mean = .5, sd = .95)\n",
       "ex <- TRUE\n",
       "### p = 0.112\n",
       "(pval <- ks.test(x, y, exact = ex)$p.value)\n",
       "## 88.8% confidence band with bisecting line\n",
       "## touching the lower bound\n",
       "qqplot(x, y, pch = 19, conf.level = 1 - pval, \n",
       "       conf.args = list(exact = ex, col = \"lightgrey\"))\n",
       "abline(a = 0, b = 1)\n",
       "\n",
       "\\end{ExampleCode}\n",
       "\\end{Examples}"
      ],
      "text/plain": [
       "qqnorm                  package:stats                  R Documentation\n",
       "\n",
       "_\bQ_\bu_\ba_\bn_\bt_\bi_\bl_\be-_\bQ_\bu_\ba_\bn_\bt_\bi_\bl_\be _\bP_\bl_\bo_\bt_\bs\n",
       "\n",
       "_\bD_\be_\bs_\bc_\br_\bi_\bp_\bt_\bi_\bo_\bn:\n",
       "\n",
       "     ‘qqnorm’ is a generic function the default method of which\n",
       "     produces a normal QQ plot of the values in ‘y’.  ‘qqline’ adds a\n",
       "     line to a “theoretical”, by default normal, quantile-quantile plot\n",
       "     which passes through the ‘probs’ quantiles, by default the first\n",
       "     and third quartiles.\n",
       "\n",
       "     ‘qqplot’ produces a QQ plot of two datasets. If ‘conf.level’ is\n",
       "     given, a confidence band for a function transforming the\n",
       "     distribution of ‘x’ into the distribution of ‘y’ is plotted based\n",
       "     on Switzer (1976). The QQ plot can be understood as an estimate of\n",
       "     such a treatment function. If ‘exact = NULL’ (the default), an\n",
       "     exact confidence band is computed if the product of the sample\n",
       "     sizes is less than 10000, with or without ties. Otherwise,\n",
       "     asymptotic distributions are used whose approximations may be\n",
       "     inaccurate in small samples. Monte-Carlo approximations based on\n",
       "     ‘B’ random permutations are computed when ‘simulate = TRUE’.\n",
       "     Confidence bands are in agreement with Smirnov's test, that is,\n",
       "     the bisecting line is covered by the band iff the null of both\n",
       "     samples coming from the same distribution cannot be rejected at\n",
       "     the same level.\n",
       "\n",
       "     Graphical parameters may be given as arguments to ‘qqnorm’,\n",
       "     ‘qqplot’ and ‘qqline’.\n",
       "\n",
       "_\bU_\bs_\ba_\bg_\be:\n",
       "\n",
       "     qqnorm(y, ...)\n",
       "     ## Default S3 method:\n",
       "     qqnorm(y, ylim, main = \"Normal Q-Q Plot\",\n",
       "            xlab = \"Theoretical Quantiles\", ylab = \"Sample Quantiles\",\n",
       "            plot.it = TRUE, datax = FALSE, ...)\n",
       "     \n",
       "     qqline(y, datax = FALSE, distribution = qnorm,\n",
       "            probs = c(0.25, 0.75), qtype = 7, ...)\n",
       "     \n",
       "     qqplot(x, y, plot.it = TRUE,\n",
       "            xlab = deparse1(substitute(x)),\n",
       "            ylab = deparse1(substitute(y)), ...,\n",
       "            conf.level = NULL, \n",
       "            conf.args = list(exact = NULL, simulate.p.value = FALSE,\n",
       "                             B = 2000, col = NA, border = NULL))\n",
       "     \n",
       "_\bA_\br_\bg_\bu_\bm_\be_\bn_\bt_\bs:\n",
       "\n",
       "       x: The first sample for ‘qqplot’.\n",
       "\n",
       "       y: The second or only data sample.\n",
       "\n",
       "xlab, ylab, main: plot labels.  The ‘xlab’ and ‘ylab’ refer to the y\n",
       "          and x axes respectively if ‘datax = TRUE’.\n",
       "\n",
       " plot.it: logical. Should the result be plotted?\n",
       "\n",
       "   datax: logical. Should data values be on the x-axis?\n",
       "\n",
       "distribution: quantile function for reference theoretical distribution.\n",
       "\n",
       "   probs: numeric vector of length two, representing probabilities.\n",
       "          Corresponding quantile pairs define the line drawn.\n",
       "\n",
       "   qtype: the ‘type’ of quantile computation used in ‘quantile’.\n",
       "\n",
       "ylim, ...: graphical parameters.\n",
       "\n",
       "conf.level: confidence level of the band. The default, ‘NULL’, does not\n",
       "          lead to the computation of a confidence band.\n",
       "\n",
       "conf.args: list of arguments defining confidence band computation and\n",
       "          visualisation: ‘exact’ is ‘NULL’ (see details) or a logical\n",
       "          indicating whether an exact p-value should be computed,\n",
       "          ‘simulate.p.value’ is a logical indicating whether to compute\n",
       "          p-values by Monte Carlo simulation, ‘B’ defines the number of\n",
       "          replicates used in the Monte Carlo test, ‘col’ and ‘border’\n",
       "          define the color for filling and border of the confidence\n",
       "          band (the default, ‘NA’ and ‘NULL’, is to leave the band\n",
       "          unfilled with black borders.\n",
       "\n",
       "_\bV_\ba_\bl_\bu_\be:\n",
       "\n",
       "     For ‘qqnorm’ and ‘qqplot’, a list with components\n",
       "\n",
       "       x: The x coordinates of the points that were/would be plotted\n",
       "\n",
       "       y: The original ‘y’ vector, i.e., the corresponding y\n",
       "          coordinates _including ‘NA’s_. If ‘conf.level’ was specified\n",
       "          to ‘qqplot’, the list contains additional components ‘lwr’\n",
       "          and ‘upr’ defining the confidence band.\n",
       "\n",
       "_\bR_\be_\bf_\be_\br_\be_\bn_\bc_\be_\bs:\n",
       "\n",
       "     Becker, R. A., Chambers, J. M. and Wilks, A. R. (1988).  _The New\n",
       "     S Language_.  Wadsworth & Brooks/Cole.\n",
       "\n",
       "     Switzer, P. (1976).  Confidence procedures for two-sample\n",
       "     problems.  _Biometrika_, *63*(1), 13-25.\n",
       "     doi:10.1093/biomet/63.1.13\n",
       "     <https://doi.org/10.1093/biomet/63.1.13>.\n",
       "\n",
       "_\bS_\be_\be _\bA_\bl_\bs_\bo:\n",
       "\n",
       "     ‘ppoints’, used by ‘qqnorm’ to generate approximations to expected\n",
       "     order statistics for a normal distribution.\n",
       "\n",
       "_\bE_\bx_\ba_\bm_\bp_\bl_\be_\bs:\n",
       "\n",
       "     require(graphics)\n",
       "     \n",
       "     y <- rt(200, df = 5)\n",
       "     qqnorm(y); qqline(y, col = 2)\n",
       "     qqplot(y, rt(300, df = 5))\n",
       "     \n",
       "     qqnorm(precip, ylab = \"Precipitation [in/yr] for 70 US cities\")\n",
       "     \n",
       "     ## \"QQ-Chisquare\" : --------------------------\n",
       "     y <- rchisq(500, df = 3)\n",
       "     ## Q-Q plot for Chi^2 data against true theoretical distribution:\n",
       "     qqplot(qchisq(ppoints(500), df = 3), y,\n",
       "            main = expression(\"Q-Q plot for\" ~~ {chi^2}[nu == 3]))\n",
       "     qqline(y, distribution = function(p) qchisq(p, df = 3),\n",
       "            probs = c(0.1, 0.6), col = 2)\n",
       "     mtext(\"qqline(*, dist = qchisq(., df=3), prob = c(0.1, 0.6))\")\n",
       "     ## (Note that the above uses ppoints() with a = 1/2, giving the\n",
       "     ## probability points for quantile type 5: so theoretically, using\n",
       "     ## qqline(qtype = 5) might be preferable.) \n",
       "     \n",
       "     ## Figure 1 in Switzer (1976), knee angle data\n",
       "     switzer <- data.frame(\n",
       "         angle = c(-31, -30, -25, -25, -23, -23, -22, -20, -20, -18,\n",
       "                   -18, -18, -16, -15, -15, -14, -13, -11, -10, - 9,\n",
       "                   - 8, - 7, - 7, - 7, - 6, - 6, - 4, - 4, - 3, - 2,\n",
       "                   - 2, - 1,   1,   1,   4,   5,  11,  12,  16,  34,\n",
       "                   -31, -20, -18, -16, -16, -16, -15, -14, -14, -14,\n",
       "                   -14, -13, -13, -11, -11, -10, - 9, - 9, - 8, - 7,\n",
       "                   - 7, - 6, - 6,  -5, - 5, - 5, - 4, - 2, - 2, - 2,\n",
       "                     0,   0,   1,   1,   2,   4,   5,   5,   6,  17),\n",
       "         sex = gl(2, 40, labels = c(\"Female\", \"Male\")))\n",
       "     \n",
       "     ks.test(angle ~ sex, data = switzer)\n",
       "     d <- with(switzer, split(angle, sex))\n",
       "     with(d, qqplot(Female, Male, pch = 19, xlim = c(-31, 31), ylim = c(-31, 31),\n",
       "                    conf.level = 0.945, \n",
       "                    conf.args = list(col = \"lightgrey\", exact = TRUE))\n",
       "     )\n",
       "     abline(a = 0, b = 1)\n",
       "     \n",
       "     ## agreement with ks.test\n",
       "     set.seed(1)\n",
       "     x <- rnorm(50)\n",
       "     y <- rnorm(50, mean = .5, sd = .95)\n",
       "     ex <- TRUE\n",
       "     ### p = 0.112\n",
       "     (pval <- ks.test(x, y, exact = ex)$p.value)\n",
       "     ## 88.8% confidence band with bisecting line\n",
       "     ## touching the lower bound\n",
       "     qqplot(x, y, pch = 19, conf.level = 1 - pval, \n",
       "            conf.args = list(exact = ex, col = \"lightgrey\"))\n",
       "     abline(a = 0, b = 1)\n",
       "     "
      ]
     },
     "metadata": {},
     "output_type": "display_data"
    }
   ],
   "source": [
    "?qqnorm"
   ]
  },
  {
   "cell_type": "code",
   "execution_count": 61,
   "id": "c0c498a0-d363-4ef4-86d7-f55aa70e963b",
   "metadata": {
    "tags": []
   },
   "outputs": [
    {
     "data": {
      "image/png": "[encoded data removed]",
      "text/plain": [
       "Plot with title “Normal Q-Q Plot”"
      ]
     },
     "metadata": {
      "image/png": {
       "height": 420,
       "width": 420
      }
     },
     "output_type": "display_data"
    }
   ],
   "source": [
    "qqnorm(data$var3)\n",
    "qqline(data$var3)"
   ]
  },
  {
   "cell_type": "code",
   "execution_count": 63,
   "id": "687ed6a1-31cb-4eaa-9d6e-e6bf5bea27e5",
   "metadata": {
    "tags": []
   },
   "outputs": [],
   "source": [
    "export_data <- read.csv('importexport202223.csv')"
   ]
  },
  {
   "cell_type": "code",
   "execution_count": 65,
   "id": "1b110b44-dca6-4e01-843b-dc76a4d73107",
   "metadata": {
    "tags": []
   },
   "outputs": [
    {
     "data": {
      "text/html": [
       "<table class=\"dataframe\">\n",
       "<caption>A data.frame: 6 × 15</caption>\n",
       "<thead>\n",
       "\t<tr><th></th><th scope=col>IMPORT.EXPORT..Quantity.in..000.Metric.Tonnes.</th><th scope=col>PRODUCT</th><th scope=col>APRIL</th><th scope=col>MAY</th><th scope=col>JUNE</th><th scope=col>JULY</th><th scope=col>AUGUST</th><th scope=col>SEPTEMBER</th><th scope=col>OCTOBER</th><th scope=col>NOVEMBER</th><th scope=col>DECEMBER</th><th scope=col>JANUARY</th><th scope=col>FEBRUARY</th><th scope=col>MARCH</th><th scope=col>TOTAL</th></tr>\n",
       "\t<tr><th></th><th scope=col>&lt;chr&gt;</th><th scope=col>&lt;chr&gt;</th><th scope=col>&lt;int&gt;</th><th scope=col>&lt;int&gt;</th><th scope=col>&lt;int&gt;</th><th scope=col>&lt;int&gt;</th><th scope=col>&lt;int&gt;</th><th scope=col>&lt;int&gt;</th><th scope=col>&lt;int&gt;</th><th scope=col>&lt;int&gt;</th><th scope=col>&lt;int&gt;</th><th scope=col>&lt;int&gt;</th><th scope=col>&lt;int&gt;</th><th scope=col>&lt;int&gt;</th><th scope=col>&lt;int&gt;</th></tr>\n",
       "</thead>\n",
       "<tbody>\n",
       "\t<tr><th scope=row>1</th><td>IMPORT</td><td> CRUDE OIL</td><td>21626</td><td>19644</td><td>19441</td><td>20624</td><td>17637</td><td>16772</td><td>18123</td><td>19003</td><td>19618</td><td>20058</td><td>19285</td><td>20729</td><td>232561</td></tr>\n",
       "\t<tr><th scope=row>2</th><td>IMPORT</td><td>LPG       </td><td> 1605</td><td> 1363</td><td> 1264</td><td> 1417</td><td> 1574</td><td> 1448</td><td> 1374</td><td> 1778</td><td> 1718</td><td> 1709</td><td> 1647</td><td> 1410</td><td> 18309</td></tr>\n",
       "\t<tr><th scope=row>3</th><td>IMPORT</td><td>MS        </td><td>    0</td><td>   30</td><td>  127</td><td>   63</td><td>    0</td><td>  190</td><td>  327</td><td>  211</td><td>  120</td><td>    0</td><td>    0</td><td>    0</td><td>  1069</td></tr>\n",
       "\t<tr><th scope=row>4</th><td>IMPORT</td><td>Naphtha   </td><td>   35</td><td>   30</td><td>    2</td><td>  145</td><td>   90</td><td>   76</td><td>  135</td><td>   28</td><td>   88</td><td>   67</td><td>  121</td><td>  117</td><td>   936</td></tr>\n",
       "\t<tr><th scope=row>5</th><td>IMPORT</td><td>ATF       </td><td>    0</td><td>    0</td><td>    0</td><td>    0</td><td>    0</td><td>    0</td><td>    0</td><td>    0</td><td>    0</td><td>    0</td><td>    0</td><td>    0</td><td>     0</td></tr>\n",
       "\t<tr><th scope=row>6</th><td>IMPORT</td><td>SKO       </td><td>    0</td><td>    0</td><td>    0</td><td>    0</td><td>    0</td><td>    0</td><td>    0</td><td>    0</td><td>    0</td><td>    0</td><td>    0</td><td>    0</td><td>     0</td></tr>\n",
       "</tbody>\n",
       "</table>\n"
      ],
      "text/latex": [
       "A data.frame: 6 × 15\n",
       "\\begin{tabular}{r|lllllllllllllll}\n",
       "  & IMPORT.EXPORT..Quantity.in..000.Metric.Tonnes. & PRODUCT & APRIL & MAY & JUNE & JULY & AUGUST & SEPTEMBER & OCTOBER & NOVEMBER & DECEMBER & JANUARY & FEBRUARY & MARCH & TOTAL\\\\\n",
       "  & <chr> & <chr> & <int> & <int> & <int> & <int> & <int> & <int> & <int> & <int> & <int> & <int> & <int> & <int> & <int>\\\\\n",
       "\\hline\n",
       "\t1 & IMPORT &  CRUDE OIL & 21626 & 19644 & 19441 & 20624 & 17637 & 16772 & 18123 & 19003 & 19618 & 20058 & 19285 & 20729 & 232561\\\\\n",
       "\t2 & IMPORT & LPG        &  1605 &  1363 &  1264 &  1417 &  1574 &  1448 &  1374 &  1778 &  1718 &  1709 &  1647 &  1410 &  18309\\\\\n",
       "\t3 & IMPORT & MS         &     0 &    30 &   127 &    63 &     0 &   190 &   327 &   211 &   120 &     0 &     0 &     0 &   1069\\\\\n",
       "\t4 & IMPORT & Naphtha    &    35 &    30 &     2 &   145 &    90 &    76 &   135 &    28 &    88 &    67 &   121 &   117 &    936\\\\\n",
       "\t5 & IMPORT & ATF        &     0 &     0 &     0 &     0 &     0 &     0 &     0 &     0 &     0 &     0 &     0 &     0 &      0\\\\\n",
       "\t6 & IMPORT & SKO        &     0 &     0 &     0 &     0 &     0 &     0 &     0 &     0 &     0 &     0 &     0 &     0 &      0\\\\\n",
       "\\end{tabular}\n"
      ],
      "text/markdown": [
       "\n",
       "A data.frame: 6 × 15\n",
       "\n",
       "| <!--/--> | IMPORT.EXPORT..Quantity.in..000.Metric.Tonnes. &lt;chr&gt; | PRODUCT &lt;chr&gt; | APRIL &lt;int&gt; | MAY &lt;int&gt; | JUNE &lt;int&gt; | JULY &lt;int&gt; | AUGUST &lt;int&gt; | SEPTEMBER &lt;int&gt; | OCTOBER &lt;int&gt; | NOVEMBER &lt;int&gt; | DECEMBER &lt;int&gt; | JANUARY &lt;int&gt; | FEBRUARY &lt;int&gt; | MARCH &lt;int&gt; | TOTAL &lt;int&gt; |\n",
       "|---|---|---|---|---|---|---|---|---|---|---|---|---|---|---|---|\n",
       "| 1 | IMPORT |  CRUDE OIL | 21626 | 19644 | 19441 | 20624 | 17637 | 16772 | 18123 | 19003 | 19618 | 20058 | 19285 | 20729 | 232561 |\n",
       "| 2 | IMPORT | LPG        |  1605 |  1363 |  1264 |  1417 |  1574 |  1448 |  1374 |  1778 |  1718 |  1709 |  1647 |  1410 |  18309 |\n",
       "| 3 | IMPORT | MS         |     0 |    30 |   127 |    63 |     0 |   190 |   327 |   211 |   120 |     0 |     0 |     0 |   1069 |\n",
       "| 4 | IMPORT | Naphtha    |    35 |    30 |     2 |   145 |    90 |    76 |   135 |    28 |    88 |    67 |   121 |   117 |    936 |\n",
       "| 5 | IMPORT | ATF        |     0 |     0 |     0 |     0 |     0 |     0 |     0 |     0 |     0 |     0 |     0 |     0 |      0 |\n",
       "| 6 | IMPORT | SKO        |     0 |     0 |     0 |     0 |     0 |     0 |     0 |     0 |     0 |     0 |     0 |     0 |      0 |\n",
       "\n"
      ],
      "text/plain": [
       "  IMPORT.EXPORT..Quantity.in..000.Metric.Tonnes. PRODUCT    APRIL MAY   JUNE \n",
       "1 IMPORT                                          CRUDE OIL 21626 19644 19441\n",
       "2 IMPORT                                         LPG         1605  1363  1264\n",
       "3 IMPORT                                         MS             0    30   127\n",
       "4 IMPORT                                         Naphtha       35    30     2\n",
       "5 IMPORT                                         ATF            0     0     0\n",
       "6 IMPORT                                         SKO            0     0     0\n",
       "  JULY  AUGUST SEPTEMBER OCTOBER NOVEMBER DECEMBER JANUARY FEBRUARY MARCH\n",
       "1 20624 17637  16772     18123   19003    19618    20058   19285    20729\n",
       "2  1417  1574   1448      1374    1778     1718     1709    1647     1410\n",
       "3    63     0    190       327     211      120        0       0        0\n",
       "4   145    90     76       135      28       88       67     121      117\n",
       "5     0     0      0         0       0        0        0       0        0\n",
       "6     0     0      0         0       0        0        0       0        0\n",
       "  TOTAL \n",
       "1 232561\n",
       "2  18309\n",
       "3   1069\n",
       "4    936\n",
       "5      0\n",
       "6      0"
      ]
     },
     "metadata": {},
     "output_type": "display_data"
    }
   ],
   "source": [
    "head(export_data)"
   ]
  },
  {
   "cell_type": "code",
   "execution_count": 67,
   "id": "d214647e-9ccf-4294-b0fa-1f01ff7a3b5e",
   "metadata": {
    "tags": []
   },
   "outputs": [
    {
     "data": {
      "image/png": "[encoded data removed]",
      "text/plain": [
       "Plot with title “Normal Q-Q Plot”"
      ]
     },
     "metadata": {
      "image/png": {
       "height": 420,
       "width": 420
      }
     },
     "output_type": "display_data"
    }
   ],
   "source": [
    "qqnorm(export_data$APRIL)\n",
    "qqline(export_data$APRIL)"
   ]
  },
  {
   "cell_type": "markdown",
   "id": "d60fa8d6-7fe2-4f17-9fd5-c30ef8f480df",
   "metadata": {},
   "source": [
    "IF p is low null will go, if p is high then we accept null"
   ]
  },
  {
   "cell_type": "markdown",
   "id": "73c92a38-1ddb-4901-b9e0-b9e6f3c13fce",
   "metadata": {},
   "source": [
    "## Shapiro-Wilk Normality test"
   ]
  },
  {
   "cell_type": "code",
   "execution_count": 6,
   "id": "8aa524b9-df0a-4390-a49c-06843bc39079",
   "metadata": {
    "tags": []
   },
   "outputs": [
    {
     "data": {
      "text/plain": [
       "\n",
       "\tShapiro-Wilk normality test\n",
       "\n",
       "data:  data$var1\n",
       "W = 0.99396, p-value = 0.9386\n"
      ]
     },
     "metadata": {},
     "output_type": "display_data"
    }
   ],
   "source": [
    "shapiro.test(data$var1)"
   ]
  },
  {
   "cell_type": "code",
   "execution_count": 7,
   "id": "33221878-64bb-49b6-b5ee-97d5a3cc50bd",
   "metadata": {
    "tags": []
   },
   "outputs": [
    {
     "data": {
      "text/plain": [
       "\n",
       "\tShapiro-Wilk normality test\n",
       "\n",
       "data:  data$var2\n",
       "W = 0.99114, p-value = 0.7558\n"
      ]
     },
     "metadata": {},
     "output_type": "display_data"
    }
   ],
   "source": [
    "shapiro.test(data$var2)"
   ]
  },
  {
   "cell_type": "code",
   "execution_count": 8,
   "id": "3f98d297-4531-43b8-bf9f-c69a45930f2e",
   "metadata": {
    "tags": []
   },
   "outputs": [
    {
     "data": {
      "text/plain": [
       "\n",
       "\tShapiro-Wilk normality test\n",
       "\n",
       "data:  data$var3\n",
       "W = 0.98818, p-value = 0.5219\n"
      ]
     },
     "metadata": {},
     "output_type": "display_data"
    }
   ],
   "source": [
    "shapiro.test(data$var3)"
   ]
  },
  {
   "cell_type": "code",
   "execution_count": 9,
   "id": "c524b4f3-59a6-4a64-a81f-3b6e49e63ac7",
   "metadata": {
    "tags": []
   },
   "outputs": [
    {
     "data": {
      "image/png": "[encoded data removed]",
      "text/plain": [
       "Plot with title “Histogram of data$var1”"
      ]
     },
     "metadata": {
      "image/png": {
       "height": 420,
       "width": 420
      }
     },
     "output_type": "display_data"
    }
   ],
   "source": [
    "hist(data$var1)"
   ]
  },
  {
   "cell_type": "code",
   "execution_count": 10,
   "id": "4e82b83e-6dd1-44c6-b5be-0fd35ea4bf2b",
   "metadata": {
    "tags": []
   },
   "outputs": [
    {
     "data": {
      "image/png": "[encoded data removed]",
      "text/plain": [
       "Plot with title “Histogram of data$var2”"
      ]
     },
     "metadata": {
      "image/png": {
       "height": 420,
       "width": 420
      }
     },
     "output_type": "display_data"
    }
   ],
   "source": [
    "hist(data$var2)"
   ]
  },
  {
   "cell_type": "code",
   "execution_count": 11,
   "id": "0373b4b4-e9db-4b71-a41f-fd55fc4f5c49",
   "metadata": {
    "tags": []
   },
   "outputs": [
    {
     "data": {
      "image/png": "[encoded data removed]",
      "text/plain": [
       "Plot with title “Histogram of data$var3”"
      ]
     },
     "metadata": {
      "image/png": {
       "height": 420,
       "width": 420
      }
     },
     "output_type": "display_data"
    }
   ],
   "source": [
    "hist(data$var3)"
   ]
  },
  {
   "cell_type": "markdown",
   "id": "fc929cdf-8615-41e2-8058-b264043e5be4",
   "metadata": {},
   "source": [
    "## CDF"
   ]
  },
  {
   "cell_type": "markdown",
   "id": "97381ac6-851d-4baf-925d-8ed4f36d68ec",
   "metadata": {},
   "source": [
    "- To calculate the cumulative distribution function (CDF), F(x) = P(X <= x) where X is normal, we use pnorm() function:<br>\n",
    "`pnorm(1.9,3,0.5)` Above is a direct lookup for the probability P(X<1.9) where X is a normal distribution with mean of 3 and standard deviation of 0.5.<br> If we want P(X>1.9) we use `1-pnorm(1.9,3,0.5)`\n",
    "- If we want to calculate the inverse CDF and lookup for p-th quantile of the normal distribution, we use:<br>\n",
    "`qnorm(0.95,3,0.5)` This code looks for 95 percentile of the normal distribution with a standard deviation of 0.5 and a mean of 3. The value returned is an x value, not a probability."
   ]
  },
  {
   "cell_type": "code",
   "execution_count": 12,
   "id": "cd512658-f401-407a-b641-b09639ad3e7d",
   "metadata": {
    "tags": []
   },
   "outputs": [
    {
     "data": {
      "text/html": [
       "1"
      ],
      "text/latex": [
       "1"
      ],
      "text/markdown": [
       "1"
      ],
      "text/plain": [
       "[1] 1"
      ]
     },
     "metadata": {},
     "output_type": "display_data"
    }
   ],
   "source": [
    "pnorm(6.9,4,0.2)"
   ]
  },
  {
   "cell_type": "code",
   "execution_count": 13,
   "id": "2c424848-b8bf-427c-bd69-c9e651bdcd8d",
   "metadata": {
    "tags": []
   },
   "outputs": [
    {
     "data": {
      "text/html": [
       "4.41074978212636"
      ],
      "text/latex": [
       "4.41074978212636"
      ],
      "text/markdown": [
       "4.41074978212636"
      ],
      "text/plain": [
       "[1] 4.41075"
      ]
     },
     "metadata": {},
     "output_type": "display_data"
    }
   ],
   "source": [
    "qnorm(0.98,4,0.2)"
   ]
  },
  {
   "cell_type": "markdown",
   "id": "1237d86d-4827-46d2-b75b-9c8bf09a5cf7",
   "metadata": {},
   "source": [
    "## Binomial Distribution"
   ]
  },
  {
   "cell_type": "markdown",
   "id": "3f7589ee-25fb-4131-afa9-17d4f59b9dc2",
   "metadata": {},
   "source": [
    "### Probability Mass Function"
   ]
  },
  {
   "cell_type": "markdown",
   "id": "c6b2d2f9-4e80-44df-b384-8f7618e60172",
   "metadata": {},
   "source": [
    "- Binomial distribution has two outcomes, success or failure, and can be thought of as the probability of success or failure in a survey that is repeated various times. The number of observations is fixed and each observation or probability is independent and the probability of success is the same for all observations.\n",
    "- To get the probability mass function P(X=x), of binomial distribution we can use the `dbinom()` function."
   ]
  },
  {
   "cell_type": "code",
   "execution_count": 14,
   "id": "d2b1e82c-6cef-48e6-a00e-75b3814217aa",
   "metadata": {
    "tags": []
   },
   "outputs": [
    {
     "data": {
      "text/html": [
       "0.00011281697127223"
      ],
      "text/latex": [
       "0.00011281697127223"
      ],
      "text/markdown": [
       "0.00011281697127223"
      ],
      "text/plain": [
       "[1] 0.000112817"
      ]
     },
     "metadata": {},
     "output_type": "display_data"
    }
   ],
   "source": [
    "dbinom(32,100,0.5)"
   ]
  },
  {
   "cell_type": "markdown",
   "id": "b2401db9-7a85-418b-86c4-4211ef33d65d",
   "metadata": {},
   "source": [
    "The above code lookup is for P(X=32) where X is the binomial distribution with a size of 100 and a probability of success is 0.5"
   ]
  },
  {
   "cell_type": "markdown",
   "id": "ed4fde43-d7ff-4bb8-bf72-93c5b4148259",
   "metadata": {},
   "source": [
    "### Cumulative Distribution Function"
   ]
  },
  {
   "cell_type": "markdown",
   "id": "ad6dd475-88b1-49fc-bef4-558d9aa247ea",
   "metadata": {},
   "source": [
    "- To get the cumulative distribution function P(X<=x) of a binomial distribution we can use `pbinom()` function"
   ]
  },
  {
   "cell_type": "code",
   "execution_count": 15,
   "id": "a6436f4a-648b-4146-8a3f-5a2a74e8da20",
   "metadata": {
    "tags": []
   },
   "outputs": [
    {
     "data": {
      "text/html": [
       "0.000204388583713407"
      ],
      "text/latex": [
       "0.000204388583713407"
      ],
      "text/markdown": [
       "0.000204388583713407"
      ],
      "text/plain": [
       "[1] 0.0002043886"
      ]
     },
     "metadata": {},
     "output_type": "display_data"
    }
   ],
   "source": [
    "pbinom(32,100,0.5)"
   ]
  },
  {
   "cell_type": "markdown",
   "id": "fbd3f0db-8495-4280-bf44-c4a3c9f55a88",
   "metadata": {},
   "source": [
    "The above code lookup is for p(X <= 32) where X is the binomial distribution with a size of 100 and a probability fo success of 0.5"
   ]
  },
  {
   "cell_type": "markdown",
   "id": "3b3fd44a-817c-4661-ab4f-f7a0f9a26821",
   "metadata": {},
   "source": [
    "### P<sup>th</sup> quantile"
   ]
  },
  {
   "cell_type": "markdown",
   "id": "b783b788-110a-4633-8a1e-cde54c21156e",
   "metadata": {},
   "source": [
    "- To get the p-th quantile of the binomial distribution, we can use the `qbinom()` function"
   ]
  },
  {
   "cell_type": "code",
   "execution_count": 16,
   "id": "2d21bb7f-4e25-4d30-8d6c-d8e242824348",
   "metadata": {
    "tags": []
   },
   "outputs": [
    {
     "data": {
      "text/html": [
       "47"
      ],
      "text/latex": [
       "47"
      ],
      "text/markdown": [
       "47"
      ],
      "text/plain": [
       "[1] 47"
      ]
     },
     "metadata": {},
     "output_type": "display_data"
    }
   ],
   "source": [
    "qbinom(0.3,100,0.5)"
   ]
  },
  {
   "cell_type": "markdown",
   "id": "f02ff489-977c-451a-bc61-d63797038fa4",
   "metadata": {},
   "source": [
    "The above code lookup is for the 30<sup>th</sup> quantile of the binomial distribution where the size is 100 and the probability of success is 0.5. The value is a cumulative value."
   ]
  },
  {
   "cell_type": "markdown",
   "id": "9740e2d7-4560-4c7e-96a3-4bab433027fa",
   "metadata": {},
   "source": [
    "### Generating random variables"
   ]
  },
  {
   "cell_type": "markdown",
   "id": "9bdcbfb5-d44e-460f-8fe3-eb00d5ed4237",
   "metadata": {},
   "source": [
    "- To generate random variables from a binomial distribution, we can use the `rbinom()` function"
   ]
  },
  {
   "cell_type": "code",
   "execution_count": 17,
   "id": "37028a73-d1e4-45a2-807a-24dda002f35b",
   "metadata": {
    "tags": []
   },
   "outputs": [],
   "source": [
    "set.seed(420)"
   ]
  },
  {
   "cell_type": "code",
   "execution_count": 18,
   "id": "2c1ab5dc-c050-445d-9a1f-b28b4077058f",
   "metadata": {
    "tags": []
   },
   "outputs": [],
   "source": [
    "a <- rbinom(1000,100,0.5)"
   ]
  },
  {
   "cell_type": "code",
   "execution_count": 19,
   "id": "75fd52c7-6de4-46cb-acac-46acb9ac52fb",
   "metadata": {
    "tags": []
   },
   "outputs": [
    {
     "data": {
      "image/png": "[encoded data removed]",
      "text/plain": [
       "Plot with title “Histogram of a”"
      ]
     },
     "metadata": {
      "image/png": {
       "height": 420,
       "width": 420
      }
     },
     "output_type": "display_data"
    }
   ],
   "source": [
    "hist(a,breaks=20)"
   ]
  },
  {
   "cell_type": "code",
   "execution_count": 20,
   "id": "0d1fdfd6-4bff-460a-b24c-7bf74c039ed6",
   "metadata": {
    "tags": []
   },
   "outputs": [
    {
     "data": {
      "image/png": "[encoded data removed]",
      "text/plain": [
       "Plot with title “Histogram of a”"
      ]
     },
     "metadata": {
      "image/png": {
       "height": 420,
       "width": 420
      }
     },
     "output_type": "display_data"
    }
   ],
   "source": [
    "hist(a,breaks=15)"
   ]
  },
  {
   "cell_type": "code",
   "execution_count": 21,
   "id": "b25151bb-08df-42fe-8ad3-43478e911d6f",
   "metadata": {
    "tags": []
   },
   "outputs": [
    {
     "data": {
      "image/png": "[encoded data removed]",
      "text/plain": [
       "Plot with title “Histogram of a”"
      ]
     },
     "metadata": {
      "image/png": {
       "height": 420,
       "width": 420
      }
     },
     "output_type": "display_data"
    }
   ],
   "source": [
    "hist(a,breaks=30)"
   ]
  },
  {
   "cell_type": "markdown",
   "id": "4710df97-7e71-4c56-9878-2565d14cece7",
   "metadata": {},
   "source": [
    "We can use the `rbinom()` or `rnorm()` to generate random variables to simulate a new dataset"
   ]
  },
  {
   "cell_type": "markdown",
   "id": "e96424af-b940-48e7-a11b-0e143f4aa0bb",
   "metadata": {},
   "source": [
    "## `Summary()` and `str()` functions"
   ]
  },
  {
   "cell_type": "markdown",
   "id": "64f6433d-1e4e-4715-ba27-93f553fb1726",
   "metadata": {},
   "source": [
    "- The `summary()` and `str()` functions are the fastest wat to get descriptive statistics of the data. The `summary()` function gives the basic descriptive statistics of the data. The `str()` function, gives the structure of the variables."
   ]
  },
  {
   "cell_type": "code",
   "execution_count": 22,
   "id": "d4272040-06fb-4964-aae6-98a26f4d1ab9",
   "metadata": {
    "tags": []
   },
   "outputs": [
    {
     "data": {
      "text/plain": [
       "      var1              var2             var3       \n",
       " Min.   :-0.3193   Min.   :0.7178   Min.   :-1.905  \n",
       " 1st Qu.: 1.2669   1st Qu.:2.4653   1st Qu.: 1.792  \n",
       " Median : 1.8228   Median :3.1746   Median : 2.827  \n",
       " Mean   : 1.8981   Mean   :3.1579   Mean   : 3.087  \n",
       " 3rd Qu.: 2.4775   3rd Qu.:3.7406   3rd Qu.: 4.537  \n",
       " Max.   : 4.4939   Max.   :5.6775   Max.   : 8.792  "
      ]
     },
     "metadata": {},
     "output_type": "display_data"
    }
   ],
   "source": [
    "summary(data)"
   ]
  },
  {
   "cell_type": "code",
   "execution_count": 23,
   "id": "d388a6ef-24d0-402c-9fb1-7826fbf9bf0a",
   "metadata": {
    "tags": []
   },
   "outputs": [
    {
     "name": "stdout",
     "output_type": "stream",
     "text": [
      "'data.frame':\t100 obs. of  3 variables:\n",
      " $ var1: num  2.08 2.37 1.67 1.05 1.06 ...\n",
      " $ var2: num  5.22 4.58 3.86 3.8 1.85 ...\n",
      " $ var3: num  0.935 3.813 2.54 2.23 6.77 ...\n"
     ]
    }
   ],
   "source": [
    "str(data)"
   ]
  },
  {
   "cell_type": "markdown",
   "id": "00c27165-2b48-40e3-9433-20073e475f98",
   "metadata": {},
   "source": [
    "## Correlations"
   ]
  },
  {
   "cell_type": "markdown",
   "id": "6e55a06e-dc91-4841-94d0-1288b330bb22",
   "metadata": {},
   "source": [
    "- Correlations are statistical associations to find how close two variables are and to derive the linear relationship between them. In predictive analytics, you can use correlation to find which variables are more related to the target variable and use this to reduce the number of variables. Correlation does not mean a casual relationship. Correlation finds how close two variables are, but does not tell you the how and why of the relationship. Causation tells you that one variable change will cause another variable to change."
   ]
  },
  {
   "cell_type": "code",
   "execution_count": 31,
   "id": "d4d66d2f-1485-4101-9205-2cf44d755f7e",
   "metadata": {
    "tags": []
   },
   "outputs": [],
   "source": [
    "iris_data <- data.frame(iris)"
   ]
  },
  {
   "cell_type": "code",
   "execution_count": 36,
   "id": "a0442fe0-00c3-475b-bc70-d36a663aa998",
   "metadata": {
    "tags": []
   },
   "outputs": [
    {
     "data": {
      "text/html": [
       "<style>\n",
       ".list-inline {list-style: none; margin:0; padding: 0}\n",
       ".list-inline>li {display: inline-block}\n",
       ".list-inline>li:not(:last-child)::after {content: \"\\00b7\"; padding: 0 .5ex}\n",
       "</style>\n",
       "<ol class=list-inline><li>'Sepal.Length'</li><li>'Sepal.Width'</li><li>'Petal.Length'</li><li>'Petal.Width'</li><li>'Species'</li></ol>\n"
      ],
      "text/latex": [
       "\\begin{enumerate*}\n",
       "\\item 'Sepal.Length'\n",
       "\\item 'Sepal.Width'\n",
       "\\item 'Petal.Length'\n",
       "\\item 'Petal.Width'\n",
       "\\item 'Species'\n",
       "\\end{enumerate*}\n"
      ],
      "text/markdown": [
       "1. 'Sepal.Length'\n",
       "2. 'Sepal.Width'\n",
       "3. 'Petal.Length'\n",
       "4. 'Petal.Width'\n",
       "5. 'Species'\n",
       "\n",
       "\n"
      ],
      "text/plain": [
       "[1] \"Sepal.Length\" \"Sepal.Width\"  \"Petal.Length\" \"Petal.Width\"  \"Species\"     "
      ]
     },
     "metadata": {},
     "output_type": "display_data"
    }
   ],
   "source": [
    "colnames(iris)"
   ]
  },
  {
   "cell_type": "code",
   "execution_count": 45,
   "id": "ff40f291-0f08-4a10-8b82-feeab9fd218a",
   "metadata": {
    "tags": []
   },
   "outputs": [
    {
     "data": {
      "text/html": [
       "4"
      ],
      "text/latex": [
       "4"
      ],
      "text/markdown": [
       "4"
      ],
      "text/plain": [
       "[1] 4"
      ]
     },
     "metadata": {},
     "output_type": "display_data"
    }
   ],
   "source": [
    "col_names"
   ]
  },
  {
   "cell_type": "code",
   "execution_count": 49,
   "id": "d263ab51-e3e6-40be-b73a-8ad1ebb5dab5",
   "metadata": {
    "tags": []
   },
   "outputs": [
    {
     "name": "stdout",
     "output_type": "stream",
     "text": [
      "[1] \"Correlation between Sepal.Length and Sepal.Length\"\n",
      "[1] 1\n",
      "[1] \"Correlation between Sepal.Length and Sepal.Width\"\n",
      "[1] -0.1175698\n",
      "[1] \"Correlation between Sepal.Length and Petal.Length\"\n",
      "[1] 0.8717538\n",
      "[1] \"Correlation between Sepal.Length and Petal.Width\"\n",
      "[1] 0.8179411\n",
      "[1] \"Correlation between Sepal.Width and Sepal.Length\"\n",
      "[1] -0.1175698\n",
      "[1] \"Correlation between Sepal.Width and Sepal.Width\"\n",
      "[1] 1\n",
      "[1] \"Correlation between Sepal.Width and Petal.Length\"\n",
      "[1] -0.4284401\n",
      "[1] \"Correlation between Sepal.Width and Petal.Width\"\n",
      "[1] -0.3661259\n",
      "[1] \"Correlation between Petal.Length and Sepal.Length\"\n",
      "[1] 0.8717538\n",
      "[1] \"Correlation between Petal.Length and Sepal.Width\"\n",
      "[1] -0.4284401\n",
      "[1] \"Correlation between Petal.Length and Petal.Length\"\n",
      "[1] 1\n",
      "[1] \"Correlation between Petal.Length and Petal.Width\"\n",
      "[1] 0.9628654\n",
      "[1] \"Correlation between Petal.Width and Sepal.Length\"\n",
      "[1] 0.8179411\n",
      "[1] \"Correlation between Petal.Width and Sepal.Width\"\n",
      "[1] -0.3661259\n",
      "[1] \"Correlation between Petal.Width and Petal.Length\"\n",
      "[1] 0.9628654\n",
      "[1] \"Correlation between Petal.Width and Petal.Width\"\n",
      "[1] 1\n"
     ]
    }
   ],
   "source": [
    "col_names = length(colnames(iris))-1\n",
    "for(i in 1:col_names)\n",
    "    {\n",
    "    for (j in i+1:col_names-i)\n",
    "    {\n",
    "        print(paste(\"Correlation between\",colnames(iris_data)[[i]],\"and\",colnames(iris_data)[[j]]))\n",
    "        print(cor(iris_data[,colnames(iris_data)[[i]]],iris_data[,colnames(iris_data)[[j]]]))\n",
    "    }\n",
    "}"
   ]
  },
  {
   "cell_type": "code",
   "execution_count": 40,
   "id": "0d9db0b7-f309-4bc4-950b-0357ce602d56",
   "metadata": {
    "tags": []
   },
   "outputs": [
    {
     "data": {
      "text/html": [
       "-0.0671436526092431"
      ],
      "text/latex": [
       "-0.0671436526092431"
      ],
      "text/markdown": [
       "-0.0671436526092431"
      ],
      "text/plain": [
       "[1] -0.06714365"
      ]
     },
     "metadata": {},
     "output_type": "display_data"
    }
   ],
   "source": [
    "cor(data$var1,data$var2)"
   ]
  },
  {
   "cell_type": "markdown",
   "id": "330a13bb-cd8e-4df9-bc4c-0633f96ae47b",
   "metadata": {},
   "source": [
    "The correlation has a range from -1.0 to 1.0, when the correlation is 0, there is no correlation or relationship. When the correlation is more than 0, it is a positive relationship. Positive correlation means that wehn one variable's value increases, the other variable's values also increase. When the correlation is less than 0, it is a negative relationship. Negative correlation means that when one variable's value increases, the other variable's value decreases. 1 is the perfect positive correlation and -1 is the perfect negative correlation. Hence, the larger the value towards 1, or smaller the value towards -1, the better the relationship.\n",
    "**-0.0671436526092431** means that the correlation between var1 and var2 is a negative correlation, as it is closed to zero the relationship is not good"
   ]
  },
  {
   "cell_type": "code",
   "execution_count": 41,
   "id": "0938667a-6cd2-431d-8eee-141a905fb3f8",
   "metadata": {
    "tags": []
   },
   "outputs": [
    {
     "data": {
      "text/html": [
       "0.0713532054580629"
      ],
      "text/latex": [
       "0.0713532054580629"
      ],
      "text/markdown": [
       "0.0713532054580629"
      ],
      "text/plain": [
       "[1] 0.07135321"
      ]
     },
     "metadata": {},
     "output_type": "display_data"
    }
   ],
   "source": [
    "cor(data$var1,data$var3)"
   ]
  },
  {
   "cell_type": "markdown",
   "id": "cfbeb5de-020b-42ed-9c55-83186956f17f",
   "metadata": {},
   "source": [
    "The correlation has a range from -1.0 to 1.0, when the correlation is 0, there is no correlation or relationship. When the correlation is more than 0, it is a positive relationship. Positive correlation means that wehn one variable's value increases, the other variable's values also increase. When the correlation is less than 0, it is a negative relationship. Negative correlation means that when one variable's value increases, the other variable's value decreases. 1 is the perfect positive correlation and -1 is the perfect negative correlation. Hence, the larger the value towards 1, or smaller the value towards -1, the better the relationship.\n",
    "**0.0713532054580629** means that the correlation between var1 and var3 is a positive correlation, as it is closed to zero the relationship is not good"
   ]
  },
  {
   "cell_type": "code",
   "execution_count": 50,
   "id": "d613eea8-2b11-4c47-b241-3e0a1491d117",
   "metadata": {
    "tags": []
   },
   "outputs": [
    {
     "data": {
      "text/html": [
       "-0.0796639546553364"
      ],
      "text/latex": [
       "-0.0796639546553364"
      ],
      "text/markdown": [
       "-0.0796639546553364"
      ],
      "text/plain": [
       "[1] -0.07966395"
      ]
     },
     "metadata": {},
     "output_type": "display_data"
    }
   ],
   "source": [
    "cor(data$var2,data$var3)"
   ]
  },
  {
   "cell_type": "markdown",
   "id": "f75cc955-429b-4bde-b177-1f88cc4aa734",
   "metadata": {},
   "source": [
    "The correlation has a range from -1.0 to 1.0, when the correlation is 0, there is no correlation or relationship. When the correlation is more than 0, it is a positive relationship. Positive correlation means that wehn one variable's value increases, the other variable's values also increase. When the correlation is less than 0, it is a negative relationship. Negative correlation means that when one variable's value increases, the other variable's value decreases. 1 is the perfect positive correlation and -1 is the perfect negative correlation. Hence, the larger the value towards 1, or smaller the value towards -1, the better the relationship.\n",
    "**-0.0796639546553364** means that the correlation between var2 and var3 is a negative correlation, as it is closed to zero the relationship is not good"
   ]
  },
  {
   "cell_type": "markdown",
   "id": "652e9fc1-b600-4ed1-aac6-0345b81e1f7c",
   "metadata": {},
   "source": [
    "## Covariance"
   ]
  },
  {
   "cell_type": "markdown",
   "id": "60939238-0229-41b3-8a7f-993504544070",
   "metadata": {},
   "source": [
    "Covariance is a measure of variability between two varaibles. The greater the value of one variable and the greater of other variable means it will result in a covariance that is positive. The greater value of one variable to the lesser value of the other variable will result in a negative covariance. Covariance shows the linear relationship between both variables, but the covariance magnitude is difficult to interpret."
   ]
  },
  {
   "cell_type": "code",
   "execution_count": 51,
   "id": "70262799-a63f-4b93-94fe-04ff7bb40400",
   "metadata": {
    "tags": []
   },
   "outputs": [
    {
     "name": "stdout",
     "output_type": "stream",
     "text": [
      "[1] \"Covariance between Sepal.Length and Sepal.Length\"\n",
      "[1] 0.6856935\n",
      "[1] \"Covariance between Sepal.Length and Sepal.Width\"\n",
      "[1] -0.042434\n",
      "[1] \"Covariance between Sepal.Length and Petal.Length\"\n",
      "[1] 1.274315\n",
      "[1] \"Covariance between Sepal.Length and Petal.Width\"\n",
      "[1] 0.5162707\n",
      "[1] \"Covariance between Sepal.Width and Sepal.Length\"\n",
      "[1] -0.042434\n",
      "[1] \"Covariance between Sepal.Width and Sepal.Width\"\n",
      "[1] 0.1899794\n",
      "[1] \"Covariance between Sepal.Width and Petal.Length\"\n",
      "[1] -0.3296564\n",
      "[1] \"Covariance between Sepal.Width and Petal.Width\"\n",
      "[1] -0.1216394\n",
      "[1] \"Covariance between Petal.Length and Sepal.Length\"\n",
      "[1] 1.274315\n",
      "[1] \"Covariance between Petal.Length and Sepal.Width\"\n",
      "[1] -0.3296564\n",
      "[1] \"Covariance between Petal.Length and Petal.Length\"\n",
      "[1] 3.116278\n",
      "[1] \"Covariance between Petal.Length and Petal.Width\"\n",
      "[1] 1.295609\n",
      "[1] \"Covariance between Petal.Width and Sepal.Length\"\n",
      "[1] 0.5162707\n",
      "[1] \"Covariance between Petal.Width and Sepal.Width\"\n",
      "[1] -0.1216394\n",
      "[1] \"Covariance between Petal.Width and Petal.Length\"\n",
      "[1] 1.295609\n",
      "[1] \"Covariance between Petal.Width and Petal.Width\"\n",
      "[1] 0.5810063\n"
     ]
    }
   ],
   "source": [
    "col_names = length(colnames(iris))-1\n",
    "for(i in 1:col_names)\n",
    "    {\n",
    "    for (j in i+1:col_names-i)\n",
    "    {\n",
    "        print(paste(\"Covariance between\",colnames(iris_data)[[i]],\"and\",colnames(iris_data)[[j]]))\n",
    "        print(cov(iris_data[,colnames(iris_data)[[i]]],iris_data[,colnames(iris_data)[[j]]]))\n",
    "    }\n",
    "}"
   ]
  },
  {
   "cell_type": "code",
   "execution_count": 52,
   "id": "274da03e-3dba-486d-aa0d-24773766fcf2",
   "metadata": {
    "tags": []
   },
   "outputs": [
    {
     "data": {
      "text/html": [
       "-0.0585462183730391"
      ],
      "text/latex": [
       "-0.0585462183730391"
      ],
      "text/markdown": [
       "-0.0585462183730391"
      ],
      "text/plain": [
       "[1] -0.05854622"
      ]
     },
     "metadata": {},
     "output_type": "display_data"
    }
   ],
   "source": [
    "cov(data$var1,data$var2)"
   ]
  },
  {
   "cell_type": "markdown",
   "id": "b171a3de-6a55-434d-8932-2eee2efb5765",
   "metadata": {},
   "source": [
    "Correlation has a range of -1 to 1. Covariance does not have a range. Correlation is good for measuring how good the relationship between two variables in. When two variables have a positive covariance, when one variable increases, the other variables increases. When two variables have a negative covariance, when one variable increases, the other variable decreases. When two variable are independent of each other the covariance is zero.<br>\n",
    "-0.0585462183730391 means the covariance is negative, and it is very close to zero, so the relationship between the two variables is not very good. Correlation and covariance are usually within descriptive statistics"
   ]
  },
  {
   "cell_type": "code",
   "execution_count": 53,
   "id": "f5f828dd-561c-405f-bc73-bb52fc5a3f9d",
   "metadata": {
    "tags": []
   },
   "outputs": [
    {
     "data": {
      "text/html": [
       "0.136573405993444"
      ],
      "text/latex": [
       "0.136573405993444"
      ],
      "text/markdown": [
       "0.136573405993444"
      ],
      "text/plain": [
       "[1] 0.1365734"
      ]
     },
     "metadata": {},
     "output_type": "display_data"
    }
   ],
   "source": [
    "cov(data$var1,data$var3)"
   ]
  },
  {
   "cell_type": "markdown",
   "id": "ec78ccd9-93ae-4270-bf98-ea63a090f192",
   "metadata": {},
   "source": [
    "Correlation has a range of -1 to 1. Covariance does not have a range. Correlation is good for measuring how good the relationship between two variables in. When two variables have a positive covariance, when one variable increases, the other variables increases. When two variables have a negative covariance, when one variable increases, the other variable decreases. When two variable are independent of each other the covariance is zero.<br>\n",
    "0.136573405993444 means the covariance is positive, and it is very close to zero, so the relationship between the two variables is not very good. Correlation and covariance are usually within descriptive statistics"
   ]
  },
  {
   "cell_type": "code",
   "execution_count": 54,
   "id": "1174acd3-64c3-429b-8b13-a2ee2598250e",
   "metadata": {
    "tags": []
   },
   "outputs": [
    {
     "data": {
      "text/html": [
       "-0.156280168159263"
      ],
      "text/latex": [
       "-0.156280168159263"
      ],
      "text/markdown": [
       "-0.156280168159263"
      ],
      "text/plain": [
       "[1] -0.1562802"
      ]
     },
     "metadata": {},
     "output_type": "display_data"
    }
   ],
   "source": [
    "cov(data$var2,data$var3)"
   ]
  },
  {
   "cell_type": "markdown",
   "id": "588f8adc-57f1-464a-b24f-6a5c7c5e4584",
   "metadata": {},
   "source": [
    "Correlation has a range of -1 to 1. Covariance does not have a range. Correlation is good for measuring how good the relationship between two variables in. When two variables have a positive covariance, when one variable increases, the other variables increases. When two variables have a negative covariance, when one variable increases, the other variable decreases. When two variable are independent of each other the covariance is zero.<br>\n",
    "-0.156280168159263 means the covariance is negative, and it is very close to zero, so the relationship between the two variables is not very good. Correlation and covariance are usually within descriptive statistics"
   ]
  }
 ],
 "metadata": {
  "kernelspec": {
   "display_name": "R",
   "language": "R",
   "name": "ir"
  },
  "language_info": {
   "codemirror_mode": "r",
   "file_extension": ".r",
   "mimetype": "text/x-r-source",
   "name": "R",
   "pygments_lexer": "r",
   "version": "4.3.1"
  }
 },
 "nbformat": 4,
 "nbformat_minor": 5
}
