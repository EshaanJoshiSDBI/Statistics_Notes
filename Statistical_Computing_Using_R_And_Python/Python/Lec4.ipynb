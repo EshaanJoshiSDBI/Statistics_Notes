{
 "cells": [
  {
   "cell_type": "markdown",
   "id": "ece94e9d-40c2-4eea-baa4-34a0c9f3d97b",
   "metadata": {},
   "source": [
    "Numpy is a whole module dedicated towards matrix operations called `numpy.mat`"
   ]
  },
  {
   "cell_type": "markdown",
   "id": "af50b94c-f06a-486d-8ded-13d95d8ba804",
   "metadata": {},
   "source": [
    "#### 2-D Arrays\n",
    "- An array that has 1-D arrays as its elements is called a 2-D array.\n",
    "- These are often used to represent matrix or 2nd order tensors."
   ]
  },
  {
   "cell_type": "code",
   "execution_count": 2,
   "id": "5dd15f44-1721-408b-8595-aaaf8dcfdebd",
   "metadata": {
    "tags": []
   },
   "outputs": [],
   "source": [
    "import numpy as np"
   ]
  },
  {
   "cell_type": "code",
   "execution_count": 2,
   "id": "2fa8cfbb-dfc8-404d-ae37-792a1d2ddf2a",
   "metadata": {
    "tags": []
   },
   "outputs": [],
   "source": [
    "arr = np.array([[1,2,3],[4,5,6]])"
   ]
  },
  {
   "cell_type": "code",
   "execution_count": 3,
   "id": "6e27e192-7835-4062-a7e6-e2b86423e386",
   "metadata": {
    "tags": []
   },
   "outputs": [
    {
     "data": {
      "text/plain": [
       "array([[1, 2, 3],\n",
       "       [4, 5, 6]])"
      ]
     },
     "execution_count": 3,
     "metadata": {},
     "output_type": "execute_result"
    }
   ],
   "source": [
    "arr"
   ]
  },
  {
   "cell_type": "markdown",
   "id": "823b5241-6bc7-46b2-8a38-b6d56d59aa23",
   "metadata": {},
   "source": [
    "#### 3-D Arrays\n",
    "- An Array that has 2-D arrays (matrices) as its elements is called 3-D array.\n",
    "- These are often used to represent a 3<sup>rd</sup> order tensor."
   ]
  },
  {
   "cell_type": "code",
   "execution_count": 4,
   "id": "2001cbcc-1bf9-4619-b79b-9a95cb97f37a",
   "metadata": {
    "tags": []
   },
   "outputs": [],
   "source": [
    "arr = np.array([[[1,2,3],[4,5,6]],[[1,2,3],[4,5,6]]])"
   ]
  },
  {
   "cell_type": "code",
   "execution_count": 5,
   "id": "8486c5a9-29be-42be-884d-680b64bdc698",
   "metadata": {
    "tags": []
   },
   "outputs": [
    {
     "data": {
      "text/plain": [
       "array([[[1, 2, 3],\n",
       "        [4, 5, 6]],\n",
       "\n",
       "       [[1, 2, 3],\n",
       "        [4, 5, 6]]])"
      ]
     },
     "execution_count": 5,
     "metadata": {},
     "output_type": "execute_result"
    }
   ],
   "source": [
    "arr"
   ]
  },
  {
   "cell_type": "markdown",
   "id": "66f68c54-c4b1-48d0-b2f5-aa6b4b944fdc",
   "metadata": {},
   "source": [
    "#### Check number of dimensions\n",
    "- Numpy arrays provide the `ndim` attribute that returns an integer that tells us how many dimensions the array have."
   ]
  },
  {
   "cell_type": "code",
   "execution_count": 6,
   "id": "38082eed-b5d5-4de6-93aa-534f0c4e0e13",
   "metadata": {
    "tags": []
   },
   "outputs": [],
   "source": [
    "a = np.array(42)\n",
    "b = np.array([1,2,3,4,5])\n",
    "c = np.array([[1,2,3],[4,5,6]])\n",
    "d = np.array([[[1,2,3],[4,5,6]],[[1,2,3],[4,5,6]]])"
   ]
  },
  {
   "cell_type": "code",
   "execution_count": 7,
   "id": "c120ddce-8372-4e58-a03e-de4bcad98901",
   "metadata": {
    "tags": []
   },
   "outputs": [
    {
     "data": {
      "text/plain": [
       "0"
      ]
     },
     "execution_count": 7,
     "metadata": {},
     "output_type": "execute_result"
    }
   ],
   "source": [
    "a.ndim"
   ]
  },
  {
   "cell_type": "code",
   "execution_count": 8,
   "id": "65470931-2c01-4ebf-9cca-603f804c445f",
   "metadata": {
    "tags": []
   },
   "outputs": [
    {
     "data": {
      "text/plain": [
       "1"
      ]
     },
     "execution_count": 8,
     "metadata": {},
     "output_type": "execute_result"
    }
   ],
   "source": [
    "b.ndim"
   ]
  },
  {
   "cell_type": "code",
   "execution_count": 9,
   "id": "f3ebfc7c-9aa5-4c1e-b63c-3c0ee3739069",
   "metadata": {
    "tags": []
   },
   "outputs": [
    {
     "data": {
      "text/plain": [
       "2"
      ]
     },
     "execution_count": 9,
     "metadata": {},
     "output_type": "execute_result"
    }
   ],
   "source": [
    "c.ndim"
   ]
  },
  {
   "cell_type": "code",
   "execution_count": 10,
   "id": "f9c97293-a314-46d8-8ed9-feaafcc1f016",
   "metadata": {
    "tags": []
   },
   "outputs": [
    {
     "data": {
      "text/plain": [
       "3"
      ]
     },
     "execution_count": 10,
     "metadata": {},
     "output_type": "execute_result"
    }
   ],
   "source": [
    "d.ndim"
   ]
  },
  {
   "cell_type": "markdown",
   "id": "5ab32771-584f-44da-bdfd-7796cb9d41e7",
   "metadata": {},
   "source": [
    "#### Access Array Elements\n",
    "- Array indexing is the same as accessing an array element.\n",
    "- You can access an array element by referring to its index number.\n",
    "- The indexes in Numpy arrays start with 0, meaning that the first element has index 0 and the second has index 1, etc."
   ]
  },
  {
   "cell_type": "code",
   "execution_count": 11,
   "id": "887eaedd-5535-43df-8c55-d6b19886a676",
   "metadata": {
    "tags": []
   },
   "outputs": [],
   "source": [
    "arr = np.array([1,2,3,4])"
   ]
  },
  {
   "cell_type": "code",
   "execution_count": 12,
   "id": "99c5e463-37dc-4850-bd07-af01dbf04b0d",
   "metadata": {
    "tags": []
   },
   "outputs": [
    {
     "data": {
      "text/plain": [
       "1"
      ]
     },
     "execution_count": 12,
     "metadata": {},
     "output_type": "execute_result"
    }
   ],
   "source": [
    "arr[0]"
   ]
  },
  {
   "cell_type": "code",
   "execution_count": 13,
   "id": "e4f27006-3119-45bf-a4a0-b5ea551ab624",
   "metadata": {
    "tags": []
   },
   "outputs": [
    {
     "data": {
      "text/plain": [
       "3"
      ]
     },
     "execution_count": 13,
     "metadata": {},
     "output_type": "execute_result"
    }
   ],
   "source": [
    "arr[2]"
   ]
  },
  {
   "cell_type": "code",
   "execution_count": 14,
   "id": "17238c1c-fc71-49fd-9403-da6871675f81",
   "metadata": {
    "tags": []
   },
   "outputs": [
    {
     "data": {
      "text/plain": [
       "2"
      ]
     },
     "execution_count": 14,
     "metadata": {},
     "output_type": "execute_result"
    }
   ],
   "source": [
    "arr[1]"
   ]
  },
  {
   "cell_type": "code",
   "execution_count": 15,
   "id": "ea6758a4-72f8-444b-b04d-f931e7d73ec9",
   "metadata": {
    "tags": []
   },
   "outputs": [
    {
     "data": {
      "text/plain": [
       "7"
      ]
     },
     "execution_count": 15,
     "metadata": {},
     "output_type": "execute_result"
    }
   ],
   "source": [
    "arr[2] + arr[3]"
   ]
  },
  {
   "cell_type": "markdown",
   "id": "5da6fc84-a04b-44aa-9fd0-b2bbf259ce1b",
   "metadata": {},
   "source": [
    "To access elements from 2-D arrays we can use comma seperated integers representing the dimension and the index of the element.<br>\n",
    "Think of 2-D arrays like a table with rows and columns, where the row represents the dimension and the index represents the column"
   ]
  },
  {
   "cell_type": "code",
   "execution_count": 16,
   "id": "205ff1f7-0f2d-4b20-a69e-aeb574d8e094",
   "metadata": {
    "tags": []
   },
   "outputs": [],
   "source": [
    "arr = np.array([[1,2,3,4,5],[6,7,8,9,10]])"
   ]
  },
  {
   "cell_type": "code",
   "execution_count": 17,
   "id": "ac84eb21-8b22-4d07-ac58-0e40c0388bb5",
   "metadata": {
    "tags": []
   },
   "outputs": [
    {
     "data": {
      "text/plain": [
       "2"
      ]
     },
     "execution_count": 17,
     "metadata": {},
     "output_type": "execute_result"
    }
   ],
   "source": [
    "arr[0,1]"
   ]
  },
  {
   "cell_type": "code",
   "execution_count": 18,
   "id": "87ba113f-53c9-4042-86c5-c5369258984a",
   "metadata": {
    "tags": []
   },
   "outputs": [
    {
     "data": {
      "text/plain": [
       "10"
      ]
     },
     "execution_count": 18,
     "metadata": {},
     "output_type": "execute_result"
    }
   ],
   "source": [
    "arr[1,4]"
   ]
  },
  {
   "cell_type": "markdown",
   "id": "16c76950-3019-48e9-9885-ecb93b95b147",
   "metadata": {},
   "source": [
    "Access 3-D arrays\n",
    "- To access elements from 3-D arrays we can use comma seperated integers representing the dimensions and the index of the element."
   ]
  },
  {
   "cell_type": "code",
   "execution_count": 19,
   "id": "e9eb2fd6-e79d-4060-8ee5-ebc694790bbd",
   "metadata": {
    "tags": []
   },
   "outputs": [],
   "source": [
    "arr = np.array([[[1,2,3],[4,5,6]],[[7,8,9],[10,11,12]]])"
   ]
  },
  {
   "cell_type": "code",
   "execution_count": 20,
   "id": "515a7e5f-ff9e-420d-b161-e43356a8c390",
   "metadata": {
    "tags": []
   },
   "outputs": [
    {
     "data": {
      "text/plain": [
       "6"
      ]
     },
     "execution_count": 20,
     "metadata": {},
     "output_type": "execute_result"
    }
   ],
   "source": [
    "arr[0,1,2]"
   ]
  },
  {
   "cell_type": "markdown",
   "id": "9e193372-6631-4c62-80b1-38e05da32957",
   "metadata": {},
   "source": [
    "The first number represents the first dimension, which contains two arrays:\n",
    "`[[1,2,3],[4,5,6]]`<br>\n",
    "and:\n",
    "`[[7,8,9],[10,11,12]]`<br>\n",
    "Since we selected `0`, we are left with the first array\n",
    "`[[1,2,3],[4,5,6]]`<br>\n",
    "The second number represents the second dimension, which also contains two arrays:\n",
    "`[1,2,3]` and `[4,5,6]`<br>\n",
    "Since we selected `1`, we are left with the second array: `[4,5,6]`<br>\n",
    "The third number represents the third dimension, which contains three values\n",
    "`4,5,6`.<br>\n",
    "Since we selected `2`, we end up with the third value: `6`"
   ]
  },
  {
   "cell_type": "code",
   "execution_count": 21,
   "id": "018b81c9-cf0c-445b-adb0-7b2dbaffd2fe",
   "metadata": {
    "tags": []
   },
   "outputs": [
    {
     "data": {
      "text/plain": [
       "10"
      ]
     },
     "execution_count": 21,
     "metadata": {},
     "output_type": "execute_result"
    }
   ],
   "source": [
    "arr[1,1,0]"
   ]
  },
  {
   "cell_type": "markdown",
   "id": "551528e2-1337-4d7c-b3ec-4f2ee33fba8a",
   "metadata": {},
   "source": [
    "#### Joining numpy arrays"
   ]
  },
  {
   "cell_type": "markdown",
   "id": "4d773f91-21c8-41e4-8812-75e00ac22f0f",
   "metadata": {},
   "source": [
    "##### 1-D arrays"
   ]
  },
  {
   "cell_type": "code",
   "execution_count": 22,
   "id": "5355951b-d732-4434-8f2a-80a6fb5be0ef",
   "metadata": {
    "tags": []
   },
   "outputs": [],
   "source": [
    "arr1 = np.array([1,2,3])"
   ]
  },
  {
   "cell_type": "code",
   "execution_count": 23,
   "id": "ff558247-f7c8-44f4-a4a1-bb61c568d546",
   "metadata": {
    "tags": []
   },
   "outputs": [],
   "source": [
    "arr2 = np.array([4,5,6])"
   ]
  },
  {
   "cell_type": "code",
   "execution_count": 24,
   "id": "7b414c8d-8b30-4973-bc90-ef410171f636",
   "metadata": {
    "tags": []
   },
   "outputs": [],
   "source": [
    "arr = np.concatenate((arr1,arr2))"
   ]
  },
  {
   "cell_type": "code",
   "execution_count": 25,
   "id": "10f320ed-4e8d-4d64-9329-5578a7d078d6",
   "metadata": {
    "tags": []
   },
   "outputs": [
    {
     "data": {
      "text/plain": [
       "array([1, 2, 3, 4, 5, 6])"
      ]
     },
     "execution_count": 25,
     "metadata": {},
     "output_type": "execute_result"
    }
   ],
   "source": [
    "arr"
   ]
  },
  {
   "cell_type": "markdown",
   "id": "308560aa-105e-4912-b418-899da010205a",
   "metadata": {},
   "source": [
    "##### 2-D arrays"
   ]
  },
  {
   "cell_type": "markdown",
   "id": "52670cfb-5e80-4f1b-8782-d6c3f0858525",
   "metadata": {},
   "source": [
    "###### along rows"
   ]
  },
  {
   "cell_type": "code",
   "execution_count": 26,
   "id": "f8261880-a806-42c0-95ff-ed9ace682d7d",
   "metadata": {
    "tags": []
   },
   "outputs": [],
   "source": [
    "arr1 = np.array([[1,2],[3,4]])"
   ]
  },
  {
   "cell_type": "code",
   "execution_count": 27,
   "id": "8d65d7af-7e2b-43b0-bf30-215f1a94cbf4",
   "metadata": {
    "tags": []
   },
   "outputs": [],
   "source": [
    "arr2 = np.array([[5,6],[7,8]])"
   ]
  },
  {
   "cell_type": "code",
   "execution_count": 28,
   "id": "715cb6c1-49b1-4743-ae16-6007557a4fa4",
   "metadata": {
    "tags": []
   },
   "outputs": [],
   "source": [
    "arr = np.concatenate((arr1,arr2),axis=1)"
   ]
  },
  {
   "cell_type": "code",
   "execution_count": 29,
   "id": "54909ec3-fa91-4c9c-9452-ad1691e6dc57",
   "metadata": {
    "tags": []
   },
   "outputs": [
    {
     "data": {
      "text/plain": [
       "array([[1, 2, 5, 6],\n",
       "       [3, 4, 7, 8]])"
      ]
     },
     "execution_count": 29,
     "metadata": {},
     "output_type": "execute_result"
    }
   ],
   "source": [
    "arr"
   ]
  },
  {
   "cell_type": "markdown",
   "id": "2eabd843-c1b2-4513-b6dc-be4c96df85e7",
   "metadata": {},
   "source": [
    "#### Splitting Numpy Arrays"
   ]
  },
  {
   "cell_type": "markdown",
   "id": "ca5c279e-8607-49f9-980c-03e6916129c2",
   "metadata": {},
   "source": [
    "Splitting is reverse operation of Joining. Joining merges multiple arrays into one and splitting breaks one array into multiple.<br>\n",
    "We use `array_split()` for splitting arrays, we pass it the array we want to split and the number of splits"
   ]
  },
  {
   "cell_type": "code",
   "execution_count": 3,
   "id": "e2cad6d1-1877-4b37-906b-afcb59307d6f",
   "metadata": {
    "tags": []
   },
   "outputs": [],
   "source": [
    "arr = np.array([1,2,3,4,5,6])"
   ]
  },
  {
   "cell_type": "code",
   "execution_count": 6,
   "id": "f331d87c-7b2a-4f28-bc62-a394b5b6c9fd",
   "metadata": {
    "tags": []
   },
   "outputs": [
    {
     "data": {
      "text/plain": [
       "[array([1, 2, 3]), array([4, 5, 6])]"
      ]
     },
     "execution_count": 6,
     "metadata": {},
     "output_type": "execute_result"
    }
   ],
   "source": [
    "np.array_split(arr,2)"
   ]
  },
  {
   "cell_type": "code",
   "execution_count": 4,
   "id": "bb85c636-d35e-4ec0-890c-9bd888d8b555",
   "metadata": {
    "tags": []
   },
   "outputs": [
    {
     "data": {
      "text/plain": [
       "[array([1, 2]), array([3, 4]), array([5, 6])]"
      ]
     },
     "execution_count": 4,
     "metadata": {},
     "output_type": "execute_result"
    }
   ],
   "source": [
    "np.array_split(arr,3)"
   ]
  },
  {
   "cell_type": "code",
   "execution_count": 5,
   "id": "118114cb-aa49-43aa-8968-31f825f8a97e",
   "metadata": {
    "tags": []
   },
   "outputs": [
    {
     "data": {
      "text/plain": [
       "[array([1, 2]), array([3, 4]), array([5]), array([6])]"
      ]
     },
     "execution_count": 5,
     "metadata": {},
     "output_type": "execute_result"
    }
   ],
   "source": [
    "np.array_split(arr,4)"
   ]
  },
  {
   "cell_type": "markdown",
   "id": "bebacbbc-a06c-4241-887e-e95f2ba5000f",
   "metadata": {},
   "source": [
    "#### Generating Random Numbers in Numpy"
   ]
  },
  {
   "cell_type": "markdown",
   "id": "75b589bc-f7b7-4ed7-8d3e-aa4abe96de55",
   "metadata": {},
   "source": [
    "Numpy offers the random module to work with random numbers"
   ]
  },
  {
   "cell_type": "code",
   "execution_count": 7,
   "id": "d89fefc8-2c5d-4fd2-8936-940788cac498",
   "metadata": {
    "tags": []
   },
   "outputs": [],
   "source": [
    "x = np.random.randint(100)"
   ]
  },
  {
   "cell_type": "code",
   "execution_count": 8,
   "id": "a1f9e760-8f33-4b86-a1d7-ec23665482fc",
   "metadata": {
    "tags": []
   },
   "outputs": [
    {
     "data": {
      "text/plain": [
       "59"
      ]
     },
     "execution_count": 8,
     "metadata": {},
     "output_type": "execute_result"
    }
   ],
   "source": [
    "x"
   ]
  },
  {
   "cell_type": "markdown",
   "id": "d87d2445-f879-4447-a28e-b796996a6955",
   "metadata": {},
   "source": [
    "##### Generate Random Float"
   ]
  },
  {
   "cell_type": "code",
   "execution_count": 9,
   "id": "dffd333b-56f8-404e-9e93-d638b7d5b1b8",
   "metadata": {
    "tags": []
   },
   "outputs": [],
   "source": [
    "x = np.random.rand()"
   ]
  },
  {
   "cell_type": "code",
   "execution_count": 11,
   "id": "5ba70e87-bf46-495b-87d4-486b0d5614cb",
   "metadata": {},
   "outputs": [
    {
     "data": {
      "text/plain": [
       "0.4598811832373305"
      ]
     },
     "execution_count": 11,
     "metadata": {},
     "output_type": "execute_result"
    }
   ],
   "source": [
    "x"
   ]
  }
 ],
 "metadata": {
  "kernelspec": {
   "display_name": "Python 3 (ipykernel)",
   "language": "python",
   "name": "python3"
  },
  "language_info": {
   "codemirror_mode": {
    "name": "ipython",
    "version": 3
   },
   "file_extension": ".py",
   "mimetype": "text/x-python",
   "name": "python",
   "nbconvert_exporter": "python",
   "pygments_lexer": "ipython3",
   "version": "3.11.5"
  }
 },
 "nbformat": 4,
 "nbformat_minor": 5
}
