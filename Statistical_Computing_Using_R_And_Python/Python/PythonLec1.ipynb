{
 "cells": [
  {
   "cell_type": "markdown",
   "id": "d7a80418-8be1-4ddc-85ea-c51b26ee7b74",
   "metadata": {},
   "source": [
    "### What is Python?\n",
    "- Python is a popular programming language. It was created by Guido Van Rossum and released in 1991.\n",
    "- It is used for:\n",
    "    - Web development (server-side)\n",
    "    - Software development\n",
    "    - Mathematics\n",
    "    - System Scripting"
   ]
  },
  {
   "cell_type": "markdown",
   "id": "9c43e55b-d82f-4199-8c36-e4ed857e9559",
   "metadata": {},
   "source": [
    "### What can Python do?\n",
    "- Python can be used on a server to create web applications.\n",
    "- Python can be used alongside software to create workflows.\n",
    "- Python can connect to database systems. It can also read and modify files.\n",
    "- Python can be used to handle big data and perform complext mathematics.\n",
    "- Python can be used for rapid prototyping, or for production-ready software development."
   ]
  },
  {
   "cell_type": "markdown",
   "id": "370b0dd4-7f01-421c-9116-8186034811a2",
   "metadata": {},
   "source": [
    "### Why Python?\n",
    "- Python works on different platforms (Windows, Mac, Linux, Raspberry Pi, etc.)\n",
    "- Python has a simple syntax similar to the English Language.\n",
    "- Python has syntax that allows developers to write programs wigth fewer lines than some other programming languages.\n",
    "- Python runs on an interpreter system, meaning the code can be executed as soon as it is written. This means prototyping can by very quick.\n",
    "- Python can be treated in a procedural way, an object-oriented way or a functional"
   ]
  },
  {
   "cell_type": "markdown",
   "id": "f108d624-d4f4-4cb4-ba3f-466d567599fb",
   "metadata": {},
   "source": [
    "### Python Install"
   ]
  },
  {
   "cell_type": "markdown",
   "id": "ace0004a-82f5-407c-b71c-22e5f8159db8",
   "metadata": {},
   "source": [
    "Many PCs and MACs will have python already installed. To check if you have python installed on a Windows PC, search in the start bar for python or run the following on the Command Line (```cmd.exe```)\n",
    "\n",
    "`\n",
    "python --version\n",
    "`"
   ]
  },
  {
   "cell_type": "markdown",
   "id": "0ca46f2c-78e1-425b-b2a9-982d363859ad",
   "metadata": {},
   "source": [
    "To check if you have python installed on a Linux or Mac, then on Linux open the command line or on MAC open the terminal and type: ```python --version```"
   ]
  },
  {
   "cell_type": "markdown",
   "id": "76c066dd-b49a-41f8-ba2f-0e4d86a65f79",
   "metadata": {},
   "source": [
    "If you find that you do not have Python installed on your computer, then you can download it for free from the following website: ```https:www.python.org/```"
   ]
  },
  {
   "cell_type": "markdown",
   "id": "85b60b75-e201-4208-9dcc-07aa29908133",
   "metadata": {},
   "source": [
    "Python indentation\n",
    "- Indentation refers to the spaces at the beginning of a code line.\n",
    "- Where in other programming language the indentation in code is for reliability only, the indentation in Python is very important.\n",
    "- Python uses indentation to indicate a bock of code."
   ]
  },
  {
   "cell_type": "code",
   "execution_count": 1,
   "id": "c9afaf08-b051-45d9-ab62-2280e054273d",
   "metadata": {
    "tags": []
   },
   "outputs": [
    {
     "name": "stdout",
     "output_type": "stream",
     "text": [
      "Five is greater than two!\n"
     ]
    }
   ],
   "source": [
    "if 5>2:\n",
    "    print('Five is greater than two!')"
   ]
  },
  {
   "cell_type": "markdown",
   "id": "064164e7-a376-4c1d-9662-c614abfe37a1",
   "metadata": {},
   "source": [
    "Python will give you an error if you skip the indentation"
   ]
  },
  {
   "cell_type": "code",
   "execution_count": 2,
   "id": "68946f3e-2a0d-44ac-a7e3-c16ddeb2d80d",
   "metadata": {
    "tags": []
   },
   "outputs": [
    {
     "ename": "IndentationError",
     "evalue": "expected an indented block after 'if' statement on line 1 (1677963942.py, line 2)",
     "output_type": "error",
     "traceback": [
      "\u001b[0;36m  Cell \u001b[0;32mIn[2], line 2\u001b[0;36m\u001b[0m\n\u001b[0;31m    print('Five is greater than two!')\u001b[0m\n\u001b[0m    ^\u001b[0m\n\u001b[0;31mIndentationError\u001b[0m\u001b[0;31m:\u001b[0m expected an indented block after 'if' statement on line 1\n"
     ]
    }
   ],
   "source": [
    "if 5>2:\n",
    "print('Five is greater than two!')"
   ]
  },
  {
   "cell_type": "markdown",
   "id": "dfadcfb1-2636-40a4-aff0-dd435f966dbd",
   "metadata": {},
   "source": [
    "The number of spaced is up to you as a programmer, the most common use if four, but it has to be at least one."
   ]
  },
  {
   "cell_type": "code",
   "execution_count": 3,
   "id": "1783529e-9444-4811-b66a-460635ed3416",
   "metadata": {
    "tags": []
   },
   "outputs": [
    {
     "name": "stdout",
     "output_type": "stream",
     "text": [
      "Five is greater than two!\n"
     ]
    }
   ],
   "source": [
    "if 5>2:\n",
    "    print('Five is greater than two!')"
   ]
  },
  {
   "cell_type": "markdown",
   "id": "99c1e6c0-7fca-4ca3-b54c-43dd1669d8ea",
   "metadata": {},
   "source": [
    "The number of spaces is up to you as a programmer, the most common use is four but it has to be atleast one."
   ]
  },
  {
   "cell_type": "code",
   "execution_count": 5,
   "id": "fba57db5-fbe6-4ef9-b340-c8c53ee1de31",
   "metadata": {
    "tags": []
   },
   "outputs": [
    {
     "name": "stdout",
     "output_type": "stream",
     "text": [
      "Five is greater than two!\n"
     ]
    }
   ],
   "source": [
    "if 5>2:\n",
    " print('Five is greater than two!')"
   ]
  },
  {
   "cell_type": "code",
   "execution_count": 6,
   "id": "add47886-fca3-4fdd-9b37-37e56acf6af6",
   "metadata": {
    "tags": []
   },
   "outputs": [
    {
     "name": "stdout",
     "output_type": "stream",
     "text": [
      "Five is greater than two!\n"
     ]
    }
   ],
   "source": [
    "if 5>2:\n",
    "     print('Five is greater than two!')"
   ]
  },
  {
   "cell_type": "code",
   "execution_count": 7,
   "id": "73e28c35-9c62-4328-9ac5-203259f1ae50",
   "metadata": {
    "tags": []
   },
   "outputs": [
    {
     "ename": "IndentationError",
     "evalue": "unexpected indent (1847822548.py, line 3)",
     "output_type": "error",
     "traceback": [
      "\u001b[0;36m  Cell \u001b[0;32mIn[7], line 3\u001b[0;36m\u001b[0m\n\u001b[0;31m    print('Five is greater than two!')\u001b[0m\n\u001b[0m    ^\u001b[0m\n\u001b[0;31mIndentationError\u001b[0m\u001b[0;31m:\u001b[0m unexpected indent\n"
     ]
    }
   ],
   "source": [
    "if 5>2:\n",
    " print('Five is greater than two!')\n",
    "     print('Five is greater than two!')"
   ]
  },
  {
   "cell_type": "markdown",
   "id": "95a151bd-fc8c-45ad-bffe-0e4da71ca386",
   "metadata": {},
   "source": [
    "You have to use the same number of spaces in the same block o code, otherwise Python will give you an error"
   ]
  },
  {
   "cell_type": "markdown",
   "id": "ef803b7b-d96a-4c94-be50-8f8fa37894d8",
   "metadata": {},
   "source": [
    "### Variables"
   ]
  },
  {
   "cell_type": "code",
   "execution_count": 8,
   "id": "d3343323-2bf0-4f3a-9484-9811f35baf10",
   "metadata": {
    "tags": []
   },
   "outputs": [],
   "source": [
    "x = 5\n",
    "y = \"Hello, World!\""
   ]
  },
  {
   "cell_type": "markdown",
   "id": "171a8113-b72c-4aa3-914d-a5d716af2c52",
   "metadata": {},
   "source": [
    "Python has no command for declaring declaromg a vaibale"
   ]
  },
  {
   "cell_type": "markdown",
   "id": "63860a69-f577-4136-b2be-4943ab7a944a",
   "metadata": {},
   "source": [
    "### Comments"
   ]
  },
  {
   "cell_type": "markdown",
   "id": "f899825b-bd07-4644-a253-7eda2da0d0ef",
   "metadata": {},
   "source": [
    "Python has commenting for the purpose of in-code documentation.\n",
    "Comments start with a `#`, and Python will render the rest of the line as a comment."
   ]
  },
  {
   "cell_type": "code",
   "execution_count": 9,
   "id": "68daf547-9f26-44ac-a608-f9603a74e298",
   "metadata": {
    "tags": []
   },
   "outputs": [
    {
     "name": "stdout",
     "output_type": "stream",
     "text": [
      "Hello, World!\n"
     ]
    }
   ],
   "source": [
    "#This is a comment\n",
    "print('Hello, World!')"
   ]
  },
  {
   "cell_type": "markdown",
   "id": "5d9e5670-210e-4e58-8988-c3e388d635f2",
   "metadata": {},
   "source": [
    "Comments can be placed at the end of a line, and Python will ignore the rest of the line"
   ]
  },
  {
   "cell_type": "code",
   "execution_count": 10,
   "id": "84f7e7c4-afd5-458e-b69b-4ce4c698b744",
   "metadata": {
    "tags": []
   },
   "outputs": [
    {
     "name": "stdout",
     "output_type": "stream",
     "text": [
      "Hello, World\n"
     ]
    }
   ],
   "source": [
    "print('Hello, World')#This is a comment"
   ]
  },
  {
   "cell_type": "markdown",
   "id": "dff7df32-25cb-4d08-8d2f-690baffb56a7",
   "metadata": {},
   "source": [
    "Multi Line Comments<br>\n",
    "Python does not really have a syntax for multi line comments. To add a multiline comment you could insert a `#` for each line."
   ]
  },
  {
   "cell_type": "markdown",
   "id": "3f6fc68b-2dd7-4c25-b3eb-d75098070217",
   "metadata": {},
   "source": [
    "Variables are containers for storing data variables<br>\n",
    "Python has no command for declaring a variable.<br>\n",
    "A variable is created the moment you first assign a value to it."
   ]
  },
  {
   "cell_type": "code",
   "execution_count": 11,
   "id": "8c3000ae-20b5-4a8e-987c-b4a640d1406b",
   "metadata": {
    "tags": []
   },
   "outputs": [
    {
     "name": "stdout",
     "output_type": "stream",
     "text": [
      "Hello, World!\n"
     ]
    }
   ],
   "source": [
    "# This is a comment\n",
    "# written in\n",
    "# more than just one line\n",
    "print('Hello, World!')"
   ]
  },
  {
   "cell_type": "code",
   "execution_count": 13,
   "id": "b7fe620e-ebdb-4910-92b0-75545366ef91",
   "metadata": {
    "tags": []
   },
   "outputs": [],
   "source": [
    "x = 5\n",
    "y = 'ABC'"
   ]
  },
  {
   "cell_type": "code",
   "execution_count": 14,
   "id": "5c2781a6-889d-404f-9d22-fe97e71678a7",
   "metadata": {
    "tags": []
   },
   "outputs": [
    {
     "name": "stdout",
     "output_type": "stream",
     "text": [
      "5\n",
      "ABC\n"
     ]
    }
   ],
   "source": [
    "print(x)\n",
    "print(y)"
   ]
  },
  {
   "cell_type": "code",
   "execution_count": null,
   "id": "b88cbcdd-0d15-4cef-be1f-323ae217a9f5",
   "metadata": {},
   "outputs": [],
   "source": []
  },
  {
   "cell_type": "markdown",
   "id": "38f7fd66-ec25-4931-afd1-16d8d582762e",
   "metadata": {},
   "source": [
    "Python Data Types\n",
    "Variables can store data of different types and different types can do different things. Python has the following data types built-in by default, in these categories."
   ]
  },
  {
   "cell_type": "markdown",
   "id": "7014e094-d376-4b8c-a55c-6da907433954",
   "metadata": {},
   "source": [
    "Text Type\" str\n",
    "Numeric Type: int,float,complex\n",
    "western mullicm: list, tuple, range\n",
    "mapping type: dict\n",
    "set types: set, frozenset\n",
    "boolean type: Bool\n",
    "Binary types: bytes, bytearray, memoryview\n",
    "Non type: NoneType"
   ]
  },
  {
   "cell_type": "markdown",
   "id": "e2186776-c9ac-4e56-88a0-b6a4ba12fe52",
   "metadata": {},
   "source": [
    "Getting the data type\n",
    "You can get the data type of any object by using the `type()` function"
   ]
  },
  {
   "cell_type": "code",
   "execution_count": 15,
   "id": "a5ab559e-8072-4030-be6f-636a3c495195",
   "metadata": {
    "tags": []
   },
   "outputs": [
    {
     "data": {
      "text/plain": [
       "int"
      ]
     },
     "execution_count": 15,
     "metadata": {},
     "output_type": "execute_result"
    }
   ],
   "source": [
    "type(x)"
   ]
  },
  {
   "cell_type": "markdown",
   "id": "52c8917f-af07-479e-9c37-a65577983e16",
   "metadata": {},
   "source": [
    "If you want to specify the data type, you can use the following constructor functions"
   ]
  },
  {
   "cell_type": "code",
   "execution_count": 16,
   "id": "46b16ff6-3b34-484f-99d4-f071443012e6",
   "metadata": {
    "tags": []
   },
   "outputs": [],
   "source": [
    "x = str('Hello World')"
   ]
  },
  {
   "cell_type": "code",
   "execution_count": 19,
   "id": "22c05ede-539d-4e4d-8a1f-da11d194f8ed",
   "metadata": {
    "tags": []
   },
   "outputs": [],
   "source": [
    "x = int(20)"
   ]
  },
  {
   "cell_type": "code",
   "execution_count": 21,
   "id": "279b6aa3-1748-4c3c-aadc-8587bd6bdd71",
   "metadata": {
    "tags": []
   },
   "outputs": [],
   "source": [
    "x = float(20.5)"
   ]
  },
  {
   "cell_type": "code",
   "execution_count": 22,
   "id": "d99ecc00-e841-41f3-8c2d-b94a54126cb9",
   "metadata": {
    "tags": []
   },
   "outputs": [],
   "source": [
    "x = complex(1j)"
   ]
  },
  {
   "cell_type": "code",
   "execution_count": 23,
   "id": "f2f16caa-e959-44ac-84c4-65adee4c434f",
   "metadata": {
    "tags": []
   },
   "outputs": [],
   "source": [
    "x = list(('apple','banana','cjerru'))"
   ]
  },
  {
   "cell_type": "code",
   "execution_count": 24,
   "id": "05d71ea7-a22e-4a66-b48f-c585a6deddb9",
   "metadata": {
    "tags": []
   },
   "outputs": [],
   "source": [
    "x = tuple(('apple','banana','cjerru'))"
   ]
  },
  {
   "cell_type": "code",
   "execution_count": 25,
   "id": "9863fbf7-09e9-497b-9f1e-244f9de35dd7",
   "metadata": {
    "tags": []
   },
   "outputs": [],
   "source": [
    "x = range(6)"
   ]
  },
  {
   "cell_type": "code",
   "execution_count": 26,
   "id": "b41024f1-9731-42f8-af05-7049263c8f31",
   "metadata": {
    "tags": []
   },
   "outputs": [],
   "source": [
    "x = dict(name='John',age=36)"
   ]
  },
  {
   "cell_type": "code",
   "execution_count": 27,
   "id": "66351672-bc5d-437e-8280-4b1bbe1634e0",
   "metadata": {
    "tags": []
   },
   "outputs": [],
   "source": [
    "x = set(('apple','banana','cjerru'))"
   ]
  },
  {
   "cell_type": "code",
   "execution_count": 28,
   "id": "bd8809b2-c287-4056-b1f4-f7dace0a0ade",
   "metadata": {
    "tags": []
   },
   "outputs": [],
   "source": [
    "x = frozenset(('apple','bananana','cherry'))"
   ]
  },
  {
   "cell_type": "code",
   "execution_count": 29,
   "id": "329f940b-a140-46a6-a6d8-4b4d1df94983",
   "metadata": {
    "tags": []
   },
   "outputs": [],
   "source": [
    "x = bool(5)"
   ]
  },
  {
   "cell_type": "code",
   "execution_count": 30,
   "id": "a7313d31-14f2-4537-80ff-c700b65775d6",
   "metadata": {
    "tags": []
   },
   "outputs": [],
   "source": [
    "x = bytes(5)"
   ]
  },
  {
   "cell_type": "code",
   "execution_count": 31,
   "id": "365b3f2e-cf54-4a9d-ab60-fe6e82254ecb",
   "metadata": {
    "tags": []
   },
   "outputs": [],
   "source": [
    "x = bytearray(5)"
   ]
  },
  {
   "cell_type": "code",
   "execution_count": 32,
   "id": "be741358-b31e-4557-a06a-709386ecbfab",
   "metadata": {
    "tags": []
   },
   "outputs": [],
   "source": [
    "x = memoryview(bytes(5))"
   ]
  }
 ],
 "metadata": {
  "kernelspec": {
   "display_name": "Python 3 (ipykernel)",
   "language": "python",
   "name": "python3"
  },
  "language_info": {
   "codemirror_mode": {
    "name": "ipython",
    "version": 3
   },
   "file_extension": ".py",
   "mimetype": "text/x-python",
   "name": "python",
   "nbconvert_exporter": "python",
   "pygments_lexer": "ipython3",
   "version": "3.11.5"
  }
 },
 "nbformat": 4,
 "nbformat_minor": 5
}
