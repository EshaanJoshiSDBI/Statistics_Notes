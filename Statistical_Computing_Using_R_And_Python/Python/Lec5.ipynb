{
 "cells": [
  {
   "cell_type": "markdown",
   "id": "0788d160-23a7-4ca7-bda7-850d204c99b4",
   "metadata": {},
   "source": [
    "- Pandas allows us to analyze big data and make conclusions based on statistical theories.\n",
    "- Pandas can clean messy data sets and make them readable and relevant.\n",
    "- Relevant data is very important in data science.\n",
    "#### What can Pandas do?\n",
    "- Pandas gives you answers about the data. Like:\n",
    "    - Is there a correlation between two or more columns?\n",
    "    - What is the average value?\n",
    "    - Max value?\n",
    "    - Min value?\n",
    "- Pandas are also able to delete rows that are not relevant, or contains wrong values like empty or NULL values. This is called *cleaning the data*.\n",
    "- Where is the Pandas Codebase?\n",
    "    - The source code for Pandas is located at its github repository ```pandas-dev/pandas```\n",
    "- If you have Python and PIP already installed on a system, then installation of Pandas is very easy. Install it using this command: ```pip install pandas```\n",
    "- Once pandas is installed, you can import it in your applications by using the ```import``` keyword."
   ]
  },
  {
   "cell_type": "code",
   "execution_count": 3,
   "id": "10b5eb28-4d4b-4870-857a-a30f71144359",
   "metadata": {
    "tags": []
   },
   "outputs": [],
   "source": [
    "import pandas as pd"
   ]
  },
  {
   "cell_type": "code",
   "execution_count": 2,
   "id": "fe241aa6-cdf3-4e09-afdc-a2f6439e0529",
   "metadata": {
    "tags": []
   },
   "outputs": [],
   "source": [
    "data = {'cars':['BMW','Volvo','Ford'],\n",
    "       'passings':[3,7,2]}"
   ]
  },
  {
   "cell_type": "code",
   "execution_count": 8,
   "id": "a3c7a4c0-e531-4770-b2bf-84d7709eb252",
   "metadata": {
    "tags": []
   },
   "outputs": [
    {
     "data": {
      "text/plain": [
       "{'cars': ['BMW', 'Volvo', 'Ford'], 'passings': [3, 7, 2]}"
      ]
     },
     "execution_count": 8,
     "metadata": {},
     "output_type": "execute_result"
    }
   ],
   "source": [
    "data"
   ]
  },
  {
   "cell_type": "code",
   "execution_count": 4,
   "id": "9afb7fe6-73a0-4780-987c-9a0f3e18f93b",
   "metadata": {
    "tags": []
   },
   "outputs": [],
   "source": [
    "df = pd.DataFrame(data)"
   ]
  },
  {
   "cell_type": "code",
   "execution_count": 5,
   "id": "f65363d0-058a-4911-ab6a-f1e7f1812dcb",
   "metadata": {
    "tags": []
   },
   "outputs": [
    {
     "data": {
      "text/html": [
       "<div>\n",
       "<style scoped>\n",
       "    .dataframe tbody tr th:only-of-type {\n",
       "        vertical-align: middle;\n",
       "    }\n",
       "\n",
       "    .dataframe tbody tr th {\n",
       "        vertical-align: top;\n",
       "    }\n",
       "\n",
       "    .dataframe thead th {\n",
       "        text-align: right;\n",
       "    }\n",
       "</style>\n",
       "<table border=\"1\" class=\"dataframe\">\n",
       "  <thead>\n",
       "    <tr style=\"text-align: right;\">\n",
       "      <th></th>\n",
       "      <th>cars</th>\n",
       "      <th>passings</th>\n",
       "    </tr>\n",
       "  </thead>\n",
       "  <tbody>\n",
       "    <tr>\n",
       "      <th>0</th>\n",
       "      <td>BMW</td>\n",
       "      <td>3</td>\n",
       "    </tr>\n",
       "    <tr>\n",
       "      <th>1</th>\n",
       "      <td>Volvo</td>\n",
       "      <td>7</td>\n",
       "    </tr>\n",
       "    <tr>\n",
       "      <th>2</th>\n",
       "      <td>Ford</td>\n",
       "      <td>2</td>\n",
       "    </tr>\n",
       "  </tbody>\n",
       "</table>\n",
       "</div>"
      ],
      "text/plain": [
       "    cars  passings\n",
       "0    BMW         3\n",
       "1  Volvo         7\n",
       "2   Ford         2"
      ]
     },
     "execution_count": 5,
     "metadata": {},
     "output_type": "execute_result"
    }
   ],
   "source": [
    "df"
   ]
  },
  {
   "cell_type": "markdown",
   "id": "dc05e7e4-ab58-4d0f-9dd1-38d27a6f6bd6",
   "metadata": {},
   "source": [
    "- What is a series?\n",
    "    - A pandas series is like a column in a table.\n",
    "    - It is one-dimensional array holding data of any type.\n",
    "\n",
    "##### ? Create a simple Pandas Series from a list"
   ]
  },
  {
   "cell_type": "code",
   "execution_count": 9,
   "id": "252c98e6-e01e-4120-b50c-1173ff489093",
   "metadata": {
    "tags": []
   },
   "outputs": [],
   "source": [
    "a = [1,7,2]"
   ]
  },
  {
   "cell_type": "code",
   "execution_count": 10,
   "id": "60e3a414-e168-4a7a-85dd-02f7ac8baab2",
   "metadata": {
    "tags": []
   },
   "outputs": [
    {
     "data": {
      "text/plain": [
       "[1, 7, 2]"
      ]
     },
     "execution_count": 10,
     "metadata": {},
     "output_type": "execute_result"
    }
   ],
   "source": [
    "a"
   ]
  },
  {
   "cell_type": "code",
   "execution_count": 11,
   "id": "bd16151d-bd98-44eb-bca5-74637749c08a",
   "metadata": {
    "tags": []
   },
   "outputs": [],
   "source": [
    "s = pd.Series(a)"
   ]
  },
  {
   "cell_type": "code",
   "execution_count": 14,
   "id": "5d13ec24-5716-4124-b320-9702452b8d7c",
   "metadata": {
    "tags": []
   },
   "outputs": [
    {
     "data": {
      "text/plain": [
       "0    1\n",
       "1    7\n",
       "2    2\n",
       "dtype: int64"
      ]
     },
     "execution_count": 14,
     "metadata": {},
     "output_type": "execute_result"
    }
   ],
   "source": [
    "s"
   ]
  },
  {
   "cell_type": "markdown",
   "id": "17bfebf1-2b20-4657-ab63-0fd728a5cf20",
   "metadata": {},
   "source": [
    "Labels\n",
    "- If nothing else is specified, the values are labelled with their index number. First value has index 0, second value has index 1 etc."
   ]
  },
  {
   "cell_type": "code",
   "execution_count": 15,
   "id": "db769b14-7b4f-469b-8c52-1a0cfa169e75",
   "metadata": {
    "tags": []
   },
   "outputs": [
    {
     "data": {
      "text/plain": [
       "1"
      ]
     },
     "execution_count": 15,
     "metadata": {},
     "output_type": "execute_result"
    }
   ],
   "source": [
    "s[0]"
   ]
  },
  {
   "cell_type": "code",
   "execution_count": 16,
   "id": "03772c01-d2b2-438e-8320-5034d325ccfb",
   "metadata": {
    "tags": []
   },
   "outputs": [
    {
     "data": {
      "text/plain": [
       "2"
      ]
     },
     "execution_count": 16,
     "metadata": {},
     "output_type": "execute_result"
    }
   ],
   "source": [
    "s[2]"
   ]
  },
  {
   "cell_type": "code",
   "execution_count": 30,
   "id": "f903131c-5960-4931-9377-92526151f81a",
   "metadata": {
    "tags": []
   },
   "outputs": [
    {
     "data": {
      "text/plain": [
       "7"
      ]
     },
     "execution_count": 30,
     "metadata": {},
     "output_type": "execute_result"
    }
   ],
   "source": [
    "s[1]"
   ]
  },
  {
   "cell_type": "markdown",
   "id": "2eae8501-62c8-4b36-9c23-2c92b4324334",
   "metadata": {},
   "source": [
    "With the ```index``` argument, you can name your own labels"
   ]
  },
  {
   "cell_type": "code",
   "execution_count": 20,
   "id": "f640ce23-4e32-41e4-96f3-4d5f8b3b68ad",
   "metadata": {
    "tags": []
   },
   "outputs": [],
   "source": [
    "cars = pd.Series(data['passings'],index=data['cars'])"
   ]
  },
  {
   "cell_type": "code",
   "execution_count": 21,
   "id": "8bd12504-5489-4cbd-97d4-0c203047a0e1",
   "metadata": {
    "tags": []
   },
   "outputs": [
    {
     "data": {
      "text/plain": [
       "BMW      3\n",
       "Volvo    7\n",
       "Ford     2\n",
       "dtype: int64"
      ]
     },
     "execution_count": 21,
     "metadata": {},
     "output_type": "execute_result"
    }
   ],
   "source": [
    "cars"
   ]
  },
  {
   "cell_type": "code",
   "execution_count": 23,
   "id": "6ff9b43d-93be-4576-b4d8-f3beb8774bab",
   "metadata": {
    "tags": []
   },
   "outputs": [],
   "source": [
    "s_1 = pd.Series(a,index=['x','y','z'])"
   ]
  },
  {
   "cell_type": "code",
   "execution_count": 24,
   "id": "061a8643-03fa-4e46-a94f-6ef56e4a924b",
   "metadata": {
    "tags": []
   },
   "outputs": [
    {
     "data": {
      "text/plain": [
       "x    1\n",
       "y    7\n",
       "z    2\n",
       "dtype: int64"
      ]
     },
     "execution_count": 24,
     "metadata": {},
     "output_type": "execute_result"
    }
   ],
   "source": [
    "s_1"
   ]
  },
  {
   "cell_type": "code",
   "execution_count": 25,
   "id": "90bb5839-631d-4cab-8121-ea7c67b379c8",
   "metadata": {
    "tags": []
   },
   "outputs": [
    {
     "data": {
      "text/plain": [
       "1"
      ]
     },
     "execution_count": 25,
     "metadata": {},
     "output_type": "execute_result"
    }
   ],
   "source": [
    "s_1['x']"
   ]
  },
  {
   "cell_type": "code",
   "execution_count": 26,
   "id": "85b75964-893e-45be-92cf-b9bebf22e36f",
   "metadata": {
    "tags": []
   },
   "outputs": [
    {
     "data": {
      "text/plain": [
       "2"
      ]
     },
     "execution_count": 26,
     "metadata": {},
     "output_type": "execute_result"
    }
   ],
   "source": [
    "s_1['z']"
   ]
  },
  {
   "cell_type": "code",
   "execution_count": 27,
   "id": "168f8837-bd53-45f6-8c8d-36d7f047bc8b",
   "metadata": {
    "tags": []
   },
   "outputs": [
    {
     "data": {
      "text/plain": [
       "7"
      ]
     },
     "execution_count": 27,
     "metadata": {},
     "output_type": "execute_result"
    }
   ],
   "source": [
    "s_1['y']"
   ]
  },
  {
   "cell_type": "code",
   "execution_count": 31,
   "id": "113633d6-ac7f-43c1-be97-2cd7f47f32a2",
   "metadata": {
    "tags": []
   },
   "outputs": [],
   "source": [
    "calories = {'day1':420,'day2':380,'day3':390}"
   ]
  },
  {
   "cell_type": "code",
   "execution_count": 32,
   "id": "73d143c3-950e-4385-bdf8-7e3e68be773c",
   "metadata": {
    "tags": []
   },
   "outputs": [],
   "source": [
    "calories_series = pd.Series(calories)"
   ]
  },
  {
   "cell_type": "code",
   "execution_count": 33,
   "id": "03fd1b63-ffaf-43ab-a144-06ea9c3f5ea9",
   "metadata": {
    "tags": []
   },
   "outputs": [
    {
     "data": {
      "text/plain": [
       "day1    420\n",
       "day2    380\n",
       "day3    390\n",
       "dtype: int64"
      ]
     },
     "execution_count": 33,
     "metadata": {},
     "output_type": "execute_result"
    }
   ],
   "source": [
    "calories_series"
   ]
  },
  {
   "cell_type": "code",
   "execution_count": 34,
   "id": "5bd44153-88a7-4e71-9daa-3dd0ce58e1a0",
   "metadata": {
    "tags": []
   },
   "outputs": [],
   "source": [
    "calories_series = pd.Series(calories,index=['day1','day2'])"
   ]
  },
  {
   "cell_type": "code",
   "execution_count": 35,
   "id": "68a7897a-7864-407e-9851-3d89f0b65eca",
   "metadata": {
    "tags": []
   },
   "outputs": [
    {
     "data": {
      "text/plain": [
       "day1    420\n",
       "day2    380\n",
       "dtype: int64"
      ]
     },
     "execution_count": 35,
     "metadata": {},
     "output_type": "execute_result"
    }
   ],
   "source": [
    "calories_series"
   ]
  },
  {
   "cell_type": "code",
   "execution_count": 36,
   "id": "06b5acaa-18e1-47da-be83-3a564b182e6b",
   "metadata": {
    "tags": []
   },
   "outputs": [],
   "source": [
    "calories_series = pd.Series(calories,index=['day1','day3'])"
   ]
  },
  {
   "cell_type": "code",
   "execution_count": 37,
   "id": "d64bb611-f0fc-4f12-ab28-01810bec38ff",
   "metadata": {
    "tags": []
   },
   "outputs": [
    {
     "data": {
      "text/plain": [
       "day1    420\n",
       "day3    390\n",
       "dtype: int64"
      ]
     },
     "execution_count": 37,
     "metadata": {},
     "output_type": "execute_result"
    }
   ],
   "source": [
    "calories_series"
   ]
  },
  {
   "cell_type": "markdown",
   "id": "67158b69-8c07-4ea6-a405-7e42f5384065",
   "metadata": {},
   "source": [
    "##### DataFrames\n",
    "- Data sets in Pandas are usually multi-dimensional tables, called DataFrames.\n",
    "Series is lika column, a DataFrame is the whole table."
   ]
  },
  {
   "cell_type": "code",
   "execution_count": 38,
   "id": "f693ab47-a3a6-40a6-8af7-6f2d87f73ee0",
   "metadata": {
    "tags": []
   },
   "outputs": [],
   "source": [
    "data = {'calories':[420,380,390],\n",
    "       'duration':[50,40,45]}"
   ]
  },
  {
   "cell_type": "code",
   "execution_count": 41,
   "id": "85af7510-58a5-410c-8c14-3d215e8ac8de",
   "metadata": {
    "tags": []
   },
   "outputs": [],
   "source": [
    "# Load data into a DataFrame object\n",
    "df = pd.DataFrame(data)"
   ]
  },
  {
   "cell_type": "code",
   "execution_count": 40,
   "id": "f2370695-a9de-4004-8c4d-787566353b56",
   "metadata": {
    "tags": []
   },
   "outputs": [
    {
     "data": {
      "text/html": [
       "<div>\n",
       "<style scoped>\n",
       "    .dataframe tbody tr th:only-of-type {\n",
       "        vertical-align: middle;\n",
       "    }\n",
       "\n",
       "    .dataframe tbody tr th {\n",
       "        vertical-align: top;\n",
       "    }\n",
       "\n",
       "    .dataframe thead th {\n",
       "        text-align: right;\n",
       "    }\n",
       "</style>\n",
       "<table border=\"1\" class=\"dataframe\">\n",
       "  <thead>\n",
       "    <tr style=\"text-align: right;\">\n",
       "      <th></th>\n",
       "      <th>calories</th>\n",
       "      <th>duration</th>\n",
       "    </tr>\n",
       "  </thead>\n",
       "  <tbody>\n",
       "    <tr>\n",
       "      <th>0</th>\n",
       "      <td>420</td>\n",
       "      <td>50</td>\n",
       "    </tr>\n",
       "    <tr>\n",
       "      <th>1</th>\n",
       "      <td>380</td>\n",
       "      <td>40</td>\n",
       "    </tr>\n",
       "    <tr>\n",
       "      <th>2</th>\n",
       "      <td>390</td>\n",
       "      <td>45</td>\n",
       "    </tr>\n",
       "  </tbody>\n",
       "</table>\n",
       "</div>"
      ],
      "text/plain": [
       "   calories  duration\n",
       "0       420        50\n",
       "1       380        40\n",
       "2       390        45"
      ]
     },
     "execution_count": 40,
     "metadata": {},
     "output_type": "execute_result"
    }
   ],
   "source": [
    "df"
   ]
  },
  {
   "cell_type": "code",
   "execution_count": 42,
   "id": "f782bcc6-d3a0-47df-861a-5afcf22e3f11",
   "metadata": {
    "tags": []
   },
   "outputs": [
    {
     "data": {
      "text/plain": [
       "calories    420\n",
       "duration     50\n",
       "Name: 0, dtype: int64"
      ]
     },
     "execution_count": 42,
     "metadata": {},
     "output_type": "execute_result"
    }
   ],
   "source": [
    "df.loc[0]"
   ]
  },
  {
   "cell_type": "code",
   "execution_count": 43,
   "id": "b53b7e8c-9909-4a90-9839-1e9ce05883f2",
   "metadata": {
    "tags": []
   },
   "outputs": [
    {
     "data": {
      "text/plain": [
       "calories    380\n",
       "duration     40\n",
       "Name: 1, dtype: int64"
      ]
     },
     "execution_count": 43,
     "metadata": {},
     "output_type": "execute_result"
    }
   ],
   "source": [
    "df.loc[1]"
   ]
  },
  {
   "cell_type": "code",
   "execution_count": 44,
   "id": "faf480b8-2c30-4d84-b7c3-319113ba9888",
   "metadata": {
    "tags": []
   },
   "outputs": [
    {
     "data": {
      "text/plain": [
       "calories    390\n",
       "duration     45\n",
       "Name: 2, dtype: int64"
      ]
     },
     "execution_count": 44,
     "metadata": {},
     "output_type": "execute_result"
    }
   ],
   "source": [
    "df.loc[2]"
   ]
  },
  {
   "cell_type": "code",
   "execution_count": 45,
   "id": "ba3814e6-dc50-4f6c-915f-32e8e97fd14f",
   "metadata": {
    "tags": []
   },
   "outputs": [
    {
     "data": {
      "text/html": [
       "<div>\n",
       "<style scoped>\n",
       "    .dataframe tbody tr th:only-of-type {\n",
       "        vertical-align: middle;\n",
       "    }\n",
       "\n",
       "    .dataframe tbody tr th {\n",
       "        vertical-align: top;\n",
       "    }\n",
       "\n",
       "    .dataframe thead th {\n",
       "        text-align: right;\n",
       "    }\n",
       "</style>\n",
       "<table border=\"1\" class=\"dataframe\">\n",
       "  <thead>\n",
       "    <tr style=\"text-align: right;\">\n",
       "      <th></th>\n",
       "      <th>calories</th>\n",
       "      <th>duration</th>\n",
       "    </tr>\n",
       "  </thead>\n",
       "  <tbody>\n",
       "    <tr>\n",
       "      <th>0</th>\n",
       "      <td>420</td>\n",
       "      <td>50</td>\n",
       "    </tr>\n",
       "    <tr>\n",
       "      <th>1</th>\n",
       "      <td>380</td>\n",
       "      <td>40</td>\n",
       "    </tr>\n",
       "  </tbody>\n",
       "</table>\n",
       "</div>"
      ],
      "text/plain": [
       "   calories  duration\n",
       "0       420        50\n",
       "1       380        40"
      ]
     },
     "execution_count": 45,
     "metadata": {},
     "output_type": "execute_result"
    }
   ],
   "source": [
    "df.loc[[0,1]]"
   ]
  },
  {
   "cell_type": "code",
   "execution_count": 46,
   "id": "d62aaaf5-f2a4-4e06-aa6f-4d7aba9c2003",
   "metadata": {
    "tags": []
   },
   "outputs": [
    {
     "data": {
      "text/html": [
       "<div>\n",
       "<style scoped>\n",
       "    .dataframe tbody tr th:only-of-type {\n",
       "        vertical-align: middle;\n",
       "    }\n",
       "\n",
       "    .dataframe tbody tr th {\n",
       "        vertical-align: top;\n",
       "    }\n",
       "\n",
       "    .dataframe thead th {\n",
       "        text-align: right;\n",
       "    }\n",
       "</style>\n",
       "<table border=\"1\" class=\"dataframe\">\n",
       "  <thead>\n",
       "    <tr style=\"text-align: right;\">\n",
       "      <th></th>\n",
       "      <th>calories</th>\n",
       "      <th>duration</th>\n",
       "    </tr>\n",
       "  </thead>\n",
       "  <tbody>\n",
       "    <tr>\n",
       "      <th>1</th>\n",
       "      <td>380</td>\n",
       "      <td>40</td>\n",
       "    </tr>\n",
       "    <tr>\n",
       "      <th>2</th>\n",
       "      <td>390</td>\n",
       "      <td>45</td>\n",
       "    </tr>\n",
       "  </tbody>\n",
       "</table>\n",
       "</div>"
      ],
      "text/plain": [
       "   calories  duration\n",
       "1       380        40\n",
       "2       390        45"
      ]
     },
     "execution_count": 46,
     "metadata": {},
     "output_type": "execute_result"
    }
   ],
   "source": [
    "df.loc[[1,2]]"
   ]
  },
  {
   "cell_type": "code",
   "execution_count": 47,
   "id": "2fbc6140-f69e-412b-91bf-e6af8f298039",
   "metadata": {
    "tags": []
   },
   "outputs": [
    {
     "data": {
      "text/html": [
       "<div>\n",
       "<style scoped>\n",
       "    .dataframe tbody tr th:only-of-type {\n",
       "        vertical-align: middle;\n",
       "    }\n",
       "\n",
       "    .dataframe tbody tr th {\n",
       "        vertical-align: top;\n",
       "    }\n",
       "\n",
       "    .dataframe thead th {\n",
       "        text-align: right;\n",
       "    }\n",
       "</style>\n",
       "<table border=\"1\" class=\"dataframe\">\n",
       "  <thead>\n",
       "    <tr style=\"text-align: right;\">\n",
       "      <th></th>\n",
       "      <th>calories</th>\n",
       "      <th>duration</th>\n",
       "    </tr>\n",
       "  </thead>\n",
       "  <tbody>\n",
       "    <tr>\n",
       "      <th>0</th>\n",
       "      <td>420</td>\n",
       "      <td>50</td>\n",
       "    </tr>\n",
       "    <tr>\n",
       "      <th>2</th>\n",
       "      <td>390</td>\n",
       "      <td>45</td>\n",
       "    </tr>\n",
       "  </tbody>\n",
       "</table>\n",
       "</div>"
      ],
      "text/plain": [
       "   calories  duration\n",
       "0       420        50\n",
       "2       390        45"
      ]
     },
     "execution_count": 47,
     "metadata": {},
     "output_type": "execute_result"
    }
   ],
   "source": [
    "df.loc[[0,2]]"
   ]
  },
  {
   "cell_type": "code",
   "execution_count": 48,
   "id": "7b84880b-8edb-47df-9731-c2ee77371f85",
   "metadata": {
    "tags": []
   },
   "outputs": [],
   "source": [
    "# Load data into a DataFrame object\n",
    "df = pd.DataFrame(data,index=['day1','day2','day3'])"
   ]
  },
  {
   "cell_type": "code",
   "execution_count": 49,
   "id": "f6657fc1-c137-4ea7-85ae-70d7a8365663",
   "metadata": {
    "tags": []
   },
   "outputs": [
    {
     "data": {
      "text/html": [
       "<div>\n",
       "<style scoped>\n",
       "    .dataframe tbody tr th:only-of-type {\n",
       "        vertical-align: middle;\n",
       "    }\n",
       "\n",
       "    .dataframe tbody tr th {\n",
       "        vertical-align: top;\n",
       "    }\n",
       "\n",
       "    .dataframe thead th {\n",
       "        text-align: right;\n",
       "    }\n",
       "</style>\n",
       "<table border=\"1\" class=\"dataframe\">\n",
       "  <thead>\n",
       "    <tr style=\"text-align: right;\">\n",
       "      <th></th>\n",
       "      <th>calories</th>\n",
       "      <th>duration</th>\n",
       "    </tr>\n",
       "  </thead>\n",
       "  <tbody>\n",
       "    <tr>\n",
       "      <th>day1</th>\n",
       "      <td>420</td>\n",
       "      <td>50</td>\n",
       "    </tr>\n",
       "    <tr>\n",
       "      <th>day2</th>\n",
       "      <td>380</td>\n",
       "      <td>40</td>\n",
       "    </tr>\n",
       "    <tr>\n",
       "      <th>day3</th>\n",
       "      <td>390</td>\n",
       "      <td>45</td>\n",
       "    </tr>\n",
       "  </tbody>\n",
       "</table>\n",
       "</div>"
      ],
      "text/plain": [
       "      calories  duration\n",
       "day1       420        50\n",
       "day2       380        40\n",
       "day3       390        45"
      ]
     },
     "execution_count": 49,
     "metadata": {},
     "output_type": "execute_result"
    }
   ],
   "source": [
    "df"
   ]
  },
  {
   "cell_type": "code",
   "execution_count": 50,
   "id": "21ac1c0e-ddb4-4464-9ed3-89d842440e39",
   "metadata": {
    "tags": []
   },
   "outputs": [
    {
     "data": {
      "text/plain": [
       "calories    380\n",
       "duration     40\n",
       "Name: day2, dtype: int64"
      ]
     },
     "execution_count": 50,
     "metadata": {},
     "output_type": "execute_result"
    }
   ],
   "source": [
    "df.loc['day2']"
   ]
  },
  {
   "cell_type": "code",
   "execution_count": 51,
   "id": "d6b9e86b-84b4-4476-92cb-1b43e83a8c5f",
   "metadata": {
    "tags": []
   },
   "outputs": [
    {
     "data": {
      "text/plain": [
       "calories    420\n",
       "duration     50\n",
       "Name: day1, dtype: int64"
      ]
     },
     "execution_count": 51,
     "metadata": {},
     "output_type": "execute_result"
    }
   ],
   "source": [
    "df.loc['day1']"
   ]
  },
  {
   "cell_type": "code",
   "execution_count": 52,
   "id": "edda9a35-b65a-4943-8756-5098dfe64104",
   "metadata": {
    "tags": []
   },
   "outputs": [
    {
     "data": {
      "text/plain": [
       "calories    390\n",
       "duration     45\n",
       "Name: day3, dtype: int64"
      ]
     },
     "execution_count": 52,
     "metadata": {},
     "output_type": "execute_result"
    }
   ],
   "source": [
    "df.loc['day3']"
   ]
  },
  {
   "cell_type": "code",
   "execution_count": 53,
   "id": "71d571e8-f0d4-4b3a-8ba0-7c69a0c6609e",
   "metadata": {
    "tags": []
   },
   "outputs": [
    {
     "data": {
      "text/html": [
       "<div>\n",
       "<style scoped>\n",
       "    .dataframe tbody tr th:only-of-type {\n",
       "        vertical-align: middle;\n",
       "    }\n",
       "\n",
       "    .dataframe tbody tr th {\n",
       "        vertical-align: top;\n",
       "    }\n",
       "\n",
       "    .dataframe thead th {\n",
       "        text-align: right;\n",
       "    }\n",
       "</style>\n",
       "<table border=\"1\" class=\"dataframe\">\n",
       "  <thead>\n",
       "    <tr style=\"text-align: right;\">\n",
       "      <th></th>\n",
       "      <th>calories</th>\n",
       "      <th>duration</th>\n",
       "    </tr>\n",
       "  </thead>\n",
       "  <tbody>\n",
       "    <tr>\n",
       "      <th>day1</th>\n",
       "      <td>420</td>\n",
       "      <td>50</td>\n",
       "    </tr>\n",
       "  </tbody>\n",
       "</table>\n",
       "</div>"
      ],
      "text/plain": [
       "      calories  duration\n",
       "day1       420        50"
      ]
     },
     "execution_count": 53,
     "metadata": {},
     "output_type": "execute_result"
    }
   ],
   "source": [
    "df.loc[['day1']]"
   ]
  },
  {
   "cell_type": "markdown",
   "id": "fe503aa6-812a-469b-8b32-017beb969e83",
   "metadata": {},
   "source": [
    "### Reading from a CSV file"
   ]
  },
  {
   "cell_type": "code",
   "execution_count": 54,
   "id": "edb673b6-a617-4cdd-8cac-497798534b64",
   "metadata": {
    "tags": []
   },
   "outputs": [],
   "source": [
    "df = pd.read_csv('importexport202223.csv')"
   ]
  },
  {
   "cell_type": "code",
   "execution_count": 55,
   "id": "61fc3012-7c64-4be1-8399-750faa53ea6e",
   "metadata": {
    "tags": []
   },
   "outputs": [
    {
     "data": {
      "text/html": [
       "<div>\n",
       "<style scoped>\n",
       "    .dataframe tbody tr th:only-of-type {\n",
       "        vertical-align: middle;\n",
       "    }\n",
       "\n",
       "    .dataframe tbody tr th {\n",
       "        vertical-align: top;\n",
       "    }\n",
       "\n",
       "    .dataframe thead th {\n",
       "        text-align: right;\n",
       "    }\n",
       "</style>\n",
       "<table border=\"1\" class=\"dataframe\">\n",
       "  <thead>\n",
       "    <tr style=\"text-align: right;\">\n",
       "      <th></th>\n",
       "      <th>IMPORT/EXPORT (Quantity in '000 Metric Tonnes)</th>\n",
       "      <th>PRODUCT</th>\n",
       "      <th>APRIL</th>\n",
       "      <th>MAY</th>\n",
       "      <th>JUNE</th>\n",
       "      <th>JULY</th>\n",
       "      <th>AUGUST</th>\n",
       "      <th>SEPTEMBER</th>\n",
       "      <th>OCTOBER</th>\n",
       "      <th>NOVEMBER</th>\n",
       "      <th>DECEMBER</th>\n",
       "      <th>JANUARY</th>\n",
       "      <th>FEBRUARY</th>\n",
       "      <th>MARCH</th>\n",
       "      <th>TOTAL</th>\n",
       "    </tr>\n",
       "  </thead>\n",
       "  <tbody>\n",
       "    <tr>\n",
       "      <th>0</th>\n",
       "      <td>IMPORT</td>\n",
       "      <td>CRUDE OIL</td>\n",
       "      <td>21626</td>\n",
       "      <td>19644</td>\n",
       "      <td>19441</td>\n",
       "      <td>20624</td>\n",
       "      <td>17637</td>\n",
       "      <td>16772</td>\n",
       "      <td>18123</td>\n",
       "      <td>19003</td>\n",
       "      <td>19618</td>\n",
       "      <td>20058</td>\n",
       "      <td>19285</td>\n",
       "      <td>20729</td>\n",
       "      <td>232561</td>\n",
       "    </tr>\n",
       "    <tr>\n",
       "      <th>1</th>\n",
       "      <td>IMPORT</td>\n",
       "      <td>LPG</td>\n",
       "      <td>1605</td>\n",
       "      <td>1363</td>\n",
       "      <td>1264</td>\n",
       "      <td>1417</td>\n",
       "      <td>1574</td>\n",
       "      <td>1448</td>\n",
       "      <td>1374</td>\n",
       "      <td>1778</td>\n",
       "      <td>1718</td>\n",
       "      <td>1709</td>\n",
       "      <td>1647</td>\n",
       "      <td>1410</td>\n",
       "      <td>18309</td>\n",
       "    </tr>\n",
       "    <tr>\n",
       "      <th>2</th>\n",
       "      <td>IMPORT</td>\n",
       "      <td>MS</td>\n",
       "      <td>0</td>\n",
       "      <td>30</td>\n",
       "      <td>127</td>\n",
       "      <td>63</td>\n",
       "      <td>0</td>\n",
       "      <td>190</td>\n",
       "      <td>327</td>\n",
       "      <td>211</td>\n",
       "      <td>120</td>\n",
       "      <td>0</td>\n",
       "      <td>0</td>\n",
       "      <td>0</td>\n",
       "      <td>1069</td>\n",
       "    </tr>\n",
       "    <tr>\n",
       "      <th>3</th>\n",
       "      <td>IMPORT</td>\n",
       "      <td>Naphtha</td>\n",
       "      <td>35</td>\n",
       "      <td>30</td>\n",
       "      <td>2</td>\n",
       "      <td>145</td>\n",
       "      <td>90</td>\n",
       "      <td>76</td>\n",
       "      <td>135</td>\n",
       "      <td>28</td>\n",
       "      <td>88</td>\n",
       "      <td>67</td>\n",
       "      <td>121</td>\n",
       "      <td>117</td>\n",
       "      <td>936</td>\n",
       "    </tr>\n",
       "    <tr>\n",
       "      <th>4</th>\n",
       "      <td>IMPORT</td>\n",
       "      <td>ATF</td>\n",
       "      <td>0</td>\n",
       "      <td>0</td>\n",
       "      <td>0</td>\n",
       "      <td>0</td>\n",
       "      <td>0</td>\n",
       "      <td>0</td>\n",
       "      <td>0</td>\n",
       "      <td>0</td>\n",
       "      <td>0</td>\n",
       "      <td>0</td>\n",
       "      <td>0</td>\n",
       "      <td>0</td>\n",
       "      <td>0</td>\n",
       "    </tr>\n",
       "  </tbody>\n",
       "</table>\n",
       "</div>"
      ],
      "text/plain": [
       "  IMPORT/EXPORT (Quantity in '000 Metric Tonnes)     PRODUCT  APRIL    MAY   \n",
       "0                                         IMPORT   CRUDE OIL  21626  19644  \\\n",
       "1                                         IMPORT         LPG   1605   1363   \n",
       "2                                         IMPORT          MS      0     30   \n",
       "3                                         IMPORT     Naphtha     35     30   \n",
       "4                                         IMPORT         ATF      0      0   \n",
       "\n",
       "    JUNE   JULY  AUGUST  SEPTEMBER  OCTOBER  NOVEMBER  DECEMBER  JANUARY   \n",
       "0  19441  20624   17637      16772    18123     19003     19618    20058  \\\n",
       "1   1264   1417    1574       1448     1374      1778      1718     1709   \n",
       "2    127     63       0        190      327       211       120        0   \n",
       "3      2    145      90         76      135        28        88       67   \n",
       "4      0      0       0          0        0         0         0        0   \n",
       "\n",
       "   FEBRUARY  MARCH   TOTAL  \n",
       "0     19285  20729  232561  \n",
       "1      1647   1410   18309  \n",
       "2         0      0    1069  \n",
       "3       121    117     936  \n",
       "4         0      0       0  "
      ]
     },
     "execution_count": 55,
     "metadata": {},
     "output_type": "execute_result"
    }
   ],
   "source": [
    "df.head()"
   ]
  },
  {
   "cell_type": "code",
   "execution_count": 56,
   "id": "ff189d56-575e-4af6-a6c2-733b1159c285",
   "metadata": {
    "tags": []
   },
   "outputs": [
    {
     "data": {
      "text/html": [
       "<div>\n",
       "<style scoped>\n",
       "    .dataframe tbody tr th:only-of-type {\n",
       "        vertical-align: middle;\n",
       "    }\n",
       "\n",
       "    .dataframe tbody tr th {\n",
       "        vertical-align: top;\n",
       "    }\n",
       "\n",
       "    .dataframe thead th {\n",
       "        text-align: right;\n",
       "    }\n",
       "</style>\n",
       "<table border=\"1\" class=\"dataframe\">\n",
       "  <thead>\n",
       "    <tr style=\"text-align: right;\">\n",
       "      <th></th>\n",
       "      <th>IMPORT/EXPORT (Quantity in '000 Metric Tonnes)</th>\n",
       "      <th>PRODUCT</th>\n",
       "      <th>APRIL</th>\n",
       "      <th>MAY</th>\n",
       "      <th>JUNE</th>\n",
       "      <th>JULY</th>\n",
       "      <th>AUGUST</th>\n",
       "      <th>SEPTEMBER</th>\n",
       "      <th>OCTOBER</th>\n",
       "      <th>NOVEMBER</th>\n",
       "      <th>DECEMBER</th>\n",
       "      <th>JANUARY</th>\n",
       "      <th>FEBRUARY</th>\n",
       "      <th>MARCH</th>\n",
       "      <th>TOTAL</th>\n",
       "    </tr>\n",
       "  </thead>\n",
       "  <tbody>\n",
       "    <tr>\n",
       "      <th>23</th>\n",
       "      <td>EXPORT</td>\n",
       "      <td>Bitumen</td>\n",
       "      <td>0</td>\n",
       "      <td>0</td>\n",
       "      <td>1</td>\n",
       "      <td>0</td>\n",
       "      <td>0</td>\n",
       "      <td>2</td>\n",
       "      <td>2</td>\n",
       "      <td>0</td>\n",
       "      <td>0</td>\n",
       "      <td>0</td>\n",
       "      <td>0</td>\n",
       "      <td>3</td>\n",
       "      <td>9</td>\n",
       "    </tr>\n",
       "    <tr>\n",
       "      <th>24</th>\n",
       "      <td>EXPORT</td>\n",
       "      <td>Petcoke / CBFS</td>\n",
       "      <td>4</td>\n",
       "      <td>33</td>\n",
       "      <td>36</td>\n",
       "      <td>11</td>\n",
       "      <td>39</td>\n",
       "      <td>17</td>\n",
       "      <td>0</td>\n",
       "      <td>0</td>\n",
       "      <td>0</td>\n",
       "      <td>0</td>\n",
       "      <td>22</td>\n",
       "      <td>123</td>\n",
       "      <td>284</td>\n",
       "    </tr>\n",
       "    <tr>\n",
       "      <th>25</th>\n",
       "      <td>EXPORT</td>\n",
       "      <td>Others%</td>\n",
       "      <td>275</td>\n",
       "      <td>300</td>\n",
       "      <td>267</td>\n",
       "      <td>214</td>\n",
       "      <td>398</td>\n",
       "      <td>254</td>\n",
       "      <td>123</td>\n",
       "      <td>229</td>\n",
       "      <td>684</td>\n",
       "      <td>215</td>\n",
       "      <td>320</td>\n",
       "      <td>435</td>\n",
       "      <td>3717</td>\n",
       "    </tr>\n",
       "    <tr>\n",
       "      <th>26</th>\n",
       "      <td>EXPORT</td>\n",
       "      <td>TOTAL  PRODUCT EXPORT</td>\n",
       "      <td>5437</td>\n",
       "      <td>5682</td>\n",
       "      <td>5506</td>\n",
       "      <td>4689</td>\n",
       "      <td>5240</td>\n",
       "      <td>4987</td>\n",
       "      <td>3972</td>\n",
       "      <td>4266</td>\n",
       "      <td>5697</td>\n",
       "      <td>4501</td>\n",
       "      <td>5056</td>\n",
       "      <td>6006</td>\n",
       "      <td>61039</td>\n",
       "    </tr>\n",
       "    <tr>\n",
       "      <th>27</th>\n",
       "      <td>NET IMPORT</td>\n",
       "      <td>NET IMPORT</td>\n",
       "      <td>20366</td>\n",
       "      <td>17247</td>\n",
       "      <td>17074</td>\n",
       "      <td>19674</td>\n",
       "      <td>15606</td>\n",
       "      <td>14946</td>\n",
       "      <td>18043</td>\n",
       "      <td>18776</td>\n",
       "      <td>17969</td>\n",
       "      <td>19485</td>\n",
       "      <td>17801</td>\n",
       "      <td>18367</td>\n",
       "      <td>215355</td>\n",
       "    </tr>\n",
       "  </tbody>\n",
       "</table>\n",
       "</div>"
      ],
      "text/plain": [
       "   IMPORT/EXPORT (Quantity in '000 Metric Tonnes)                PRODUCT   \n",
       "23                                         EXPORT                Bitumen  \\\n",
       "24                                         EXPORT         Petcoke / CBFS   \n",
       "25                                         EXPORT                Others%   \n",
       "26                                         EXPORT  TOTAL  PRODUCT EXPORT   \n",
       "27                                     NET IMPORT             NET IMPORT   \n",
       "\n",
       "    APRIL    MAY   JUNE   JULY  AUGUST  SEPTEMBER  OCTOBER  NOVEMBER   \n",
       "23      0      0      1      0       0          2        2         0  \\\n",
       "24      4     33     36     11      39         17        0         0   \n",
       "25    275    300    267    214     398        254      123       229   \n",
       "26   5437   5682   5506   4689    5240       4987     3972      4266   \n",
       "27  20366  17247  17074  19674   15606      14946    18043     18776   \n",
       "\n",
       "    DECEMBER  JANUARY  FEBRUARY  MARCH   TOTAL  \n",
       "23         0        0         0      3       9  \n",
       "24         0        0        22    123     284  \n",
       "25       684      215       320    435    3717  \n",
       "26      5697     4501      5056   6006   61039  \n",
       "27     17969    19485     17801  18367  215355  "
      ]
     },
     "execution_count": 56,
     "metadata": {},
     "output_type": "execute_result"
    }
   ],
   "source": [
    "df.tail()"
   ]
  },
  {
   "cell_type": "code",
   "execution_count": 57,
   "id": "fff560a4-0795-4620-9a67-c097812fb654",
   "metadata": {
    "tags": []
   },
   "outputs": [
    {
     "name": "stdout",
     "output_type": "stream",
     "text": [
      "<class 'pandas.core.frame.DataFrame'>\n",
      "RangeIndex: 28 entries, 0 to 27\n",
      "Data columns (total 15 columns):\n",
      " #   Column                                          Non-Null Count  Dtype \n",
      "---  ------                                          --------------  ----- \n",
      " 0   IMPORT/EXPORT (Quantity in '000 Metric Tonnes)  28 non-null     object\n",
      " 1   PRODUCT                                         28 non-null     object\n",
      " 2   APRIL                                           28 non-null     int64 \n",
      " 3   MAY                                             28 non-null     int64 \n",
      " 4   JUNE                                            28 non-null     int64 \n",
      " 5   JULY                                            28 non-null     int64 \n",
      " 6   AUGUST                                          28 non-null     int64 \n",
      " 7   SEPTEMBER                                       28 non-null     int64 \n",
      " 8   OCTOBER                                         28 non-null     int64 \n",
      " 9   NOVEMBER                                        28 non-null     int64 \n",
      " 10  DECEMBER                                        28 non-null     int64 \n",
      " 11  JANUARY                                         28 non-null     int64 \n",
      " 12  FEBRUARY                                        28 non-null     int64 \n",
      " 13  MARCH                                           28 non-null     int64 \n",
      " 14  TOTAL                                           28 non-null     int64 \n",
      "dtypes: int64(13), object(2)\n",
      "memory usage: 3.4+ KB\n"
     ]
    }
   ],
   "source": [
    "df.info()"
   ]
  },
  {
   "cell_type": "code",
   "execution_count": 59,
   "id": "e0890478-ad4b-4b08-97e8-3aee5d678088",
   "metadata": {
    "tags": []
   },
   "outputs": [
    {
     "data": {
      "text/html": [
       "<div>\n",
       "<style scoped>\n",
       "    .dataframe tbody tr th:only-of-type {\n",
       "        vertical-align: middle;\n",
       "    }\n",
       "\n",
       "    .dataframe tbody tr th {\n",
       "        vertical-align: top;\n",
       "    }\n",
       "\n",
       "    .dataframe thead th {\n",
       "        text-align: right;\n",
       "    }\n",
       "</style>\n",
       "<table border=\"1\" class=\"dataframe\">\n",
       "  <thead>\n",
       "    <tr style=\"text-align: right;\">\n",
       "      <th></th>\n",
       "      <th>APRIL</th>\n",
       "      <th>MAY</th>\n",
       "      <th>JUNE</th>\n",
       "      <th>JULY</th>\n",
       "      <th>AUGUST</th>\n",
       "      <th>SEPTEMBER</th>\n",
       "      <th>OCTOBER</th>\n",
       "      <th>NOVEMBER</th>\n",
       "      <th>DECEMBER</th>\n",
       "      <th>JANUARY</th>\n",
       "      <th>FEBRUARY</th>\n",
       "      <th>MARCH</th>\n",
       "      <th>TOTAL</th>\n",
       "    </tr>\n",
       "  </thead>\n",
       "  <tbody>\n",
       "    <tr>\n",
       "      <th>APRIL</th>\n",
       "      <td>1.000000</td>\n",
       "      <td>0.998839</td>\n",
       "      <td>0.999018</td>\n",
       "      <td>0.999671</td>\n",
       "      <td>0.998897</td>\n",
       "      <td>0.998716</td>\n",
       "      <td>0.998989</td>\n",
       "      <td>0.999244</td>\n",
       "      <td>0.999391</td>\n",
       "      <td>0.999543</td>\n",
       "      <td>0.999760</td>\n",
       "      <td>0.999138</td>\n",
       "      <td>0.999853</td>\n",
       "    </tr>\n",
       "    <tr>\n",
       "      <th>MAY</th>\n",
       "      <td>0.998839</td>\n",
       "      <td>1.000000</td>\n",
       "      <td>0.999744</td>\n",
       "      <td>0.997952</td>\n",
       "      <td>0.999617</td>\n",
       "      <td>0.999677</td>\n",
       "      <td>0.996482</td>\n",
       "      <td>0.996813</td>\n",
       "      <td>0.999127</td>\n",
       "      <td>0.997278</td>\n",
       "      <td>0.999059</td>\n",
       "      <td>0.999618</td>\n",
       "      <td>0.999229</td>\n",
       "    </tr>\n",
       "    <tr>\n",
       "      <th>JUNE</th>\n",
       "      <td>0.999018</td>\n",
       "      <td>0.999744</td>\n",
       "      <td>1.000000</td>\n",
       "      <td>0.998403</td>\n",
       "      <td>0.999639</td>\n",
       "      <td>0.999428</td>\n",
       "      <td>0.996848</td>\n",
       "      <td>0.997218</td>\n",
       "      <td>0.999252</td>\n",
       "      <td>0.997776</td>\n",
       "      <td>0.999349</td>\n",
       "      <td>0.999803</td>\n",
       "      <td>0.999427</td>\n",
       "    </tr>\n",
       "    <tr>\n",
       "      <th>JULY</th>\n",
       "      <td>0.999671</td>\n",
       "      <td>0.997952</td>\n",
       "      <td>0.998403</td>\n",
       "      <td>1.000000</td>\n",
       "      <td>0.998137</td>\n",
       "      <td>0.997859</td>\n",
       "      <td>0.999464</td>\n",
       "      <td>0.999576</td>\n",
       "      <td>0.998687</td>\n",
       "      <td>0.999843</td>\n",
       "      <td>0.999500</td>\n",
       "      <td>0.998500</td>\n",
       "      <td>0.999565</td>\n",
       "    </tr>\n",
       "    <tr>\n",
       "      <th>AUGUST</th>\n",
       "      <td>0.998897</td>\n",
       "      <td>0.999617</td>\n",
       "      <td>0.999639</td>\n",
       "      <td>0.998137</td>\n",
       "      <td>1.000000</td>\n",
       "      <td>0.999756</td>\n",
       "      <td>0.996822</td>\n",
       "      <td>0.997261</td>\n",
       "      <td>0.999672</td>\n",
       "      <td>0.997751</td>\n",
       "      <td>0.999382</td>\n",
       "      <td>0.999797</td>\n",
       "      <td>0.999439</td>\n",
       "    </tr>\n",
       "    <tr>\n",
       "      <th>SEPTEMBER</th>\n",
       "      <td>0.998716</td>\n",
       "      <td>0.999677</td>\n",
       "      <td>0.999428</td>\n",
       "      <td>0.997859</td>\n",
       "      <td>0.999756</td>\n",
       "      <td>1.000000</td>\n",
       "      <td>0.996959</td>\n",
       "      <td>0.997162</td>\n",
       "      <td>0.999369</td>\n",
       "      <td>0.997368</td>\n",
       "      <td>0.998971</td>\n",
       "      <td>0.999386</td>\n",
       "      <td>0.999258</td>\n",
       "    </tr>\n",
       "    <tr>\n",
       "      <th>OCTOBER</th>\n",
       "      <td>0.998989</td>\n",
       "      <td>0.996482</td>\n",
       "      <td>0.996848</td>\n",
       "      <td>0.999464</td>\n",
       "      <td>0.996822</td>\n",
       "      <td>0.996959</td>\n",
       "      <td>1.000000</td>\n",
       "      <td>0.999833</td>\n",
       "      <td>0.997827</td>\n",
       "      <td>0.999558</td>\n",
       "      <td>0.998499</td>\n",
       "      <td>0.996990</td>\n",
       "      <td>0.998793</td>\n",
       "    </tr>\n",
       "    <tr>\n",
       "      <th>NOVEMBER</th>\n",
       "      <td>0.999244</td>\n",
       "      <td>0.996813</td>\n",
       "      <td>0.997218</td>\n",
       "      <td>0.999576</td>\n",
       "      <td>0.997261</td>\n",
       "      <td>0.997162</td>\n",
       "      <td>0.999833</td>\n",
       "      <td>1.000000</td>\n",
       "      <td>0.998265</td>\n",
       "      <td>0.999788</td>\n",
       "      <td>0.998964</td>\n",
       "      <td>0.997437</td>\n",
       "      <td>0.999067</td>\n",
       "    </tr>\n",
       "    <tr>\n",
       "      <th>DECEMBER</th>\n",
       "      <td>0.999391</td>\n",
       "      <td>0.999127</td>\n",
       "      <td>0.999252</td>\n",
       "      <td>0.998687</td>\n",
       "      <td>0.999672</td>\n",
       "      <td>0.999369</td>\n",
       "      <td>0.997827</td>\n",
       "      <td>0.998265</td>\n",
       "      <td>1.000000</td>\n",
       "      <td>0.998576</td>\n",
       "      <td>0.999621</td>\n",
       "      <td>0.999595</td>\n",
       "      <td>0.999677</td>\n",
       "    </tr>\n",
       "    <tr>\n",
       "      <th>JANUARY</th>\n",
       "      <td>0.999543</td>\n",
       "      <td>0.997278</td>\n",
       "      <td>0.997776</td>\n",
       "      <td>0.999843</td>\n",
       "      <td>0.997751</td>\n",
       "      <td>0.997368</td>\n",
       "      <td>0.999558</td>\n",
       "      <td>0.999788</td>\n",
       "      <td>0.998576</td>\n",
       "      <td>1.000000</td>\n",
       "      <td>0.999339</td>\n",
       "      <td>0.998044</td>\n",
       "      <td>0.999344</td>\n",
       "    </tr>\n",
       "    <tr>\n",
       "      <th>FEBRUARY</th>\n",
       "      <td>0.999760</td>\n",
       "      <td>0.999059</td>\n",
       "      <td>0.999349</td>\n",
       "      <td>0.999500</td>\n",
       "      <td>0.999382</td>\n",
       "      <td>0.998971</td>\n",
       "      <td>0.998499</td>\n",
       "      <td>0.998964</td>\n",
       "      <td>0.999621</td>\n",
       "      <td>0.999339</td>\n",
       "      <td>1.000000</td>\n",
       "      <td>0.999573</td>\n",
       "      <td>0.999912</td>\n",
       "    </tr>\n",
       "    <tr>\n",
       "      <th>MARCH</th>\n",
       "      <td>0.999138</td>\n",
       "      <td>0.999618</td>\n",
       "      <td>0.999803</td>\n",
       "      <td>0.998500</td>\n",
       "      <td>0.999797</td>\n",
       "      <td>0.999386</td>\n",
       "      <td>0.996990</td>\n",
       "      <td>0.997437</td>\n",
       "      <td>0.999595</td>\n",
       "      <td>0.998044</td>\n",
       "      <td>0.999573</td>\n",
       "      <td>1.000000</td>\n",
       "      <td>0.999547</td>\n",
       "    </tr>\n",
       "    <tr>\n",
       "      <th>TOTAL</th>\n",
       "      <td>0.999853</td>\n",
       "      <td>0.999229</td>\n",
       "      <td>0.999427</td>\n",
       "      <td>0.999565</td>\n",
       "      <td>0.999439</td>\n",
       "      <td>0.999258</td>\n",
       "      <td>0.998793</td>\n",
       "      <td>0.999067</td>\n",
       "      <td>0.999677</td>\n",
       "      <td>0.999344</td>\n",
       "      <td>0.999912</td>\n",
       "      <td>0.999547</td>\n",
       "      <td>1.000000</td>\n",
       "    </tr>\n",
       "  </tbody>\n",
       "</table>\n",
       "</div>"
      ],
      "text/plain": [
       "              APRIL       MAY      JUNE      JULY    AUGUST  SEPTEMBER   \n",
       "APRIL      1.000000  0.998839  0.999018  0.999671  0.998897   0.998716  \\\n",
       "MAY        0.998839  1.000000  0.999744  0.997952  0.999617   0.999677   \n",
       "JUNE       0.999018  0.999744  1.000000  0.998403  0.999639   0.999428   \n",
       "JULY       0.999671  0.997952  0.998403  1.000000  0.998137   0.997859   \n",
       "AUGUST     0.998897  0.999617  0.999639  0.998137  1.000000   0.999756   \n",
       "SEPTEMBER  0.998716  0.999677  0.999428  0.997859  0.999756   1.000000   \n",
       "OCTOBER    0.998989  0.996482  0.996848  0.999464  0.996822   0.996959   \n",
       "NOVEMBER   0.999244  0.996813  0.997218  0.999576  0.997261   0.997162   \n",
       "DECEMBER   0.999391  0.999127  0.999252  0.998687  0.999672   0.999369   \n",
       "JANUARY    0.999543  0.997278  0.997776  0.999843  0.997751   0.997368   \n",
       "FEBRUARY   0.999760  0.999059  0.999349  0.999500  0.999382   0.998971   \n",
       "MARCH      0.999138  0.999618  0.999803  0.998500  0.999797   0.999386   \n",
       "TOTAL      0.999853  0.999229  0.999427  0.999565  0.999439   0.999258   \n",
       "\n",
       "            OCTOBER  NOVEMBER  DECEMBER   JANUARY  FEBRUARY     MARCH   \n",
       "APRIL      0.998989  0.999244  0.999391  0.999543  0.999760  0.999138  \\\n",
       "MAY        0.996482  0.996813  0.999127  0.997278  0.999059  0.999618   \n",
       "JUNE       0.996848  0.997218  0.999252  0.997776  0.999349  0.999803   \n",
       "JULY       0.999464  0.999576  0.998687  0.999843  0.999500  0.998500   \n",
       "AUGUST     0.996822  0.997261  0.999672  0.997751  0.999382  0.999797   \n",
       "SEPTEMBER  0.996959  0.997162  0.999369  0.997368  0.998971  0.999386   \n",
       "OCTOBER    1.000000  0.999833  0.997827  0.999558  0.998499  0.996990   \n",
       "NOVEMBER   0.999833  1.000000  0.998265  0.999788  0.998964  0.997437   \n",
       "DECEMBER   0.997827  0.998265  1.000000  0.998576  0.999621  0.999595   \n",
       "JANUARY    0.999558  0.999788  0.998576  1.000000  0.999339  0.998044   \n",
       "FEBRUARY   0.998499  0.998964  0.999621  0.999339  1.000000  0.999573   \n",
       "MARCH      0.996990  0.997437  0.999595  0.998044  0.999573  1.000000   \n",
       "TOTAL      0.998793  0.999067  0.999677  0.999344  0.999912  0.999547   \n",
       "\n",
       "              TOTAL  \n",
       "APRIL      0.999853  \n",
       "MAY        0.999229  \n",
       "JUNE       0.999427  \n",
       "JULY       0.999565  \n",
       "AUGUST     0.999439  \n",
       "SEPTEMBER  0.999258  \n",
       "OCTOBER    0.998793  \n",
       "NOVEMBER   0.999067  \n",
       "DECEMBER   0.999677  \n",
       "JANUARY    0.999344  \n",
       "FEBRUARY   0.999912  \n",
       "MARCH      0.999547  \n",
       "TOTAL      1.000000  "
      ]
     },
     "execution_count": 59,
     "metadata": {},
     "output_type": "execute_result"
    }
   ],
   "source": [
    "df.drop(columns=df.columns[0:2]).corr()"
   ]
  }
 ],
 "metadata": {
  "kernelspec": {
   "display_name": "Python 3 (ipykernel)",
   "language": "python",
   "name": "python3"
  },
  "language_info": {
   "codemirror_mode": {
    "name": "ipython",
    "version": 3
   },
   "file_extension": ".py",
   "mimetype": "text/x-python",
   "name": "python",
   "nbconvert_exporter": "python",
   "pygments_lexer": "ipython3",
   "version": "3.11.5"
  }
 },
 "nbformat": 4,
 "nbformat_minor": 5
}
