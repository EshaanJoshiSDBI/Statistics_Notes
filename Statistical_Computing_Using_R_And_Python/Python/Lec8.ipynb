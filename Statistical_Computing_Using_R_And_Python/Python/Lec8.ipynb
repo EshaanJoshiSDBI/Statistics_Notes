{
 "cells": [
  {
   "cell_type": "code",
   "execution_count": 1,
   "id": "1afece52-c6c8-44af-925d-7cbbd7a3d2c5",
   "metadata": {
    "tags": []
   },
   "outputs": [],
   "source": [
    "import pandas as pd"
   ]
  },
  {
   "cell_type": "code",
   "execution_count": 2,
   "id": "8156b39e-163d-42e3-98ca-009a878cb63d",
   "metadata": {
    "tags": []
   },
   "outputs": [],
   "source": [
    "data1 = {'Name':['Jai','Princi','Gaurav','Anuj'],\n",
    "        'Age':[27,24,22,32],\n",
    "        'Key':['K0','K1','K2','K3']}"
   ]
  },
  {
   "cell_type": "code",
   "execution_count": 3,
   "id": "4ef803e2-d811-4849-9ae1-771177ab684b",
   "metadata": {
    "tags": []
   },
   "outputs": [],
   "source": [
    "data2 = {'Address':['Allahbad','Kannauj','Allahbad','Kannauj'],\n",
    "        'Qualification':['MCA','Phd','Bcom','B.hons']}"
   ]
  },
  {
   "cell_type": "code",
   "execution_count": 7,
   "id": "4d6d396d-b1a3-4817-bdc1-503252d22d16",
   "metadata": {
    "tags": []
   },
   "outputs": [],
   "source": [
    "df1 = pd.DataFrame(data1)"
   ]
  },
  {
   "cell_type": "code",
   "execution_count": 6,
   "id": "1bf63667-8110-4a4b-831c-2fed2e730257",
   "metadata": {
    "tags": []
   },
   "outputs": [],
   "source": [
    "df2 = pd.DataFrame(data2,index=data1['Key'])"
   ]
  },
  {
   "cell_type": "code",
   "execution_count": 8,
   "id": "83a6b8ad-2c4b-41bf-a776-061c8d81a2ea",
   "metadata": {
    "tags": []
   },
   "outputs": [
    {
     "data": {
      "text/html": [
       "<div>\n",
       "<style scoped>\n",
       "    .dataframe tbody tr th:only-of-type {\n",
       "        vertical-align: middle;\n",
       "    }\n",
       "\n",
       "    .dataframe tbody tr th {\n",
       "        vertical-align: top;\n",
       "    }\n",
       "\n",
       "    .dataframe thead th {\n",
       "        text-align: right;\n",
       "    }\n",
       "</style>\n",
       "<table border=\"1\" class=\"dataframe\">\n",
       "  <thead>\n",
       "    <tr style=\"text-align: right;\">\n",
       "      <th></th>\n",
       "      <th>Address</th>\n",
       "      <th>Qualification</th>\n",
       "    </tr>\n",
       "  </thead>\n",
       "  <tbody>\n",
       "    <tr>\n",
       "      <th>K0</th>\n",
       "      <td>Allahbad</td>\n",
       "      <td>MCA</td>\n",
       "    </tr>\n",
       "    <tr>\n",
       "      <th>K1</th>\n",
       "      <td>Kannauj</td>\n",
       "      <td>Phd</td>\n",
       "    </tr>\n",
       "    <tr>\n",
       "      <th>K2</th>\n",
       "      <td>Allahbad</td>\n",
       "      <td>Bcom</td>\n",
       "    </tr>\n",
       "    <tr>\n",
       "      <th>K3</th>\n",
       "      <td>Kannauj</td>\n",
       "      <td>B.hons</td>\n",
       "    </tr>\n",
       "  </tbody>\n",
       "</table>\n",
       "</div>"
      ],
      "text/plain": [
       "     Address Qualification\n",
       "K0  Allahbad           MCA\n",
       "K1   Kannauj           Phd\n",
       "K2  Allahbad          Bcom\n",
       "K3   Kannauj        B.hons"
      ]
     },
     "execution_count": 8,
     "metadata": {},
     "output_type": "execute_result"
    }
   ],
   "source": [
    "df2.head()"
   ]
  },
  {
   "cell_type": "code",
   "execution_count": 9,
   "id": "98f1d68e-7e67-44d7-9274-aaa614edb036",
   "metadata": {
    "tags": []
   },
   "outputs": [
    {
     "name": "stdout",
     "output_type": "stream",
     "text": [
      "     Name  Age Key\n",
      "0     Jai   27  K0\n",
      "1  Princi   24  K1\n",
      "2  Gaurav   22  K2\n",
      "3    Anuj   32  K3 \n",
      "\n",
      "      Address Qualification\n",
      "K0  Allahbad           MCA\n",
      "K1   Kannauj           Phd\n",
      "K2  Allahbad          Bcom\n",
      "K3   Kannauj        B.hons\n"
     ]
    }
   ],
   "source": [
    "print(df1,'\\n\\n',df2)"
   ]
  },
  {
   "cell_type": "code",
   "execution_count": 10,
   "id": "fac5ed04-e20e-482b-8817-355ceb731494",
   "metadata": {
    "tags": []
   },
   "outputs": [],
   "source": [
    "res = df1.join(df2,on='Key')"
   ]
  },
  {
   "cell_type": "code",
   "execution_count": 11,
   "id": "60a4b2c8-65a9-4065-838a-b7b9f1f46784",
   "metadata": {
    "tags": []
   },
   "outputs": [
    {
     "data": {
      "text/html": [
       "<div>\n",
       "<style scoped>\n",
       "    .dataframe tbody tr th:only-of-type {\n",
       "        vertical-align: middle;\n",
       "    }\n",
       "\n",
       "    .dataframe tbody tr th {\n",
       "        vertical-align: top;\n",
       "    }\n",
       "\n",
       "    .dataframe thead th {\n",
       "        text-align: right;\n",
       "    }\n",
       "</style>\n",
       "<table border=\"1\" class=\"dataframe\">\n",
       "  <thead>\n",
       "    <tr style=\"text-align: right;\">\n",
       "      <th></th>\n",
       "      <th>Name</th>\n",
       "      <th>Age</th>\n",
       "      <th>Key</th>\n",
       "      <th>Address</th>\n",
       "      <th>Qualification</th>\n",
       "    </tr>\n",
       "  </thead>\n",
       "  <tbody>\n",
       "    <tr>\n",
       "      <th>0</th>\n",
       "      <td>Jai</td>\n",
       "      <td>27</td>\n",
       "      <td>K0</td>\n",
       "      <td>Allahbad</td>\n",
       "      <td>MCA</td>\n",
       "    </tr>\n",
       "    <tr>\n",
       "      <th>1</th>\n",
       "      <td>Princi</td>\n",
       "      <td>24</td>\n",
       "      <td>K1</td>\n",
       "      <td>Kannauj</td>\n",
       "      <td>Phd</td>\n",
       "    </tr>\n",
       "    <tr>\n",
       "      <th>2</th>\n",
       "      <td>Gaurav</td>\n",
       "      <td>22</td>\n",
       "      <td>K2</td>\n",
       "      <td>Allahbad</td>\n",
       "      <td>Bcom</td>\n",
       "    </tr>\n",
       "    <tr>\n",
       "      <th>3</th>\n",
       "      <td>Anuj</td>\n",
       "      <td>32</td>\n",
       "      <td>K3</td>\n",
       "      <td>Kannauj</td>\n",
       "      <td>B.hons</td>\n",
       "    </tr>\n",
       "  </tbody>\n",
       "</table>\n",
       "</div>"
      ],
      "text/plain": [
       "     Name  Age Key   Address Qualification\n",
       "0     Jai   27  K0  Allahbad           MCA\n",
       "1  Princi   24  K1   Kannauj           Phd\n",
       "2  Gaurav   22  K2  Allahbad          Bcom\n",
       "3    Anuj   32  K3   Kannauj        B.hons"
      ]
     },
     "execution_count": 11,
     "metadata": {},
     "output_type": "execute_result"
    }
   ],
   "source": [
    "res"
   ]
  },
  {
   "cell_type": "markdown",
   "id": "7a5ce0d1-584b-4822-8352-5c0789117c5f",
   "metadata": {},
   "source": [
    "#### Multi Index"
   ]
  },
  {
   "cell_type": "code",
   "execution_count": 13,
   "id": "cf3ac9e8-bf5b-4d6f-80f1-b5959a59cd39",
   "metadata": {
    "tags": []
   },
   "outputs": [],
   "source": [
    "data1 = {'Name':['Jai','Princi','Gaurav'],\n",
    "        'Age':[27,24,22],\n",
    "        'Key':['K0','K1','K2']}"
   ]
  },
  {
   "cell_type": "code",
   "execution_count": 16,
   "id": "6f57ba2f-99fd-4cbb-b10a-a246c114d96f",
   "metadata": {
    "tags": []
   },
   "outputs": [],
   "source": [
    "df1 = pd.DataFrame(data1,index=pd.Index(['K0','K1','K2'],name='Key'))"
   ]
  },
  {
   "cell_type": "code",
   "execution_count": 15,
   "id": "060dc317-74eb-4521-92d0-21ba523ec4f9",
   "metadata": {
    "tags": []
   },
   "outputs": [],
   "source": [
    "index = pd.MultiIndex.from_tuples([('K0','Y0'),('K1','Y1'),('K2','Y2'),('K3','Y3')],\n",
    "                                 names=['Key','Y'])"
   ]
  },
  {
   "cell_type": "code",
   "execution_count": 17,
   "id": "e3972aba-d576-497e-9ad0-eaf141e9ae52",
   "metadata": {
    "tags": []
   },
   "outputs": [],
   "source": [
    "df2 = pd.DataFrame(data2,index=index)"
   ]
  },
  {
   "cell_type": "code",
   "execution_count": 18,
   "id": "0b83d817-7348-444a-9f69-697fe4e47e54",
   "metadata": {
    "tags": []
   },
   "outputs": [
    {
     "name": "stdout",
     "output_type": "stream",
     "text": [
      "       Name  Age Key\n",
      "Key                 \n",
      "K0      Jai   27  K0\n",
      "K1   Princi   24  K1\n",
      "K2   Gaurav   22  K2 \n",
      "\n",
      "          Address Qualification\n",
      "Key Y                         \n",
      "K0  Y0  Allahbad           MCA\n",
      "K1  Y1   Kannauj           Phd\n",
      "K2  Y2  Allahbad          Bcom\n",
      "K3  Y3   Kannauj        B.hons\n"
     ]
    }
   ],
   "source": [
    "print(df1,'\\n\\n',df2)"
   ]
  },
  {
   "cell_type": "code",
   "execution_count": 19,
   "id": "55085d91-38e1-4ac7-9801-1d58c280ddb8",
   "metadata": {
    "tags": []
   },
   "outputs": [],
   "source": [
    "res = df1.join(df2,how='inner')"
   ]
  },
  {
   "cell_type": "code",
   "execution_count": 20,
   "id": "798a2a5b-37b1-4f7b-8bee-8821ae459302",
   "metadata": {
    "tags": []
   },
   "outputs": [
    {
     "data": {
      "text/html": [
       "<div>\n",
       "<style scoped>\n",
       "    .dataframe tbody tr th:only-of-type {\n",
       "        vertical-align: middle;\n",
       "    }\n",
       "\n",
       "    .dataframe tbody tr th {\n",
       "        vertical-align: top;\n",
       "    }\n",
       "\n",
       "    .dataframe thead th {\n",
       "        text-align: right;\n",
       "    }\n",
       "</style>\n",
       "<table border=\"1\" class=\"dataframe\">\n",
       "  <thead>\n",
       "    <tr style=\"text-align: right;\">\n",
       "      <th></th>\n",
       "      <th></th>\n",
       "      <th>Name</th>\n",
       "      <th>Age</th>\n",
       "      <th>Key</th>\n",
       "      <th>Address</th>\n",
       "      <th>Qualification</th>\n",
       "    </tr>\n",
       "    <tr>\n",
       "      <th>Key</th>\n",
       "      <th>Y</th>\n",
       "      <th></th>\n",
       "      <th></th>\n",
       "      <th></th>\n",
       "      <th></th>\n",
       "      <th></th>\n",
       "    </tr>\n",
       "  </thead>\n",
       "  <tbody>\n",
       "    <tr>\n",
       "      <th>K0</th>\n",
       "      <th>Y0</th>\n",
       "      <td>Jai</td>\n",
       "      <td>27</td>\n",
       "      <td>K0</td>\n",
       "      <td>Allahbad</td>\n",
       "      <td>MCA</td>\n",
       "    </tr>\n",
       "    <tr>\n",
       "      <th>K1</th>\n",
       "      <th>Y1</th>\n",
       "      <td>Princi</td>\n",
       "      <td>24</td>\n",
       "      <td>K1</td>\n",
       "      <td>Kannauj</td>\n",
       "      <td>Phd</td>\n",
       "    </tr>\n",
       "    <tr>\n",
       "      <th>K2</th>\n",
       "      <th>Y2</th>\n",
       "      <td>Gaurav</td>\n",
       "      <td>22</td>\n",
       "      <td>K2</td>\n",
       "      <td>Allahbad</td>\n",
       "      <td>Bcom</td>\n",
       "    </tr>\n",
       "  </tbody>\n",
       "</table>\n",
       "</div>"
      ],
      "text/plain": [
       "          Name  Age Key   Address Qualification\n",
       "Key Y                                          \n",
       "K0  Y0     Jai   27  K0  Allahbad           MCA\n",
       "K1  Y1  Princi   24  K1   Kannauj           Phd\n",
       "K2  Y2  Gaurav   22  K2  Allahbad          Bcom"
      ]
     },
     "execution_count": 20,
     "metadata": {},
     "output_type": "execute_result"
    }
   ],
   "source": [
    "res.head()"
   ]
  },
  {
   "cell_type": "code",
   "execution_count": 21,
   "id": "2963a843-5fc9-4f11-a3b1-3942d7ee299d",
   "metadata": {
    "tags": []
   },
   "outputs": [],
   "source": [
    "import matplotlib.pyplot as plt"
   ]
  },
  {
   "cell_type": "code",
   "execution_count": 22,
   "id": "c0decb97-068e-4731-93c8-34910577faa6",
   "metadata": {
    "tags": []
   },
   "outputs": [],
   "source": [
    "x = [5,7,8,7,2,17,2,9,4,11,12,9,6]"
   ]
  },
  {
   "cell_type": "code",
   "execution_count": 23,
   "id": "10924748-b47e-458b-9801-a78a02aa61a9",
   "metadata": {
    "tags": []
   },
   "outputs": [],
   "source": [
    "y = [99,86,87,88,111,86,103,87,94,78,77,85,86]"
   ]
  },
  {
   "cell_type": "code",
   "execution_count": 24,
   "id": "b7629482-f2dc-4477-8389-d6e701532f11",
   "metadata": {
    "tags": []
   },
   "outputs": [
    {
     "data": {
      "text/plain": [
       "<matplotlib.collections.PathCollection at 0x7f62a74bbf90>"
      ]
     },
     "execution_count": 24,
     "metadata": {},
     "output_type": "execute_result"
    },
    {
     "data": {
      "image/png": "[encoded data removed]",
      "text/plain": [
       "<Figure size 640x480 with 1 Axes>"
      ]
     },
     "metadata": {},
     "output_type": "display_data"
    }
   ],
   "source": [
    "plt.scatter(x,y)"
   ]
  },
  {
   "cell_type": "code",
   "execution_count": 25,
   "id": "6f67bb7a-ec68-4f8e-a998-ea4545d97697",
   "metadata": {
    "tags": []
   },
   "outputs": [],
   "source": [
    "from scipy import stats"
   ]
  },
  {
   "cell_type": "code",
   "execution_count": 26,
   "id": "364425f0-bdf4-46bb-9c81-2859f166d4ce",
   "metadata": {
    "tags": []
   },
   "outputs": [],
   "source": [
    "x = [5,7,8,7,2,17,2,9,4,11,12,9,6]\n",
    "\n",
    "y = [99,86,87,88,111,86,103,87,94,78,77,85,86]"
   ]
  },
  {
   "cell_type": "code",
   "execution_count": 27,
   "id": "424ae423-f20e-4983-8a40-3ea0c573f0f1",
   "metadata": {
    "tags": []
   },
   "outputs": [],
   "source": [
    "slope,intercept,r,p,std_err=stats.linregress(x,y)"
   ]
  },
  {
   "cell_type": "code",
   "execution_count": 28,
   "id": "40c4c08a-b78c-499b-b335-49a16402d040",
   "metadata": {
    "tags": []
   },
   "outputs": [
    {
     "name": "stdout",
     "output_type": "stream",
     "text": [
      "-0.758591524376155\n"
     ]
    }
   ],
   "source": [
    "print(r)"
   ]
  },
  {
   "cell_type": "code",
   "execution_count": 29,
   "id": "7f83d13a-f38c-4ac6-bd16-d8cd73b976cd",
   "metadata": {
    "tags": []
   },
   "outputs": [],
   "source": [
    "def myfunc(x):\n",
    "    return slope*x+intercept\n",
    "mymodel = list(map(myfunc,x))"
   ]
  },
  {
   "cell_type": "code",
   "execution_count": 30,
   "id": "0cd52b8c-5ff7-4567-98f7-ef0ef194f9a1",
   "metadata": {
    "tags": []
   },
   "outputs": [
    {
     "data": {
      "text/plain": [
       "<matplotlib.collections.PathCollection at 0x7f62a85c3390>"
      ]
     },
     "execution_count": 30,
     "metadata": {},
     "output_type": "execute_result"
    },
    {
     "data": {
      "image/png": "[encoded data removed]",
      "text/plain": [
       "<Figure size 640x480 with 1 Axes>"
      ]
     },
     "metadata": {},
     "output_type": "display_data"
    }
   ],
   "source": [
    "plt.scatter(x,y)"
   ]
  },
  {
   "cell_type": "code",
   "execution_count": 31,
   "id": "869c943c-9cae-48be-a68e-b818b4a4f17c",
   "metadata": {
    "tags": []
   },
   "outputs": [
    {
     "data": {
      "text/plain": [
       "[<matplotlib.lines.Line2D at 0x7f627ab0c090>]"
      ]
     },
     "execution_count": 31,
     "metadata": {},
     "output_type": "execute_result"
    },
    {
     "data": {
      "image/png": "[encoded data removed]",
      "text/plain": [
       "<Figure size 640x480 with 1 Axes>"
      ]
     },
     "metadata": {},
     "output_type": "display_data"
    }
   ],
   "source": [
    "plt.plot(x,mymodel)"
   ]
  },
  {
   "cell_type": "code",
   "execution_count": 32,
   "id": "77378639-d4cc-467e-b8ee-5abe47fbd4c7",
   "metadata": {
    "tags": []
   },
   "outputs": [],
   "source": [
    "speed=myfunc(10)"
   ]
  },
  {
   "cell_type": "code",
   "execution_count": 48,
   "id": "5375d9fc-dc11-4909-9e4d-7177aab63a59",
   "metadata": {
    "tags": []
   },
   "outputs": [],
   "source": [
    "speed=myfunc(35)"
   ]
  },
  {
   "cell_type": "code",
   "execution_count": 49,
   "id": "b6acef98-a60e-4aa6-956e-ba5ebc21ad2c",
   "metadata": {
    "tags": []
   },
   "outputs": [
    {
     "data": {
      "text/plain": [
       "41.81089036055925"
      ]
     },
     "execution_count": 49,
     "metadata": {},
     "output_type": "execute_result"
    }
   ],
   "source": [
    "speed"
   ]
  },
  {
   "cell_type": "code",
   "execution_count": 50,
   "id": "c1b1ac52-fa33-4c24-8e4a-e084a22a50a7",
   "metadata": {
    "tags": []
   },
   "outputs": [],
   "source": [
    "x=[89,43,36,36,95,10,66,34,38,20,26,29,48,64,6,5,36,66,72,40]"
   ]
  },
  {
   "cell_type": "code",
   "execution_count": 53,
   "id": "22cb6143-4965-4884-b4a8-3e66fc9e1238",
   "metadata": {
    "tags": []
   },
   "outputs": [],
   "source": [
    "y=[21,46,3,35,67,95,53,72,58,10,26,34,90,33,38,20,56,2,47,15]"
   ]
  },
  {
   "cell_type": "code",
   "execution_count": 54,
   "id": "8759e0ab-6065-4345-a01b-89163402a8e4",
   "metadata": {
    "tags": []
   },
   "outputs": [],
   "source": [
    "slope,intercept,r,p,std_err=stats.linregress(x,y)"
   ]
  },
  {
   "cell_type": "code",
   "execution_count": 55,
   "id": "32686fb6-c6d4-4694-8313-016dac0eadb7",
   "metadata": {
    "tags": []
   },
   "outputs": [],
   "source": [
    "def myfunc(x):\n",
    "    return slope*x+intercept\n",
    "mymodel = list(map(myfunc,x))"
   ]
  },
  {
   "cell_type": "code",
   "execution_count": 56,
   "id": "31700c2c-9ff8-4062-bc61-e613b50a59b6",
   "metadata": {
    "tags": []
   },
   "outputs": [
    {
     "data": {
      "text/plain": [
       "<matplotlib.collections.PathCollection at 0x7f627a939590>"
      ]
     },
     "execution_count": 56,
     "metadata": {},
     "output_type": "execute_result"
    },
    {
     "data": {
      "image/png": "[encoded data removed]",
      "text/plain": [
       "<Figure size 640x480 with 1 Axes>"
      ]
     },
     "metadata": {},
     "output_type": "display_data"
    }
   ],
   "source": [
    "plt.scatter(x,y)"
   ]
  },
  {
   "cell_type": "code",
   "execution_count": 57,
   "id": "5a751707-845e-4e58-a34a-27a73072a1e7",
   "metadata": {
    "tags": []
   },
   "outputs": [
    {
     "data": {
      "text/plain": [
       "0.01331814154297491"
      ]
     },
     "execution_count": 57,
     "metadata": {},
     "output_type": "execute_result"
    }
   ],
   "source": [
    "r"
   ]
  }
 ],
 "metadata": {
  "kernelspec": {
   "display_name": "Python 3 (ipykernel)",
   "language": "python",
   "name": "python3"
  },
  "language_info": {
   "codemirror_mode": {
    "name": "ipython",
    "version": 3
   },
   "file_extension": ".py",
   "mimetype": "text/x-python",
   "name": "python",
   "nbconvert_exporter": "python",
   "pygments_lexer": "ipython3",
   "version": "3.11.5"
  }
 },
 "nbformat": 4,
 "nbformat_minor": 5
}
