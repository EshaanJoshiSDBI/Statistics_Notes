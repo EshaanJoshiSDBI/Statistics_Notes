{
 "cells": [
  {
   "cell_type": "markdown",
   "id": "cefc80a7-8439-463e-b323-72334f924592",
   "metadata": {},
   "source": [
    "### Python Numbers\n",
    "- There are three numeric types in Python:\n",
    "    - int\n",
    "    - float\n",
    "    - complex"
   ]
  },
  {
   "cell_type": "markdown",
   "id": "b4522c58-1132-4472-8644-d4d63b049ed8",
   "metadata": {},
   "source": [
    "Variables of numeric types are created when you assign a value to them"
   ]
  },
  {
   "cell_type": "code",
   "execution_count": 4,
   "id": "5c6e21c7-b6d2-4c2b-86fe-d5b466eb241e",
   "metadata": {
    "tags": []
   },
   "outputs": [],
   "source": [
    "# int\n",
    "x = 1"
   ]
  },
  {
   "cell_type": "code",
   "execution_count": 12,
   "id": "f024e194-bef3-4bc2-8a8a-7ea1a9732be4",
   "metadata": {
    "tags": []
   },
   "outputs": [],
   "source": [
    "# Int\n",
    "x1 = 10"
   ]
  },
  {
   "cell_type": "code",
   "execution_count": 5,
   "id": "f8621cd1-ea86-45b7-9cc0-774d7d70b668",
   "metadata": {
    "tags": []
   },
   "outputs": [],
   "source": [
    "# float\n",
    "y = 2.8"
   ]
  },
  {
   "cell_type": "code",
   "execution_count": 13,
   "id": "59341251-7371-4ea7-9d1a-543cae817d7d",
   "metadata": {
    "tags": []
   },
   "outputs": [],
   "source": [
    "# Float\n",
    "y1 = 420.69"
   ]
  },
  {
   "cell_type": "code",
   "execution_count": 6,
   "id": "e8cd878f-b8ca-413e-a160-76848b6e454e",
   "metadata": {
    "tags": []
   },
   "outputs": [],
   "source": [
    "# complex\n",
    "z = 1j"
   ]
  },
  {
   "cell_type": "code",
   "execution_count": 11,
   "id": "9977002b-148a-4a5c-b1e4-ffed32efeeb9",
   "metadata": {
    "tags": []
   },
   "outputs": [],
   "source": [
    "# Complex\n",
    "z1 = 3+5j"
   ]
  },
  {
   "cell_type": "markdown",
   "id": "326d0367-4cdc-40d5-ac3b-24f18cc752f1",
   "metadata": {},
   "source": [
    "To verify the type of any object in Python, use the `type()` function"
   ]
  },
  {
   "cell_type": "code",
   "execution_count": 7,
   "id": "d9c018f5-07fd-490d-93b0-6323b7924cc1",
   "metadata": {
    "tags": []
   },
   "outputs": [
    {
     "name": "stdout",
     "output_type": "stream",
     "text": [
      "<class 'int'>\n"
     ]
    }
   ],
   "source": [
    "print(type(x))"
   ]
  },
  {
   "cell_type": "code",
   "execution_count": 8,
   "id": "c1b13010-7c4c-42ef-8aae-46c1e1fa63b8",
   "metadata": {
    "tags": []
   },
   "outputs": [
    {
     "name": "stdout",
     "output_type": "stream",
     "text": [
      "<class 'float'>\n"
     ]
    }
   ],
   "source": [
    "print(type(y))"
   ]
  },
  {
   "cell_type": "code",
   "execution_count": 9,
   "id": "18027018-e4cb-439b-a8d9-bf8f5f9c8521",
   "metadata": {
    "tags": []
   },
   "outputs": [
    {
     "name": "stdout",
     "output_type": "stream",
     "text": [
      "<class 'complex'>\n"
     ]
    }
   ],
   "source": [
    "print(type(z))"
   ]
  },
  {
   "cell_type": "markdown",
   "id": "2a20caed-7309-455a-94dd-7480c39db9eb",
   "metadata": {},
   "source": [
    "### Python Lists\n",
    "- Lists are used to store multiple items in a single variable.\n",
    "- Lists are one of 4 built-in data types in Python used to store collections of data, the other 3 are Tuple, Set and Dictionary, all with different qualities and usage.\n",
    "- Lists are created using square brackets:"
   ]
  },
  {
   "cell_type": "code",
   "execution_count": 14,
   "id": "0ed5f608-981f-4a17-a263-e907f568c580",
   "metadata": {
    "tags": []
   },
   "outputs": [],
   "source": [
    "thisList = ['apple','banana','cherry']"
   ]
  },
  {
   "cell_type": "code",
   "execution_count": 15,
   "id": "32237495-4a32-4a8b-9f8c-09659434ba9e",
   "metadata": {
    "tags": []
   },
   "outputs": [
    {
     "name": "stdout",
     "output_type": "stream",
     "text": [
      "['apple', 'banana', 'cherry']\n"
     ]
    }
   ],
   "source": [
    "print(thisList)"
   ]
  },
  {
   "cell_type": "markdown",
   "id": "09b209aa-73db-45bb-a8a9-d9dcae9057d7",
   "metadata": {},
   "source": [
    "List Items<br>\n",
    "- List items are ordered, changeable and allow duplicate values.\n",
    "- List items are indexed, the first item has index[0], the second item has index[1] etc."
   ]
  },
  {
   "cell_type": "markdown",
   "id": "141f1397-a839-433b-9fd4-c66b579e5f95",
   "metadata": {},
   "source": [
    "Ordered\n",
    "- When we say that lists are ordered, it means that the items have a defined order, and that order will not change.\n",
    "- If you add new items to a list, the new items will be placed at the end of the list."
   ]
  },
  {
   "cell_type": "markdown",
   "id": "a5a836a3-3e95-4f41-888e-4535e1f61406",
   "metadata": {},
   "source": [
    "Changeable\n",
    "- The list is changeable, meaning that we can change, add and remove items in a list after it has been created"
   ]
  },
  {
   "cell_type": "markdown",
   "id": "a04dd807-6641-44c0-b3ab-07b6448d3698",
   "metadata": {},
   "source": [
    "Allow Duplicates\n",
    "- Since lists are indexed, lists can have items with the same value:"
   ]
  },
  {
   "cell_type": "code",
   "execution_count": 16,
   "id": "490c07b2-c5a1-47a5-a4ec-2c84e3efac86",
   "metadata": {
    "tags": []
   },
   "outputs": [],
   "source": [
    "thisList = ['apple','banana','cherry','apple','cherry']"
   ]
  },
  {
   "cell_type": "code",
   "execution_count": 17,
   "id": "fe98cdf1-fdb4-4c2a-bafe-5c0b1e9aa140",
   "metadata": {
    "tags": []
   },
   "outputs": [
    {
     "name": "stdout",
     "output_type": "stream",
     "text": [
      "['apple', 'banana', 'cherry', 'apple', 'cherry']\n"
     ]
    }
   ],
   "source": [
    "print(thisList)"
   ]
  },
  {
   "cell_type": "markdown",
   "id": "d4313423-fe85-42f6-b619-5007685aa844",
   "metadata": {},
   "source": [
    "List Length\n",
    "- To determine how many itmes a list has, use the `len()` function:"
   ]
  },
  {
   "cell_type": "code",
   "execution_count": 18,
   "id": "cee407aa-102d-4ed1-91d8-75ada413f132",
   "metadata": {
    "tags": []
   },
   "outputs": [],
   "source": [
    "thisList = ['apple','banana','cherry']"
   ]
  },
  {
   "cell_type": "code",
   "execution_count": 19,
   "id": "965e62e3-336d-4ed0-b4a9-492cc20f0b6a",
   "metadata": {
    "tags": []
   },
   "outputs": [
    {
     "name": "stdout",
     "output_type": "stream",
     "text": [
      "3\n"
     ]
    }
   ],
   "source": [
    "print(len(thisList))"
   ]
  },
  {
   "cell_type": "markdown",
   "id": "392ba115-853a-442a-9a92-b9cacf93b6ca",
   "metadata": {},
   "source": [
    "List Items - Data Types\n",
    "- List itmes can be of any data types:\n",
    "String, int and boolean"
   ]
  },
  {
   "cell_type": "code",
   "execution_count": 20,
   "id": "44bf6537-76bd-45ec-a52d-c03f985a1aa0",
   "metadata": {
    "tags": []
   },
   "outputs": [],
   "source": [
    "list1 = ['apple','banana','cherry']"
   ]
  },
  {
   "cell_type": "code",
   "execution_count": 21,
   "id": "bf9fe8f6-9c52-4efa-bf96-187d5f121f05",
   "metadata": {
    "tags": []
   },
   "outputs": [],
   "source": [
    "list2 = [1,5,7,9,3]"
   ]
  },
  {
   "cell_type": "code",
   "execution_count": 22,
   "id": "8fb3fa4e-6391-4553-b5f3-7a6e49cc92bc",
   "metadata": {
    "tags": []
   },
   "outputs": [],
   "source": [
    "list3 = [True,False,False]"
   ]
  },
  {
   "cell_type": "markdown",
   "id": "fe23ab4c-24bf-49b9-8d32-87f58ec40e6f",
   "metadata": {},
   "source": [
    "A list can contain different data types"
   ]
  },
  {
   "cell_type": "code",
   "execution_count": 23,
   "id": "55b8446f-bea1-4ee7-82fc-f4cf7241746f",
   "metadata": {
    "tags": []
   },
   "outputs": [],
   "source": [
    "list4 = ['abc',34,True,40,'male']"
   ]
  },
  {
   "cell_type": "markdown",
   "id": "9fecc588-ef45-444d-bcb0-2390e53eac2c",
   "metadata": {},
   "source": [
    "#### Python Collections (Arrays)\n",
    "- There are four collection data types in the python programming language:\n",
    "    - List is a collection which is ordered and changeable. Allows duplicate members.\n",
    "    - Tuple is a collection which is ordered and unchangeable. Allows duplicate members.\n",
    "    - Set is a collection which is unordered, unchangeable*, and unindexed. No Duplicate members\n",
    "    - Dictionary is a collection which is ordered** and changeable. No duplicate members."
   ]
  },
  {
   "cell_type": "markdown",
   "id": "58f20e22-a873-4b8c-9308-088804cefa45",
   "metadata": {
    "tags": []
   },
   "source": [
    "Python Access List Items<br>\n",
    "Access Items\n",
    "- List items are indexed and you can access them by referring to the index number:"
   ]
  },
  {
   "cell_type": "code",
   "execution_count": 25,
   "id": "c9bc4d15-62b8-452a-9a0c-60b01c5394fe",
   "metadata": {
    "tags": []
   },
   "outputs": [
    {
     "data": {
      "text/plain": [
       "'banana'"
      ]
     },
     "execution_count": 25,
     "metadata": {},
     "output_type": "execute_result"
    }
   ],
   "source": [
    "thisList[1]"
   ]
  },
  {
   "cell_type": "markdown",
   "id": "2311cf9d-41a3-4044-b0e3-8d5b6d2fb6b4",
   "metadata": {},
   "source": [
    "Negative Indexing\n",
    "- Negative indexing means start from the end\n",
    "- -1 refers to the last item, -2 refers to the second last item, etc."
   ]
  },
  {
   "cell_type": "code",
   "execution_count": 26,
   "id": "f7d89066-2160-42ea-96ba-cf7e04a3da2d",
   "metadata": {
    "tags": []
   },
   "outputs": [
    {
     "data": {
      "text/plain": [
       "'cherry'"
      ]
     },
     "execution_count": 26,
     "metadata": {},
     "output_type": "execute_result"
    }
   ],
   "source": [
    "thisList[-1]"
   ]
  },
  {
   "cell_type": "code",
   "execution_count": 27,
   "id": "a3bf4aab-3a53-4003-9d2b-2dafbec06a99",
   "metadata": {
    "tags": []
   },
   "outputs": [
    {
     "data": {
      "text/plain": [
       "'banana'"
      ]
     },
     "execution_count": 27,
     "metadata": {},
     "output_type": "execute_result"
    }
   ],
   "source": [
    "thisList[-2]"
   ]
  },
  {
   "cell_type": "code",
   "execution_count": 38,
   "id": "d0fcf90c-31b1-442a-ac96-5d67401d61ff",
   "metadata": {
    "tags": []
   },
   "outputs": [
    {
     "data": {
      "text/plain": [
       "['cherry', 'banana', 'apple']"
      ]
     },
     "execution_count": 38,
     "metadata": {},
     "output_type": "execute_result"
    }
   ],
   "source": [
    "thisList[::-1]"
   ]
  },
  {
   "cell_type": "markdown",
   "id": "acf395cf-36f9-4021-85e7-a0b50c43950e",
   "metadata": {},
   "source": [
    "Range of indexes\n",
    "- You can specify a range of indexes by specifying where to start and where to end the range.\n",
    "- When specifying a range, the return value will be the new list with the specified items"
   ]
  },
  {
   "cell_type": "code",
   "execution_count": 39,
   "id": "9441439b-7356-4ab0-81da-00fb578939d3",
   "metadata": {
    "tags": []
   },
   "outputs": [],
   "source": [
    "thisList = ['apple','banana','cherry','orange','kiwi','melon','mango']"
   ]
  },
  {
   "cell_type": "code",
   "execution_count": 40,
   "id": "5795e4bf-e060-457b-b556-cf19dafc30e9",
   "metadata": {
    "tags": []
   },
   "outputs": [
    {
     "data": {
      "text/plain": [
       "['cherry', 'orange', 'kiwi']"
      ]
     },
     "execution_count": 40,
     "metadata": {},
     "output_type": "execute_result"
    }
   ],
   "source": [
    "thisList[2:5]"
   ]
  },
  {
   "cell_type": "markdown",
   "id": "47af44db-4065-4304-8039-696e75750f84",
   "metadata": {},
   "source": [
    "By leaving out the start value, the range will start from the beginning"
   ]
  },
  {
   "cell_type": "code",
   "execution_count": 41,
   "id": "7c6bcbf4-3d84-4975-a49b-8fb096d781a2",
   "metadata": {
    "tags": []
   },
   "outputs": [
    {
     "data": {
      "text/plain": [
       "['apple', 'banana', 'cherry', 'orange']"
      ]
     },
     "execution_count": 41,
     "metadata": {},
     "output_type": "execute_result"
    }
   ],
   "source": [
    "thisList[:4]"
   ]
  },
  {
   "cell_type": "markdown",
   "id": "518e07b1-11fe-4187-b40b-626690683054",
   "metadata": {},
   "source": [
    "By leaving out the end value, the range will start from the beginning"
   ]
  },
  {
   "cell_type": "code",
   "execution_count": 42,
   "id": "97292a8c-7c37-49e8-beb4-37ed152961f3",
   "metadata": {
    "tags": []
   },
   "outputs": [
    {
     "data": {
      "text/plain": [
       "['orange', 'kiwi', 'melon', 'mango']"
      ]
     },
     "execution_count": 42,
     "metadata": {},
     "output_type": "execute_result"
    }
   ],
   "source": [
    "thisList[3:]"
   ]
  },
  {
   "cell_type": "markdown",
   "id": "99c26b11-65ee-4457-9352-10bbccdc85e8",
   "metadata": {},
   "source": [
    "Range for Negative indexes\n",
    "- Specify the negative indexes if you want to start from the end of the list:"
   ]
  },
  {
   "cell_type": "code",
   "execution_count": 43,
   "id": "b151454e-0b86-4170-a364-560260bebe96",
   "metadata": {
    "tags": []
   },
   "outputs": [
    {
     "data": {
      "text/plain": [
       "['orange', 'kiwi', 'melon']"
      ]
     },
     "execution_count": 43,
     "metadata": {},
     "output_type": "execute_result"
    }
   ],
   "source": [
    "thisList[-4:-1]"
   ]
  },
  {
   "cell_type": "markdown",
   "id": "d0bbcee0-bb49-4274-b4b5-de1b9c14b6c9",
   "metadata": {},
   "source": [
    "Check if an item exists in a list"
   ]
  },
  {
   "cell_type": "code",
   "execution_count": 44,
   "id": "5af851ca-b957-4160-b232-97a6bdbc9648",
   "metadata": {
    "tags": []
   },
   "outputs": [
    {
     "data": {
      "text/plain": [
       "['apple', 'banana', 'cherry', 'orange', 'kiwi', 'melon', 'mango']"
      ]
     },
     "execution_count": 44,
     "metadata": {},
     "output_type": "execute_result"
    }
   ],
   "source": [
    "thisList"
   ]
  },
  {
   "cell_type": "code",
   "execution_count": 45,
   "id": "4ff3b19e-b522-4d8f-a771-bf8fe35e1968",
   "metadata": {
    "tags": []
   },
   "outputs": [
    {
     "name": "stdout",
     "output_type": "stream",
     "text": [
      "Yes, apple is in the fruit list\n"
     ]
    }
   ],
   "source": [
    "if 'apple' in thisList:\n",
    "    print('Yes, apple is in the fruit list')\n",
    "else:\n",
    "    print('No, apple is not in the fruit list')"
   ]
  },
  {
   "cell_type": "markdown",
   "id": "7fd5fe0e-be19-4aab-9239-8cb9940d862b",
   "metadata": {},
   "source": [
    "Change Item Value\n",
    "- To change the value of a specific item, refer to the index number"
   ]
  },
  {
   "cell_type": "code",
   "execution_count": 46,
   "id": "3d3bdfce-490d-428e-ae6a-396b10f8c7e7",
   "metadata": {
    "tags": []
   },
   "outputs": [],
   "source": [
    "thisList_og = ['apple','banana','cherry']"
   ]
  },
  {
   "cell_type": "code",
   "execution_count": 47,
   "id": "6c7bf966-1311-42a0-b053-7de4673618da",
   "metadata": {
    "tags": []
   },
   "outputs": [],
   "source": [
    "thisList_og[1] = 'blackcurrant'"
   ]
  },
  {
   "cell_type": "code",
   "execution_count": 48,
   "id": "7959777b-0d96-46b5-ada3-4c58d2866081",
   "metadata": {
    "tags": []
   },
   "outputs": [
    {
     "data": {
      "text/plain": [
       "['apple', 'blackcurrant', 'cherry']"
      ]
     },
     "execution_count": 48,
     "metadata": {},
     "output_type": "execute_result"
    }
   ],
   "source": [
    "thisList_og"
   ]
  },
  {
   "cell_type": "markdown",
   "id": "7edac921-09cf-4ce4-b4e5-d5b25517829f",
   "metadata": {},
   "source": [
    "### Python Tuples"
   ]
  }
 ],
 "metadata": {
  "kernelspec": {
   "display_name": "Python 3 (ipykernel)",
   "language": "python",
   "name": "python3"
  },
  "language_info": {
   "codemirror_mode": {
    "name": "ipython",
    "version": 3
   },
   "file_extension": ".py",
   "mimetype": "text/x-python",
   "name": "python",
   "nbconvert_exporter": "python",
   "pygments_lexer": "ipython3",
   "version": "3.11.5"
  }
 },
 "nbformat": 4,
 "nbformat_minor": 5
}
