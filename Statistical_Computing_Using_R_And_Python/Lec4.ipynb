{
 "cells": [
  {
   "cell_type": "markdown",
   "id": "92ff9ae5-38a5-441d-938d-105495ec5b9e",
   "metadata": {},
   "source": [
    "### Basic Syntax"
   ]
  },
  {
   "cell_type": "markdown",
   "id": "a6042524-218a-4787-b9d7-c84bc405fffb",
   "metadata": {},
   "source": [
    "#### Mathematics"
   ]
  },
  {
   "cell_type": "code",
   "execution_count": 1,
   "id": "ffd5dbb7-2009-4c4b-a3f9-8c870c3c635e",
   "metadata": {
    "tags": []
   },
   "outputs": [
    {
     "data": {
      "text/html": [
       "2"
      ],
      "text/latex": [
       "2"
      ],
      "text/markdown": [
       "2"
      ],
      "text/plain": [
       "[1] 2"
      ]
     },
     "metadata": {},
     "output_type": "display_data"
    }
   ],
   "source": [
    "1+1"
   ]
  },
  {
   "cell_type": "code",
   "execution_count": 2,
   "id": "0fa13ee6-e18c-44e8-b2b6-941768b43f4b",
   "metadata": {
    "tags": []
   },
   "outputs": [
    {
     "data": {
      "text/html": [
       "-2"
      ],
      "text/latex": [
       "-2"
      ],
      "text/markdown": [
       "-2"
      ],
      "text/plain": [
       "[1] -2"
      ]
     },
     "metadata": {},
     "output_type": "display_data"
    }
   ],
   "source": [
    "1-3"
   ]
  },
  {
   "cell_type": "code",
   "execution_count": 3,
   "id": "87e1dd86-a7c5-4c58-8462-cd3eb1e56b52",
   "metadata": {
    "tags": []
   },
   "outputs": [
    {
     "data": {
      "text/html": [
       "5"
      ],
      "text/latex": [
       "5"
      ],
      "text/markdown": [
       "5"
      ],
      "text/plain": [
       "[1] 5"
      ]
     },
     "metadata": {},
     "output_type": "display_data"
    }
   ],
   "source": [
    "1*5"
   ]
  },
  {
   "cell_type": "code",
   "execution_count": 4,
   "id": "650b86e1-eee2-46b0-80c1-5481bc95a96d",
   "metadata": {
    "tags": []
   },
   "outputs": [
    {
     "data": {
      "text/html": [
       "0.166666666666667"
      ],
      "text/latex": [
       "0.166666666666667"
      ],
      "text/markdown": [
       "0.166666666666667"
      ],
      "text/plain": [
       "[1] 0.1666667"
      ]
     },
     "metadata": {},
     "output_type": "display_data"
    }
   ],
   "source": [
    "1/6"
   ]
  },
  {
   "cell_type": "code",
   "execution_count": 7,
   "id": "d955a464-8fc9-405e-ae21-63832589ed0a",
   "metadata": {
    "tags": []
   },
   "outputs": [
    {
     "data": {
      "text/html": [
       "3"
      ],
      "text/latex": [
       "3"
      ],
      "text/markdown": [
       "3"
      ],
      "text/plain": [
       "[1] 3"
      ]
     },
     "metadata": {},
     "output_type": "display_data"
    }
   ],
   "source": [
    "x = 1\n",
    "y = 2\n",
    "x + y"
   ]
  },
  {
   "cell_type": "code",
   "execution_count": 9,
   "id": "ea1b9518-c3f7-49b7-ad14-bd3f7015fb3a",
   "metadata": {
    "tags": []
   },
   "outputs": [
    {
     "data": {
      "text/html": [
       "3"
      ],
      "text/latex": [
       "3"
      ],
      "text/markdown": [
       "3"
      ],
      "text/plain": [
       "[1] 3"
      ]
     },
     "metadata": {},
     "output_type": "display_data"
    }
   ],
   "source": [
    "z = x + y\n",
    "z"
   ]
  },
  {
   "cell_type": "markdown",
   "id": "89d54dda-94ec-4557-b99e-8966ba979e92",
   "metadata": {},
   "source": [
    "#### Trignometry"
   ]
  },
  {
   "cell_type": "code",
   "execution_count": 10,
   "id": "170ac762-c38f-441e-9c16-69d2155e24c0",
   "metadata": {
    "tags": []
   },
   "outputs": [
    {
     "data": {
      "text/html": [
       "-2.18503986326152"
      ],
      "text/latex": [
       "-2.18503986326152"
      ],
      "text/markdown": [
       "-2.18503986326152"
      ],
      "text/plain": [
       "[1] -2.18504"
      ]
     },
     "metadata": {},
     "output_type": "display_data"
    }
   ],
   "source": [
    "tan(2)"
   ]
  },
  {
   "cell_type": "code",
   "execution_count": 11,
   "id": "140faf47-1ddc-460a-ac7c-0447bda43176",
   "metadata": {
    "tags": []
   },
   "outputs": [
    {
     "data": {
      "text/html": [
       "0.909297426825682"
      ],
      "text/latex": [
       "0.909297426825682"
      ],
      "text/markdown": [
       "0.909297426825682"
      ],
      "text/plain": [
       "[1] 0.9092974"
      ]
     },
     "metadata": {},
     "output_type": "display_data"
    }
   ],
   "source": [
    "sin(2)"
   ]
  },
  {
   "cell_type": "code",
   "execution_count": 12,
   "id": "c854dae9-bc9e-465d-848c-4ba92fb08f68",
   "metadata": {
    "tags": []
   },
   "outputs": [
    {
     "data": {
      "text/html": [
       "-0.416146836547142"
      ],
      "text/latex": [
       "-0.416146836547142"
      ],
      "text/markdown": [
       "-0.416146836547142"
      ],
      "text/plain": [
       "[1] -0.4161468"
      ]
     },
     "metadata": {},
     "output_type": "display_data"
    }
   ],
   "source": [
    "cos(2)"
   ]
  },
  {
   "cell_type": "markdown",
   "id": "a7eebfb4-20ff-4f82-8c1e-1eafcb7c457a",
   "metadata": {},
   "source": [
    "#### Statistics"
   ]
  },
  {
   "cell_type": "code",
   "execution_count": 14,
   "id": "14b253c5-4a77-4bff-a991-a69e27d5df6c",
   "metadata": {
    "tags": []
   },
   "outputs": [
    {
     "data": {
      "text/html": [
       "1.87082869338697"
      ],
      "text/latex": [
       "1.87082869338697"
      ],
      "text/markdown": [
       "1.87082869338697"
      ],
      "text/plain": [
       "[1] 1.870829"
      ]
     },
     "metadata": {},
     "output_type": "display_data"
    }
   ],
   "source": [
    "# Standard Deviation\n",
    "sd(c(1,2,3,4,5,6))"
   ]
  },
  {
   "cell_type": "code",
   "execution_count": 15,
   "id": "548839a9-0e54-4c61-a8a6-6a875af090e7",
   "metadata": {
    "tags": []
   },
   "outputs": [
    {
     "data": {
      "text/html": [
       "3.5"
      ],
      "text/latex": [
       "3.5"
      ],
      "text/markdown": [
       "3.5"
      ],
      "text/plain": [
       "[1] 3.5"
      ]
     },
     "metadata": {},
     "output_type": "display_data"
    }
   ],
   "source": [
    "# Mean\n",
    "mean(c(1,2,3,4,5,6))"
   ]
  },
  {
   "cell_type": "code",
   "execution_count": 17,
   "id": "c02735f8-bb8a-48bd-a558-1c8b49cfb325",
   "metadata": {
    "tags": []
   },
   "outputs": [
    {
     "data": {
      "text/html": [
       "3.5"
      ],
      "text/latex": [
       "3.5"
      ],
      "text/markdown": [
       "3.5"
      ],
      "text/plain": [
       "[1] 3.5"
      ]
     },
     "metadata": {},
     "output_type": "display_data"
    }
   ],
   "source": [
    "# Variance\n",
    "var(c(1,2,3,4,5,6))"
   ]
  },
  {
   "cell_type": "code",
   "execution_count": 18,
   "id": "31eb6daa-bcbd-4f95-b87d-c8d44776e481",
   "metadata": {
    "tags": []
   },
   "outputs": [
    {
     "data": {
      "text/html": [
       "3.5"
      ],
      "text/latex": [
       "3.5"
      ],
      "text/markdown": [
       "3.5"
      ],
      "text/plain": [
       "[1] 3.5"
      ]
     },
     "metadata": {},
     "output_type": "display_data"
    }
   ],
   "source": [
    "# Median\n",
    "median(c(1,2,3,4,5,6))"
   ]
  },
  {
   "cell_type": "code",
   "execution_count": 19,
   "id": "841e2d65-049b-400f-9633-0ca900517156",
   "metadata": {
    "tags": []
   },
   "outputs": [
    {
     "data": {
      "text/html": [
       "1"
      ],
      "text/latex": [
       "1"
      ],
      "text/markdown": [
       "1"
      ],
      "text/plain": [
       "[1] 1"
      ]
     },
     "metadata": {},
     "output_type": "display_data"
    }
   ],
   "source": [
    "# Minimum\n",
    "min(c(1,2,3,4,5,6))"
   ]
  },
  {
   "cell_type": "code",
   "execution_count": 20,
   "id": "58a47dc8-35ab-48bf-9038-44802253a7e1",
   "metadata": {
    "tags": []
   },
   "outputs": [
    {
     "data": {
      "text/html": [
       "6"
      ],
      "text/latex": [
       "6"
      ],
      "text/markdown": [
       "6"
      ],
      "text/plain": [
       "[1] 6"
      ]
     },
     "metadata": {},
     "output_type": "display_data"
    }
   ],
   "source": [
    "# Maximum\n",
    "max(c(1,2,3,4,5,6))"
   ]
  },
  {
   "cell_type": "code",
   "execution_count": 21,
   "id": "95a6a700-93fe-4597-be89-83d2b6e1a7fc",
   "metadata": {
    "tags": []
   },
   "outputs": [
    {
     "data": {
      "image/png": "[encoded data removed]",
      "text/plain": [
       "plot without title"
      ]
     },
     "metadata": {
      "image/png": {
       "height": 420,
       "width": 420
      }
     },
     "output_type": "display_data"
    }
   ],
   "source": [
    "plot(c(1,2,3,4,5,6))"
   ]
  },
  {
   "cell_type": "code",
   "execution_count": 22,
   "id": "b9849d4c-8dd5-4568-97ba-3619ac6b898c",
   "metadata": {
    "tags": []
   },
   "outputs": [
    {
     "data": {
      "image/png": "[encoded data removed]",
      "text/plain": [
       "plot without title"
      ]
     },
     "metadata": {
      "image/png": {
       "height": 420,
       "width": 420
      }
     },
     "output_type": "display_data"
    }
   ],
   "source": [
    "plot(c(1,2,3,4,5,6),c(2,3,4,5,6,7))"
   ]
  },
  {
   "cell_type": "markdown",
   "id": "a288df54-e40d-4f68-98ff-d56f116377ef",
   "metadata": {},
   "source": [
    "### Data Types"
   ]
  },
  {
   "cell_type": "code",
   "execution_count": 23,
   "id": "f9fe273a-40cc-4ae4-a876-67f38093e98f",
   "metadata": {
    "tags": []
   },
   "outputs": [],
   "source": [
    "a <- \"abc\""
   ]
  },
  {
   "cell_type": "code",
   "execution_count": 24,
   "id": "f26dd521-0a00-4e5c-8d58-32edc3bb7c8d",
   "metadata": {
    "tags": []
   },
   "outputs": [],
   "source": [
    "b <- 1.2"
   ]
  },
  {
   "cell_type": "code",
   "execution_count": 25,
   "id": "cfecee42-36f8-472b-a6af-c037c79f9f83",
   "metadata": {
    "tags": []
   },
   "outputs": [
    {
     "ename": "ERROR",
     "evalue": "Error in a + b: non-numeric argument to binary operator\n",
     "output_type": "error",
     "traceback": [
      "Error in a + b: non-numeric argument to binary operator\nTraceback:\n"
     ]
    }
   ],
   "source": [
    "a+b"
   ]
  },
  {
   "cell_type": "code",
   "execution_count": 27,
   "id": "d74fcd9b-60f3-4298-b8fa-1bac6d6161fa",
   "metadata": {
    "tags": []
   },
   "outputs": [
    {
     "data": {
      "text/html": [
       "'The data class of var a is character'"
      ],
      "text/latex": [
       "'The data class of var a is character'"
      ],
      "text/markdown": [
       "'The data class of var a is character'"
      ],
      "text/plain": [
       "[1] \"The data class of var a is character\""
      ]
     },
     "metadata": {},
     "output_type": "display_data"
    },
    {
     "data": {
      "text/html": [
       "'The data class of var b is numeric'"
      ],
      "text/latex": [
       "'The data class of var b is numeric'"
      ],
      "text/markdown": [
       "'The data class of var b is numeric'"
      ],
      "text/plain": [
       "[1] \"The data class of var b is numeric\""
      ]
     },
     "metadata": {},
     "output_type": "display_data"
    }
   ],
   "source": [
    "paste(\"The data class of var a is\",class(a))\n",
    "paste(\"The data class of var b is\",class(b))"
   ]
  },
  {
   "cell_type": "code",
   "execution_count": 28,
   "id": "bb97c48d-aabd-4ed5-b4fb-8724c447ffee",
   "metadata": {
    "tags": []
   },
   "outputs": [],
   "source": [
    "a <- TRUE"
   ]
  },
  {
   "cell_type": "code",
   "execution_count": 29,
   "id": "978568f1-1622-4b27-bdd7-30af71a3ba39",
   "metadata": {
    "tags": []
   },
   "outputs": [
    {
     "data": {
      "text/html": [
       "'The data class of var a is logical'"
      ],
      "text/latex": [
       "'The data class of var a is logical'"
      ],
      "text/markdown": [
       "'The data class of var a is logical'"
      ],
      "text/plain": [
       "[1] \"The data class of var a is logical\""
      ]
     },
     "metadata": {},
     "output_type": "display_data"
    }
   ],
   "source": [
    "paste(\"The data class of var a is\",class(a))"
   ]
  },
  {
   "cell_type": "markdown",
   "id": "8c0d3fe3-b996-455b-9682-5dbf2e1174e4",
   "metadata": {},
   "source": [
    "#### We can use `is.datatype()` to determine whether a variable is of a certain data type"
   ]
  },
  {
   "cell_type": "code",
   "execution_count": 30,
   "id": "0a53efdb-8fb9-4d11-96de-6a9b0a2aa89b",
   "metadata": {
    "tags": []
   },
   "outputs": [
    {
     "data": {
      "text/html": [
       "FALSE"
      ],
      "text/latex": [
       "FALSE"
      ],
      "text/markdown": [
       "FALSE"
      ],
      "text/plain": [
       "[1] FALSE"
      ]
     },
     "metadata": {},
     "output_type": "display_data"
    }
   ],
   "source": [
    "is.numeric(a)"
   ]
  },
  {
   "cell_type": "code",
   "execution_count": 31,
   "id": "92dea54d-a271-4b1d-9bcb-3a9d3453c203",
   "metadata": {
    "tags": []
   },
   "outputs": [],
   "source": [
    "a <- 123"
   ]
  },
  {
   "cell_type": "code",
   "execution_count": 32,
   "id": "d88b3eab-f901-40ca-80e2-ba5d986144a6",
   "metadata": {
    "tags": []
   },
   "outputs": [
    {
     "data": {
      "text/html": [
       "TRUE"
      ],
      "text/latex": [
       "TRUE"
      ],
      "text/markdown": [
       "TRUE"
      ],
      "text/plain": [
       "[1] TRUE"
      ]
     },
     "metadata": {},
     "output_type": "display_data"
    }
   ],
   "source": [
    "is.numeric(a)"
   ]
  },
  {
   "cell_type": "code",
   "execution_count": 33,
   "id": "8baacf12-1e38-487f-b860-28fd5fe9d2a1",
   "metadata": {
    "tags": []
   },
   "outputs": [],
   "source": [
    "b <- \"56\""
   ]
  },
  {
   "cell_type": "code",
   "execution_count": 34,
   "id": "dd101132-a011-4429-a1a6-18db33e0550e",
   "metadata": {
    "tags": []
   },
   "outputs": [
    {
     "data": {
      "text/html": [
       "FALSE"
      ],
      "text/latex": [
       "FALSE"
      ],
      "text/markdown": [
       "FALSE"
      ],
      "text/plain": [
       "[1] FALSE"
      ]
     },
     "metadata": {},
     "output_type": "display_data"
    }
   ],
   "source": [
    "is.numeric(b)"
   ]
  },
  {
   "cell_type": "code",
   "execution_count": 35,
   "id": "84f99030-f2b7-4f34-a2d9-04fb2d1ef975",
   "metadata": {
    "tags": []
   },
   "outputs": [
    {
     "data": {
      "text/html": [
       "TRUE"
      ],
      "text/latex": [
       "TRUE"
      ],
      "text/markdown": [
       "TRUE"
      ],
      "text/plain": [
       "[1] TRUE"
      ]
     },
     "metadata": {},
     "output_type": "display_data"
    }
   ],
   "source": [
    "is.character(b)"
   ]
  },
  {
   "cell_type": "code",
   "execution_count": 36,
   "id": "07695752-5865-4f66-b874-45de6b578c64",
   "metadata": {
    "tags": []
   },
   "outputs": [],
   "source": [
    "a <- 12"
   ]
  },
  {
   "cell_type": "code",
   "execution_count": 37,
   "id": "04cd2bf0-6114-4dd8-86ef-2893f678311f",
   "metadata": {
    "tags": []
   },
   "outputs": [],
   "source": [
    "b <- \"56\""
   ]
  },
  {
   "cell_type": "code",
   "execution_count": 38,
   "id": "0a834ac6-fb3a-456a-a0d7-5623e459c7f3",
   "metadata": {
    "tags": []
   },
   "outputs": [
    {
     "ename": "ERROR",
     "evalue": "Error in a + b: non-numeric argument to binary operator\n",
     "output_type": "error",
     "traceback": [
      "Error in a + b: non-numeric argument to binary operator\nTraceback:\n"
     ]
    }
   ],
   "source": [
    "a+b"
   ]
  },
  {
   "cell_type": "code",
   "execution_count": 39,
   "id": "43f1a423-e524-4b08-89bf-06b5dca8824f",
   "metadata": {
    "tags": []
   },
   "outputs": [],
   "source": [
    "b <- as.numeric(b)"
   ]
  },
  {
   "cell_type": "code",
   "execution_count": 40,
   "id": "dc653b3f-ba78-4a28-a064-d21a58a6abe0",
   "metadata": {
    "tags": []
   },
   "outputs": [
    {
     "data": {
      "text/html": [
       "68"
      ],
      "text/latex": [
       "68"
      ],
      "text/markdown": [
       "68"
      ],
      "text/plain": [
       "[1] 68"
      ]
     },
     "metadata": {},
     "output_type": "display_data"
    }
   ],
   "source": [
    "a+b"
   ]
  },
  {
   "cell_type": "markdown",
   "id": "6024b87e-dc81-4a0c-8878-5a1ced895a1f",
   "metadata": {},
   "source": [
    "`a <- 12` means that a is numeric data type. `b <- \"56\"` means that b is a character data type.\n",
    "When a and b are added together, you will get an error because you are adding a numeric data type to a character data type. If you try to convert b to the numeric data type using `b <- as.numeric(b)` you can add a and b together because a is a numeric data type and b is now a numeric data type also"
   ]
  },
  {
   "cell_type": "markdown",
   "id": "b52c4780-980a-4470-87ea-7bfcbc18bc52",
   "metadata": {},
   "source": [
    "#### Vectors\n",
    "- A vector is a basic data structure or R object for storing a set of values of the same data type.\n",
    "- A vector is the most basic and common data structure in R.\n",
    "- A vector is used when you want to store and modify a set of values\n",
    "- Vectors can be created using the `c()` function as follows:"
   ]
  },
  {
   "cell_type": "code",
   "execution_count": 41,
   "id": "32cf8829-b247-4b82-837a-c7c7e19a0a5d",
   "metadata": {
    "tags": []
   },
   "outputs": [],
   "source": [
    "a <- c(1,2,3,4,5,6)"
   ]
  },
  {
   "cell_type": "code",
   "execution_count": 43,
   "id": "75dffc2e-708c-43c5-8609-968798879b90",
   "metadata": {
    "tags": []
   },
   "outputs": [
    {
     "name": "stdout",
     "output_type": "stream",
     "text": [
      "[1] 1 2 3 4 5 6\n"
     ]
    }
   ],
   "source": [
    "print(a)"
   ]
  },
  {
   "cell_type": "code",
   "execution_count": 45,
   "id": "f04b5e3a-d30e-4a05-80bf-c746c01ee53c",
   "metadata": {
    "tags": []
   },
   "outputs": [],
   "source": [
    "a <- 1:8"
   ]
  },
  {
   "cell_type": "code",
   "execution_count": 47,
   "id": "7447776d-65c4-4884-a403-f87f9c038c85",
   "metadata": {
    "tags": []
   },
   "outputs": [
    {
     "name": "stdout",
     "output_type": "stream",
     "text": [
      "[1] 1 2 3 4 5 6 7 8\n"
     ]
    }
   ],
   "source": [
    "print(a)"
   ]
  },
  {
   "cell_type": "markdown",
   "id": "3783261a-ba92-4c19-a26d-d0d7a71dc118",
   "metadata": {},
   "source": [
    "#### Lists\n",
    "- List is like a vector"
   ]
  },
  {
   "cell_type": "code",
   "execution_count": 48,
   "id": "a9ffa53b-6a09-4da5-abeb-b8131dc3e23f",
   "metadata": {
    "tags": []
   },
   "outputs": [],
   "source": [
    "a <- list(\"a\",'b',1,2)"
   ]
  },
  {
   "cell_type": "code",
   "execution_count": 49,
   "id": "9bbfccee-acfe-4051-88cf-ad5e595232dc",
   "metadata": {
    "tags": []
   },
   "outputs": [
    {
     "name": "stdout",
     "output_type": "stream",
     "text": [
      "[[1]]\n",
      "[1] \"a\"\n",
      "\n",
      "[[2]]\n",
      "[1] \"b\"\n",
      "\n",
      "[[3]]\n",
      "[1] 1\n",
      "\n",
      "[[4]]\n",
      "[1] 2\n",
      "\n"
     ]
    }
   ],
   "source": [
    "print(a)"
   ]
  },
  {
   "cell_type": "code",
   "execution_count": 50,
   "id": "232a2258-5cc4-4e28-8256-636a9a805dc2",
   "metadata": {
    "tags": []
   },
   "outputs": [
    {
     "data": {
      "text/html": [
       "<ol>\n",
       "\t<li>'a'</li>\n",
       "\t<li>'b'</li>\n",
       "\t<li>1</li>\n",
       "\t<li>2</li>\n",
       "</ol>\n"
      ],
      "text/latex": [
       "\\begin{enumerate}\n",
       "\\item 'a'\n",
       "\\item 'b'\n",
       "\\item 1\n",
       "\\item 2\n",
       "\\end{enumerate}\n"
      ],
      "text/markdown": [
       "1. 'a'\n",
       "2. 'b'\n",
       "3. 1\n",
       "4. 2\n",
       "\n",
       "\n"
      ],
      "text/plain": [
       "[[1]]\n",
       "[1] \"a\"\n",
       "\n",
       "[[2]]\n",
       "[1] \"b\"\n",
       "\n",
       "[[3]]\n",
       "[1] 1\n",
       "\n",
       "[[4]]\n",
       "[1] 2\n"
      ]
     },
     "metadata": {},
     "output_type": "display_data"
    }
   ],
   "source": [
    "a"
   ]
  },
  {
   "cell_type": "markdown",
   "id": "f3fb3587-dd24-44d3-bade-dd675223b0e0",
   "metadata": {},
   "source": [
    "#### Matrix\n",
    "- To create a matrix, we can use the following syntax:\n",
    "<br>`var <- matrix(vector,nrow=m,ncol=n)`"
   ]
  },
  {
   "cell_type": "code",
   "execution_count": 52,
   "id": "31143e16-8707-4a97-b574-2c25ac7808e1",
   "metadata": {
    "tags": []
   },
   "outputs": [],
   "source": [
    "a <- matrix(c(1,2,3,4,5,6,7,8,9),nrow=3,ncol=3)"
   ]
  },
  {
   "cell_type": "code",
   "execution_count": 53,
   "id": "198297a3-90a6-4333-b267-e2bb781a71a0",
   "metadata": {
    "tags": []
   },
   "outputs": [
    {
     "data": {
      "text/html": [
       "<table class=\"dataframe\">\n",
       "<caption>A matrix: 3 × 3 of type dbl</caption>\n",
       "<tbody>\n",
       "\t<tr><td>1</td><td>4</td><td>7</td></tr>\n",
       "\t<tr><td>2</td><td>5</td><td>8</td></tr>\n",
       "\t<tr><td>3</td><td>6</td><td>9</td></tr>\n",
       "</tbody>\n",
       "</table>\n"
      ],
      "text/latex": [
       "A matrix: 3 × 3 of type dbl\n",
       "\\begin{tabular}{lll}\n",
       "\t 1 & 4 & 7\\\\\n",
       "\t 2 & 5 & 8\\\\\n",
       "\t 3 & 6 & 9\\\\\n",
       "\\end{tabular}\n"
      ],
      "text/markdown": [
       "\n",
       "A matrix: 3 × 3 of type dbl\n",
       "\n",
       "| 1 | 4 | 7 |\n",
       "| 2 | 5 | 8 |\n",
       "| 3 | 6 | 9 |\n",
       "\n"
      ],
      "text/plain": [
       "     [,1] [,2] [,3]\n",
       "[1,] 1    4    7   \n",
       "[2,] 2    5    8   \n",
       "[3,] 3    6    9   "
      ]
     },
     "metadata": {},
     "output_type": "display_data"
    }
   ],
   "source": [
    "a"
   ]
  },
  {
   "cell_type": "code",
   "execution_count": 54,
   "id": "486a0e5f-c550-4c3e-a753-803b20694b83",
   "metadata": {
    "tags": []
   },
   "outputs": [
    {
     "name": "stdout",
     "output_type": "stream",
     "text": [
      "     [,1] [,2] [,3]\n",
      "[1,]    1    4    7\n",
      "[2,]    2    5    8\n",
      "[3,]    3    6    9\n"
     ]
    }
   ],
   "source": [
    "print(a)"
   ]
  },
  {
   "cell_type": "code",
   "execution_count": 55,
   "id": "02e9e004-3b8b-415d-b7bd-6415a0b1a92d",
   "metadata": {
    "tags": []
   },
   "outputs": [],
   "source": [
    "a <- matrix(c(1,2,3,4,5,6,7,8,9),nrow=3,ncol=3,dimnames = list(c(\"x\",'y','z'),c('a','b','c')))"
   ]
  },
  {
   "cell_type": "code",
   "execution_count": 56,
   "id": "be042f6b-423d-4deb-86c3-c508c5dda383",
   "metadata": {
    "tags": []
   },
   "outputs": [
    {
     "data": {
      "text/html": [
       "<table class=\"dataframe\">\n",
       "<caption>A matrix: 3 × 3 of type dbl</caption>\n",
       "<thead>\n",
       "\t<tr><th></th><th scope=col>a</th><th scope=col>b</th><th scope=col>c</th></tr>\n",
       "</thead>\n",
       "<tbody>\n",
       "\t<tr><th scope=row>x</th><td>1</td><td>4</td><td>7</td></tr>\n",
       "\t<tr><th scope=row>y</th><td>2</td><td>5</td><td>8</td></tr>\n",
       "\t<tr><th scope=row>z</th><td>3</td><td>6</td><td>9</td></tr>\n",
       "</tbody>\n",
       "</table>\n"
      ],
      "text/latex": [
       "A matrix: 3 × 3 of type dbl\n",
       "\\begin{tabular}{r|lll}\n",
       "  & a & b & c\\\\\n",
       "\\hline\n",
       "\tx & 1 & 4 & 7\\\\\n",
       "\ty & 2 & 5 & 8\\\\\n",
       "\tz & 3 & 6 & 9\\\\\n",
       "\\end{tabular}\n"
      ],
      "text/markdown": [
       "\n",
       "A matrix: 3 × 3 of type dbl\n",
       "\n",
       "| <!--/--> | a | b | c |\n",
       "|---|---|---|---|\n",
       "| x | 1 | 4 | 7 |\n",
       "| y | 2 | 5 | 8 |\n",
       "| z | 3 | 6 | 9 |\n",
       "\n"
      ],
      "text/plain": [
       "  a b c\n",
       "x 1 4 7\n",
       "y 2 5 8\n",
       "z 3 6 9"
      ]
     },
     "metadata": {},
     "output_type": "display_data"
    }
   ],
   "source": [
    "a"
   ]
  },
  {
   "cell_type": "code",
   "execution_count": 57,
   "id": "eb640908-fcd3-4be4-98e9-42d4acb9601a",
   "metadata": {
    "tags": []
   },
   "outputs": [
    {
     "name": "stdout",
     "output_type": "stream",
     "text": [
      "  a b c\n",
      "x 1 4 7\n",
      "y 2 5 8\n",
      "z 3 6 9\n"
     ]
    }
   ],
   "source": [
    "print(a)"
   ]
  },
  {
   "cell_type": "code",
   "execution_count": 58,
   "id": "5a99813f-e8f4-4b91-8a6f-98fc034832c3",
   "metadata": {
    "tags": []
   },
   "outputs": [
    {
     "data": {
      "text/html": [
       "<style>\n",
       ".list-inline {list-style: none; margin:0; padding: 0}\n",
       ".list-inline>li {display: inline-block}\n",
       ".list-inline>li:not(:last-child)::after {content: \"\\00b7\"; padding: 0 .5ex}\n",
       "</style>\n",
       "<ol class=list-inline><li>'matrix'</li><li>'array'</li></ol>\n"
      ],
      "text/latex": [
       "\\begin{enumerate*}\n",
       "\\item 'matrix'\n",
       "\\item 'array'\n",
       "\\end{enumerate*}\n"
      ],
      "text/markdown": [
       "1. 'matrix'\n",
       "2. 'array'\n",
       "\n",
       "\n"
      ],
      "text/plain": [
       "[1] \"matrix\" \"array\" "
      ]
     },
     "metadata": {},
     "output_type": "display_data"
    }
   ],
   "source": [
    "class(a)"
   ]
  },
  {
   "cell_type": "code",
   "execution_count": 59,
   "id": "0c84c73a-5587-4ab5-bcaf-c81616be59ef",
   "metadata": {
    "tags": []
   },
   "outputs": [
    {
     "data": {
      "text/html": [
       "<dl>\n",
       "\t<dt>$dim</dt>\n",
       "\t\t<dd><style>\n",
       ".list-inline {list-style: none; margin:0; padding: 0}\n",
       ".list-inline>li {display: inline-block}\n",
       ".list-inline>li:not(:last-child)::after {content: \"\\00b7\"; padding: 0 .5ex}\n",
       "</style>\n",
       "<ol class=list-inline><li>3</li><li>3</li></ol>\n",
       "</dd>\n",
       "\t<dt>$dimnames</dt>\n",
       "\t\t<dd><ol>\n",
       "\t<li><style>\n",
       ".list-inline {list-style: none; margin:0; padding: 0}\n",
       ".list-inline>li {display: inline-block}\n",
       ".list-inline>li:not(:last-child)::after {content: \"\\00b7\"; padding: 0 .5ex}\n",
       "</style>\n",
       "<ol class=list-inline><li>'x'</li><li>'y'</li><li>'z'</li></ol>\n",
       "</li>\n",
       "\t<li><style>\n",
       ".list-inline {list-style: none; margin:0; padding: 0}\n",
       ".list-inline>li {display: inline-block}\n",
       ".list-inline>li:not(:last-child)::after {content: \"\\00b7\"; padding: 0 .5ex}\n",
       "</style>\n",
       "<ol class=list-inline><li>'a'</li><li>'b'</li><li>'c'</li></ol>\n",
       "</li>\n",
       "</ol>\n",
       "</dd>\n",
       "</dl>\n"
      ],
      "text/latex": [
       "\\begin{description}\n",
       "\\item[\\$dim] \\begin{enumerate*}\n",
       "\\item 3\n",
       "\\item 3\n",
       "\\end{enumerate*}\n",
       "\n",
       "\\item[\\$dimnames] \\begin{enumerate}\n",
       "\\item \\begin{enumerate*}\n",
       "\\item 'x'\n",
       "\\item 'y'\n",
       "\\item 'z'\n",
       "\\end{enumerate*}\n",
       "\n",
       "\\item \\begin{enumerate*}\n",
       "\\item 'a'\n",
       "\\item 'b'\n",
       "\\item 'c'\n",
       "\\end{enumerate*}\n",
       "\n",
       "\\end{enumerate}\n",
       "\n",
       "\\end{description}\n"
      ],
      "text/markdown": [
       "$dim\n",
       ":   1. 3\n",
       "2. 3\n",
       "\n",
       "\n",
       "\n",
       "$dimnames\n",
       ":   1. 1. 'x'\n",
       "2. 'y'\n",
       "3. 'z'\n",
       "\n",
       "\n",
       "\n",
       "2. 1. 'a'\n",
       "2. 'b'\n",
       "3. 'c'\n",
       "\n",
       "\n",
       "\n",
       "\n",
       "\n",
       "\n",
       "\n",
       "\n"
      ],
      "text/plain": [
       "$dim\n",
       "[1] 3 3\n",
       "\n",
       "$dimnames\n",
       "$dimnames[[1]]\n",
       "[1] \"x\" \"y\" \"z\"\n",
       "\n",
       "$dimnames[[2]]\n",
       "[1] \"a\" \"b\" \"c\"\n",
       "\n"
      ]
     },
     "metadata": {},
     "output_type": "display_data"
    }
   ],
   "source": [
    "attributes(a)"
   ]
  },
  {
   "cell_type": "code",
   "execution_count": 62,
   "id": "21741b12-3709-45d7-ba6b-bb04fc6025f5",
   "metadata": {
    "tags": []
   },
   "outputs": [
    {
     "data": {
      "text/html": [
       "<style>\n",
       ".list-inline {list-style: none; margin:0; padding: 0}\n",
       ".list-inline>li {display: inline-block}\n",
       ".list-inline>li:not(:last-child)::after {content: \"\\00b7\"; padding: 0 .5ex}\n",
       "</style>\n",
       "<ol class=list-inline><li>'x'</li><li>'y'</li><li>'z'</li></ol>\n"
      ],
      "text/latex": [
       "\\begin{enumerate*}\n",
       "\\item 'x'\n",
       "\\item 'y'\n",
       "\\item 'z'\n",
       "\\end{enumerate*}\n"
      ],
      "text/markdown": [
       "1. 'x'\n",
       "2. 'y'\n",
       "3. 'z'\n",
       "\n",
       "\n"
      ],
      "text/plain": [
       "[1] \"x\" \"y\" \"z\""
      ]
     },
     "metadata": {},
     "output_type": "display_data"
    }
   ],
   "source": [
    "rownames(a)"
   ]
  },
  {
   "cell_type": "code",
   "execution_count": 63,
   "id": "6ae82a69-f639-4d74-886b-13ace5a21b50",
   "metadata": {
    "tags": []
   },
   "outputs": [
    {
     "data": {
      "text/html": [
       "<style>\n",
       ".list-inline {list-style: none; margin:0; padding: 0}\n",
       ".list-inline>li {display: inline-block}\n",
       ".list-inline>li:not(:last-child)::after {content: \"\\00b7\"; padding: 0 .5ex}\n",
       "</style>\n",
       "<ol class=list-inline><li>'a'</li><li>'b'</li><li>'c'</li></ol>\n"
      ],
      "text/latex": [
       "\\begin{enumerate*}\n",
       "\\item 'a'\n",
       "\\item 'b'\n",
       "\\item 'c'\n",
       "\\end{enumerate*}\n"
      ],
      "text/markdown": [
       "1. 'a'\n",
       "2. 'b'\n",
       "3. 'c'\n",
       "\n",
       "\n"
      ],
      "text/plain": [
       "[1] \"a\" \"b\" \"c\""
      ]
     },
     "metadata": {},
     "output_type": "display_data"
    }
   ],
   "source": [
    "colnames(a)"
   ]
  },
  {
   "cell_type": "markdown",
   "id": "139ae5dd-3df8-4c34-b5eb-11446d2af2b0",
   "metadata": {},
   "source": [
    "##### Creating matrix using `rbind()` and `cbind()`"
   ]
  },
  {
   "cell_type": "code",
   "execution_count": 64,
   "id": "199cf2a7-4937-4e2c-afc3-b63eca227bd7",
   "metadata": {
    "tags": []
   },
   "outputs": [],
   "source": [
    "b <- cbind(c(1,2,3),c(4,5,6))"
   ]
  },
  {
   "cell_type": "code",
   "execution_count": 65,
   "id": "62361c1c-0912-44bb-b23d-ac8ab760e2c0",
   "metadata": {
    "tags": []
   },
   "outputs": [
    {
     "data": {
      "text/html": [
       "<table class=\"dataframe\">\n",
       "<caption>A matrix: 3 × 2 of type dbl</caption>\n",
       "<tbody>\n",
       "\t<tr><td>1</td><td>4</td></tr>\n",
       "\t<tr><td>2</td><td>5</td></tr>\n",
       "\t<tr><td>3</td><td>6</td></tr>\n",
       "</tbody>\n",
       "</table>\n"
      ],
      "text/latex": [
       "A matrix: 3 × 2 of type dbl\n",
       "\\begin{tabular}{ll}\n",
       "\t 1 & 4\\\\\n",
       "\t 2 & 5\\\\\n",
       "\t 3 & 6\\\\\n",
       "\\end{tabular}\n"
      ],
      "text/markdown": [
       "\n",
       "A matrix: 3 × 2 of type dbl\n",
       "\n",
       "| 1 | 4 |\n",
       "| 2 | 5 |\n",
       "| 3 | 6 |\n",
       "\n"
      ],
      "text/plain": [
       "     [,1] [,2]\n",
       "[1,] 1    4   \n",
       "[2,] 2    5   \n",
       "[3,] 3    6   "
      ]
     },
     "metadata": {},
     "output_type": "display_data"
    }
   ],
   "source": [
    "b"
   ]
  },
  {
   "cell_type": "code",
   "execution_count": 68,
   "id": "ce3052f1-766c-433f-875a-908b112eb5ff",
   "metadata": {
    "tags": []
   },
   "outputs": [
    {
     "name": "stdout",
     "output_type": "stream",
     "text": [
      "     [,1] [,2]\n",
      "[1,]    1    4\n",
      "[2,]    2    5\n",
      "[3,]    3    6\n"
     ]
    }
   ],
   "source": [
    "print(b)"
   ]
  },
  {
   "cell_type": "code",
   "execution_count": 66,
   "id": "bb12faf1-9547-4aad-bb19-cd9f65334721",
   "metadata": {
    "tags": []
   },
   "outputs": [],
   "source": [
    "c <- rbind(c(1,2,3),c(4,5,6))"
   ]
  },
  {
   "cell_type": "code",
   "execution_count": 67,
   "id": "af463d16-91b9-4015-a7b3-94bdd12998ff",
   "metadata": {
    "tags": []
   },
   "outputs": [
    {
     "data": {
      "text/html": [
       "<table class=\"dataframe\">\n",
       "<caption>A matrix: 2 × 3 of type dbl</caption>\n",
       "<tbody>\n",
       "\t<tr><td>1</td><td>2</td><td>3</td></tr>\n",
       "\t<tr><td>4</td><td>5</td><td>6</td></tr>\n",
       "</tbody>\n",
       "</table>\n"
      ],
      "text/latex": [
       "A matrix: 2 × 3 of type dbl\n",
       "\\begin{tabular}{lll}\n",
       "\t 1 & 2 & 3\\\\\n",
       "\t 4 & 5 & 6\\\\\n",
       "\\end{tabular}\n"
      ],
      "text/markdown": [
       "\n",
       "A matrix: 2 × 3 of type dbl\n",
       "\n",
       "| 1 | 2 | 3 |\n",
       "| 4 | 5 | 6 |\n",
       "\n"
      ],
      "text/plain": [
       "     [,1] [,2] [,3]\n",
       "[1,] 1    2    3   \n",
       "[2,] 4    5    6   "
      ]
     },
     "metadata": {},
     "output_type": "display_data"
    }
   ],
   "source": [
    "c"
   ]
  },
  {
   "cell_type": "code",
   "execution_count": 69,
   "id": "96145baf-da04-445e-b835-19ea37dfc882",
   "metadata": {
    "tags": []
   },
   "outputs": [
    {
     "name": "stdout",
     "output_type": "stream",
     "text": [
      "     [,1] [,2] [,3]\n",
      "[1,]    1    2    3\n",
      "[2,]    4    5    6\n"
     ]
    }
   ],
   "source": [
    "print(c)"
   ]
  },
  {
   "cell_type": "markdown",
   "id": "1476c905-a2e6-4b76-801e-38f92935b46f",
   "metadata": {},
   "source": [
    "##### Transpose of a matrix"
   ]
  },
  {
   "cell_type": "code",
   "execution_count": 70,
   "id": "185209b2-c9fd-4b4b-857f-051834fb348f",
   "metadata": {
    "tags": []
   },
   "outputs": [
    {
     "name": "stdout",
     "output_type": "stream",
     "text": [
      "  a b c\n",
      "x 1 4 7\n",
      "y 2 5 8\n",
      "z 3 6 9\n"
     ]
    }
   ],
   "source": [
    "print(a)"
   ]
  },
  {
   "cell_type": "code",
   "execution_count": 72,
   "id": "75b72e59-5439-4f1c-8f32-40ae74fda0b1",
   "metadata": {
    "tags": []
   },
   "outputs": [
    {
     "name": "stdout",
     "output_type": "stream",
     "text": [
      "  x y z\n",
      "a 1 2 3\n",
      "b 4 5 6\n",
      "c 7 8 9\n"
     ]
    }
   ],
   "source": [
    "print(t(a))"
   ]
  },
  {
   "cell_type": "markdown",
   "id": "45d6d430-8cc0-4f7f-a9a6-0f3afddbe02d",
   "metadata": {},
   "source": [
    "#### DataFrames"
   ]
  },
  {
   "cell_type": "code",
   "execution_count": 73,
   "id": "bd5abffd-7896-44f8-a6d3-b953cad66386",
   "metadata": {
    "tags": []
   },
   "outputs": [],
   "source": [
    "a <- data.frame(emp_id=c(1,2,3),names=c('John','James','Mary'),salary=c(111.1,222.2,333.3))"
   ]
  },
  {
   "cell_type": "code",
   "execution_count": 74,
   "id": "3591d07f-41c5-4a70-a039-f692ba0c78a9",
   "metadata": {
    "tags": []
   },
   "outputs": [
    {
     "name": "stdout",
     "output_type": "stream",
     "text": [
      "  emp_id names salary\n",
      "1      1  John  111.1\n",
      "2      2 James  222.2\n",
      "3      3  Mary  333.3\n"
     ]
    }
   ],
   "source": [
    "print(a)"
   ]
  },
  {
   "cell_type": "code",
   "execution_count": 75,
   "id": "a4dba4fb-ff19-4101-adb9-8df6647eb5a1",
   "metadata": {
    "tags": []
   },
   "outputs": [
    {
     "data": {
      "text/html": [
       "<table class=\"dataframe\">\n",
       "<caption>A data.frame: 3 × 3</caption>\n",
       "<thead>\n",
       "\t<tr><th scope=col>emp_id</th><th scope=col>names</th><th scope=col>salary</th></tr>\n",
       "\t<tr><th scope=col>&lt;dbl&gt;</th><th scope=col>&lt;chr&gt;</th><th scope=col>&lt;dbl&gt;</th></tr>\n",
       "</thead>\n",
       "<tbody>\n",
       "\t<tr><td>1</td><td>John </td><td>111.1</td></tr>\n",
       "\t<tr><td>2</td><td>James</td><td>222.2</td></tr>\n",
       "\t<tr><td>3</td><td>Mary </td><td>333.3</td></tr>\n",
       "</tbody>\n",
       "</table>\n"
      ],
      "text/latex": [
       "A data.frame: 3 × 3\n",
       "\\begin{tabular}{lll}\n",
       " emp\\_id & names & salary\\\\\n",
       " <dbl> & <chr> & <dbl>\\\\\n",
       "\\hline\n",
       "\t 1 & John  & 111.1\\\\\n",
       "\t 2 & James & 222.2\\\\\n",
       "\t 3 & Mary  & 333.3\\\\\n",
       "\\end{tabular}\n"
      ],
      "text/markdown": [
       "\n",
       "A data.frame: 3 × 3\n",
       "\n",
       "| emp_id &lt;dbl&gt; | names &lt;chr&gt; | salary &lt;dbl&gt; |\n",
       "|---|---|---|\n",
       "| 1 | John  | 111.1 |\n",
       "| 2 | James | 222.2 |\n",
       "| 3 | Mary  | 333.3 |\n",
       "\n"
      ],
      "text/plain": [
       "  emp_id names salary\n",
       "1 1      John  111.1 \n",
       "2 2      James 222.2 \n",
       "3 3      Mary  333.3 "
      ]
     },
     "metadata": {},
     "output_type": "display_data"
    }
   ],
   "source": [
    "a"
   ]
  },
  {
   "cell_type": "code",
   "execution_count": 76,
   "id": "ed5dea52-b659-4415-847f-36b1507cb760",
   "metadata": {
    "tags": []
   },
   "outputs": [
    {
     "data": {
      "text/html": [
       "'list'"
      ],
      "text/latex": [
       "'list'"
      ],
      "text/markdown": [
       "'list'"
      ],
      "text/plain": [
       "[1] \"list\""
      ]
     },
     "metadata": {},
     "output_type": "display_data"
    }
   ],
   "source": [
    "typeof(a)"
   ]
  },
  {
   "cell_type": "code",
   "execution_count": 77,
   "id": "3dd8ed09-213b-4ca8-86d5-55646c022e98",
   "metadata": {
    "tags": []
   },
   "outputs": [
    {
     "data": {
      "text/html": [
       "'data.frame'"
      ],
      "text/latex": [
       "'data.frame'"
      ],
      "text/markdown": [
       "'data.frame'"
      ],
      "text/plain": [
       "[1] \"data.frame\""
      ]
     },
     "metadata": {},
     "output_type": "display_data"
    }
   ],
   "source": [
    "class(a)"
   ]
  },
  {
   "cell_type": "code",
   "execution_count": 78,
   "id": "25b03c54-ae36-4014-98ab-d1a10ccee75c",
   "metadata": {
    "tags": []
   },
   "outputs": [
    {
     "data": {
      "text/html": [
       "3"
      ],
      "text/latex": [
       "3"
      ],
      "text/markdown": [
       "3"
      ],
      "text/plain": [
       "[1] 3"
      ]
     },
     "metadata": {},
     "output_type": "display_data"
    }
   ],
   "source": [
    "ncol(a)"
   ]
  },
  {
   "cell_type": "code",
   "execution_count": 79,
   "id": "8ca0ad97-36c0-4423-bad5-da1872387243",
   "metadata": {
    "tags": []
   },
   "outputs": [
    {
     "data": {
      "text/html": [
       "3"
      ],
      "text/latex": [
       "3"
      ],
      "text/markdown": [
       "3"
      ],
      "text/plain": [
       "[1] 3"
      ]
     },
     "metadata": {},
     "output_type": "display_data"
    }
   ],
   "source": [
    "nrow(a)"
   ]
  },
  {
   "cell_type": "code",
   "execution_count": 80,
   "id": "5015e057-f01b-4fa0-b37c-e47da31e9190",
   "metadata": {
    "tags": []
   },
   "outputs": [
    {
     "name": "stdout",
     "output_type": "stream",
     "text": [
      "'data.frame':\t3 obs. of  3 variables:\n",
      " $ emp_id: num  1 2 3\n",
      " $ names : chr  \"John\" \"James\" \"Mary\"\n",
      " $ salary: num  111 222 333\n"
     ]
    }
   ],
   "source": [
    "str(a)"
   ]
  },
  {
   "cell_type": "markdown",
   "id": "9074dd58-4f86-486c-85e6-92b5834b4a00",
   "metadata": {},
   "source": [
    "### Reading files"
   ]
  },
  {
   "cell_type": "markdown",
   "id": "127786ab-78a0-4751-850f-b5dead858b0e",
   "metadata": {},
   "source": [
    "#### CSV"
   ]
  },
  {
   "cell_type": "code",
   "execution_count": 81,
   "id": "e5a81e35-9dec-49a9-b6ac-0c130cf09fb5",
   "metadata": {},
   "outputs": [],
   "source": [
    "data <- read.csv('insurance.csv',header=TRUE,sep=',')"
   ]
  },
  {
   "cell_type": "code",
   "execution_count": 85,
   "id": "4f6c84f8-1281-4e44-b1cd-fc532b66c29b",
   "metadata": {
    "tags": []
   },
   "outputs": [
    {
     "data": {
      "text/html": [
       "<table class=\"dataframe\">\n",
       "<caption>A data.frame: 1338 × 7</caption>\n",
       "<thead>\n",
       "\t<tr><th scope=col>age</th><th scope=col>sex</th><th scope=col>bmi</th><th scope=col>children</th><th scope=col>smoker</th><th scope=col>region</th><th scope=col>charges</th></tr>\n",
       "\t<tr><th scope=col>&lt;int&gt;</th><th scope=col>&lt;chr&gt;</th><th scope=col>&lt;dbl&gt;</th><th scope=col>&lt;int&gt;</th><th scope=col>&lt;chr&gt;</th><th scope=col>&lt;chr&gt;</th><th scope=col>&lt;dbl&gt;</th></tr>\n",
       "</thead>\n",
       "<tbody>\n",
       "\t<tr><td>19</td><td>female</td><td>27.900</td><td>0</td><td>yes</td><td>southwest</td><td>16884.924</td></tr>\n",
       "\t<tr><td>18</td><td>male  </td><td>33.770</td><td>1</td><td>no </td><td>southeast</td><td> 1725.552</td></tr>\n",
       "\t<tr><td>28</td><td>male  </td><td>33.000</td><td>3</td><td>no </td><td>southeast</td><td> 4449.462</td></tr>\n",
       "\t<tr><td>33</td><td>male  </td><td>22.705</td><td>0</td><td>no </td><td>northwest</td><td>21984.471</td></tr>\n",
       "\t<tr><td>32</td><td>male  </td><td>28.880</td><td>0</td><td>no </td><td>northwest</td><td> 3866.855</td></tr>\n",
       "\t<tr><td>31</td><td>female</td><td>25.740</td><td>0</td><td>no </td><td>southeast</td><td> 3756.622</td></tr>\n",
       "\t<tr><td>46</td><td>female</td><td>33.440</td><td>1</td><td>no </td><td>southeast</td><td> 8240.590</td></tr>\n",
       "\t<tr><td>37</td><td>female</td><td>27.740</td><td>3</td><td>no </td><td>northwest</td><td> 7281.506</td></tr>\n",
       "\t<tr><td>37</td><td>male  </td><td>29.830</td><td>2</td><td>no </td><td>northeast</td><td> 6406.411</td></tr>\n",
       "\t<tr><td>60</td><td>female</td><td>25.840</td><td>0</td><td>no </td><td>northwest</td><td>28923.137</td></tr>\n",
       "\t<tr><td>25</td><td>male  </td><td>26.220</td><td>0</td><td>no </td><td>northeast</td><td> 2721.321</td></tr>\n",
       "\t<tr><td>62</td><td>female</td><td>26.290</td><td>0</td><td>yes</td><td>southeast</td><td>27808.725</td></tr>\n",
       "\t<tr><td>23</td><td>male  </td><td>34.400</td><td>0</td><td>no </td><td>southwest</td><td> 1826.843</td></tr>\n",
       "\t<tr><td>56</td><td>female</td><td>39.820</td><td>0</td><td>no </td><td>southeast</td><td>11090.718</td></tr>\n",
       "\t<tr><td>27</td><td>male  </td><td>42.130</td><td>0</td><td>yes</td><td>southeast</td><td>39611.758</td></tr>\n",
       "\t<tr><td>19</td><td>male  </td><td>24.600</td><td>1</td><td>no </td><td>southwest</td><td> 1837.237</td></tr>\n",
       "\t<tr><td>52</td><td>female</td><td>30.780</td><td>1</td><td>no </td><td>northeast</td><td>10797.336</td></tr>\n",
       "\t<tr><td>23</td><td>male  </td><td>23.845</td><td>0</td><td>no </td><td>northeast</td><td> 2395.172</td></tr>\n",
       "\t<tr><td>56</td><td>male  </td><td>40.300</td><td>0</td><td>no </td><td>southwest</td><td>10602.385</td></tr>\n",
       "\t<tr><td>30</td><td>male  </td><td>35.300</td><td>0</td><td>yes</td><td>southwest</td><td>36837.467</td></tr>\n",
       "\t<tr><td>60</td><td>female</td><td>36.005</td><td>0</td><td>no </td><td>northeast</td><td>13228.847</td></tr>\n",
       "\t<tr><td>30</td><td>female</td><td>32.400</td><td>1</td><td>no </td><td>southwest</td><td> 4149.736</td></tr>\n",
       "\t<tr><td>18</td><td>male  </td><td>34.100</td><td>0</td><td>no </td><td>southeast</td><td> 1137.011</td></tr>\n",
       "\t<tr><td>34</td><td>female</td><td>31.920</td><td>1</td><td>yes</td><td>northeast</td><td>37701.877</td></tr>\n",
       "\t<tr><td>37</td><td>male  </td><td>28.025</td><td>2</td><td>no </td><td>northwest</td><td> 6203.902</td></tr>\n",
       "\t<tr><td>59</td><td>female</td><td>27.720</td><td>3</td><td>no </td><td>southeast</td><td>14001.134</td></tr>\n",
       "\t<tr><td>63</td><td>female</td><td>23.085</td><td>0</td><td>no </td><td>northeast</td><td>14451.835</td></tr>\n",
       "\t<tr><td>55</td><td>female</td><td>32.775</td><td>2</td><td>no </td><td>northwest</td><td>12268.632</td></tr>\n",
       "\t<tr><td>23</td><td>male  </td><td>17.385</td><td>1</td><td>no </td><td>northwest</td><td> 2775.192</td></tr>\n",
       "\t<tr><td>31</td><td>male  </td><td>36.300</td><td>2</td><td>yes</td><td>southwest</td><td>38711.000</td></tr>\n",
       "\t<tr><td>⋮</td><td>⋮</td><td>⋮</td><td>⋮</td><td>⋮</td><td>⋮</td><td>⋮</td></tr>\n",
       "\t<tr><td>25</td><td>female</td><td>30.200</td><td>0</td><td>yes</td><td>southwest</td><td>33900.653</td></tr>\n",
       "\t<tr><td>41</td><td>male  </td><td>32.200</td><td>2</td><td>no </td><td>southwest</td><td> 6875.961</td></tr>\n",
       "\t<tr><td>42</td><td>male  </td><td>26.315</td><td>1</td><td>no </td><td>northwest</td><td> 6940.910</td></tr>\n",
       "\t<tr><td>33</td><td>female</td><td>26.695</td><td>0</td><td>no </td><td>northwest</td><td> 4571.413</td></tr>\n",
       "\t<tr><td>34</td><td>male  </td><td>42.900</td><td>1</td><td>no </td><td>southwest</td><td> 4536.259</td></tr>\n",
       "\t<tr><td>19</td><td>female</td><td>34.700</td><td>2</td><td>yes</td><td>southwest</td><td>36397.576</td></tr>\n",
       "\t<tr><td>30</td><td>female</td><td>23.655</td><td>3</td><td>yes</td><td>northwest</td><td>18765.875</td></tr>\n",
       "\t<tr><td>18</td><td>male  </td><td>28.310</td><td>1</td><td>no </td><td>northeast</td><td>11272.331</td></tr>\n",
       "\t<tr><td>19</td><td>female</td><td>20.600</td><td>0</td><td>no </td><td>southwest</td><td> 1731.677</td></tr>\n",
       "\t<tr><td>18</td><td>male  </td><td>53.130</td><td>0</td><td>no </td><td>southeast</td><td> 1163.463</td></tr>\n",
       "\t<tr><td>35</td><td>male  </td><td>39.710</td><td>4</td><td>no </td><td>northeast</td><td>19496.719</td></tr>\n",
       "\t<tr><td>39</td><td>female</td><td>26.315</td><td>2</td><td>no </td><td>northwest</td><td> 7201.701</td></tr>\n",
       "\t<tr><td>31</td><td>male  </td><td>31.065</td><td>3</td><td>no </td><td>northwest</td><td> 5425.023</td></tr>\n",
       "\t<tr><td>62</td><td>male  </td><td>26.695</td><td>0</td><td>yes</td><td>northeast</td><td>28101.333</td></tr>\n",
       "\t<tr><td>62</td><td>male  </td><td>38.830</td><td>0</td><td>no </td><td>southeast</td><td>12981.346</td></tr>\n",
       "\t<tr><td>42</td><td>female</td><td>40.370</td><td>2</td><td>yes</td><td>southeast</td><td>43896.376</td></tr>\n",
       "\t<tr><td>31</td><td>male  </td><td>25.935</td><td>1</td><td>no </td><td>northwest</td><td> 4239.893</td></tr>\n",
       "\t<tr><td>61</td><td>male  </td><td>33.535</td><td>0</td><td>no </td><td>northeast</td><td>13143.337</td></tr>\n",
       "\t<tr><td>42</td><td>female</td><td>32.870</td><td>0</td><td>no </td><td>northeast</td><td> 7050.021</td></tr>\n",
       "\t<tr><td>51</td><td>male  </td><td>30.030</td><td>1</td><td>no </td><td>southeast</td><td> 9377.905</td></tr>\n",
       "\t<tr><td>23</td><td>female</td><td>24.225</td><td>2</td><td>no </td><td>northeast</td><td>22395.744</td></tr>\n",
       "\t<tr><td>52</td><td>male  </td><td>38.600</td><td>2</td><td>no </td><td>southwest</td><td>10325.206</td></tr>\n",
       "\t<tr><td>57</td><td>female</td><td>25.740</td><td>2</td><td>no </td><td>southeast</td><td>12629.166</td></tr>\n",
       "\t<tr><td>23</td><td>female</td><td>33.400</td><td>0</td><td>no </td><td>southwest</td><td>10795.937</td></tr>\n",
       "\t<tr><td>52</td><td>female</td><td>44.700</td><td>3</td><td>no </td><td>southwest</td><td>11411.685</td></tr>\n",
       "\t<tr><td>50</td><td>male  </td><td>30.970</td><td>3</td><td>no </td><td>northwest</td><td>10600.548</td></tr>\n",
       "\t<tr><td>18</td><td>female</td><td>31.920</td><td>0</td><td>no </td><td>northeast</td><td> 2205.981</td></tr>\n",
       "\t<tr><td>18</td><td>female</td><td>36.850</td><td>0</td><td>no </td><td>southeast</td><td> 1629.833</td></tr>\n",
       "\t<tr><td>21</td><td>female</td><td>25.800</td><td>0</td><td>no </td><td>southwest</td><td> 2007.945</td></tr>\n",
       "\t<tr><td>61</td><td>female</td><td>29.070</td><td>0</td><td>yes</td><td>northwest</td><td>29141.360</td></tr>\n",
       "</tbody>\n",
       "</table>\n"
      ],
      "text/latex": [
       "A data.frame: 1338 × 7\n",
       "\\begin{tabular}{lllllll}\n",
       " age & sex & bmi & children & smoker & region & charges\\\\\n",
       " <int> & <chr> & <dbl> & <int> & <chr> & <chr> & <dbl>\\\\\n",
       "\\hline\n",
       "\t 19 & female & 27.900 & 0 & yes & southwest & 16884.924\\\\\n",
       "\t 18 & male   & 33.770 & 1 & no  & southeast &  1725.552\\\\\n",
       "\t 28 & male   & 33.000 & 3 & no  & southeast &  4449.462\\\\\n",
       "\t 33 & male   & 22.705 & 0 & no  & northwest & 21984.471\\\\\n",
       "\t 32 & male   & 28.880 & 0 & no  & northwest &  3866.855\\\\\n",
       "\t 31 & female & 25.740 & 0 & no  & southeast &  3756.622\\\\\n",
       "\t 46 & female & 33.440 & 1 & no  & southeast &  8240.590\\\\\n",
       "\t 37 & female & 27.740 & 3 & no  & northwest &  7281.506\\\\\n",
       "\t 37 & male   & 29.830 & 2 & no  & northeast &  6406.411\\\\\n",
       "\t 60 & female & 25.840 & 0 & no  & northwest & 28923.137\\\\\n",
       "\t 25 & male   & 26.220 & 0 & no  & northeast &  2721.321\\\\\n",
       "\t 62 & female & 26.290 & 0 & yes & southeast & 27808.725\\\\\n",
       "\t 23 & male   & 34.400 & 0 & no  & southwest &  1826.843\\\\\n",
       "\t 56 & female & 39.820 & 0 & no  & southeast & 11090.718\\\\\n",
       "\t 27 & male   & 42.130 & 0 & yes & southeast & 39611.758\\\\\n",
       "\t 19 & male   & 24.600 & 1 & no  & southwest &  1837.237\\\\\n",
       "\t 52 & female & 30.780 & 1 & no  & northeast & 10797.336\\\\\n",
       "\t 23 & male   & 23.845 & 0 & no  & northeast &  2395.172\\\\\n",
       "\t 56 & male   & 40.300 & 0 & no  & southwest & 10602.385\\\\\n",
       "\t 30 & male   & 35.300 & 0 & yes & southwest & 36837.467\\\\\n",
       "\t 60 & female & 36.005 & 0 & no  & northeast & 13228.847\\\\\n",
       "\t 30 & female & 32.400 & 1 & no  & southwest &  4149.736\\\\\n",
       "\t 18 & male   & 34.100 & 0 & no  & southeast &  1137.011\\\\\n",
       "\t 34 & female & 31.920 & 1 & yes & northeast & 37701.877\\\\\n",
       "\t 37 & male   & 28.025 & 2 & no  & northwest &  6203.902\\\\\n",
       "\t 59 & female & 27.720 & 3 & no  & southeast & 14001.134\\\\\n",
       "\t 63 & female & 23.085 & 0 & no  & northeast & 14451.835\\\\\n",
       "\t 55 & female & 32.775 & 2 & no  & northwest & 12268.632\\\\\n",
       "\t 23 & male   & 17.385 & 1 & no  & northwest &  2775.192\\\\\n",
       "\t 31 & male   & 36.300 & 2 & yes & southwest & 38711.000\\\\\n",
       "\t ⋮ & ⋮ & ⋮ & ⋮ & ⋮ & ⋮ & ⋮\\\\\n",
       "\t 25 & female & 30.200 & 0 & yes & southwest & 33900.653\\\\\n",
       "\t 41 & male   & 32.200 & 2 & no  & southwest &  6875.961\\\\\n",
       "\t 42 & male   & 26.315 & 1 & no  & northwest &  6940.910\\\\\n",
       "\t 33 & female & 26.695 & 0 & no  & northwest &  4571.413\\\\\n",
       "\t 34 & male   & 42.900 & 1 & no  & southwest &  4536.259\\\\\n",
       "\t 19 & female & 34.700 & 2 & yes & southwest & 36397.576\\\\\n",
       "\t 30 & female & 23.655 & 3 & yes & northwest & 18765.875\\\\\n",
       "\t 18 & male   & 28.310 & 1 & no  & northeast & 11272.331\\\\\n",
       "\t 19 & female & 20.600 & 0 & no  & southwest &  1731.677\\\\\n",
       "\t 18 & male   & 53.130 & 0 & no  & southeast &  1163.463\\\\\n",
       "\t 35 & male   & 39.710 & 4 & no  & northeast & 19496.719\\\\\n",
       "\t 39 & female & 26.315 & 2 & no  & northwest &  7201.701\\\\\n",
       "\t 31 & male   & 31.065 & 3 & no  & northwest &  5425.023\\\\\n",
       "\t 62 & male   & 26.695 & 0 & yes & northeast & 28101.333\\\\\n",
       "\t 62 & male   & 38.830 & 0 & no  & southeast & 12981.346\\\\\n",
       "\t 42 & female & 40.370 & 2 & yes & southeast & 43896.376\\\\\n",
       "\t 31 & male   & 25.935 & 1 & no  & northwest &  4239.893\\\\\n",
       "\t 61 & male   & 33.535 & 0 & no  & northeast & 13143.337\\\\\n",
       "\t 42 & female & 32.870 & 0 & no  & northeast &  7050.021\\\\\n",
       "\t 51 & male   & 30.030 & 1 & no  & southeast &  9377.905\\\\\n",
       "\t 23 & female & 24.225 & 2 & no  & northeast & 22395.744\\\\\n",
       "\t 52 & male   & 38.600 & 2 & no  & southwest & 10325.206\\\\\n",
       "\t 57 & female & 25.740 & 2 & no  & southeast & 12629.166\\\\\n",
       "\t 23 & female & 33.400 & 0 & no  & southwest & 10795.937\\\\\n",
       "\t 52 & female & 44.700 & 3 & no  & southwest & 11411.685\\\\\n",
       "\t 50 & male   & 30.970 & 3 & no  & northwest & 10600.548\\\\\n",
       "\t 18 & female & 31.920 & 0 & no  & northeast &  2205.981\\\\\n",
       "\t 18 & female & 36.850 & 0 & no  & southeast &  1629.833\\\\\n",
       "\t 21 & female & 25.800 & 0 & no  & southwest &  2007.945\\\\\n",
       "\t 61 & female & 29.070 & 0 & yes & northwest & 29141.360\\\\\n",
       "\\end{tabular}\n"
      ],
      "text/markdown": [
       "\n",
       "A data.frame: 1338 × 7\n",
       "\n",
       "| age &lt;int&gt; | sex &lt;chr&gt; | bmi &lt;dbl&gt; | children &lt;int&gt; | smoker &lt;chr&gt; | region &lt;chr&gt; | charges &lt;dbl&gt; |\n",
       "|---|---|---|---|---|---|---|\n",
       "| 19 | female | 27.900 | 0 | yes | southwest | 16884.924 |\n",
       "| 18 | male   | 33.770 | 1 | no  | southeast |  1725.552 |\n",
       "| 28 | male   | 33.000 | 3 | no  | southeast |  4449.462 |\n",
       "| 33 | male   | 22.705 | 0 | no  | northwest | 21984.471 |\n",
       "| 32 | male   | 28.880 | 0 | no  | northwest |  3866.855 |\n",
       "| 31 | female | 25.740 | 0 | no  | southeast |  3756.622 |\n",
       "| 46 | female | 33.440 | 1 | no  | southeast |  8240.590 |\n",
       "| 37 | female | 27.740 | 3 | no  | northwest |  7281.506 |\n",
       "| 37 | male   | 29.830 | 2 | no  | northeast |  6406.411 |\n",
       "| 60 | female | 25.840 | 0 | no  | northwest | 28923.137 |\n",
       "| 25 | male   | 26.220 | 0 | no  | northeast |  2721.321 |\n",
       "| 62 | female | 26.290 | 0 | yes | southeast | 27808.725 |\n",
       "| 23 | male   | 34.400 | 0 | no  | southwest |  1826.843 |\n",
       "| 56 | female | 39.820 | 0 | no  | southeast | 11090.718 |\n",
       "| 27 | male   | 42.130 | 0 | yes | southeast | 39611.758 |\n",
       "| 19 | male   | 24.600 | 1 | no  | southwest |  1837.237 |\n",
       "| 52 | female | 30.780 | 1 | no  | northeast | 10797.336 |\n",
       "| 23 | male   | 23.845 | 0 | no  | northeast |  2395.172 |\n",
       "| 56 | male   | 40.300 | 0 | no  | southwest | 10602.385 |\n",
       "| 30 | male   | 35.300 | 0 | yes | southwest | 36837.467 |\n",
       "| 60 | female | 36.005 | 0 | no  | northeast | 13228.847 |\n",
       "| 30 | female | 32.400 | 1 | no  | southwest |  4149.736 |\n",
       "| 18 | male   | 34.100 | 0 | no  | southeast |  1137.011 |\n",
       "| 34 | female | 31.920 | 1 | yes | northeast | 37701.877 |\n",
       "| 37 | male   | 28.025 | 2 | no  | northwest |  6203.902 |\n",
       "| 59 | female | 27.720 | 3 | no  | southeast | 14001.134 |\n",
       "| 63 | female | 23.085 | 0 | no  | northeast | 14451.835 |\n",
       "| 55 | female | 32.775 | 2 | no  | northwest | 12268.632 |\n",
       "| 23 | male   | 17.385 | 1 | no  | northwest |  2775.192 |\n",
       "| 31 | male   | 36.300 | 2 | yes | southwest | 38711.000 |\n",
       "| ⋮ | ⋮ | ⋮ | ⋮ | ⋮ | ⋮ | ⋮ |\n",
       "| 25 | female | 30.200 | 0 | yes | southwest | 33900.653 |\n",
       "| 41 | male   | 32.200 | 2 | no  | southwest |  6875.961 |\n",
       "| 42 | male   | 26.315 | 1 | no  | northwest |  6940.910 |\n",
       "| 33 | female | 26.695 | 0 | no  | northwest |  4571.413 |\n",
       "| 34 | male   | 42.900 | 1 | no  | southwest |  4536.259 |\n",
       "| 19 | female | 34.700 | 2 | yes | southwest | 36397.576 |\n",
       "| 30 | female | 23.655 | 3 | yes | northwest | 18765.875 |\n",
       "| 18 | male   | 28.310 | 1 | no  | northeast | 11272.331 |\n",
       "| 19 | female | 20.600 | 0 | no  | southwest |  1731.677 |\n",
       "| 18 | male   | 53.130 | 0 | no  | southeast |  1163.463 |\n",
       "| 35 | male   | 39.710 | 4 | no  | northeast | 19496.719 |\n",
       "| 39 | female | 26.315 | 2 | no  | northwest |  7201.701 |\n",
       "| 31 | male   | 31.065 | 3 | no  | northwest |  5425.023 |\n",
       "| 62 | male   | 26.695 | 0 | yes | northeast | 28101.333 |\n",
       "| 62 | male   | 38.830 | 0 | no  | southeast | 12981.346 |\n",
       "| 42 | female | 40.370 | 2 | yes | southeast | 43896.376 |\n",
       "| 31 | male   | 25.935 | 1 | no  | northwest |  4239.893 |\n",
       "| 61 | male   | 33.535 | 0 | no  | northeast | 13143.337 |\n",
       "| 42 | female | 32.870 | 0 | no  | northeast |  7050.021 |\n",
       "| 51 | male   | 30.030 | 1 | no  | southeast |  9377.905 |\n",
       "| 23 | female | 24.225 | 2 | no  | northeast | 22395.744 |\n",
       "| 52 | male   | 38.600 | 2 | no  | southwest | 10325.206 |\n",
       "| 57 | female | 25.740 | 2 | no  | southeast | 12629.166 |\n",
       "| 23 | female | 33.400 | 0 | no  | southwest | 10795.937 |\n",
       "| 52 | female | 44.700 | 3 | no  | southwest | 11411.685 |\n",
       "| 50 | male   | 30.970 | 3 | no  | northwest | 10600.548 |\n",
       "| 18 | female | 31.920 | 0 | no  | northeast |  2205.981 |\n",
       "| 18 | female | 36.850 | 0 | no  | southeast |  1629.833 |\n",
       "| 21 | female | 25.800 | 0 | no  | southwest |  2007.945 |\n",
       "| 61 | female | 29.070 | 0 | yes | northwest | 29141.360 |\n",
       "\n"
      ],
      "text/plain": [
       "     age sex    bmi    children smoker region    charges  \n",
       "1    19  female 27.900 0        yes    southwest 16884.924\n",
       "2    18  male   33.770 1        no     southeast  1725.552\n",
       "3    28  male   33.000 3        no     southeast  4449.462\n",
       "4    33  male   22.705 0        no     northwest 21984.471\n",
       "5    32  male   28.880 0        no     northwest  3866.855\n",
       "6    31  female 25.740 0        no     southeast  3756.622\n",
       "7    46  female 33.440 1        no     southeast  8240.590\n",
       "8    37  female 27.740 3        no     northwest  7281.506\n",
       "9    37  male   29.830 2        no     northeast  6406.411\n",
       "10   60  female 25.840 0        no     northwest 28923.137\n",
       "11   25  male   26.220 0        no     northeast  2721.321\n",
       "12   62  female 26.290 0        yes    southeast 27808.725\n",
       "13   23  male   34.400 0        no     southwest  1826.843\n",
       "14   56  female 39.820 0        no     southeast 11090.718\n",
       "15   27  male   42.130 0        yes    southeast 39611.758\n",
       "16   19  male   24.600 1        no     southwest  1837.237\n",
       "17   52  female 30.780 1        no     northeast 10797.336\n",
       "18   23  male   23.845 0        no     northeast  2395.172\n",
       "19   56  male   40.300 0        no     southwest 10602.385\n",
       "20   30  male   35.300 0        yes    southwest 36837.467\n",
       "21   60  female 36.005 0        no     northeast 13228.847\n",
       "22   30  female 32.400 1        no     southwest  4149.736\n",
       "23   18  male   34.100 0        no     southeast  1137.011\n",
       "24   34  female 31.920 1        yes    northeast 37701.877\n",
       "25   37  male   28.025 2        no     northwest  6203.902\n",
       "26   59  female 27.720 3        no     southeast 14001.134\n",
       "27   63  female 23.085 0        no     northeast 14451.835\n",
       "28   55  female 32.775 2        no     northwest 12268.632\n",
       "29   23  male   17.385 1        no     northwest  2775.192\n",
       "30   31  male   36.300 2        yes    southwest 38711.000\n",
       "⋮    ⋮   ⋮      ⋮      ⋮        ⋮      ⋮         ⋮        \n",
       "1309 25  female 30.200 0        yes    southwest 33900.653\n",
       "1310 41  male   32.200 2        no     southwest  6875.961\n",
       "1311 42  male   26.315 1        no     northwest  6940.910\n",
       "1312 33  female 26.695 0        no     northwest  4571.413\n",
       "1313 34  male   42.900 1        no     southwest  4536.259\n",
       "1314 19  female 34.700 2        yes    southwest 36397.576\n",
       "1315 30  female 23.655 3        yes    northwest 18765.875\n",
       "1316 18  male   28.310 1        no     northeast 11272.331\n",
       "1317 19  female 20.600 0        no     southwest  1731.677\n",
       "1318 18  male   53.130 0        no     southeast  1163.463\n",
       "1319 35  male   39.710 4        no     northeast 19496.719\n",
       "1320 39  female 26.315 2        no     northwest  7201.701\n",
       "1321 31  male   31.065 3        no     northwest  5425.023\n",
       "1322 62  male   26.695 0        yes    northeast 28101.333\n",
       "1323 62  male   38.830 0        no     southeast 12981.346\n",
       "1324 42  female 40.370 2        yes    southeast 43896.376\n",
       "1325 31  male   25.935 1        no     northwest  4239.893\n",
       "1326 61  male   33.535 0        no     northeast 13143.337\n",
       "1327 42  female 32.870 0        no     northeast  7050.021\n",
       "1328 51  male   30.030 1        no     southeast  9377.905\n",
       "1329 23  female 24.225 2        no     northeast 22395.744\n",
       "1330 52  male   38.600 2        no     southwest 10325.206\n",
       "1331 57  female 25.740 2        no     southeast 12629.166\n",
       "1332 23  female 33.400 0        no     southwest 10795.937\n",
       "1333 52  female 44.700 3        no     southwest 11411.685\n",
       "1334 50  male   30.970 3        no     northwest 10600.548\n",
       "1335 18  female 31.920 0        no     northeast  2205.981\n",
       "1336 18  female 36.850 0        no     southeast  1629.833\n",
       "1337 21  female 25.800 0        no     southwest  2007.945\n",
       "1338 61  female 29.070 0        yes    northwest 29141.360"
      ]
     },
     "metadata": {},
     "output_type": "display_data"
    }
   ],
   "source": [
    "data"
   ]
  },
  {
   "cell_type": "markdown",
   "id": "ac8db9ba-11a3-49f9-9252-e08f7575d417",
   "metadata": {
    "tags": []
   },
   "source": [
    "## head(data)"
   ]
  },
  {
   "cell_type": "markdown",
   "id": "344194fb-6701-4b15-b3d5-83ce4d60d67d",
   "metadata": {},
   "source": [
    "#### Excel"
   ]
  },
  {
   "cell_type": "markdown",
   "id": "636aadba-7a54-4ec3-95c5-b85ebacab63f",
   "metadata": {},
   "source": [
    "#### SPSS"
   ]
  }
 ],
 "metadata": {
  "kernelspec": {
   "display_name": "R",
   "language": "R",
   "name": "ir"
  },
  "language_info": {
   "codemirror_mode": "r",
   "file_extension": ".r",
   "mimetype": "text/x-r-source",
   "name": "R",
   "pygments_lexer": "r",
   "version": "4.3.1"
  }
 },
 "nbformat": 4,
 "nbformat_minor": 5
}
