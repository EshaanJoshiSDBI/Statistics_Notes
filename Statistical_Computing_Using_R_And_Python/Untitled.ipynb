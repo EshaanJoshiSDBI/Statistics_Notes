{
 "cells": [
  {
   "cell_type": "markdown",
   "id": "80bc39ef-5ad8-4917-bcd6-ceda6158f00d",
   "metadata": {},
   "source": [
    "IF p is low null will go, if p is high then we accept null"
   ]
  }
 ],
 "metadata": {
  "kernelspec": {
   "display_name": "R",
   "language": "R",
   "name": "ir"
  },
  "language_info": {
   "codemirror_mode": "r",
   "file_extension": ".r",
   "mimetype": "text/x-r-source",
   "name": "R",
   "pygments_lexer": "r",
   "version": "4.3.1"
  }
 },
 "nbformat": 4,
 "nbformat_minor": 5
}
