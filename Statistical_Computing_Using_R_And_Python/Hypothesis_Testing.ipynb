{
 "cells": [
  {
   "cell_type": "markdown",
   "id": "de836343-c27f-4217-9d0a-b08c466497c9",
   "metadata": {
    "tags": []
   },
   "source": [
    "## Hypothesis Testing and P-Value"
   ]
  },
  {
   "cell_type": "markdown",
   "id": "38afba1f-8a88-43a9-8456-2c97bb04b835",
   "metadata": {},
   "source": [
    "- A hypothesis can also be a null hypothesis, H<sub>0</sub>, and an alternate hypothesis, H<sub>1</sub>. You can write the null hypothesis and alternate hypothesis as follows:<br>\n",
    "H<sub>0</sub>: μ<sub>1</sub> = μ<sub>2</sub><br>\n",
    "H<sub>1</sub>: μ<sub>1</sub> != μ<sub>2</sub>\n",
    "where μ<sub>1</sub> is the mean of one data and μ<sub>2</sub> is the mean of another data. We can use statistical tests to get your p-value. We use a t-test for continuous variables or data and a chi-square test for categorical variables or data. For more complex testing, you use ANOVA. If data is not normally distributed, use non-parametric tests.<br>\n",
    "A P-value helps to determine the significance of statistical test results. A small p-value < alpha, which is usually 0.05, indicated that the observed data is sufficiently inconsistent with the null hypothesis, so the null hypothesis may be rejected. The alternate hypothesis is true at 95% confidence interval. A larger p-value means that we failed to reject null hypothesis."
   ]
  },
  {
   "cell_type": "markdown",
   "id": "4b59c87b-fd42-409a-bd48-66e47b5cc4bf",
   "metadata": {},
   "source": [
    "### T-Test"
   ]
  },
  {
   "cell_type": "markdown",
   "id": "0e1022c6-aa90-40b7-8c9d-952c6ceac769",
   "metadata": {},
   "source": [
    "A t-test is one of the more important tests in statistics. A t-test is used to determine whether the mean between two data points or samples are equal to each other.\n",
    "H<sub>0</sub>: μ<sub>1</sub> = μ<sub>2</sub><br>\n",
    "H<sub>1</sub>: μ<sub>1</sub> != μ<sub>2</sub>"
   ]
  },
  {
   "cell_type": "markdown",
   "id": "ed6e4292-1eab-4acd-a28e-05ac8f9d40b9",
   "metadata": {},
   "source": [
    "#### Types of t-test"
   ]
  },
  {
   "cell_type": "markdown",
   "id": "c5e9c45e-f29a-4ac2-a7b6-c82ffd3dacea",
   "metadata": {},
   "source": [
    "##### One-Sample Test\n",
    "- To use a one-sample t-test in R, you can use the `t.test()` function"
   ]
  },
  {
   "cell_type": "code",
   "execution_count": 1,
   "id": "ea745482-5e64-458f-afbe-926bb6e8adca",
   "metadata": {
    "tags": []
   },
   "outputs": [],
   "source": [
    "set.seed(123)"
   ]
  },
  {
   "cell_type": "code",
   "execution_count": 2,
   "id": "2708a9d9-e5c4-4122-be55-be2fff16457d",
   "metadata": {
    "tags": []
   },
   "outputs": [],
   "source": [
    "var1 <- rnorm(100,mean=2,sd=1)\n",
    "var2 <- rnorm(100,mean=3,sd=1)\n",
    "var3 <- rnorm(100,mean=3,sd=2)"
   ]
  },
  {
   "cell_type": "code",
   "execution_count": 3,
   "id": "77091903-531f-4118-a6f3-2d8c2f69d382",
   "metadata": {
    "tags": []
   },
   "outputs": [],
   "source": [
    "data <- data.frame(var1,var2,var3)"
   ]
  },
  {
   "cell_type": "code",
   "execution_count": 4,
   "id": "30c38e1e-f50c-484f-a740-034654c356d1",
   "metadata": {
    "tags": []
   },
   "outputs": [
    {
     "data": {
      "text/plain": [
       "\n",
       "\tOne Sample t-test\n",
       "\n",
       "data:  data$var1\n",
       "t = 16.328, df = 99, p-value < 2.2e-16\n",
       "alternative hypothesis: true mean is not equal to 0.6\n",
       "95 percent confidence interval:\n",
       " 1.909283 2.271528\n",
       "sample estimates:\n",
       "mean of x \n",
       " 2.090406 \n"
      ]
     },
     "metadata": {},
     "output_type": "display_data"
    }
   ],
   "source": [
    "t.test(data$var1,mu=0.6)"
   ]
  },
  {
   "cell_type": "markdown",
   "id": "b913ae1a-e95c-4dd7-8b43-208cd3f398c3",
   "metadata": {},
   "source": [
    "H<sub>0</sub>: μ<sub>1</sub> = m<br>\n",
    "H<sub>1</sub>: μ<sub>1</sub> != m<br>\n",
    "m is 0.6, The p-value is 2.2e<sup>-16</sup>, so the p-value is less than 0.05, which is the alpha value. Therefore, the null hypothesis can be rejected. The alternate hypothesis, μ != 0.6 is true at 95% confidence interval."
   ]
  },
  {
   "cell_type": "markdown",
   "id": "b920e772-63a2-4535-bbd2-a17c2ae68d4b",
   "metadata": {},
   "source": [
    "###### Q2"
   ]
  },
  {
   "cell_type": "code",
   "execution_count": 6,
   "id": "6763155f-061d-4bdb-b0d0-9a504d6bd1f3",
   "metadata": {
    "tags": []
   },
   "outputs": [],
   "source": [
    "x <- c(5,3,4,3,2,6,3,2,3,6,7,5,3)"
   ]
  },
  {
   "cell_type": "code",
   "execution_count": 7,
   "id": "a3a280a3-fa8b-4abf-8543-47709affb63e",
   "metadata": {
    "tags": []
   },
   "outputs": [
    {
     "data": {
      "text/html": [
       "<style>\n",
       ".list-inline {list-style: none; margin:0; padding: 0}\n",
       ".list-inline>li {display: inline-block}\n",
       ".list-inline>li:not(:last-child)::after {content: \"\\00b7\"; padding: 0 .5ex}\n",
       "</style>\n",
       "<ol class=list-inline><li>5</li><li>3</li><li>4</li><li>3</li><li>2</li><li>6</li><li>3</li><li>2</li><li>3</li><li>6</li><li>7</li><li>5</li><li>3</li></ol>\n"
      ],
      "text/latex": [
       "\\begin{enumerate*}\n",
       "\\item 5\n",
       "\\item 3\n",
       "\\item 4\n",
       "\\item 3\n",
       "\\item 2\n",
       "\\item 6\n",
       "\\item 3\n",
       "\\item 2\n",
       "\\item 3\n",
       "\\item 6\n",
       "\\item 7\n",
       "\\item 5\n",
       "\\item 3\n",
       "\\end{enumerate*}\n"
      ],
      "text/markdown": [
       "1. 5\n",
       "2. 3\n",
       "3. 4\n",
       "4. 3\n",
       "5. 2\n",
       "6. 6\n",
       "7. 3\n",
       "8. 2\n",
       "9. 3\n",
       "10. 6\n",
       "11. 7\n",
       "12. 5\n",
       "13. 3\n",
       "\n",
       "\n"
      ],
      "text/plain": [
       " [1] 5 3 4 3 2 6 3 2 3 6 7 5 3"
      ]
     },
     "metadata": {},
     "output_type": "display_data"
    }
   ],
   "source": [
    "x"
   ]
  },
  {
   "cell_type": "code",
   "execution_count": 8,
   "id": "73146a40-093c-46b0-a739-dc7817faa74c",
   "metadata": {
    "tags": []
   },
   "outputs": [
    {
     "data": {
      "text/plain": [
       "\n",
       "\tOne Sample t-test\n",
       "\n",
       "data:  x\n",
       "t = 8.8318, df = 12, p-value = 1.347e-06\n",
       "alternative hypothesis: true mean is not equal to 0\n",
       "95 percent confidence interval:\n",
       " 3.013192 4.986808\n",
       "sample estimates:\n",
       "mean of x \n",
       "        4 \n"
      ]
     },
     "metadata": {},
     "output_type": "display_data"
    }
   ],
   "source": [
    "t.test(x)"
   ]
  },
  {
   "cell_type": "markdown",
   "id": "d8974b24-3444-4f58-9508-575f8043338a",
   "metadata": {},
   "source": [
    "m is 0, the p-value is 1.347e<sup>-6</sup>, therefore we can reject the null hypothesis. Therefore the alternate hypothesis μ != 0 is true at 95% interval."
   ]
  },
  {
   "cell_type": "markdown",
   "id": "d701835d-1ac1-46f6-9ce8-9387d2286112",
   "metadata": {},
   "source": [
    "###### Q3\n",
    "- We have collected a random sample of 31 energy bars from a number of different stores to represent the population of energy bars available to the general consumer. The labels on the bars claim that each bar contains 20 grams of protein."
   ]
  },
  {
   "cell_type": "code",
   "execution_count": 2,
   "id": "fc2b1a53-a8e3-4711-a248-cbf8a181ebb1",
   "metadata": {
    "tags": []
   },
   "outputs": [],
   "source": [
    "x <- c(20.70,20.75,22.14,19.72,25.06,27.46,22.91,19.56,18.28,22.44,22.15,25.34,21.10,16.26,19.08,19.85,20.33,18.04,\n",
    "       17.46,19.88,21.29,21.54,24.12,20.53,21.39,24.75,21.08,19.95,22.12,22.33,25.79)"
   ]
  },
  {
   "cell_type": "code",
   "execution_count": 3,
   "id": "3ee77c1d-3cb4-4b2d-8ff5-6ee713bdf335",
   "metadata": {
    "tags": []
   },
   "outputs": [
    {
     "data": {
      "text/plain": [
       "\n",
       "\tOne Sample t-test\n",
       "\n",
       "data:  x\n",
       "t = 3.0668, df = 30, p-value = 0.004553\n",
       "alternative hypothesis: true mean is not equal to 20\n",
       "95 percent confidence interval:\n",
       " 20.46771 22.33229\n",
       "sample estimates:\n",
       "mean of x \n",
       "     21.4 \n"
      ]
     },
     "metadata": {},
     "output_type": "display_data"
    }
   ],
   "source": [
    "t.test(x,mu=20)"
   ]
  },
  {
   "cell_type": "markdown",
   "id": "e507ae33-128f-4651-aa2a-a901f6c5192b",
   "metadata": {},
   "source": [
    "###### Q4\n",
    "We have the potato yield from 12 different farms. We know that the standard potato yield for the given variety is mu=20. Test the potato yield from these farms is significantly better than the standard yield.<br>\n",
    "H<sub>0</sub>: mu=20\n",
    "H<sub>1</sub>: mu > 20"
   ]
  },
  {
   "cell_type": "code",
   "execution_count": 1,
   "id": "b284a45f-25d7-4408-9d4b-95651f6b2cc6",
   "metadata": {
    "tags": []
   },
   "outputs": [],
   "source": [
    "x <- c(21.5,24.5,18.5,17.2,14.5,23.2,22.1,20.5,19.4,18.1,24.1,18.5)"
   ]
  },
  {
   "cell_type": "code",
   "execution_count": 2,
   "id": "99451fb4-db4f-4745-87b3-3bb5ddbbab23",
   "metadata": {
    "tags": []
   },
   "outputs": [
    {
     "data": {
      "text/plain": [
       "\n",
       "\tOne Sample t-test\n",
       "\n",
       "data:  x\n",
       "t = 0.20066, df = 11, p-value = 0.4223\n",
       "alternative hypothesis: true mean is greater than 20\n",
       "95 percent confidence interval:\n",
       " 18.60874      Inf\n",
       "sample estimates:\n",
       "mean of x \n",
       "   20.175 \n"
      ]
     },
     "metadata": {},
     "output_type": "display_data"
    }
   ],
   "source": [
    "t.test(x,mu=20,alternative = 'greater')"
   ]
  },
  {
   "cell_type": "markdown",
   "id": "4a8eb04b-ff76-49bd-895e-e40b19ce51f8",
   "metadata": {},
   "source": [
    "##### Two Sampled T-Test\n",
    "The two sample unpaired t-test is when you compare two means of two independent samples. To use a two-sample unpaired t-test with a variance as equal in R:<br>\n",
    "To test:<br>\n",
    "H<sub>0</sub>: muA - muB = 0<br>\n",
    "H<sub>1</sub>: muA - muB != 0"
   ]
  },
  {
   "cell_type": "code",
   "execution_count": 3,
   "id": "9e1463d9-3202-4624-8ca1-7bb9d99d453a",
   "metadata": {
    "tags": []
   },
   "outputs": [],
   "source": [
    "set.seed(123)"
   ]
  },
  {
   "cell_type": "code",
   "execution_count": 4,
   "id": "6bbfab8f-701a-4544-9be5-ae82ceaf1421",
   "metadata": {
    "tags": []
   },
   "outputs": [],
   "source": [
    "var1 <- rnorm(100,mean=2,sd=1)\n",
    "var2 <- rnorm(100,mean=3,sd=1)\n",
    "var3 <- rnorm(100,mean=3,sd=2)"
   ]
  },
  {
   "cell_type": "code",
   "execution_count": 5,
   "id": "921817c7-63b8-4c1c-8aac-5ef1b381c96c",
   "metadata": {
    "tags": []
   },
   "outputs": [],
   "source": [
    "data <- data.frame(var1,var2,var3)"
   ]
  },
  {
   "cell_type": "code",
   "execution_count": 6,
   "id": "54812314-b057-4fea-9005-bd1b263c9d21",
   "metadata": {
    "tags": []
   },
   "outputs": [
    {
     "data": {
      "text/plain": [
       "\n",
       "\tTwo Sample t-test\n",
       "\n",
       "data:  data$var1 and data$var2\n",
       "t = -6.0315, df = 198, p-value = 7.843e-09\n",
       "alternative hypothesis: true difference in means is not equal to 0\n",
       "95 percent confidence interval:\n",
       " -1.0642808 -0.5398138\n",
       "sample estimates:\n",
       "mean of x mean of y \n",
       " 2.090406  2.892453 \n"
      ]
     },
     "metadata": {},
     "output_type": "display_data"
    }
   ],
   "source": [
    "t.test(data$var1,data$var2,var.equal = TRUE,paired = FALSE)"
   ]
  },
  {
   "cell_type": "markdown",
   "id": "a4039ed2-6619-4069-bbcc-27ec25537051",
   "metadata": {},
   "source": [
    "- The p-value is 7.843e<sup>-0</sup> so it is less than 0.05, so we can reject the null hypothesis"
   ]
  },
  {
   "cell_type": "markdown",
   "id": "ad54d7e9-94ca-426e-ad36-9da501155aa3",
   "metadata": {},
   "source": [
    "###### Q1\n",
    "A group of men and women who did workouts at a gym three times a week for a year. Then, their trainer measured the body fat. The table below shows the data\n",
    "\n",
    "|Group|Body Fat Percentages|\n",
    "|:---:|:------------------:|\n",
    "|Men|13.3|6.0|20.0|8.0|14.0|19.0|18.0|25.0|16.0|24.0|15.0|1.0|15.0|\n",
    "|Women|22.0|16.0|21.7|21.0|30.0|26.0|12.0|23.2|28.0|23.0|\n",
    "\n",
    "Check whether the underlying populations of men and women at the gym have the same mean body fat."
   ]
  },
  {
   "cell_type": "code",
   "execution_count": 7,
   "id": "870b4375-bef2-47ac-8427-db111ac58bcb",
   "metadata": {
    "tags": []
   },
   "outputs": [],
   "source": [
    "men <- c(13.3,6.0,20.0,8.0,14.0,19.0,18.0,25.0,16.0,24.0,15.0,1.0,15.0)\n",
    "women <- c(22.0,16.0,21.7,21.0,30.0,26.0,12.0,23.2,28.0,23.0)"
   ]
  },
  {
   "cell_type": "code",
   "execution_count": 8,
   "id": "53b693a9-341a-4bbb-a745-7f2061d959c4",
   "metadata": {
    "tags": []
   },
   "outputs": [
    {
     "data": {
      "text/plain": [
       "\n",
       "\tTwo Sample t-test\n",
       "\n",
       "data:  men and women\n",
       "t = -2.8, df = 21, p-value = 0.01073\n",
       "alternative hypothesis: true difference in means is not equal to 0\n",
       "95 percent confidence interval:\n",
       " -12.798339  -1.889353\n",
       "sample estimates:\n",
       "mean of x mean of y \n",
       " 14.94615  22.29000 \n"
      ]
     },
     "metadata": {},
     "output_type": "display_data"
    }
   ],
   "source": [
    "t.test(men,women,var.equal=TRUE,paired=FALSE)"
   ]
  }
 ],
 "metadata": {
  "kernelspec": {
   "display_name": "R",
   "language": "R",
   "name": "ir"
  },
  "language_info": {
   "codemirror_mode": "r",
   "file_extension": ".r",
   "mimetype": "text/x-r-source",
   "name": "R",
   "pygments_lexer": "r",
   "version": "4.3.1"
  }
 },
 "nbformat": 4,
 "nbformat_minor": 5
}
