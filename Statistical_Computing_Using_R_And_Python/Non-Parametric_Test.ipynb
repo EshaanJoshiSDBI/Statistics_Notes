{
 "cells": [
  {
   "cell_type": "markdown",
   "id": "5c6ac8c5-b464-4133-b790-e6f74052b94b",
   "metadata": {},
   "source": [
    "# Non parametric Test"
   ]
  },
  {
   "cell_type": "markdown",
   "id": "4e1e97dc-3540-4b58-95e1-4185063a1e0d",
   "metadata": {},
   "source": [
    "- The non parametric test is a test that does not require the variable and sample to be normally distributed. Most of the time we use parametric tests like the t-test, chi-square test and ANOVA because they are more accurate.\n",
    "- You use non-parametric tests when you do not have normally distributed data and the sample data is big."
   ]
  },
  {
   "cell_type": "markdown",
   "id": "eac2ff5b-c14a-492d-b47e-d1a89b1c904e",
   "metadata": {},
   "source": [
    "## Wilcoxon Signed Rank Test"
   ]
  },
  {
   "cell_type": "markdown",
   "id": "f526677a-9d43-42bb-b7fd-cf0852b16a3f",
   "metadata": {},
   "source": [
    "- The Wilcoxon signed rank test is used to replace the one-sample t-test.\n",
    "- For each x<sub>i</sub>, for i = 1,2,.....,n the signed difference is d<sub>i</sub> = x<sub>i</sub> - \\mu<sub>0</sub>, where \\mu<sub>0</sub> is the given median.\n",
    "- The null hypothesis is that the population median has the specified value of \\mu<sub>0</sub>.\n",
    "    - Null Hypothesis: H<sub>0</sub> : \\mu = \\mu<sub>0</sub>\n",
    "    - Alternate Hypothesis: H<sub>1</sub> : \\mu != \\mu<sub>0</sub>\n",
    "    \n",
    ".....\n",
    "\n",
    "To use the Wilcoxon signed rank test in R, you can first generate the data using random.org packages, so that the variables are not normally distributed."
   ]
  },
  {
   "cell_type": "markdown",
   "id": "4a3250fd-3c93-45a9-afd5-bc79b7fc55df",
   "metadata": {
    "tags": []
   },
   "source": [
    "```\n",
    "install.packages('random')\n",
    "```"
   ]
  },
  {
   "cell_type": "code",
   "execution_count": 2,
   "id": "f2a23a77-d56f-4449-baae-d0bb3b6837ff",
   "metadata": {
    "tags": []
   },
   "outputs": [],
   "source": [
    "library(random)"
   ]
  },
  {
   "cell_type": "code",
   "execution_count": 3,
   "id": "141735e3-8c6d-47b0-bb3b-16646026e156",
   "metadata": {
    "tags": []
   },
   "outputs": [],
   "source": [
    "var1 <- randomNumbers(n=100,min=1,max=1000,col=1)\n",
    "var2 <- randomNumbers(n=100,min=1,max=1000,col=1)\n",
    "var3 <- randomNumbers(n=100,min=1,max=1000,col=1)"
   ]
  },
  {
   "cell_type": "markdown",
   "id": "5f76c726-9416-46ab-bdcd-f2f87278350e",
   "metadata": {},
   "source": [
    "n is the number of random numbers, min is the minimum value, max is the maximum value and col is the number of columns for all the numbers.\n",
    "This is the method to generate true random numbers in R. Your data may be different because the data is generated randomly. You can then create the data using"
   ]
  },
  {
   "cell_type": "code",
   "execution_count": 5,
   "id": "cfe36609-6aa4-43dc-975b-525dd4d8174c",
   "metadata": {
    "tags": []
   },
   "outputs": [],
   "source": [
    "data <- data.frame(var1[,1],var2[,1],var3[,1])"
   ]
  },
  {
   "cell_type": "code",
   "execution_count": 8,
   "id": "ac505387-51ca-42da-af0b-433ad6a245b8",
   "metadata": {
    "tags": []
   },
   "outputs": [
    {
     "name": "stdout",
     "output_type": "stream",
     "text": [
      "  var1...1. var2...1. var3...1.\n",
      "1       460       339       334\n",
      "2       436       699       357\n",
      "3       188        44         6\n",
      "4       564       118       754\n",
      "5       799       431       299\n",
      "6       374       153       121\n"
     ]
    }
   ],
   "source": [
    "print(head(data))"
   ]
  },
  {
   "cell_type": "markdown",
   "id": "37e8c5ed-3bbf-4108-8520-bda229ac9ca0",
   "metadata": {},
   "source": [
    "To use Wilcoxon signed rank test, you can use the wilcox.test() function"
   ]
  },
  {
   "cell_type": "code",
   "execution_count": 11,
   "id": "0d779ba7-0260-411f-bf71-04c58ed317f1",
   "metadata": {
    "tags": []
   },
   "outputs": [
    {
     "data": {
      "text/plain": [
       "\n",
       "\tWilcoxon signed rank test with continuity correction\n",
       "\n",
       "data:  data[, 1]\n",
       "V = 5050, p-value < 2.2e-16\n",
       "alternative hypothesis: true location is not equal to 0\n"
      ]
     },
     "metadata": {},
     "output_type": "display_data"
    }
   ],
   "source": [
    "wilcox.test(data[,1],mu=0,alternatives='two.sided')"
   ]
  },
  {
   "cell_type": "markdown",
   "id": "8b3dd782-a6e1-4d53-aadf-3908f84dfbc1",
   "metadata": {},
   "source": [
    "The p-value is < 2.2e<sup>-16</sup>, which is less than 0.05. Hence, you reject the null hypothesis. There are significant differences in the median for the first variable median and the median of 0. The alternate hypothesis is true at the 95% confidence interval."
   ]
  },
  {
   "cell_type": "markdown",
   "id": "9c55823e-5800-4e4e-b015-368228dba6b5",
   "metadata": {},
   "source": [
    "## R-program to illustrate one-sample Wilcoxon signed rank test"
   ]
  },
  {
   "cell_type": "code",
   "execution_count": 12,
   "id": "24b7ca96-bdd5-4684-8acf-6d2570b6a586",
   "metadata": {
    "tags": []
   },
   "outputs": [],
   "source": [
    "set.seed(1234)"
   ]
  },
  {
   "cell_type": "code",
   "execution_count": 13,
   "id": "6e7c62e6-df2a-4119-a6da-69df7365e622",
   "metadata": {
    "tags": []
   },
   "outputs": [],
   "source": [
    "my_data = data.frame(name=paste0(rep('R_',10),1:10),weight=round(rnorm(10,30,2),1))"
   ]
  },
  {
   "cell_type": "code",
   "execution_count": 16,
   "id": "559685f8-7ce7-4b95-9c35-24931b6ac2ee",
   "metadata": {
    "tags": []
   },
   "outputs": [
    {
     "name": "stdout",
     "output_type": "stream",
     "text": [
      "  name weight\n",
      "1  R_1   27.6\n",
      "2  R_2   30.6\n",
      "3  R_3   32.2\n",
      "4  R_4   25.3\n",
      "5  R_5   30.9\n",
      "6  R_6   31.0\n"
     ]
    }
   ],
   "source": [
    "print(head(my_data))"
   ]
  },
  {
   "cell_type": "code",
   "execution_count": 17,
   "id": "b85f1bd0-5dbb-4552-be16-146320399b1f",
   "metadata": {
    "tags": []
   },
   "outputs": [],
   "source": [
    "res = wilcox.test(my_data$weight,mu=25)"
   ]
  },
  {
   "cell_type": "code",
   "execution_count": 18,
   "id": "a2c70d61-ec87-4636-a78f-e2568ef5e7b5",
   "metadata": {
    "tags": []
   },
   "outputs": [
    {
     "data": {
      "text/plain": [
       "\n",
       "\tWilcoxon signed rank test with continuity correction\n",
       "\n",
       "data:  my_data$weight\n",
       "V = 55, p-value = 0.005793\n",
       "alternative hypothesis: true location is not equal to 25\n"
      ]
     },
     "metadata": {},
     "output_type": "display_data"
    }
   ],
   "source": [
    "res"
   ]
  },
  {
   "cell_type": "markdown",
   "id": "d5d6cd26-4c27-45c7-8322-2d31141b162e",
   "metadata": {},
   "source": [
    "As the p-value is 0.005793, which is less than 0.05. We can reject the null hypothesis. There are significant differences in the median for the first variable median and the median of 25. The alternate hypothesis is true at the 95% confidence interval."
   ]
  },
  {
   "cell_type": "code",
   "execution_count": 19,
   "id": "7ed37944-2f87-4af7-85a8-0cd624be9b3a",
   "metadata": {
    "tags": []
   },
   "outputs": [],
   "source": [
    "res1 = wilcox.test(my_data$weight,mu=25,alternative = 'less')"
   ]
  },
  {
   "cell_type": "code",
   "execution_count": 20,
   "id": "733bc673-2634-4d3c-b75d-d97b0442a866",
   "metadata": {
    "tags": []
   },
   "outputs": [
    {
     "data": {
      "text/plain": [
       "\n",
       "\tWilcoxon signed rank test with continuity correction\n",
       "\n",
       "data:  my_data$weight\n",
       "V = 55, p-value = 0.9979\n",
       "alternative hypothesis: true location is less than 25\n"
      ]
     },
     "metadata": {},
     "output_type": "display_data"
    }
   ],
   "source": [
    "res1"
   ]
  },
  {
   "cell_type": "markdown",
   "id": "6c06a292-4c6c-4396-a53b-8d2ff681a261",
   "metadata": {},
   "source": [
    "As the p-value is 0.9979, which is more than 0.05. We cannot reject the null hypothesis. There is no significant differences in the median for the first variable median and the median of 25."
   ]
  },
  {
   "cell_type": "code",
   "execution_count": 22,
   "id": "ff9aa080-590f-4068-9ec9-a0de83160639",
   "metadata": {
    "tags": []
   },
   "outputs": [],
   "source": [
    "res2 = wilcox.test(my_data$weight,mu=25,alternative = 'greater')"
   ]
  },
  {
   "cell_type": "code",
   "execution_count": 24,
   "id": "385605dd-734f-4114-b6b7-116ce50dee14",
   "metadata": {
    "tags": []
   },
   "outputs": [
    {
     "data": {
      "text/plain": [
       "\n",
       "\tWilcoxon signed rank test with continuity correction\n",
       "\n",
       "data:  my_data$weight\n",
       "V = 55, p-value = 0.002897\n",
       "alternative hypothesis: true location is greater than 25\n"
      ]
     },
     "metadata": {},
     "output_type": "display_data"
    }
   ],
   "source": [
    "res2"
   ]
  },
  {
   "cell_type": "markdown",
   "id": "ea53bf43-e04c-496d-8376-08181828bd92",
   "metadata": {},
   "source": [
    "As the p-value is 0.002897, which is more than 0.05. We can reject the null hypothesis. The median weight is greater than 25."
   ]
  },
  {
   "cell_type": "markdown",
   "id": "3f22c047-5f26-453f-892c-b0614b943f4a",
   "metadata": {},
   "source": [
    "## Wilcoxon-Mann-Whitney Test"
   ]
  },
  {
   "cell_type": "code",
   "execution_count": 27,
   "id": "caec244b-b208-4d06-9807-0681f56a2e2a",
   "metadata": {
    "tags": []
   },
   "outputs": [],
   "source": [
    "var1 <- randomNumbers(100,1,1000,1)\n",
    "var1 <- randomNumbers(100,1,1000,1)\n",
    "var1 <- randomNumbers(100,1,1000,1)"
   ]
  },
  {
   "cell_type": "code",
   "execution_count": 28,
   "id": "60fae704-d53a-4d0e-a6c1-cb2dad954b41",
   "metadata": {
    "tags": []
   },
   "outputs": [],
   "source": [
    "data <- data.frame(var1[,1],var2[,1],var3[,1])"
   ]
  },
  {
   "cell_type": "code",
   "execution_count": 31,
   "id": "31fb3e8e-c3e4-42fc-aba4-b0d504662aee",
   "metadata": {
    "tags": []
   },
   "outputs": [
    {
     "data": {
      "text/plain": [
       "\n",
       "\tWilcoxon rank sum test\n",
       "\n",
       "data:  data[, 1] and data[, 2]\n",
       "W = 5295.5, p-value = 0.4703\n",
       "alternative hypothesis: true location shift is not equal to 0\n"
      ]
     },
     "metadata": {},
     "output_type": "display_data"
    }
   ],
   "source": [
    "wilcox.test(data[,1],data[,2],correct=FALSE)"
   ]
  },
  {
   "cell_type": "markdown",
   "id": "dd3f1cf6-7a1a-414c-9973-3c2947bd5177",
   "metadata": {},
   "source": [
    "The p-value is 0.4703, which is more than 0.05. Hence we can not reject the null hypothesis. There are no significant differences in the median for first variable median and second variable median. The null hypothesis is true at the 95% confidence interval."
   ]
  },
  {
   "cell_type": "markdown",
   "id": "62dd7e7a-ce54-4d7c-a81b-9a54d5d62be6",
   "metadata": {},
   "source": [
    "## Kruskal-Wallis Test"
   ]
  },
  {
   "cell_type": "markdown",
   "id": "ed4af0af-68bd-4fb4-8f43-c0c53f50f47e",
   "metadata": {},
   "source": [
    "The Kruskal-Wallis test is a non parametric test that is an extension of the Mann-Whitney U test for three or more samples. The test requires samples to be identically distributed. Kruskal-Wallis is an alternative to one-way ANOVA. The Kruskal-Wallis test tests the differences between scores of k independent samples of unequal sizes with the i<sup>th</sup> sample containing l<sub>i</sub> rows."
   ]
  },
  {
   "cell_type": "code",
   "execution_count": 32,
   "id": "547f8665-0e69-4302-bf17-434d531282da",
   "metadata": {
    "tags": []
   },
   "outputs": [],
   "source": [
    "data('airquality')"
   ]
  },
  {
   "cell_type": "code",
   "execution_count": 33,
   "id": "068a28fa-99bf-4bd9-b57b-870fc76c51e2",
   "metadata": {
    "tags": []
   },
   "outputs": [
    {
     "data": {
      "text/plain": [
       "\n",
       "\tKruskal-Wallis rank sum test\n",
       "\n",
       "data:  airquality$Ozone by airquality$Month\n",
       "Kruskal-Wallis chi-squared = 29.267, df = 4, p-value = 6.901e-06\n"
      ]
     },
     "metadata": {},
     "output_type": "display_data"
    }
   ],
   "source": [
    "kruskal.test(airquality$Ozone ~ airquality$Month)"
   ]
  },
  {
   "cell_type": "markdown",
   "id": "6677a937-4c76-476b-bf7f-29add25895fa",
   "metadata": {},
   "source": [
    "## Q1"
   ]
  },
  {
   "cell_type": "code",
   "execution_count": 20,
   "id": "a771b07f-f52b-4e85-b0e5-d202c7ac88e0",
   "metadata": {
    "tags": []
   },
   "outputs": [],
   "source": [
    "x = c(12.3,15.4,10.3,8,14.6,15.7,10.8,45,12.3,8.2,20.1,26.3,32.4,41.2,35.1,25,8.2,18.4,32.5)\n",
    "y = c(rep('A',5),rep('B',7),rep('C',7))"
   ]
  },
  {
   "cell_type": "code",
   "execution_count": 21,
   "id": "d9bd135c-0296-43e8-ada3-b324fc23d2c6",
   "metadata": {
    "tags": []
   },
   "outputs": [
    {
     "data": {
      "text/plain": [
       "\n",
       "\tKruskal-Wallis rank sum test\n",
       "\n",
       "data:  x by y\n",
       "Kruskal-Wallis chi-squared = 5.217, df = 2, p-value = 0.07365\n"
      ]
     },
     "metadata": {},
     "output_type": "display_data"
    }
   ],
   "source": [
    "kruskal.test(x~y)"
   ]
  },
  {
   "cell_type": "markdown",
   "id": "161668b4-4c65-4e19-b1b8-65d63a2d39d5",
   "metadata": {},
   "source": [
    "## Q2"
   ]
  },
  {
   "cell_type": "code",
   "execution_count": 24,
   "id": "2b885b12-857d-4a23-a4ec-a96361f176a2",
   "metadata": {
    "tags": []
   },
   "outputs": [],
   "source": [
    "x = c(166.7,172.2,165,176.9,166.2,157.3,166.7,161.1,158.6,176.4,153.1,156,162.8,142.4,162.7,162.4)\n",
    "y = c(rep('0',4),rep('1',4),rep('3',4),rep('9',4))"
   ]
  },
  {
   "cell_type": "code",
   "execution_count": 25,
   "id": "6aa50591-b430-4c9e-af92-a2a69d95da80",
   "metadata": {
    "tags": []
   },
   "outputs": [
    {
     "data": {
      "text/plain": [
       "\n",
       "\tKruskal-Wallis rank sum test\n",
       "\n",
       "data:  x by y\n",
       "Kruskal-Wallis chi-squared = 5.5725, df = 3, p-value = 0.1344\n"
      ]
     },
     "metadata": {},
     "output_type": "display_data"
    }
   ],
   "source": [
    "kruskal.test(x~y)"
   ]
  },
  {
   "cell_type": "markdown",
   "id": "0a8beb89-0be7-48aa-8cc2-58ecf7f63ba1",
   "metadata": {},
   "source": [
    "# Friedmann test"
   ]
  },
  {
   "cell_type": "markdown",
   "id": "2f965a66-3481-424e-a4d0-3e24947f4e42",
   "metadata": {
    "tags": []
   },
   "source": [
    "It is a non-parametric test which is used for three or more samples. It is used when there are two independent samples. It is an alternative of two way anova.\n",
    "<br>Ho : \\muo = \\mu1 = \\mu2 = ... = \\muk\n",
    "<br>Ha: \\mu0 != \\muk\n",
    "<br>\n",
    "\\mu is median"
   ]
  },
  {
   "cell_type": "code",
   "execution_count": 44,
   "id": "13916437-605f-4f7a-8a3d-a86e466df106",
   "metadata": {
    "tags": []
   },
   "outputs": [],
   "source": [
    "obs = c(45,49,38,48,45,39,43,42,35,41,39,36)\n",
    "# obs = c(45,48,43,41,49,45,42,39,38,39,35,36)\n",
    "soyabean_var = c(rep('A',3),rep('B',3),rep('C',3),rep('D',3))\n",
    "block = c(rep(c('1','2','3'),4))"
   ]
  },
  {
   "cell_type": "code",
   "execution_count": 36,
   "id": "162d84da-9e22-43ed-ac61-a5a062734b73",
   "metadata": {
    "tags": []
   },
   "outputs": [],
   "source": [
    "df = data.frame(matrix(obs,nrow=3,ncol=4,byrow = TRUE),row.names = c(1,2,3))"
   ]
  },
  {
   "cell_type": "code",
   "execution_count": 37,
   "id": "9953e715-3c42-4472-86bd-f747957bc64c",
   "metadata": {
    "tags": []
   },
   "outputs": [],
   "source": [
    "colnames(df) = c('A','B','C','D')"
   ]
  },
  {
   "cell_type": "code",
   "execution_count": 38,
   "id": "5fc2e533-d598-4545-aa29-f05a4d4317d7",
   "metadata": {
    "tags": []
   },
   "outputs": [
    {
     "data": {
      "text/html": [
       "<table class=\"dataframe\">\n",
       "<caption>A data.frame: 3 × 4</caption>\n",
       "<thead>\n",
       "\t<tr><th></th><th scope=col>A</th><th scope=col>B</th><th scope=col>C</th><th scope=col>D</th></tr>\n",
       "\t<tr><th></th><th scope=col>&lt;dbl&gt;</th><th scope=col>&lt;dbl&gt;</th><th scope=col>&lt;dbl&gt;</th><th scope=col>&lt;dbl&gt;</th></tr>\n",
       "</thead>\n",
       "<tbody>\n",
       "\t<tr><th scope=row>1</th><td>45</td><td>48</td><td>43</td><td>41</td></tr>\n",
       "\t<tr><th scope=row>2</th><td>49</td><td>45</td><td>42</td><td>39</td></tr>\n",
       "\t<tr><th scope=row>3</th><td>38</td><td>39</td><td>35</td><td>36</td></tr>\n",
       "</tbody>\n",
       "</table>\n"
      ],
      "text/latex": [
       "A data.frame: 3 × 4\n",
       "\\begin{tabular}{r|llll}\n",
       "  & A & B & C & D\\\\\n",
       "  & <dbl> & <dbl> & <dbl> & <dbl>\\\\\n",
       "\\hline\n",
       "\t1 & 45 & 48 & 43 & 41\\\\\n",
       "\t2 & 49 & 45 & 42 & 39\\\\\n",
       "\t3 & 38 & 39 & 35 & 36\\\\\n",
       "\\end{tabular}\n"
      ],
      "text/markdown": [
       "\n",
       "A data.frame: 3 × 4\n",
       "\n",
       "| <!--/--> | A &lt;dbl&gt; | B &lt;dbl&gt; | C &lt;dbl&gt; | D &lt;dbl&gt; |\n",
       "|---|---|---|---|---|\n",
       "| 1 | 45 | 48 | 43 | 41 |\n",
       "| 2 | 49 | 45 | 42 | 39 |\n",
       "| 3 | 38 | 39 | 35 | 36 |\n",
       "\n"
      ],
      "text/plain": [
       "  A  B  C  D \n",
       "1 45 48 43 41\n",
       "2 49 45 42 39\n",
       "3 38 39 35 36"
      ]
     },
     "metadata": {},
     "output_type": "display_data"
    }
   ],
   "source": [
    "df"
   ]
  },
  {
   "cell_type": "code",
   "execution_count": 46,
   "id": "22a34fae-6c3c-4d7f-9645-15c24db59c28",
   "metadata": {
    "tags": []
   },
   "outputs": [
    {
     "data": {
      "text/plain": [
       "\n",
       "\tFriedman rank sum test\n",
       "\n",
       "data:  obs and soyabean_var and block\n",
       "Friedman chi-squared = 7.4, df = 3, p-value = 0.06018\n"
      ]
     },
     "metadata": {},
     "output_type": "display_data"
    }
   ],
   "source": [
    "friedman.test(obs~soyabean_var|block)"
   ]
  },
  {
   "cell_type": "code",
   "execution_count": 50,
   "id": "5978f8f2-f7a4-4936-8f09-eeede86b0add",
   "metadata": {
    "tags": []
   },
   "outputs": [],
   "source": [
    "obs = c(5,7,3,4,3,4,5,5,8,6,7,7,9,2,6,8,2,3,4,3,7,9,10,9,6,8,8,6,1,5,2,1,4,1,1,2,10,10,9,10)\n",
    "students = c(rep('1',4),rep('2',4),rep('3',4),rep('4',4),rep('5',4),rep('6',4),rep('7',4),\n",
    "            rep('8',4),rep('9',4),rep('10',4))\n",
    "prof = c(rep(c(1,2,3,4),10))"
   ]
  },
  {
   "cell_type": "code",
   "execution_count": 51,
   "id": "1ae40d21-03d5-49f7-a51e-d03e3312ced5",
   "metadata": {
    "tags": []
   },
   "outputs": [
    {
     "data": {
      "text/plain": [
       "\n",
       "\tFriedman rank sum test\n",
       "\n",
       "data:  obs and students and prof\n",
       "Friedman chi-squared = 28.309, df = 9, p-value = 0.0008468\n"
      ]
     },
     "metadata": {},
     "output_type": "display_data"
    }
   ],
   "source": [
    "friedman.test(obs~students|prof)"
   ]
  },
  {
   "cell_type": "markdown",
   "id": "6681e4d4-87a7-42e0-8e33-7de206673ba4",
   "metadata": {},
   "source": [
    "## Q3"
   ]
  },
  {
   "cell_type": "code",
   "execution_count": 1,
   "id": "94466025-9daa-4b01-b2bb-e48e8b8da26e",
   "metadata": {
    "tags": []
   },
   "outputs": [],
   "source": [
    "reaction_time = c(1.21,1.63,1.42,2.43,1.16,1.94,1.48,1.85,2.06,1.98,1.27,2.44,1.56,2.01,1.7,2.64,1.48,2.81)\n",
    "lbl = c(rep('A',6),rep('B',6),rep('C',6))"
   ]
  },
  {
   "cell_type": "code",
   "execution_count": 3,
   "id": "ed12ccb7-aeb4-4dc8-9339-674b262a3a4b",
   "metadata": {
    "tags": []
   },
   "outputs": [],
   "source": [
    "sub = c(rep(c('1','2','3','4','5','6'),3))"
   ]
  },
  {
   "cell_type": "code",
   "execution_count": 2,
   "id": "2e6e2dc4-40da-46e0-9369-b5efb4059173",
   "metadata": {
    "tags": []
   },
   "outputs": [
    {
     "data": {
      "text/plain": [
       "\n",
       "\tKruskal-Wallis rank sum test\n",
       "\n",
       "data:  reaction_time by lbl\n",
       "Kruskal-Wallis chi-squared = 2.485, df = 2, p-value = 0.2887\n"
      ]
     },
     "metadata": {},
     "output_type": "display_data"
    }
   ],
   "source": [
    "kruskal.test(reaction_time~lbl)"
   ]
  },
  {
   "cell_type": "code",
   "execution_count": 5,
   "id": "95fc7d77-7350-4703-ae56-499a55ca7a43",
   "metadata": {
    "tags": []
   },
   "outputs": [
    {
     "data": {
      "text/plain": [
       "\n",
       "\tFriedman rank sum test\n",
       "\n",
       "data:  reaction_time and lbl and sub\n",
       "Friedman chi-squared = 8.3333, df = 2, p-value = 0.0155\n"
      ]
     },
     "metadata": {},
     "output_type": "display_data"
    }
   ],
   "source": [
    "friedman.test(reaction_time~lbl|sub)"
   ]
  }
 ],
 "metadata": {
  "kernelspec": {
   "display_name": "R",
   "language": "R",
   "name": "ir"
  },
  "language_info": {
   "codemirror_mode": "r",
   "file_extension": ".r",
   "mimetype": "text/x-r-source",
   "name": "R",
   "pygments_lexer": "r",
   "version": "4.3.1"
  }
 },
 "nbformat": 4,
 "nbformat_minor": 5
}
