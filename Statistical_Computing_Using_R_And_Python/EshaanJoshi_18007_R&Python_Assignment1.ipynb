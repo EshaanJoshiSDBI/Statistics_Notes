{
 "cells": [
  {
   "cell_type": "markdown",
   "id": "adb423c4-05e1-496c-9fad-ac51e03b8a16",
   "metadata": {},
   "source": [
    "## Reading a CSV File"
   ]
  },
  {
   "cell_type": "code",
   "execution_count": 1,
   "id": "126be0b7-7e57-47a2-beca-019b0aa1015d",
   "metadata": {},
   "outputs": [],
   "source": [
    "data <- read.csv('monthly_crude_oil_processed.csv',header=TRUE,sep=',')"
   ]
  },
  {
   "cell_type": "code",
   "execution_count": 2,
   "id": "7d8cf74a-8485-461e-9bb2-6c3a3bf8f4c9",
   "metadata": {
    "tags": []
   },
   "outputs": [
    {
     "name": "stdout",
     "output_type": "stream",
     "text": [
      "     Month Year         OIL.COMPANIES Quantity..000.Metric.Tonnes. last_updated\n",
      "1 February 2023            CPCL-TOTAL                       927.88   2023-08-19\n",
      "2 February 2023 NRL-NUMALIGARH, ASSAM                       244.06   2023-08-19\n",
      "3    March 2023 IOCL-PANIPAT, HARYANA                      1297.96   2023-08-19\n",
      "4    March 2023   IOCL-GUWAHATI,ASSAM                        96.81   2023-08-19\n",
      "5    March 2023     IOCL-DIGBOI,ASSAM                        59.40   2023-08-19\n",
      "6    March 2023             BORL-BINA                       735.71   2023-08-19\n"
     ]
    }
   ],
   "source": [
    "print(head(data))"
   ]
  },
  {
   "cell_type": "code",
   "execution_count": 3,
   "id": "cae82a17-40ec-415c-a1ed-984ec4785f15",
   "metadata": {
    "tags": []
   },
   "outputs": [
    {
     "data": {
      "text/html": [
       "<table class=\"dataframe\">\n",
       "<caption>A data.frame: 6 × 5</caption>\n",
       "<thead>\n",
       "\t<tr><th></th><th scope=col>Month</th><th scope=col>Year</th><th scope=col>OIL.COMPANIES</th><th scope=col>Quantity..000.Metric.Tonnes.</th><th scope=col>last_updated</th></tr>\n",
       "\t<tr><th></th><th scope=col>&lt;chr&gt;</th><th scope=col>&lt;int&gt;</th><th scope=col>&lt;chr&gt;</th><th scope=col>&lt;dbl&gt;</th><th scope=col>&lt;chr&gt;</th></tr>\n",
       "</thead>\n",
       "<tbody>\n",
       "\t<tr><th scope=row>1</th><td>February</td><td>2023</td><td>CPCL-TOTAL           </td><td> 927.88</td><td>2023-08-19</td></tr>\n",
       "\t<tr><th scope=row>2</th><td>February</td><td>2023</td><td>NRL-NUMALIGARH, ASSAM</td><td> 244.06</td><td>2023-08-19</td></tr>\n",
       "\t<tr><th scope=row>3</th><td>March   </td><td>2023</td><td>IOCL-PANIPAT, HARYANA</td><td>1297.96</td><td>2023-08-19</td></tr>\n",
       "\t<tr><th scope=row>4</th><td>March   </td><td>2023</td><td>IOCL-GUWAHATI,ASSAM  </td><td>  96.81</td><td>2023-08-19</td></tr>\n",
       "\t<tr><th scope=row>5</th><td>March   </td><td>2023</td><td>IOCL-DIGBOI,ASSAM    </td><td>  59.40</td><td>2023-08-19</td></tr>\n",
       "\t<tr><th scope=row>6</th><td>March   </td><td>2023</td><td>BORL-BINA            </td><td> 735.71</td><td>2023-08-19</td></tr>\n",
       "</tbody>\n",
       "</table>\n"
      ],
      "text/latex": [
       "A data.frame: 6 × 5\n",
       "\\begin{tabular}{r|lllll}\n",
       "  & Month & Year & OIL.COMPANIES & Quantity..000.Metric.Tonnes. & last\\_updated\\\\\n",
       "  & <chr> & <int> & <chr> & <dbl> & <chr>\\\\\n",
       "\\hline\n",
       "\t1 & February & 2023 & CPCL-TOTAL            &  927.88 & 2023-08-19\\\\\n",
       "\t2 & February & 2023 & NRL-NUMALIGARH, ASSAM &  244.06 & 2023-08-19\\\\\n",
       "\t3 & March    & 2023 & IOCL-PANIPAT, HARYANA & 1297.96 & 2023-08-19\\\\\n",
       "\t4 & March    & 2023 & IOCL-GUWAHATI,ASSAM   &   96.81 & 2023-08-19\\\\\n",
       "\t5 & March    & 2023 & IOCL-DIGBOI,ASSAM     &   59.40 & 2023-08-19\\\\\n",
       "\t6 & March    & 2023 & BORL-BINA             &  735.71 & 2023-08-19\\\\\n",
       "\\end{tabular}\n"
      ],
      "text/markdown": [
       "\n",
       "A data.frame: 6 × 5\n",
       "\n",
       "| <!--/--> | Month &lt;chr&gt; | Year &lt;int&gt; | OIL.COMPANIES &lt;chr&gt; | Quantity..000.Metric.Tonnes. &lt;dbl&gt; | last_updated &lt;chr&gt; |\n",
       "|---|---|---|---|---|---|\n",
       "| 1 | February | 2023 | CPCL-TOTAL            |  927.88 | 2023-08-19 |\n",
       "| 2 | February | 2023 | NRL-NUMALIGARH, ASSAM |  244.06 | 2023-08-19 |\n",
       "| 3 | March    | 2023 | IOCL-PANIPAT, HARYANA | 1297.96 | 2023-08-19 |\n",
       "| 4 | March    | 2023 | IOCL-GUWAHATI,ASSAM   |   96.81 | 2023-08-19 |\n",
       "| 5 | March    | 2023 | IOCL-DIGBOI,ASSAM     |   59.40 | 2023-08-19 |\n",
       "| 6 | March    | 2023 | BORL-BINA             |  735.71 | 2023-08-19 |\n",
       "\n"
      ],
      "text/plain": [
       "  Month    Year OIL.COMPANIES         Quantity..000.Metric.Tonnes. last_updated\n",
       "1 February 2023 CPCL-TOTAL             927.88                      2023-08-19  \n",
       "2 February 2023 NRL-NUMALIGARH, ASSAM  244.06                      2023-08-19  \n",
       "3 March    2023 IOCL-PANIPAT, HARYANA 1297.96                      2023-08-19  \n",
       "4 March    2023 IOCL-GUWAHATI,ASSAM     96.81                      2023-08-19  \n",
       "5 March    2023 IOCL-DIGBOI,ASSAM       59.40                      2023-08-19  \n",
       "6 March    2023 BORL-BINA              735.71                      2023-08-19  "
      ]
     },
     "metadata": {},
     "output_type": "display_data"
    }
   ],
   "source": [
    "head(data)"
   ]
  },
  {
   "cell_type": "markdown",
   "id": "8482477c-3f9a-4902-980a-2d81cfa9ac08",
   "metadata": {},
   "source": [
    "## Reading an Excel file (xlsx)"
   ]
  },
  {
   "cell_type": "code",
   "execution_count": 4,
   "id": "6747938b-b3ae-4166-8da6-4f26ec63c16b",
   "metadata": {
    "tags": []
   },
   "outputs": [],
   "source": [
    "library(xlsx)"
   ]
  },
  {
   "cell_type": "code",
   "execution_count": 5,
   "id": "6e9008f9-2324-493c-b29c-5dd06ef5e195",
   "metadata": {},
   "outputs": [],
   "source": [
    "data_xl <- read.xlsx(\"importexport202223.xlsx\",sheetIndex = 1)"
   ]
  },
  {
   "cell_type": "code",
   "execution_count": 6,
   "id": "53d7d8b8-8918-4ffa-98fd-f97da8f0a0ea",
   "metadata": {
    "tags": []
   },
   "outputs": [
    {
     "name": "stdout",
     "output_type": "stream",
     "text": [
      "  IMPORT.EXPORT..Quantity.in..000.Metric.Tonnes.    PRODUCT APRIL   MAY  JUNE\n",
      "1                                         IMPORT  CRUDE OIL 21626 19644 19441\n",
      "2                                         IMPORT        LPG  1605  1363  1264\n",
      "3                                         IMPORT         MS     0    30   127\n",
      "4                                         IMPORT    Naphtha    35    30     2\n",
      "5                                         IMPORT        ATF     0     0     0\n",
      "6                                         IMPORT        SKO     0     0     0\n",
      "   JULY AUGUST SEPTEMBER OCTOBER NOVEMBER DECEMBER JANUARY FEBRUARY MARCH\n",
      "1 20624  17637     16772   18123    19003    19618   20058    19285 20729\n",
      "2  1417   1574      1448    1374     1778     1718    1709     1647  1410\n",
      "3    63      0       190     327      211      120       0        0     0\n",
      "4   145     90        76     135       28       88      67      121   117\n",
      "5     0      0         0       0        0        0       0        0     0\n",
      "6     0      0         0       0        0        0       0        0     0\n",
      "   TOTAL\n",
      "1 232561\n",
      "2  18309\n",
      "3   1069\n",
      "4    936\n",
      "5      0\n",
      "6      0\n"
     ]
    }
   ],
   "source": [
    "print(head(data_xl))"
   ]
  },
  {
   "cell_type": "code",
   "execution_count": 7,
   "id": "5b050575-4cad-4bcb-870c-5d6678183f2a",
   "metadata": {
    "tags": []
   },
   "outputs": [
    {
     "data": {
      "text/html": [
       "<table class=\"dataframe\">\n",
       "<caption>A data.frame: 6 × 15</caption>\n",
       "<thead>\n",
       "\t<tr><th></th><th scope=col>IMPORT.EXPORT..Quantity.in..000.Metric.Tonnes.</th><th scope=col>PRODUCT</th><th scope=col>APRIL</th><th scope=col>MAY</th><th scope=col>JUNE</th><th scope=col>JULY</th><th scope=col>AUGUST</th><th scope=col>SEPTEMBER</th><th scope=col>OCTOBER</th><th scope=col>NOVEMBER</th><th scope=col>DECEMBER</th><th scope=col>JANUARY</th><th scope=col>FEBRUARY</th><th scope=col>MARCH</th><th scope=col>TOTAL</th></tr>\n",
       "\t<tr><th></th><th scope=col>&lt;chr&gt;</th><th scope=col>&lt;chr&gt;</th><th scope=col>&lt;dbl&gt;</th><th scope=col>&lt;dbl&gt;</th><th scope=col>&lt;dbl&gt;</th><th scope=col>&lt;dbl&gt;</th><th scope=col>&lt;dbl&gt;</th><th scope=col>&lt;dbl&gt;</th><th scope=col>&lt;dbl&gt;</th><th scope=col>&lt;dbl&gt;</th><th scope=col>&lt;dbl&gt;</th><th scope=col>&lt;dbl&gt;</th><th scope=col>&lt;dbl&gt;</th><th scope=col>&lt;dbl&gt;</th><th scope=col>&lt;dbl&gt;</th></tr>\n",
       "</thead>\n",
       "<tbody>\n",
       "\t<tr><th scope=row>1</th><td>IMPORT</td><td> CRUDE OIL</td><td>21626</td><td>19644</td><td>19441</td><td>20624</td><td>17637</td><td>16772</td><td>18123</td><td>19003</td><td>19618</td><td>20058</td><td>19285</td><td>20729</td><td>232561</td></tr>\n",
       "\t<tr><th scope=row>2</th><td>IMPORT</td><td>LPG       </td><td> 1605</td><td> 1363</td><td> 1264</td><td> 1417</td><td> 1574</td><td> 1448</td><td> 1374</td><td> 1778</td><td> 1718</td><td> 1709</td><td> 1647</td><td> 1410</td><td> 18309</td></tr>\n",
       "\t<tr><th scope=row>3</th><td>IMPORT</td><td>MS        </td><td>    0</td><td>   30</td><td>  127</td><td>   63</td><td>    0</td><td>  190</td><td>  327</td><td>  211</td><td>  120</td><td>    0</td><td>    0</td><td>    0</td><td>  1069</td></tr>\n",
       "\t<tr><th scope=row>4</th><td>IMPORT</td><td>Naphtha   </td><td>   35</td><td>   30</td><td>    2</td><td>  145</td><td>   90</td><td>   76</td><td>  135</td><td>   28</td><td>   88</td><td>   67</td><td>  121</td><td>  117</td><td>   936</td></tr>\n",
       "\t<tr><th scope=row>5</th><td>IMPORT</td><td>ATF       </td><td>    0</td><td>    0</td><td>    0</td><td>    0</td><td>    0</td><td>    0</td><td>    0</td><td>    0</td><td>    0</td><td>    0</td><td>    0</td><td>    0</td><td>     0</td></tr>\n",
       "\t<tr><th scope=row>6</th><td>IMPORT</td><td>SKO       </td><td>    0</td><td>    0</td><td>    0</td><td>    0</td><td>    0</td><td>    0</td><td>    0</td><td>    0</td><td>    0</td><td>    0</td><td>    0</td><td>    0</td><td>     0</td></tr>\n",
       "</tbody>\n",
       "</table>\n"
      ],
      "text/latex": [
       "A data.frame: 6 × 15\n",
       "\\begin{tabular}{r|lllllllllllllll}\n",
       "  & IMPORT.EXPORT..Quantity.in..000.Metric.Tonnes. & PRODUCT & APRIL & MAY & JUNE & JULY & AUGUST & SEPTEMBER & OCTOBER & NOVEMBER & DECEMBER & JANUARY & FEBRUARY & MARCH & TOTAL\\\\\n",
       "  & <chr> & <chr> & <dbl> & <dbl> & <dbl> & <dbl> & <dbl> & <dbl> & <dbl> & <dbl> & <dbl> & <dbl> & <dbl> & <dbl> & <dbl>\\\\\n",
       "\\hline\n",
       "\t1 & IMPORT &  CRUDE OIL & 21626 & 19644 & 19441 & 20624 & 17637 & 16772 & 18123 & 19003 & 19618 & 20058 & 19285 & 20729 & 232561\\\\\n",
       "\t2 & IMPORT & LPG        &  1605 &  1363 &  1264 &  1417 &  1574 &  1448 &  1374 &  1778 &  1718 &  1709 &  1647 &  1410 &  18309\\\\\n",
       "\t3 & IMPORT & MS         &     0 &    30 &   127 &    63 &     0 &   190 &   327 &   211 &   120 &     0 &     0 &     0 &   1069\\\\\n",
       "\t4 & IMPORT & Naphtha    &    35 &    30 &     2 &   145 &    90 &    76 &   135 &    28 &    88 &    67 &   121 &   117 &    936\\\\\n",
       "\t5 & IMPORT & ATF        &     0 &     0 &     0 &     0 &     0 &     0 &     0 &     0 &     0 &     0 &     0 &     0 &      0\\\\\n",
       "\t6 & IMPORT & SKO        &     0 &     0 &     0 &     0 &     0 &     0 &     0 &     0 &     0 &     0 &     0 &     0 &      0\\\\\n",
       "\\end{tabular}\n"
      ],
      "text/markdown": [
       "\n",
       "A data.frame: 6 × 15\n",
       "\n",
       "| <!--/--> | IMPORT.EXPORT..Quantity.in..000.Metric.Tonnes. &lt;chr&gt; | PRODUCT &lt;chr&gt; | APRIL &lt;dbl&gt; | MAY &lt;dbl&gt; | JUNE &lt;dbl&gt; | JULY &lt;dbl&gt; | AUGUST &lt;dbl&gt; | SEPTEMBER &lt;dbl&gt; | OCTOBER &lt;dbl&gt; | NOVEMBER &lt;dbl&gt; | DECEMBER &lt;dbl&gt; | JANUARY &lt;dbl&gt; | FEBRUARY &lt;dbl&gt; | MARCH &lt;dbl&gt; | TOTAL &lt;dbl&gt; |\n",
       "|---|---|---|---|---|---|---|---|---|---|---|---|---|---|---|---|\n",
       "| 1 | IMPORT |  CRUDE OIL | 21626 | 19644 | 19441 | 20624 | 17637 | 16772 | 18123 | 19003 | 19618 | 20058 | 19285 | 20729 | 232561 |\n",
       "| 2 | IMPORT | LPG        |  1605 |  1363 |  1264 |  1417 |  1574 |  1448 |  1374 |  1778 |  1718 |  1709 |  1647 |  1410 |  18309 |\n",
       "| 3 | IMPORT | MS         |     0 |    30 |   127 |    63 |     0 |   190 |   327 |   211 |   120 |     0 |     0 |     0 |   1069 |\n",
       "| 4 | IMPORT | Naphtha    |    35 |    30 |     2 |   145 |    90 |    76 |   135 |    28 |    88 |    67 |   121 |   117 |    936 |\n",
       "| 5 | IMPORT | ATF        |     0 |     0 |     0 |     0 |     0 |     0 |     0 |     0 |     0 |     0 |     0 |     0 |      0 |\n",
       "| 6 | IMPORT | SKO        |     0 |     0 |     0 |     0 |     0 |     0 |     0 |     0 |     0 |     0 |     0 |     0 |      0 |\n",
       "\n"
      ],
      "text/plain": [
       "  IMPORT.EXPORT..Quantity.in..000.Metric.Tonnes. PRODUCT    APRIL MAY   JUNE \n",
       "1 IMPORT                                          CRUDE OIL 21626 19644 19441\n",
       "2 IMPORT                                         LPG         1605  1363  1264\n",
       "3 IMPORT                                         MS             0    30   127\n",
       "4 IMPORT                                         Naphtha       35    30     2\n",
       "5 IMPORT                                         ATF            0     0     0\n",
       "6 IMPORT                                         SKO            0     0     0\n",
       "  JULY  AUGUST SEPTEMBER OCTOBER NOVEMBER DECEMBER JANUARY FEBRUARY MARCH\n",
       "1 20624 17637  16772     18123   19003    19618    20058   19285    20729\n",
       "2  1417  1574   1448      1374    1778     1718     1709    1647     1410\n",
       "3    63     0    190       327     211      120        0       0        0\n",
       "4   145    90     76       135      28       88       67     121      117\n",
       "5     0     0      0         0       0        0        0       0        0\n",
       "6     0     0      0         0       0        0        0       0        0\n",
       "  TOTAL \n",
       "1 232561\n",
       "2  18309\n",
       "3   1069\n",
       "4    936\n",
       "5      0\n",
       "6      0"
      ]
     },
     "metadata": {},
     "output_type": "display_data"
    }
   ],
   "source": [
    "head(data_xl)"
   ]
  },
  {
   "cell_type": "markdown",
   "id": "6b87838d-9685-4b88-b153-a32d9e3a12c9",
   "metadata": {},
   "source": [
    "## Reading a SPSS data file `.sav`"
   ]
  },
  {
   "cell_type": "code",
   "execution_count": 8,
   "id": "aa3f36fb-8332-465e-83d2-703ad19c7324",
   "metadata": {
    "tags": []
   },
   "outputs": [],
   "source": [
    "library(foreign)"
   ]
  },
  {
   "cell_type": "code",
   "execution_count": 9,
   "id": "179d6999-5c59-49c5-aa9b-833d5d664a4e",
   "metadata": {
    "tags": []
   },
   "outputs": [],
   "source": [
    "data_sps <- read.spss('Orders.sav',to.data.frame = TRUE)"
   ]
  },
  {
   "cell_type": "code",
   "execution_count": 10,
   "id": "44fd113b-0cde-4d7f-b4eb-a94eb58994d5",
   "metadata": {
    "tags": []
   },
   "outputs": [
    {
     "name": "stdout",
     "output_type": "stream",
     "text": [
      "  Order_ID Employee_ID Customer_ID  Order_Date Shipped_Date Shipper_ID\n",
      "1       30           9          27 13356662400  13357267200          2\n",
      "2       31           3           4 13357094400  13357267200          1\n",
      "3       32           4          12 13357267200  13357267200          2\n",
      "4       33           6           8 13357958400  13358044800          3\n",
      "5       34           9           4 13358563200  13358649600          3\n",
      "6       35           3          29 13358908800  13359081600          2\n",
      "                Ship_Name    Ship_Address      Ship_City Ship_State_Province\n",
      "1 Karen Toh               789 27th Street Las Vegas                       NV\n",
      "2 Christina Lee           123 4th Street  New York                        NY\n",
      "3 John Edwards            123 12th Street Las Vegas                       NV\n",
      "4 Elizabeth Andersen      123 8th Street  Portland                        OR\n",
      "5 Christina Lee           123 4th Street  New York                        NY\n",
      "6 Soo Jung Lee            789 29th Street Denver                          CO\n",
      "  Ship_ZIP_Postal_Code Ship_Country_Region Shipping_Fee Taxes Payment_Type\n",
      "1                99999                 USA          200     0  Check      \n",
      "2                99999                 USA            5     0  Credit Card\n",
      "3                99999                 USA            5     0  Credit Card\n",
      "4                99999                 USA           50     0  Credit Card\n",
      "5                99999                 USA            4     0  Check      \n",
      "6                99999                 USA            7     0  Check      \n",
      "    Paid_Date Notes Tax_Rate Tax_Status Status_ID\n",
      "1 13356662400              0         NA         3\n",
      "2 13357094400              0         NA         3\n",
      "3 13357267200              0         NA         3\n",
      "4 13357958400              0         NA         3\n",
      "5 13358563200              0         NA         3\n",
      "6 13358908800              0         NA         3\n"
     ]
    }
   ],
   "source": [
    "print(head(data_sps))"
   ]
  },
  {
   "cell_type": "code",
   "execution_count": 11,
   "id": "b706682f-615a-4de2-a2e4-debd58266365",
   "metadata": {
    "tags": []
   },
   "outputs": [
    {
     "data": {
      "text/html": [
       "<table class=\"dataframe\">\n",
       "<caption>A data.frame: 6 × 20</caption>\n",
       "<thead>\n",
       "\t<tr><th></th><th scope=col>Order_ID</th><th scope=col>Employee_ID</th><th scope=col>Customer_ID</th><th scope=col>Order_Date</th><th scope=col>Shipped_Date</th><th scope=col>Shipper_ID</th><th scope=col>Ship_Name</th><th scope=col>Ship_Address</th><th scope=col>Ship_City</th><th scope=col>Ship_State_Province</th><th scope=col>Ship_ZIP_Postal_Code</th><th scope=col>Ship_Country_Region</th><th scope=col>Shipping_Fee</th><th scope=col>Taxes</th><th scope=col>Payment_Type</th><th scope=col>Paid_Date</th><th scope=col>Notes</th><th scope=col>Tax_Rate</th><th scope=col>Tax_Status</th><th scope=col>Status_ID</th></tr>\n",
       "\t<tr><th></th><th scope=col>&lt;dbl&gt;</th><th scope=col>&lt;dbl&gt;</th><th scope=col>&lt;dbl&gt;</th><th scope=col>&lt;dbl&gt;</th><th scope=col>&lt;dbl&gt;</th><th scope=col>&lt;dbl&gt;</th><th scope=col>&lt;chr&gt;</th><th scope=col>&lt;chr&gt;</th><th scope=col>&lt;chr&gt;</th><th scope=col>&lt;chr&gt;</th><th scope=col>&lt;chr&gt;</th><th scope=col>&lt;chr&gt;</th><th scope=col>&lt;dbl&gt;</th><th scope=col>&lt;dbl&gt;</th><th scope=col>&lt;chr&gt;</th><th scope=col>&lt;dbl&gt;</th><th scope=col>&lt;chr&gt;</th><th scope=col>&lt;dbl&gt;</th><th scope=col>&lt;dbl&gt;</th><th scope=col>&lt;dbl&gt;</th></tr>\n",
       "</thead>\n",
       "<tbody>\n",
       "\t<tr><th scope=row>1</th><td>30</td><td>9</td><td>27</td><td>13356662400</td><td>13357267200</td><td>2</td><td>Karen Toh              </td><td>789 27th Street</td><td>Las Vegas     </td><td>NV</td><td>99999</td><td>USA</td><td>200</td><td>0</td><td>Check      </td><td>13356662400</td><td> </td><td>0</td><td>NA</td><td>3</td></tr>\n",
       "\t<tr><th scope=row>2</th><td>31</td><td>3</td><td> 4</td><td>13357094400</td><td>13357267200</td><td>1</td><td>Christina Lee          </td><td>123 4th Street </td><td>New York      </td><td>NY</td><td>99999</td><td>USA</td><td>  5</td><td>0</td><td>Credit Card</td><td>13357094400</td><td> </td><td>0</td><td>NA</td><td>3</td></tr>\n",
       "\t<tr><th scope=row>3</th><td>32</td><td>4</td><td>12</td><td>13357267200</td><td>13357267200</td><td>2</td><td>John Edwards           </td><td>123 12th Street</td><td>Las Vegas     </td><td>NV</td><td>99999</td><td>USA</td><td>  5</td><td>0</td><td>Credit Card</td><td>13357267200</td><td> </td><td>0</td><td>NA</td><td>3</td></tr>\n",
       "\t<tr><th scope=row>4</th><td>33</td><td>6</td><td> 8</td><td>13357958400</td><td>13358044800</td><td>3</td><td>Elizabeth Andersen     </td><td>123 8th Street </td><td>Portland      </td><td>OR</td><td>99999</td><td>USA</td><td> 50</td><td>0</td><td>Credit Card</td><td>13357958400</td><td> </td><td>0</td><td>NA</td><td>3</td></tr>\n",
       "\t<tr><th scope=row>5</th><td>34</td><td>9</td><td> 4</td><td>13358563200</td><td>13358649600</td><td>3</td><td>Christina Lee          </td><td>123 4th Street </td><td>New York      </td><td>NY</td><td>99999</td><td>USA</td><td>  4</td><td>0</td><td>Check      </td><td>13358563200</td><td> </td><td>0</td><td>NA</td><td>3</td></tr>\n",
       "\t<tr><th scope=row>6</th><td>35</td><td>3</td><td>29</td><td>13358908800</td><td>13359081600</td><td>2</td><td>Soo Jung Lee           </td><td>789 29th Street</td><td>Denver        </td><td>CO</td><td>99999</td><td>USA</td><td>  7</td><td>0</td><td>Check      </td><td>13358908800</td><td> </td><td>0</td><td>NA</td><td>3</td></tr>\n",
       "</tbody>\n",
       "</table>\n"
      ],
      "text/latex": [
       "A data.frame: 6 × 20\n",
       "\\begin{tabular}{r|llllllllllllllllllll}\n",
       "  & Order\\_ID & Employee\\_ID & Customer\\_ID & Order\\_Date & Shipped\\_Date & Shipper\\_ID & Ship\\_Name & Ship\\_Address & Ship\\_City & Ship\\_State\\_Province & Ship\\_ZIP\\_Postal\\_Code & Ship\\_Country\\_Region & Shipping\\_Fee & Taxes & Payment\\_Type & Paid\\_Date & Notes & Tax\\_Rate & Tax\\_Status & Status\\_ID\\\\\n",
       "  & <dbl> & <dbl> & <dbl> & <dbl> & <dbl> & <dbl> & <chr> & <chr> & <chr> & <chr> & <chr> & <chr> & <dbl> & <dbl> & <chr> & <dbl> & <chr> & <dbl> & <dbl> & <dbl>\\\\\n",
       "\\hline\n",
       "\t1 & 30 & 9 & 27 & 13356662400 & 13357267200 & 2 & Karen Toh               & 789 27th Street & Las Vegas      & NV & 99999 & USA & 200 & 0 & Check       & 13356662400 &   & 0 & NA & 3\\\\\n",
       "\t2 & 31 & 3 &  4 & 13357094400 & 13357267200 & 1 & Christina Lee           & 123 4th Street  & New York       & NY & 99999 & USA &   5 & 0 & Credit Card & 13357094400 &   & 0 & NA & 3\\\\\n",
       "\t3 & 32 & 4 & 12 & 13357267200 & 13357267200 & 2 & John Edwards            & 123 12th Street & Las Vegas      & NV & 99999 & USA &   5 & 0 & Credit Card & 13357267200 &   & 0 & NA & 3\\\\\n",
       "\t4 & 33 & 6 &  8 & 13357958400 & 13358044800 & 3 & Elizabeth Andersen      & 123 8th Street  & Portland       & OR & 99999 & USA &  50 & 0 & Credit Card & 13357958400 &   & 0 & NA & 3\\\\\n",
       "\t5 & 34 & 9 &  4 & 13358563200 & 13358649600 & 3 & Christina Lee           & 123 4th Street  & New York       & NY & 99999 & USA &   4 & 0 & Check       & 13358563200 &   & 0 & NA & 3\\\\\n",
       "\t6 & 35 & 3 & 29 & 13358908800 & 13359081600 & 2 & Soo Jung Lee            & 789 29th Street & Denver         & CO & 99999 & USA &   7 & 0 & Check       & 13358908800 &   & 0 & NA & 3\\\\\n",
       "\\end{tabular}\n"
      ],
      "text/markdown": [
       "\n",
       "A data.frame: 6 × 20\n",
       "\n",
       "| <!--/--> | Order_ID &lt;dbl&gt; | Employee_ID &lt;dbl&gt; | Customer_ID &lt;dbl&gt; | Order_Date &lt;dbl&gt; | Shipped_Date &lt;dbl&gt; | Shipper_ID &lt;dbl&gt; | Ship_Name &lt;chr&gt; | Ship_Address &lt;chr&gt; | Ship_City &lt;chr&gt; | Ship_State_Province &lt;chr&gt; | Ship_ZIP_Postal_Code &lt;chr&gt; | Ship_Country_Region &lt;chr&gt; | Shipping_Fee &lt;dbl&gt; | Taxes &lt;dbl&gt; | Payment_Type &lt;chr&gt; | Paid_Date &lt;dbl&gt; | Notes &lt;chr&gt; | Tax_Rate &lt;dbl&gt; | Tax_Status &lt;dbl&gt; | Status_ID &lt;dbl&gt; |\n",
       "|---|---|---|---|---|---|---|---|---|---|---|---|---|---|---|---|---|---|---|---|---|\n",
       "| 1 | 30 | 9 | 27 | 13356662400 | 13357267200 | 2 | Karen Toh               | 789 27th Street | Las Vegas      | NV | 99999 | USA | 200 | 0 | Check       | 13356662400 | <!----> | 0 | NA | 3 |\n",
       "| 2 | 31 | 3 |  4 | 13357094400 | 13357267200 | 1 | Christina Lee           | 123 4th Street  | New York       | NY | 99999 | USA |   5 | 0 | Credit Card | 13357094400 | <!----> | 0 | NA | 3 |\n",
       "| 3 | 32 | 4 | 12 | 13357267200 | 13357267200 | 2 | John Edwards            | 123 12th Street | Las Vegas      | NV | 99999 | USA |   5 | 0 | Credit Card | 13357267200 | <!----> | 0 | NA | 3 |\n",
       "| 4 | 33 | 6 |  8 | 13357958400 | 13358044800 | 3 | Elizabeth Andersen      | 123 8th Street  | Portland       | OR | 99999 | USA |  50 | 0 | Credit Card | 13357958400 | <!----> | 0 | NA | 3 |\n",
       "| 5 | 34 | 9 |  4 | 13358563200 | 13358649600 | 3 | Christina Lee           | 123 4th Street  | New York       | NY | 99999 | USA |   4 | 0 | Check       | 13358563200 | <!----> | 0 | NA | 3 |\n",
       "| 6 | 35 | 3 | 29 | 13358908800 | 13359081600 | 2 | Soo Jung Lee            | 789 29th Street | Denver         | CO | 99999 | USA |   7 | 0 | Check       | 13358908800 | <!----> | 0 | NA | 3 |\n",
       "\n"
      ],
      "text/plain": [
       "  Order_ID Employee_ID Customer_ID Order_Date  Shipped_Date Shipper_ID\n",
       "1 30       9           27          13356662400 13357267200  2         \n",
       "2 31       3            4          13357094400 13357267200  1         \n",
       "3 32       4           12          13357267200 13357267200  2         \n",
       "4 33       6            8          13357958400 13358044800  3         \n",
       "5 34       9            4          13358563200 13358649600  3         \n",
       "6 35       3           29          13358908800 13359081600  2         \n",
       "  Ship_Name               Ship_Address    Ship_City      Ship_State_Province\n",
       "1 Karen Toh               789 27th Street Las Vegas      NV                 \n",
       "2 Christina Lee           123 4th Street  New York       NY                 \n",
       "3 John Edwards            123 12th Street Las Vegas      NV                 \n",
       "4 Elizabeth Andersen      123 8th Street  Portland       OR                 \n",
       "5 Christina Lee           123 4th Street  New York       NY                 \n",
       "6 Soo Jung Lee            789 29th Street Denver         CO                 \n",
       "  Ship_ZIP_Postal_Code Ship_Country_Region Shipping_Fee Taxes Payment_Type\n",
       "1 99999                USA                 200          0     Check       \n",
       "2 99999                USA                   5          0     Credit Card \n",
       "3 99999                USA                   5          0     Credit Card \n",
       "4 99999                USA                  50          0     Credit Card \n",
       "5 99999                USA                   4          0     Check       \n",
       "6 99999                USA                   7          0     Check       \n",
       "  Paid_Date   Notes Tax_Rate Tax_Status Status_ID\n",
       "1 13356662400       0        NA         3        \n",
       "2 13357094400       0        NA         3        \n",
       "3 13357267200       0        NA         3        \n",
       "4 13357958400       0        NA         3        \n",
       "5 13358563200       0        NA         3        \n",
       "6 13358908800       0        NA         3        "
      ]
     },
     "metadata": {},
     "output_type": "display_data"
    }
   ],
   "source": [
    "head(data_sps)"
   ]
  }
 ],
 "metadata": {
  "kernelspec": {
   "display_name": "R",
   "language": "R",
   "name": "ir"
  },
  "language_info": {
   "codemirror_mode": "r",
   "file_extension": ".r",
   "mimetype": "text/x-r-source",
   "name": "R",
   "pygments_lexer": "r",
   "version": "4.3.1"
  }
 },
 "nbformat": 4,
 "nbformat_minor": 5
}
