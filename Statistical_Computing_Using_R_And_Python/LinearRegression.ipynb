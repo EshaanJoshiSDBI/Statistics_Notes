{
 "cells": [
  {
   "cell_type": "code",
   "execution_count": 1,
   "id": "578a1c1d-0723-4050-9c82-4bc11928804f",
   "metadata": {
    "tags": []
   },
   "outputs": [],
   "source": [
    "x <- rnorm(1000,mean=1,sd=1)"
   ]
  },
  {
   "cell_type": "code",
   "execution_count": 2,
   "id": "40965fef-6b89-4404-86c6-1bf5d8b9645e",
   "metadata": {
    "tags": []
   },
   "outputs": [],
   "source": [
    "y <- rnorm(1000,mean=2,sd=2)"
   ]
  },
  {
   "cell_type": "code",
   "execution_count": 3,
   "id": "c2d16df2-8958-4514-aaf8-b893b92000e3",
   "metadata": {
    "tags": []
   },
   "outputs": [],
   "source": [
    "data <- data.frame(x,y)"
   ]
  },
  {
   "cell_type": "code",
   "execution_count": 4,
   "id": "fbdf8b41-971a-4958-b90a-9d16279b1374",
   "metadata": {
    "tags": []
   },
   "outputs": [],
   "source": [
    "mod <- lm(data$y ~ data$x,data=data)"
   ]
  },
  {
   "cell_type": "code",
   "execution_count": 5,
   "id": "1ad5cf9e-28c1-41ee-8819-f52a8d2e222f",
   "metadata": {
    "tags": []
   },
   "outputs": [
    {
     "data": {
      "text/plain": [
       "\n",
       "Call:\n",
       "lm(formula = data$y ~ data$x, data = data)\n",
       "\n",
       "Coefficients:\n",
       "(Intercept)       data$x  \n",
       "    2.01385      0.01128  \n"
      ]
     },
     "metadata": {},
     "output_type": "display_data"
    }
   ],
   "source": [
    "mod"
   ]
  },
  {
   "cell_type": "code",
   "execution_count": 6,
   "id": "b23413e1-6883-4e0e-a256-7eb5e9dd72f8",
   "metadata": {
    "tags": []
   },
   "outputs": [
    {
     "data": {
      "text/plain": [
       "\n",
       "Call:\n",
       "lm(formula = data$y ~ data$x, data = data)\n",
       "\n",
       "Residuals:\n",
       "    Min      1Q  Median      3Q     Max \n",
       "-6.4926 -1.4084  0.0236  1.3766  7.0311 \n",
       "\n",
       "Coefficients:\n",
       "            Estimate Std. Error t value Pr(>|t|)    \n",
       "(Intercept)  2.01385    0.09479  21.245   <2e-16 ***\n",
       "data$x       0.01128    0.06762   0.167    0.868    \n",
       "---\n",
       "Signif. codes:  0 ‘***’ 0.001 ‘**’ 0.01 ‘*’ 0.05 ‘.’ 0.1 ‘ ’ 1\n",
       "\n",
       "Residual standard error: 2.095 on 998 degrees of freedom\n",
       "Multiple R-squared:  2.788e-05,\tAdjusted R-squared:  -0.0009741 \n",
       "F-statistic: 0.02782 on 1 and 998 DF,  p-value: 0.8676\n"
      ]
     },
     "metadata": {},
     "output_type": "display_data"
    }
   ],
   "source": [
    "summary(mod)"
   ]
  },
  {
   "cell_type": "markdown",
   "id": "3e8ded51-6e40-4019-b358-844903b27dd9",
   "metadata": {},
   "source": [
    "- The output depicts that the linear equation is y = 0.01128x + 2.01385\n",
    "- The p-values of <2e<sup>-16</sup>, 0.868 which tell you the significance of the linear model. When the p-value is less than 0.05 the model is significant.\n",
    "<br>**Hypothesis**\n",
    "- H<sub>o</sub>: Coefficient associated with the variable is equal to zero\n",
    "- H<sub>1</sub>: Coefficient is not equal to zero (there is a relationship)\n",
    "<br>The intercept has a p-value of <2e<sup>-16</sup>, which is smaller than 0.05 so there is significance with the y-variable. The significance is indicated with the number of `*`. The x has a p-value of 0.868, which is more than 0.05 so there is no significance with the y-variable. The null hypothesis is true at 95% confidence interval. R-square depicts the proportion of the variation in the dependent variable.\n",
    "<br>Hence the higher the R-squared and the adjusted R-squared the better the linear model. The lower the standard error, the better the model"
   ]
  },
  {
   "cell_type": "markdown",
   "id": "902c2e4b-a4fd-46f0-97e8-b126dd7a74f5",
   "metadata": {},
   "source": [
    "## Q1. The data regarding the production of wheat in tons (X) and the price of the kilo of flour (Y) in the decade of the 80's in Spain were:\n",
    "\n",
    "||||||||||||\n",
    "|:--------------:|:-:|:-:|:-:|:-:|:-:|:-:|:-:|:-:|:-:|:-:|\n",
    "|Wheat Production|30|28|32|25|25|25|22|24|35|40|\n",
    "|Flour Price|25|30|27|40|42|40|50|45|30|25|\n",
    "\n",
    "a. Fit the regression line using the method of least squares\n",
    "<br>b. Compute a 95% confidence interval for the slope of the regression line\n",
    "<br>c. Text the hypothesis that the price of flour depends linearly on the wheat production"
   ]
  },
  {
   "cell_type": "code",
   "execution_count": 8,
   "id": "a2a04db2-715e-42b2-a31a-f3e369f98f86",
   "metadata": {
    "tags": []
   },
   "outputs": [],
   "source": [
    "wheat_prod = c(30,28,32,25,25,25,22,24,35,40)"
   ]
  },
  {
   "cell_type": "code",
   "execution_count": 9,
   "id": "32095aec-f1a0-437c-9162-814ba9d4cbdc",
   "metadata": {
    "tags": []
   },
   "outputs": [],
   "source": [
    "flour_price = c(25,30,27,40,42,40,50,45,30,25)"
   ]
  },
  {
   "cell_type": "code",
   "execution_count": 10,
   "id": "421675fe-bd18-4347-b847-9b01d8eed108",
   "metadata": {
    "tags": []
   },
   "outputs": [],
   "source": [
    "data = data.frame(wheat_prod,flour_price)"
   ]
  },
  {
   "cell_type": "code",
   "execution_count": 11,
   "id": "cb273d16-9606-4b9b-be4d-17aa2d44c87e",
   "metadata": {
    "tags": []
   },
   "outputs": [],
   "source": [
    "mod_lm = lm('flour_price ~ wheat_prod',data=data)"
   ]
  },
  {
   "cell_type": "code",
   "execution_count": 12,
   "id": "9b85babd-65a5-4e56-891c-0c9faa5752dd",
   "metadata": {
    "tags": []
   },
   "outputs": [
    {
     "data": {
      "text/plain": [
       "\n",
       "Call:\n",
       "lm(formula = \"flour_price ~ wheat_prod\", data = data)\n",
       "\n",
       "Coefficients:\n",
       "(Intercept)   wheat_prod  \n",
       "     74.115       -1.354  \n"
      ]
     },
     "metadata": {},
     "output_type": "display_data"
    }
   ],
   "source": [
    "mod_lm"
   ]
  },
  {
   "cell_type": "code",
   "execution_count": 13,
   "id": "5ea0b667-8795-409e-9e0b-97f1ef61e2e0",
   "metadata": {
    "tags": []
   },
   "outputs": [
    {
     "data": {
      "text/plain": [
       "\n",
       "Call:\n",
       "lm(formula = \"flour_price ~ wheat_prod\", data = data)\n",
       "\n",
       "Residuals:\n",
       "    Min      1Q  Median      3Q     Max \n",
       "-8.5049 -2.9164  0.7268  3.3457  5.6657 \n",
       "\n",
       "Coefficients:\n",
       "            Estimate Std. Error t value Pr(>|t|)    \n",
       "(Intercept)  74.1151     8.7358   8.484 2.85e-05 ***\n",
       "wheat_prod   -1.3537     0.3002  -4.509  0.00198 ** \n",
       "---\n",
       "Signif. codes:  0 ‘***’ 0.001 ‘**’ 0.01 ‘*’ 0.05 ‘.’ 0.1 ‘ ’ 1\n",
       "\n",
       "Residual standard error: 5.098 on 8 degrees of freedom\n",
       "Multiple R-squared:  0.7176,\tAdjusted R-squared:  0.6824 \n",
       "F-statistic: 20.33 on 1 and 8 DF,  p-value: 0.001978\n"
      ]
     },
     "metadata": {},
     "output_type": "display_data"
    }
   ],
   "source": [
    "summary(mod_lm)"
   ]
  },
  {
   "cell_type": "markdown",
   "id": "a7a31d05-bd8a-4ab1-b995-c84e9fa79f01",
   "metadata": {},
   "source": [
    "- The output depicts the linear equation is y = -1.3537x + 74.1151\n",
    "- The p-values of 2.85e<sup>-05</sup>, 0.00198 tell the significance of the model, when less than 0.05 it is significant\n",
    "<br>**Hypothesis** for intercept\n",
    "- H<sub>o</sub>: There is no significant relationship between intercept and y-variable.\n",
    "- H<sub>1</sub>: There is significant relationship between intercept and y-variable.\n",
    "- Conclusion: As the p-value for intercept is 2.85e<sup>-05</sup> we can reject the null hypothesis, i.e there is significant relationship between intercept and y-variable at 95% confidence interval\n",
    "<br>**Hypothesis** for x-variable wheat production\n",
    "- H<sub>o</sub>: There is no significant relationship between intercept and y-variable.\n",
    "- H<sub>1</sub>: There is significant relationship between intercept and y-variable.\n",
    "- Conclusion: As the p-value for wheat production is 0.00198 we can reject the null hypothesis, i.e there is significant relationship between wheat production and flour prices (y-variable) at 95% confidence interval"
   ]
  },
  {
   "cell_type": "code",
   "execution_count": 14,
   "id": "b3882b0c-330e-4296-b203-89881135a528",
   "metadata": {
    "tags": []
   },
   "outputs": [
    {
     "data": {
      "text/html": [
       "<table class=\"dataframe\">\n",
       "<caption>A matrix: 2 × 2 of type dbl</caption>\n",
       "<thead>\n",
       "\t<tr><th></th><th scope=col>2.5 %</th><th scope=col>97.5 %</th></tr>\n",
       "</thead>\n",
       "<tbody>\n",
       "\t<tr><th scope=row>(Intercept)</th><td>53.970393</td><td>94.2598431</td></tr>\n",
       "\t<tr><th scope=row>wheat_prod</th><td>-2.045938</td><td>-0.6614128</td></tr>\n",
       "</tbody>\n",
       "</table>\n"
      ],
      "text/latex": [
       "A matrix: 2 × 2 of type dbl\n",
       "\\begin{tabular}{r|ll}\n",
       "  & 2.5 \\% & 97.5 \\%\\\\\n",
       "\\hline\n",
       "\t(Intercept) & 53.970393 & 94.2598431\\\\\n",
       "\twheat\\_prod & -2.045938 & -0.6614128\\\\\n",
       "\\end{tabular}\n"
      ],
      "text/markdown": [
       "\n",
       "A matrix: 2 × 2 of type dbl\n",
       "\n",
       "| <!--/--> | 2.5 % | 97.5 % |\n",
       "|---|---|---|\n",
       "| (Intercept) | 53.970393 | 94.2598431 |\n",
       "| wheat_prod | -2.045938 | -0.6614128 |\n",
       "\n"
      ],
      "text/plain": [
       "            2.5 %     97.5 %    \n",
       "(Intercept) 53.970393 94.2598431\n",
       "wheat_prod  -2.045938 -0.6614128"
      ]
     },
     "metadata": {},
     "output_type": "display_data"
    }
   ],
   "source": [
    "confint(mod_lm,level=0.95)"
   ]
  },
  {
   "cell_type": "markdown",
   "id": "584578f0-fb5c-4f25-8c0c-4a361581d980",
   "metadata": {},
   "source": [
    "## Q2. Fit the regression line using the method of least squares\n",
    "\n",
    "|Verbal IQ|Brain size|\n",
    "|:-------:|:--------:|\n",
    "|132|816.932|\n",
    "|132|951.545|\n",
    "|90|928.799|"
   ]
  },
  {
   "cell_type": "code",
   "execution_count": 4,
   "id": "194cb75c-89a2-464b-991b-3bf1c1958f20",
   "metadata": {
    "tags": []
   },
   "outputs": [],
   "source": [
    "verbal_iq = c(132,132,90,136,90,129,120,100,71,132,112,129,86,90,83,126,126,90,129,86)\n",
    "brain_size = c(816.932,951.545,928.799,991.305,854.258,833.868,856.472,878.897,865.363,852.244,\n",
    "               808.02,790.619,831.772,798.612,793.549,866.662,857.782,834.344,948.066,893.983)"
   ]
  },
  {
   "cell_type": "code",
   "execution_count": 3,
   "id": "6d64fb6b-9181-4029-a7e8-e5bbb27d71a1",
   "metadata": {
    "tags": []
   },
   "outputs": [],
   "source": [
    "data <- data.frame(verbal_iq,brain_size)"
   ]
  },
  {
   "cell_type": "code",
   "execution_count": 6,
   "id": "db32b4b7-73ed-446d-bf7f-bf3f8d8ab1e1",
   "metadata": {
    "tags": []
   },
   "outputs": [
    {
     "data": {
      "image/png": "[encoded data removed]",
      "text/plain": [
       "Plot with title “Normal Q-Q Plot”"
      ]
     },
     "metadata": {
      "image/png": {
       "height": 420,
       "width": 420
      }
     },
     "output_type": "display_data"
    }
   ],
   "source": [
    "qqnorm(data$brain_size)\n",
    "qqline(data$brain_size)"
   ]
  },
  {
   "cell_type": "code",
   "execution_count": 7,
   "id": "b9182a0d-ab11-4a4a-bc6b-18080d2666bb",
   "metadata": {
    "tags": []
   },
   "outputs": [
    {
     "data": {
      "image/png": "[encoded data removed]",
      "text/plain": [
       "Plot with title “Histogram of data$brain_size”"
      ]
     },
     "metadata": {
      "image/png": {
       "height": 420,
       "width": 420
      }
     },
     "output_type": "display_data"
    }
   ],
   "source": [
    "hist(data$brain_size)"
   ]
  },
  {
   "cell_type": "code",
   "execution_count": 8,
   "id": "5787c470-7e10-4dc8-9b22-350bc99eaed4",
   "metadata": {
    "tags": []
   },
   "outputs": [
    {
     "data": {
      "text/plain": [
       "\n",
       "\tShapiro-Wilk normality test\n",
       "\n",
       "data:  data$brain_size\n",
       "W = 0.92479, p-value = 0.1226\n"
      ]
     },
     "metadata": {},
     "output_type": "display_data"
    }
   ],
   "source": [
    "shapiro.test(data$brain_size)"
   ]
  },
  {
   "cell_type": "code",
   "execution_count": 9,
   "id": "d9b23b6f-bb3d-4592-aaa3-f813c76fe62d",
   "metadata": {
    "tags": []
   },
   "outputs": [],
   "source": [
    "mod <- lm('verbal_iq ~ brain_size',data=data)"
   ]
  },
  {
   "cell_type": "code",
   "execution_count": 10,
   "id": "15f8ce03-2d0b-4161-aed3-bdf0f67a931b",
   "metadata": {
    "tags": []
   },
   "outputs": [
    {
     "data": {
      "text/plain": [
       "\n",
       "Call:\n",
       "lm(formula = \"verbal_iq ~ brain_size\", data = data)\n",
       "\n",
       "Coefficients:\n",
       "(Intercept)   brain_size  \n",
       "   24.18350      0.09884  \n"
      ]
     },
     "metadata": {},
     "output_type": "display_data"
    }
   ],
   "source": [
    "mod"
   ]
  },
  {
   "cell_type": "code",
   "execution_count": 11,
   "id": "95573dea-da76-4b58-9f19-0176d4bbf378",
   "metadata": {
    "tags": []
   },
   "outputs": [
    {
     "data": {
      "text/plain": [
       "\n",
       "Call:\n",
       "lm(formula = \"verbal_iq ~ brain_size\", data = data)\n",
       "\n",
       "Residuals:\n",
       "    Min      1Q  Median      3Q     Max \n",
       "-38.718 -18.870   9.529  16.373  27.069 \n",
       "\n",
       "Coefficients:\n",
       "            Estimate Std. Error t value Pr(>|t|)\n",
       "(Intercept) 24.18350   76.38158   0.317    0.755\n",
       "brain_size   0.09884    0.08837   1.119    0.278\n",
       "\n",
       "Residual standard error: 21.53 on 18 degrees of freedom\n",
       "Multiple R-squared:  0.06499,\tAdjusted R-squared:  0.01305 \n",
       "F-statistic: 1.251 on 1 and 18 DF,  p-value: 0.278\n"
      ]
     },
     "metadata": {},
     "output_type": "display_data"
    }
   ],
   "source": [
    "summary(mod)"
   ]
  },
  {
   "cell_type": "markdown",
   "id": "13326745-624a-43b4-bc41-44d41fe6c4fd",
   "metadata": {},
   "source": [
    "- The Adj R-squared value is ~1.3%, therefore we can say that the model doesn't fit the data well.\n",
    "- The p-value for brain_size is 0.278 and for the intercept is 0.755, therefore we can say that both intercept and brain_size are not significant.\n",
    "- The p-value for the model is 0.278, therefore we can say that the model is not significant."
   ]
  }
 ],
 "metadata": {
  "kernelspec": {
   "display_name": "R",
   "language": "R",
   "name": "ir"
  },
  "language_info": {
   "codemirror_mode": "r",
   "file_extension": ".r",
   "mimetype": "text/x-r-source",
   "name": "R",
   "pygments_lexer": "r",
   "version": "4.3.1"
  }
 },
 "nbformat": 4,
 "nbformat_minor": 5
}
